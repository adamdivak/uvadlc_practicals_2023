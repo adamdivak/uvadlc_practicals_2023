{
 "nbformat": 4,
 "nbformat_minor": 0,
 "metadata": {
  "colab": {
   "provenance": [],
   "gpuType": "T4"
  },
  "kernelspec": {
   "name": "python3",
   "display_name": "Python 3"
  },
  "language_info": {
   "name": "python"
  },
  "accelerator": "GPU",
  "widgets": {
   "application/vnd.jupyter.widget-state+json": {
    "69f7c37976f5418b8d3925a32a7ad7a0": {
     "model_module": "@jupyter-widgets/controls",
     "model_name": "HBoxModel",
     "model_module_version": "1.5.0",
     "state": {
      "_dom_classes": [],
      "_model_module": "@jupyter-widgets/controls",
      "_model_module_version": "1.5.0",
      "_model_name": "HBoxModel",
      "_view_count": null,
      "_view_module": "@jupyter-widgets/controls",
      "_view_module_version": "1.5.0",
      "_view_name": "HBoxView",
      "box_style": "",
      "children": [
       "IPY_MODEL_d9a0a67451744d148aad8eac25a6a554",
       "IPY_MODEL_a8e435b86eed45ab963746c370b61816",
       "IPY_MODEL_98eaf0a12a4640f895ae1b135c9421ce"
      ],
      "layout": "IPY_MODEL_9c39e6989df24bd3a2841887dc6f6a9e"
     }
    },
    "d9a0a67451744d148aad8eac25a6a554": {
     "model_module": "@jupyter-widgets/controls",
     "model_name": "HTMLModel",
     "model_module_version": "1.5.0",
     "state": {
      "_dom_classes": [],
      "_model_module": "@jupyter-widgets/controls",
      "_model_module_version": "1.5.0",
      "_model_name": "HTMLModel",
      "_view_count": null,
      "_view_module": "@jupyter-widgets/controls",
      "_view_module_version": "1.5.0",
      "_view_name": "HTMLView",
      "description": "",
      "description_tooltip": null,
      "layout": "IPY_MODEL_392483eaadfa475dbf5690691e0dfa77",
      "placeholder": "​",
      "style": "IPY_MODEL_2aeb15c184594ed99bfc4171bc9bb5a1",
      "value": "With and without gradients: 100%"
     }
    },
    "a8e435b86eed45ab963746c370b61816": {
     "model_module": "@jupyter-widgets/controls",
     "model_name": "FloatProgressModel",
     "model_module_version": "1.5.0",
     "state": {
      "_dom_classes": [],
      "_model_module": "@jupyter-widgets/controls",
      "_model_module_version": "1.5.0",
      "_model_name": "FloatProgressModel",
      "_view_count": null,
      "_view_module": "@jupyter-widgets/controls",
      "_view_module_version": "1.5.0",
      "_view_name": "ProgressView",
      "bar_style": "success",
      "description": "",
      "description_tooltip": null,
      "layout": "IPY_MODEL_05fc33ec9db2484d8aa52572bfa97258",
      "max": 2,
      "min": 0,
      "orientation": "horizontal",
      "style": "IPY_MODEL_7363e1de40ef4b7a988d5dced15f2582",
      "value": 2
     }
    },
    "98eaf0a12a4640f895ae1b135c9421ce": {
     "model_module": "@jupyter-widgets/controls",
     "model_name": "HTMLModel",
     "model_module_version": "1.5.0",
     "state": {
      "_dom_classes": [],
      "_model_module": "@jupyter-widgets/controls",
      "_model_module_version": "1.5.0",
      "_model_name": "HTMLModel",
      "_view_count": null,
      "_view_module": "@jupyter-widgets/controls",
      "_view_module_version": "1.5.0",
      "_view_name": "HTMLView",
      "description": "",
      "description_tooltip": null,
      "layout": "IPY_MODEL_a7e220b2d1574964a744d6b65b6cdc51",
      "placeholder": "​",
      "style": "IPY_MODEL_b4dd522b5bbf499b9e9127ef98cc566f",
      "value": " 2/2 [02:20&lt;00:00, 70.05s/it]"
     }
    },
    "9c39e6989df24bd3a2841887dc6f6a9e": {
     "model_module": "@jupyter-widgets/base",
     "model_name": "LayoutModel",
     "model_module_version": "1.2.0",
     "state": {
      "_model_module": "@jupyter-widgets/base",
      "_model_module_version": "1.2.0",
      "_model_name": "LayoutModel",
      "_view_count": null,
      "_view_module": "@jupyter-widgets/base",
      "_view_module_version": "1.2.0",
      "_view_name": "LayoutView",
      "align_content": null,
      "align_items": null,
      "align_self": null,
      "border": null,
      "bottom": null,
      "display": null,
      "flex": null,
      "flex_flow": null,
      "grid_area": null,
      "grid_auto_columns": null,
      "grid_auto_flow": null,
      "grid_auto_rows": null,
      "grid_column": null,
      "grid_gap": null,
      "grid_row": null,
      "grid_template_areas": null,
      "grid_template_columns": null,
      "grid_template_rows": null,
      "height": null,
      "justify_content": null,
      "justify_items": null,
      "left": null,
      "margin": null,
      "max_height": null,
      "max_width": null,
      "min_height": null,
      "min_width": null,
      "object_fit": null,
      "object_position": null,
      "order": null,
      "overflow": null,
      "overflow_x": null,
      "overflow_y": null,
      "padding": null,
      "right": null,
      "top": null,
      "visibility": null,
      "width": null
     }
    },
    "392483eaadfa475dbf5690691e0dfa77": {
     "model_module": "@jupyter-widgets/base",
     "model_name": "LayoutModel",
     "model_module_version": "1.2.0",
     "state": {
      "_model_module": "@jupyter-widgets/base",
      "_model_module_version": "1.2.0",
      "_model_name": "LayoutModel",
      "_view_count": null,
      "_view_module": "@jupyter-widgets/base",
      "_view_module_version": "1.2.0",
      "_view_name": "LayoutView",
      "align_content": null,
      "align_items": null,
      "align_self": null,
      "border": null,
      "bottom": null,
      "display": null,
      "flex": null,
      "flex_flow": null,
      "grid_area": null,
      "grid_auto_columns": null,
      "grid_auto_flow": null,
      "grid_auto_rows": null,
      "grid_column": null,
      "grid_gap": null,
      "grid_row": null,
      "grid_template_areas": null,
      "grid_template_columns": null,
      "grid_template_rows": null,
      "height": null,
      "justify_content": null,
      "justify_items": null,
      "left": null,
      "margin": null,
      "max_height": null,
      "max_width": null,
      "min_height": null,
      "min_width": null,
      "object_fit": null,
      "object_position": null,
      "order": null,
      "overflow": null,
      "overflow_x": null,
      "overflow_y": null,
      "padding": null,
      "right": null,
      "top": null,
      "visibility": null,
      "width": null
     }
    },
    "2aeb15c184594ed99bfc4171bc9bb5a1": {
     "model_module": "@jupyter-widgets/controls",
     "model_name": "DescriptionStyleModel",
     "model_module_version": "1.5.0",
     "state": {
      "_model_module": "@jupyter-widgets/controls",
      "_model_module_version": "1.5.0",
      "_model_name": "DescriptionStyleModel",
      "_view_count": null,
      "_view_module": "@jupyter-widgets/base",
      "_view_module_version": "1.2.0",
      "_view_name": "StyleView",
      "description_width": ""
     }
    },
    "05fc33ec9db2484d8aa52572bfa97258": {
     "model_module": "@jupyter-widgets/base",
     "model_name": "LayoutModel",
     "model_module_version": "1.2.0",
     "state": {
      "_model_module": "@jupyter-widgets/base",
      "_model_module_version": "1.2.0",
      "_model_name": "LayoutModel",
      "_view_count": null,
      "_view_module": "@jupyter-widgets/base",
      "_view_module_version": "1.2.0",
      "_view_name": "LayoutView",
      "align_content": null,
      "align_items": null,
      "align_self": null,
      "border": null,
      "bottom": null,
      "display": null,
      "flex": null,
      "flex_flow": null,
      "grid_area": null,
      "grid_auto_columns": null,
      "grid_auto_flow": null,
      "grid_auto_rows": null,
      "grid_column": null,
      "grid_gap": null,
      "grid_row": null,
      "grid_template_areas": null,
      "grid_template_columns": null,
      "grid_template_rows": null,
      "height": null,
      "justify_content": null,
      "justify_items": null,
      "left": null,
      "margin": null,
      "max_height": null,
      "max_width": null,
      "min_height": null,
      "min_width": null,
      "object_fit": null,
      "object_position": null,
      "order": null,
      "overflow": null,
      "overflow_x": null,
      "overflow_y": null,
      "padding": null,
      "right": null,
      "top": null,
      "visibility": null,
      "width": null
     }
    },
    "7363e1de40ef4b7a988d5dced15f2582": {
     "model_module": "@jupyter-widgets/controls",
     "model_name": "ProgressStyleModel",
     "model_module_version": "1.5.0",
     "state": {
      "_model_module": "@jupyter-widgets/controls",
      "_model_module_version": "1.5.0",
      "_model_name": "ProgressStyleModel",
      "_view_count": null,
      "_view_module": "@jupyter-widgets/base",
      "_view_module_version": "1.2.0",
      "_view_name": "StyleView",
      "bar_color": null,
      "description_width": ""
     }
    },
    "a7e220b2d1574964a744d6b65b6cdc51": {
     "model_module": "@jupyter-widgets/base",
     "model_name": "LayoutModel",
     "model_module_version": "1.2.0",
     "state": {
      "_model_module": "@jupyter-widgets/base",
      "_model_module_version": "1.2.0",
      "_model_name": "LayoutModel",
      "_view_count": null,
      "_view_module": "@jupyter-widgets/base",
      "_view_module_version": "1.2.0",
      "_view_name": "LayoutView",
      "align_content": null,
      "align_items": null,
      "align_self": null,
      "border": null,
      "bottom": null,
      "display": null,
      "flex": null,
      "flex_flow": null,
      "grid_area": null,
      "grid_auto_columns": null,
      "grid_auto_flow": null,
      "grid_auto_rows": null,
      "grid_column": null,
      "grid_gap": null,
      "grid_row": null,
      "grid_template_areas": null,
      "grid_template_columns": null,
      "grid_template_rows": null,
      "height": null,
      "justify_content": null,
      "justify_items": null,
      "left": null,
      "margin": null,
      "max_height": null,
      "max_width": null,
      "min_height": null,
      "min_width": null,
      "object_fit": null,
      "object_position": null,
      "order": null,
      "overflow": null,
      "overflow_x": null,
      "overflow_y": null,
      "padding": null,
      "right": null,
      "top": null,
      "visibility": null,
      "width": null
     }
    },
    "b4dd522b5bbf499b9e9127ef98cc566f": {
     "model_module": "@jupyter-widgets/controls",
     "model_name": "DescriptionStyleModel",
     "model_module_version": "1.5.0",
     "state": {
      "_model_module": "@jupyter-widgets/controls",
      "_model_module_version": "1.5.0",
      "_model_name": "DescriptionStyleModel",
      "_view_count": null,
      "_view_module": "@jupyter-widgets/base",
      "_view_module_version": "1.2.0",
      "_view_name": "StyleView",
      "description_width": ""
     }
    },
    "483677a05d5b457c9f2846a246054931": {
     "model_module": "@jupyter-widgets/controls",
     "model_name": "HBoxModel",
     "model_module_version": "1.5.0",
     "state": {
      "_dom_classes": [],
      "_model_module": "@jupyter-widgets/controls",
      "_model_module_version": "1.5.0",
      "_model_name": "HBoxModel",
      "_view_count": null,
      "_view_module": "@jupyter-widgets/controls",
      "_view_module_version": "1.5.0",
      "_view_name": "HBoxView",
      "box_style": "",
      "children": [
       "IPY_MODEL_90700a6e0d0c4a5b8d6c3755a60bc529",
       "IPY_MODEL_ec88cc2efb5544f2a6ce21bd179d8161",
       "IPY_MODEL_ea285b1645cb4c0bb4c9bb8de9049f27"
      ],
      "layout": "IPY_MODEL_189be7c0024a498ab0bcb1e98f8fdf8d"
     }
    },
    "90700a6e0d0c4a5b8d6c3755a60bc529": {
     "model_module": "@jupyter-widgets/controls",
     "model_name": "HTMLModel",
     "model_module_version": "1.5.0",
     "state": {
      "_dom_classes": [],
      "_model_module": "@jupyter-widgets/controls",
      "_model_module_version": "1.5.0",
      "_model_name": "HTMLModel",
      "_view_count": null,
      "_view_module": "@jupyter-widgets/controls",
      "_view_module_version": "1.5.0",
      "_view_name": "HTMLView",
      "description": "",
      "description_tooltip": null,
      "layout": "IPY_MODEL_1ecc3df107ff457594cf9aaab641e99e",
      "placeholder": "​",
      "style": "IPY_MODEL_e78bf4d6359348fda1aa4377a8d318f8",
      "value": "Batch size 8, requires_grad False: 100%"
     }
    },
    "ec88cc2efb5544f2a6ce21bd179d8161": {
     "model_module": "@jupyter-widgets/controls",
     "model_name": "FloatProgressModel",
     "model_module_version": "1.5.0",
     "state": {
      "_dom_classes": [],
      "_model_module": "@jupyter-widgets/controls",
      "_model_module_version": "1.5.0",
      "_model_name": "FloatProgressModel",
      "_view_count": null,
      "_view_module": "@jupyter-widgets/controls",
      "_view_module_version": "1.5.0",
      "_view_name": "ProgressView",
      "bar_style": "success",
      "description": "",
      "description_tooltip": null,
      "layout": "IPY_MODEL_7c0194082b8246ceb171916cc47b0b0c",
      "max": 7,
      "min": 0,
      "orientation": "horizontal",
      "style": "IPY_MODEL_543b37e8e47f4cafa9a59cd518555d75",
      "value": 7
     }
    },
    "ea285b1645cb4c0bb4c9bb8de9049f27": {
     "model_module": "@jupyter-widgets/controls",
     "model_name": "HTMLModel",
     "model_module_version": "1.5.0",
     "state": {
      "_dom_classes": [],
      "_model_module": "@jupyter-widgets/controls",
      "_model_module_version": "1.5.0",
      "_model_name": "HTMLModel",
      "_view_count": null,
      "_view_module": "@jupyter-widgets/controls",
      "_view_module_version": "1.5.0",
      "_view_name": "HTMLView",
      "description": "",
      "description_tooltip": null,
      "layout": "IPY_MODEL_90389810d0264c2d84ecbf93927eb65f",
      "placeholder": "​",
      "style": "IPY_MODEL_036c3a214eda407a9e0c7b6d61da1341",
      "value": " 7/7 [01:11&lt;00:00,  8.17s/it]"
     }
    },
    "189be7c0024a498ab0bcb1e98f8fdf8d": {
     "model_module": "@jupyter-widgets/base",
     "model_name": "LayoutModel",
     "model_module_version": "1.2.0",
     "state": {
      "_model_module": "@jupyter-widgets/base",
      "_model_module_version": "1.2.0",
      "_model_name": "LayoutModel",
      "_view_count": null,
      "_view_module": "@jupyter-widgets/base",
      "_view_module_version": "1.2.0",
      "_view_name": "LayoutView",
      "align_content": null,
      "align_items": null,
      "align_self": null,
      "border": null,
      "bottom": null,
      "display": null,
      "flex": null,
      "flex_flow": null,
      "grid_area": null,
      "grid_auto_columns": null,
      "grid_auto_flow": null,
      "grid_auto_rows": null,
      "grid_column": null,
      "grid_gap": null,
      "grid_row": null,
      "grid_template_areas": null,
      "grid_template_columns": null,
      "grid_template_rows": null,
      "height": null,
      "justify_content": null,
      "justify_items": null,
      "left": null,
      "margin": null,
      "max_height": null,
      "max_width": null,
      "min_height": null,
      "min_width": null,
      "object_fit": null,
      "object_position": null,
      "order": null,
      "overflow": null,
      "overflow_x": null,
      "overflow_y": null,
      "padding": null,
      "right": null,
      "top": null,
      "visibility": null,
      "width": null
     }
    },
    "1ecc3df107ff457594cf9aaab641e99e": {
     "model_module": "@jupyter-widgets/base",
     "model_name": "LayoutModel",
     "model_module_version": "1.2.0",
     "state": {
      "_model_module": "@jupyter-widgets/base",
      "_model_module_version": "1.2.0",
      "_model_name": "LayoutModel",
      "_view_count": null,
      "_view_module": "@jupyter-widgets/base",
      "_view_module_version": "1.2.0",
      "_view_name": "LayoutView",
      "align_content": null,
      "align_items": null,
      "align_self": null,
      "border": null,
      "bottom": null,
      "display": null,
      "flex": null,
      "flex_flow": null,
      "grid_area": null,
      "grid_auto_columns": null,
      "grid_auto_flow": null,
      "grid_auto_rows": null,
      "grid_column": null,
      "grid_gap": null,
      "grid_row": null,
      "grid_template_areas": null,
      "grid_template_columns": null,
      "grid_template_rows": null,
      "height": null,
      "justify_content": null,
      "justify_items": null,
      "left": null,
      "margin": null,
      "max_height": null,
      "max_width": null,
      "min_height": null,
      "min_width": null,
      "object_fit": null,
      "object_position": null,
      "order": null,
      "overflow": null,
      "overflow_x": null,
      "overflow_y": null,
      "padding": null,
      "right": null,
      "top": null,
      "visibility": null,
      "width": null
     }
    },
    "e78bf4d6359348fda1aa4377a8d318f8": {
     "model_module": "@jupyter-widgets/controls",
     "model_name": "DescriptionStyleModel",
     "model_module_version": "1.5.0",
     "state": {
      "_model_module": "@jupyter-widgets/controls",
      "_model_module_version": "1.5.0",
      "_model_name": "DescriptionStyleModel",
      "_view_count": null,
      "_view_module": "@jupyter-widgets/base",
      "_view_module_version": "1.2.0",
      "_view_name": "StyleView",
      "description_width": ""
     }
    },
    "7c0194082b8246ceb171916cc47b0b0c": {
     "model_module": "@jupyter-widgets/base",
     "model_name": "LayoutModel",
     "model_module_version": "1.2.0",
     "state": {
      "_model_module": "@jupyter-widgets/base",
      "_model_module_version": "1.2.0",
      "_model_name": "LayoutModel",
      "_view_count": null,
      "_view_module": "@jupyter-widgets/base",
      "_view_module_version": "1.2.0",
      "_view_name": "LayoutView",
      "align_content": null,
      "align_items": null,
      "align_self": null,
      "border": null,
      "bottom": null,
      "display": null,
      "flex": null,
      "flex_flow": null,
      "grid_area": null,
      "grid_auto_columns": null,
      "grid_auto_flow": null,
      "grid_auto_rows": null,
      "grid_column": null,
      "grid_gap": null,
      "grid_row": null,
      "grid_template_areas": null,
      "grid_template_columns": null,
      "grid_template_rows": null,
      "height": null,
      "justify_content": null,
      "justify_items": null,
      "left": null,
      "margin": null,
      "max_height": null,
      "max_width": null,
      "min_height": null,
      "min_width": null,
      "object_fit": null,
      "object_position": null,
      "order": null,
      "overflow": null,
      "overflow_x": null,
      "overflow_y": null,
      "padding": null,
      "right": null,
      "top": null,
      "visibility": null,
      "width": null
     }
    },
    "543b37e8e47f4cafa9a59cd518555d75": {
     "model_module": "@jupyter-widgets/controls",
     "model_name": "ProgressStyleModel",
     "model_module_version": "1.5.0",
     "state": {
      "_model_module": "@jupyter-widgets/controls",
      "_model_module_version": "1.5.0",
      "_model_name": "ProgressStyleModel",
      "_view_count": null,
      "_view_module": "@jupyter-widgets/base",
      "_view_module_version": "1.2.0",
      "_view_name": "StyleView",
      "bar_color": null,
      "description_width": ""
     }
    },
    "90389810d0264c2d84ecbf93927eb65f": {
     "model_module": "@jupyter-widgets/base",
     "model_name": "LayoutModel",
     "model_module_version": "1.2.0",
     "state": {
      "_model_module": "@jupyter-widgets/base",
      "_model_module_version": "1.2.0",
      "_model_name": "LayoutModel",
      "_view_count": null,
      "_view_module": "@jupyter-widgets/base",
      "_view_module_version": "1.2.0",
      "_view_name": "LayoutView",
      "align_content": null,
      "align_items": null,
      "align_self": null,
      "border": null,
      "bottom": null,
      "display": null,
      "flex": null,
      "flex_flow": null,
      "grid_area": null,
      "grid_auto_columns": null,
      "grid_auto_flow": null,
      "grid_auto_rows": null,
      "grid_column": null,
      "grid_gap": null,
      "grid_row": null,
      "grid_template_areas": null,
      "grid_template_columns": null,
      "grid_template_rows": null,
      "height": null,
      "justify_content": null,
      "justify_items": null,
      "left": null,
      "margin": null,
      "max_height": null,
      "max_width": null,
      "min_height": null,
      "min_width": null,
      "object_fit": null,
      "object_position": null,
      "order": null,
      "overflow": null,
      "overflow_x": null,
      "overflow_y": null,
      "padding": null,
      "right": null,
      "top": null,
      "visibility": null,
      "width": null
     }
    },
    "036c3a214eda407a9e0c7b6d61da1341": {
     "model_module": "@jupyter-widgets/controls",
     "model_name": "DescriptionStyleModel",
     "model_module_version": "1.5.0",
     "state": {
      "_model_module": "@jupyter-widgets/controls",
      "_model_module_version": "1.5.0",
      "_model_name": "DescriptionStyleModel",
      "_view_count": null,
      "_view_module": "@jupyter-widgets/base",
      "_view_module_version": "1.2.0",
      "_view_name": "StyleView",
      "description_width": ""
     }
    },
    "1bd72518b9fa44f3a8fef961053777a9": {
     "model_module": "@jupyter-widgets/controls",
     "model_name": "HBoxModel",
     "model_module_version": "1.5.0",
     "state": {
      "_dom_classes": [],
      "_model_module": "@jupyter-widgets/controls",
      "_model_module_version": "1.5.0",
      "_model_name": "HBoxModel",
      "_view_count": null,
      "_view_module": "@jupyter-widgets/controls",
      "_view_module_version": "1.5.0",
      "_view_name": "HBoxView",
      "box_style": "",
      "children": [
       "IPY_MODEL_a4a400c633314423a888178a147ab07b",
       "IPY_MODEL_3d69ad2edeb94013a8bc70f5371cba90",
       "IPY_MODEL_11dd807e5238437ebedfd41b78a72d71"
      ],
      "layout": "IPY_MODEL_f70864633bd946ca9671e3ef1ee3d2ee"
     }
    },
    "a4a400c633314423a888178a147ab07b": {
     "model_module": "@jupyter-widgets/controls",
     "model_name": "HTMLModel",
     "model_module_version": "1.5.0",
     "state": {
      "_dom_classes": [],
      "_model_module": "@jupyter-widgets/controls",
      "_model_module_version": "1.5.0",
      "_model_name": "HTMLModel",
      "_view_count": null,
      "_view_module": "@jupyter-widgets/controls",
      "_view_module_version": "1.5.0",
      "_view_name": "HTMLView",
      "description": "",
      "description_tooltip": null,
      "layout": "IPY_MODEL_cc3ad505158b479a9563b4115c593c13",
      "placeholder": "​",
      "style": "IPY_MODEL_b0501b00d8514c2ab9b0b2360252bf2e",
      "value": "Batch size 8, requires_grad True: 100%"
     }
    },
    "3d69ad2edeb94013a8bc70f5371cba90": {
     "model_module": "@jupyter-widgets/controls",
     "model_name": "FloatProgressModel",
     "model_module_version": "1.5.0",
     "state": {
      "_dom_classes": [],
      "_model_module": "@jupyter-widgets/controls",
      "_model_module_version": "1.5.0",
      "_model_name": "FloatProgressModel",
      "_view_count": null,
      "_view_module": "@jupyter-widgets/controls",
      "_view_module_version": "1.5.0",
      "_view_name": "ProgressView",
      "bar_style": "success",
      "description": "",
      "description_tooltip": null,
      "layout": "IPY_MODEL_1049d07605ef475c983ac3ffa6c177e0",
      "max": 7,
      "min": 0,
      "orientation": "horizontal",
      "style": "IPY_MODEL_b0dd73949b54472d9fe531244053a0de",
      "value": 7
     }
    },
    "11dd807e5238437ebedfd41b78a72d71": {
     "model_module": "@jupyter-widgets/controls",
     "model_name": "HTMLModel",
     "model_module_version": "1.5.0",
     "state": {
      "_dom_classes": [],
      "_model_module": "@jupyter-widgets/controls",
      "_model_module_version": "1.5.0",
      "_model_name": "HTMLModel",
      "_view_count": null,
      "_view_module": "@jupyter-widgets/controls",
      "_view_module_version": "1.5.0",
      "_view_name": "HTMLView",
      "description": "",
      "description_tooltip": null,
      "layout": "IPY_MODEL_efe52a9cd05b4ff181b83037e6f530bd",
      "placeholder": "​",
      "style": "IPY_MODEL_644e89d59ea24cbc8a1067e038218d64",
      "value": " 7/7 [01:09&lt;00:00,  8.38s/it]"
     }
    },
    "f70864633bd946ca9671e3ef1ee3d2ee": {
     "model_module": "@jupyter-widgets/base",
     "model_name": "LayoutModel",
     "model_module_version": "1.2.0",
     "state": {
      "_model_module": "@jupyter-widgets/base",
      "_model_module_version": "1.2.0",
      "_model_name": "LayoutModel",
      "_view_count": null,
      "_view_module": "@jupyter-widgets/base",
      "_view_module_version": "1.2.0",
      "_view_name": "LayoutView",
      "align_content": null,
      "align_items": null,
      "align_self": null,
      "border": null,
      "bottom": null,
      "display": null,
      "flex": null,
      "flex_flow": null,
      "grid_area": null,
      "grid_auto_columns": null,
      "grid_auto_flow": null,
      "grid_auto_rows": null,
      "grid_column": null,
      "grid_gap": null,
      "grid_row": null,
      "grid_template_areas": null,
      "grid_template_columns": null,
      "grid_template_rows": null,
      "height": null,
      "justify_content": null,
      "justify_items": null,
      "left": null,
      "margin": null,
      "max_height": null,
      "max_width": null,
      "min_height": null,
      "min_width": null,
      "object_fit": null,
      "object_position": null,
      "order": null,
      "overflow": null,
      "overflow_x": null,
      "overflow_y": null,
      "padding": null,
      "right": null,
      "top": null,
      "visibility": null,
      "width": null
     }
    },
    "cc3ad505158b479a9563b4115c593c13": {
     "model_module": "@jupyter-widgets/base",
     "model_name": "LayoutModel",
     "model_module_version": "1.2.0",
     "state": {
      "_model_module": "@jupyter-widgets/base",
      "_model_module_version": "1.2.0",
      "_model_name": "LayoutModel",
      "_view_count": null,
      "_view_module": "@jupyter-widgets/base",
      "_view_module_version": "1.2.0",
      "_view_name": "LayoutView",
      "align_content": null,
      "align_items": null,
      "align_self": null,
      "border": null,
      "bottom": null,
      "display": null,
      "flex": null,
      "flex_flow": null,
      "grid_area": null,
      "grid_auto_columns": null,
      "grid_auto_flow": null,
      "grid_auto_rows": null,
      "grid_column": null,
      "grid_gap": null,
      "grid_row": null,
      "grid_template_areas": null,
      "grid_template_columns": null,
      "grid_template_rows": null,
      "height": null,
      "justify_content": null,
      "justify_items": null,
      "left": null,
      "margin": null,
      "max_height": null,
      "max_width": null,
      "min_height": null,
      "min_width": null,
      "object_fit": null,
      "object_position": null,
      "order": null,
      "overflow": null,
      "overflow_x": null,
      "overflow_y": null,
      "padding": null,
      "right": null,
      "top": null,
      "visibility": null,
      "width": null
     }
    },
    "b0501b00d8514c2ab9b0b2360252bf2e": {
     "model_module": "@jupyter-widgets/controls",
     "model_name": "DescriptionStyleModel",
     "model_module_version": "1.5.0",
     "state": {
      "_model_module": "@jupyter-widgets/controls",
      "_model_module_version": "1.5.0",
      "_model_name": "DescriptionStyleModel",
      "_view_count": null,
      "_view_module": "@jupyter-widgets/base",
      "_view_module_version": "1.2.0",
      "_view_name": "StyleView",
      "description_width": ""
     }
    },
    "1049d07605ef475c983ac3ffa6c177e0": {
     "model_module": "@jupyter-widgets/base",
     "model_name": "LayoutModel",
     "model_module_version": "1.2.0",
     "state": {
      "_model_module": "@jupyter-widgets/base",
      "_model_module_version": "1.2.0",
      "_model_name": "LayoutModel",
      "_view_count": null,
      "_view_module": "@jupyter-widgets/base",
      "_view_module_version": "1.2.0",
      "_view_name": "LayoutView",
      "align_content": null,
      "align_items": null,
      "align_self": null,
      "border": null,
      "bottom": null,
      "display": null,
      "flex": null,
      "flex_flow": null,
      "grid_area": null,
      "grid_auto_columns": null,
      "grid_auto_flow": null,
      "grid_auto_rows": null,
      "grid_column": null,
      "grid_gap": null,
      "grid_row": null,
      "grid_template_areas": null,
      "grid_template_columns": null,
      "grid_template_rows": null,
      "height": null,
      "justify_content": null,
      "justify_items": null,
      "left": null,
      "margin": null,
      "max_height": null,
      "max_width": null,
      "min_height": null,
      "min_width": null,
      "object_fit": null,
      "object_position": null,
      "order": null,
      "overflow": null,
      "overflow_x": null,
      "overflow_y": null,
      "padding": null,
      "right": null,
      "top": null,
      "visibility": null,
      "width": null
     }
    },
    "b0dd73949b54472d9fe531244053a0de": {
     "model_module": "@jupyter-widgets/controls",
     "model_name": "ProgressStyleModel",
     "model_module_version": "1.5.0",
     "state": {
      "_model_module": "@jupyter-widgets/controls",
      "_model_module_version": "1.5.0",
      "_model_name": "ProgressStyleModel",
      "_view_count": null,
      "_view_module": "@jupyter-widgets/base",
      "_view_module_version": "1.2.0",
      "_view_name": "StyleView",
      "bar_color": null,
      "description_width": ""
     }
    },
    "efe52a9cd05b4ff181b83037e6f530bd": {
     "model_module": "@jupyter-widgets/base",
     "model_name": "LayoutModel",
     "model_module_version": "1.2.0",
     "state": {
      "_model_module": "@jupyter-widgets/base",
      "_model_module_version": "1.2.0",
      "_model_name": "LayoutModel",
      "_view_count": null,
      "_view_module": "@jupyter-widgets/base",
      "_view_module_version": "1.2.0",
      "_view_name": "LayoutView",
      "align_content": null,
      "align_items": null,
      "align_self": null,
      "border": null,
      "bottom": null,
      "display": null,
      "flex": null,
      "flex_flow": null,
      "grid_area": null,
      "grid_auto_columns": null,
      "grid_auto_flow": null,
      "grid_auto_rows": null,
      "grid_column": null,
      "grid_gap": null,
      "grid_row": null,
      "grid_template_areas": null,
      "grid_template_columns": null,
      "grid_template_rows": null,
      "height": null,
      "justify_content": null,
      "justify_items": null,
      "left": null,
      "margin": null,
      "max_height": null,
      "max_width": null,
      "min_height": null,
      "min_width": null,
      "object_fit": null,
      "object_position": null,
      "order": null,
      "overflow": null,
      "overflow_x": null,
      "overflow_y": null,
      "padding": null,
      "right": null,
      "top": null,
      "visibility": null,
      "width": null
     }
    },
    "644e89d59ea24cbc8a1067e038218d64": {
     "model_module": "@jupyter-widgets/controls",
     "model_name": "DescriptionStyleModel",
     "model_module_version": "1.5.0",
     "state": {
      "_model_module": "@jupyter-widgets/controls",
      "_model_module_version": "1.5.0",
      "_model_name": "DescriptionStyleModel",
      "_view_count": null,
      "_view_module": "@jupyter-widgets/base",
      "_view_module_version": "1.2.0",
      "_view_name": "StyleView",
      "description_width": ""
     }
    },
    "1f82739d85a2406c88f37eff2d1a7015": {
     "model_module": "@jupyter-widgets/controls",
     "model_name": "HBoxModel",
     "model_module_version": "1.5.0",
     "state": {
      "_dom_classes": [],
      "_model_module": "@jupyter-widgets/controls",
      "_model_module_version": "1.5.0",
      "_model_name": "HBoxModel",
      "_view_count": null,
      "_view_module": "@jupyter-widgets/controls",
      "_view_module_version": "1.5.0",
      "_view_name": "HBoxView",
      "box_style": "",
      "children": [
       "IPY_MODEL_a2c6b58547c44de2a11e2e2bd59d4632",
       "IPY_MODEL_b14767ab369d476198a16ef1ec265377",
       "IPY_MODEL_d45eb338cca44e6e9a432a110f57dcb3"
      ],
      "layout": "IPY_MODEL_eb848f868ee8448683f76d7a29df49be"
     }
    },
    "a2c6b58547c44de2a11e2e2bd59d4632": {
     "model_module": "@jupyter-widgets/controls",
     "model_name": "HTMLModel",
     "model_module_version": "1.5.0",
     "state": {
      "_dom_classes": [],
      "_model_module": "@jupyter-widgets/controls",
      "_model_module_version": "1.5.0",
      "_model_name": "HTMLModel",
      "_view_count": null,
      "_view_module": "@jupyter-widgets/controls",
      "_view_module_version": "1.5.0",
      "_view_name": "HTMLView",
      "description": "",
      "description_tooltip": null,
      "layout": "IPY_MODEL_2448ee91b5124baa81fe5ecb43b61b09",
      "placeholder": "​",
      "style": "IPY_MODEL_8134d63f6fa2468ebaf9771026b8c21c",
      "value": "With and without gradients: 100%"
     }
    },
    "b14767ab369d476198a16ef1ec265377": {
     "model_module": "@jupyter-widgets/controls",
     "model_name": "FloatProgressModel",
     "model_module_version": "1.5.0",
     "state": {
      "_dom_classes": [],
      "_model_module": "@jupyter-widgets/controls",
      "_model_module_version": "1.5.0",
      "_model_name": "FloatProgressModel",
      "_view_count": null,
      "_view_module": "@jupyter-widgets/controls",
      "_view_module_version": "1.5.0",
      "_view_name": "ProgressView",
      "bar_style": "success",
      "description": "",
      "description_tooltip": null,
      "layout": "IPY_MODEL_27400370ac53444f84483da95450f30b",
      "max": 2,
      "min": 0,
      "orientation": "horizontal",
      "style": "IPY_MODEL_45a2f03bd1cc45188cfb407e0e254a53",
      "value": 2
     }
    },
    "d45eb338cca44e6e9a432a110f57dcb3": {
     "model_module": "@jupyter-widgets/controls",
     "model_name": "HTMLModel",
     "model_module_version": "1.5.0",
     "state": {
      "_dom_classes": [],
      "_model_module": "@jupyter-widgets/controls",
      "_model_module_version": "1.5.0",
      "_model_name": "HTMLModel",
      "_view_count": null,
      "_view_module": "@jupyter-widgets/controls",
      "_view_module_version": "1.5.0",
      "_view_name": "HTMLView",
      "description": "",
      "description_tooltip": null,
      "layout": "IPY_MODEL_a6e12eae2e7c4edab8b60685c9e4d9f2",
      "placeholder": "​",
      "style": "IPY_MODEL_44a60a42fa76496ba4b2db97e997a642",
      "value": " 2/2 [01:59&lt;00:00, 59.79s/it]"
     }
    },
    "eb848f868ee8448683f76d7a29df49be": {
     "model_module": "@jupyter-widgets/base",
     "model_name": "LayoutModel",
     "model_module_version": "1.2.0",
     "state": {
      "_model_module": "@jupyter-widgets/base",
      "_model_module_version": "1.2.0",
      "_model_name": "LayoutModel",
      "_view_count": null,
      "_view_module": "@jupyter-widgets/base",
      "_view_module_version": "1.2.0",
      "_view_name": "LayoutView",
      "align_content": null,
      "align_items": null,
      "align_self": null,
      "border": null,
      "bottom": null,
      "display": null,
      "flex": null,
      "flex_flow": null,
      "grid_area": null,
      "grid_auto_columns": null,
      "grid_auto_flow": null,
      "grid_auto_rows": null,
      "grid_column": null,
      "grid_gap": null,
      "grid_row": null,
      "grid_template_areas": null,
      "grid_template_columns": null,
      "grid_template_rows": null,
      "height": null,
      "justify_content": null,
      "justify_items": null,
      "left": null,
      "margin": null,
      "max_height": null,
      "max_width": null,
      "min_height": null,
      "min_width": null,
      "object_fit": null,
      "object_position": null,
      "order": null,
      "overflow": null,
      "overflow_x": null,
      "overflow_y": null,
      "padding": null,
      "right": null,
      "top": null,
      "visibility": null,
      "width": null
     }
    },
    "2448ee91b5124baa81fe5ecb43b61b09": {
     "model_module": "@jupyter-widgets/base",
     "model_name": "LayoutModel",
     "model_module_version": "1.2.0",
     "state": {
      "_model_module": "@jupyter-widgets/base",
      "_model_module_version": "1.2.0",
      "_model_name": "LayoutModel",
      "_view_count": null,
      "_view_module": "@jupyter-widgets/base",
      "_view_module_version": "1.2.0",
      "_view_name": "LayoutView",
      "align_content": null,
      "align_items": null,
      "align_self": null,
      "border": null,
      "bottom": null,
      "display": null,
      "flex": null,
      "flex_flow": null,
      "grid_area": null,
      "grid_auto_columns": null,
      "grid_auto_flow": null,
      "grid_auto_rows": null,
      "grid_column": null,
      "grid_gap": null,
      "grid_row": null,
      "grid_template_areas": null,
      "grid_template_columns": null,
      "grid_template_rows": null,
      "height": null,
      "justify_content": null,
      "justify_items": null,
      "left": null,
      "margin": null,
      "max_height": null,
      "max_width": null,
      "min_height": null,
      "min_width": null,
      "object_fit": null,
      "object_position": null,
      "order": null,
      "overflow": null,
      "overflow_x": null,
      "overflow_y": null,
      "padding": null,
      "right": null,
      "top": null,
      "visibility": null,
      "width": null
     }
    },
    "8134d63f6fa2468ebaf9771026b8c21c": {
     "model_module": "@jupyter-widgets/controls",
     "model_name": "DescriptionStyleModel",
     "model_module_version": "1.5.0",
     "state": {
      "_model_module": "@jupyter-widgets/controls",
      "_model_module_version": "1.5.0",
      "_model_name": "DescriptionStyleModel",
      "_view_count": null,
      "_view_module": "@jupyter-widgets/base",
      "_view_module_version": "1.2.0",
      "_view_name": "StyleView",
      "description_width": ""
     }
    },
    "27400370ac53444f84483da95450f30b": {
     "model_module": "@jupyter-widgets/base",
     "model_name": "LayoutModel",
     "model_module_version": "1.2.0",
     "state": {
      "_model_module": "@jupyter-widgets/base",
      "_model_module_version": "1.2.0",
      "_model_name": "LayoutModel",
      "_view_count": null,
      "_view_module": "@jupyter-widgets/base",
      "_view_module_version": "1.2.0",
      "_view_name": "LayoutView",
      "align_content": null,
      "align_items": null,
      "align_self": null,
      "border": null,
      "bottom": null,
      "display": null,
      "flex": null,
      "flex_flow": null,
      "grid_area": null,
      "grid_auto_columns": null,
      "grid_auto_flow": null,
      "grid_auto_rows": null,
      "grid_column": null,
      "grid_gap": null,
      "grid_row": null,
      "grid_template_areas": null,
      "grid_template_columns": null,
      "grid_template_rows": null,
      "height": null,
      "justify_content": null,
      "justify_items": null,
      "left": null,
      "margin": null,
      "max_height": null,
      "max_width": null,
      "min_height": null,
      "min_width": null,
      "object_fit": null,
      "object_position": null,
      "order": null,
      "overflow": null,
      "overflow_x": null,
      "overflow_y": null,
      "padding": null,
      "right": null,
      "top": null,
      "visibility": null,
      "width": null
     }
    },
    "45a2f03bd1cc45188cfb407e0e254a53": {
     "model_module": "@jupyter-widgets/controls",
     "model_name": "ProgressStyleModel",
     "model_module_version": "1.5.0",
     "state": {
      "_model_module": "@jupyter-widgets/controls",
      "_model_module_version": "1.5.0",
      "_model_name": "ProgressStyleModel",
      "_view_count": null,
      "_view_module": "@jupyter-widgets/base",
      "_view_module_version": "1.2.0",
      "_view_name": "StyleView",
      "bar_color": null,
      "description_width": ""
     }
    },
    "a6e12eae2e7c4edab8b60685c9e4d9f2": {
     "model_module": "@jupyter-widgets/base",
     "model_name": "LayoutModel",
     "model_module_version": "1.2.0",
     "state": {
      "_model_module": "@jupyter-widgets/base",
      "_model_module_version": "1.2.0",
      "_model_name": "LayoutModel",
      "_view_count": null,
      "_view_module": "@jupyter-widgets/base",
      "_view_module_version": "1.2.0",
      "_view_name": "LayoutView",
      "align_content": null,
      "align_items": null,
      "align_self": null,
      "border": null,
      "bottom": null,
      "display": null,
      "flex": null,
      "flex_flow": null,
      "grid_area": null,
      "grid_auto_columns": null,
      "grid_auto_flow": null,
      "grid_auto_rows": null,
      "grid_column": null,
      "grid_gap": null,
      "grid_row": null,
      "grid_template_areas": null,
      "grid_template_columns": null,
      "grid_template_rows": null,
      "height": null,
      "justify_content": null,
      "justify_items": null,
      "left": null,
      "margin": null,
      "max_height": null,
      "max_width": null,
      "min_height": null,
      "min_width": null,
      "object_fit": null,
      "object_position": null,
      "order": null,
      "overflow": null,
      "overflow_x": null,
      "overflow_y": null,
      "padding": null,
      "right": null,
      "top": null,
      "visibility": null,
      "width": null
     }
    },
    "44a60a42fa76496ba4b2db97e997a642": {
     "model_module": "@jupyter-widgets/controls",
     "model_name": "DescriptionStyleModel",
     "model_module_version": "1.5.0",
     "state": {
      "_model_module": "@jupyter-widgets/controls",
      "_model_module_version": "1.5.0",
      "_model_name": "DescriptionStyleModel",
      "_view_count": null,
      "_view_module": "@jupyter-widgets/base",
      "_view_module_version": "1.2.0",
      "_view_name": "StyleView",
      "description_width": ""
     }
    },
    "32118ac8e9e341a78589b4032a1b1a43": {
     "model_module": "@jupyter-widgets/controls",
     "model_name": "HBoxModel",
     "model_module_version": "1.5.0",
     "state": {
      "_dom_classes": [],
      "_model_module": "@jupyter-widgets/controls",
      "_model_module_version": "1.5.0",
      "_model_name": "HBoxModel",
      "_view_count": null,
      "_view_module": "@jupyter-widgets/controls",
      "_view_module_version": "1.5.0",
      "_view_name": "HBoxView",
      "box_style": "",
      "children": [
       "IPY_MODEL_7c426fc2f0f946d69efc3c7b98d609e9",
       "IPY_MODEL_9feb45b16dfc421cbb64576b9cc0a476",
       "IPY_MODEL_cefd864fa73f4965bb0b2b66920d5f7a"
      ],
      "layout": "IPY_MODEL_ab890f933f2a48f399fd0c9b1179076e"
     }
    },
    "7c426fc2f0f946d69efc3c7b98d609e9": {
     "model_module": "@jupyter-widgets/controls",
     "model_name": "HTMLModel",
     "model_module_version": "1.5.0",
     "state": {
      "_dom_classes": [],
      "_model_module": "@jupyter-widgets/controls",
      "_model_module_version": "1.5.0",
      "_model_name": "HTMLModel",
      "_view_count": null,
      "_view_module": "@jupyter-widgets/controls",
      "_view_module_version": "1.5.0",
      "_view_name": "HTMLView",
      "description": "",
      "description_tooltip": null,
      "layout": "IPY_MODEL_9d9e0d07a0604cf38ef63e4ed2007ca9",
      "placeholder": "​",
      "style": "IPY_MODEL_c69e90c84a724889950890117bfc69a4",
      "value": "Batch size 64, requires_grad False: 100%"
     }
    },
    "9feb45b16dfc421cbb64576b9cc0a476": {
     "model_module": "@jupyter-widgets/controls",
     "model_name": "FloatProgressModel",
     "model_module_version": "1.5.0",
     "state": {
      "_dom_classes": [],
      "_model_module": "@jupyter-widgets/controls",
      "_model_module_version": "1.5.0",
      "_model_name": "FloatProgressModel",
      "_view_count": null,
      "_view_module": "@jupyter-widgets/controls",
      "_view_module_version": "1.5.0",
      "_view_name": "ProgressView",
      "bar_style": "success",
      "description": "",
      "description_tooltip": null,
      "layout": "IPY_MODEL_5c4232189b9f4742a775513f2f91cdf0",
      "max": 7,
      "min": 0,
      "orientation": "horizontal",
      "style": "IPY_MODEL_b59ffcb6a88449c1a509c3cc88eab1c6",
      "value": 7
     }
    },
    "cefd864fa73f4965bb0b2b66920d5f7a": {
     "model_module": "@jupyter-widgets/controls",
     "model_name": "HTMLModel",
     "model_module_version": "1.5.0",
     "state": {
      "_dom_classes": [],
      "_model_module": "@jupyter-widgets/controls",
      "_model_module_version": "1.5.0",
      "_model_name": "HTMLModel",
      "_view_count": null,
      "_view_module": "@jupyter-widgets/controls",
      "_view_module_version": "1.5.0",
      "_view_name": "HTMLView",
      "description": "",
      "description_tooltip": null,
      "layout": "IPY_MODEL_87976eccffb54c3eb89e66abe7082794",
      "placeholder": "​",
      "style": "IPY_MODEL_4674039e91224a9db5c03f2346eccd51",
      "value": " 7/7 [00:59&lt;00:00,  7.02s/it]"
     }
    },
    "ab890f933f2a48f399fd0c9b1179076e": {
     "model_module": "@jupyter-widgets/base",
     "model_name": "LayoutModel",
     "model_module_version": "1.2.0",
     "state": {
      "_model_module": "@jupyter-widgets/base",
      "_model_module_version": "1.2.0",
      "_model_name": "LayoutModel",
      "_view_count": null,
      "_view_module": "@jupyter-widgets/base",
      "_view_module_version": "1.2.0",
      "_view_name": "LayoutView",
      "align_content": null,
      "align_items": null,
      "align_self": null,
      "border": null,
      "bottom": null,
      "display": null,
      "flex": null,
      "flex_flow": null,
      "grid_area": null,
      "grid_auto_columns": null,
      "grid_auto_flow": null,
      "grid_auto_rows": null,
      "grid_column": null,
      "grid_gap": null,
      "grid_row": null,
      "grid_template_areas": null,
      "grid_template_columns": null,
      "grid_template_rows": null,
      "height": null,
      "justify_content": null,
      "justify_items": null,
      "left": null,
      "margin": null,
      "max_height": null,
      "max_width": null,
      "min_height": null,
      "min_width": null,
      "object_fit": null,
      "object_position": null,
      "order": null,
      "overflow": null,
      "overflow_x": null,
      "overflow_y": null,
      "padding": null,
      "right": null,
      "top": null,
      "visibility": null,
      "width": null
     }
    },
    "9d9e0d07a0604cf38ef63e4ed2007ca9": {
     "model_module": "@jupyter-widgets/base",
     "model_name": "LayoutModel",
     "model_module_version": "1.2.0",
     "state": {
      "_model_module": "@jupyter-widgets/base",
      "_model_module_version": "1.2.0",
      "_model_name": "LayoutModel",
      "_view_count": null,
      "_view_module": "@jupyter-widgets/base",
      "_view_module_version": "1.2.0",
      "_view_name": "LayoutView",
      "align_content": null,
      "align_items": null,
      "align_self": null,
      "border": null,
      "bottom": null,
      "display": null,
      "flex": null,
      "flex_flow": null,
      "grid_area": null,
      "grid_auto_columns": null,
      "grid_auto_flow": null,
      "grid_auto_rows": null,
      "grid_column": null,
      "grid_gap": null,
      "grid_row": null,
      "grid_template_areas": null,
      "grid_template_columns": null,
      "grid_template_rows": null,
      "height": null,
      "justify_content": null,
      "justify_items": null,
      "left": null,
      "margin": null,
      "max_height": null,
      "max_width": null,
      "min_height": null,
      "min_width": null,
      "object_fit": null,
      "object_position": null,
      "order": null,
      "overflow": null,
      "overflow_x": null,
      "overflow_y": null,
      "padding": null,
      "right": null,
      "top": null,
      "visibility": null,
      "width": null
     }
    },
    "c69e90c84a724889950890117bfc69a4": {
     "model_module": "@jupyter-widgets/controls",
     "model_name": "DescriptionStyleModel",
     "model_module_version": "1.5.0",
     "state": {
      "_model_module": "@jupyter-widgets/controls",
      "_model_module_version": "1.5.0",
      "_model_name": "DescriptionStyleModel",
      "_view_count": null,
      "_view_module": "@jupyter-widgets/base",
      "_view_module_version": "1.2.0",
      "_view_name": "StyleView",
      "description_width": ""
     }
    },
    "5c4232189b9f4742a775513f2f91cdf0": {
     "model_module": "@jupyter-widgets/base",
     "model_name": "LayoutModel",
     "model_module_version": "1.2.0",
     "state": {
      "_model_module": "@jupyter-widgets/base",
      "_model_module_version": "1.2.0",
      "_model_name": "LayoutModel",
      "_view_count": null,
      "_view_module": "@jupyter-widgets/base",
      "_view_module_version": "1.2.0",
      "_view_name": "LayoutView",
      "align_content": null,
      "align_items": null,
      "align_self": null,
      "border": null,
      "bottom": null,
      "display": null,
      "flex": null,
      "flex_flow": null,
      "grid_area": null,
      "grid_auto_columns": null,
      "grid_auto_flow": null,
      "grid_auto_rows": null,
      "grid_column": null,
      "grid_gap": null,
      "grid_row": null,
      "grid_template_areas": null,
      "grid_template_columns": null,
      "grid_template_rows": null,
      "height": null,
      "justify_content": null,
      "justify_items": null,
      "left": null,
      "margin": null,
      "max_height": null,
      "max_width": null,
      "min_height": null,
      "min_width": null,
      "object_fit": null,
      "object_position": null,
      "order": null,
      "overflow": null,
      "overflow_x": null,
      "overflow_y": null,
      "padding": null,
      "right": null,
      "top": null,
      "visibility": null,
      "width": null
     }
    },
    "b59ffcb6a88449c1a509c3cc88eab1c6": {
     "model_module": "@jupyter-widgets/controls",
     "model_name": "ProgressStyleModel",
     "model_module_version": "1.5.0",
     "state": {
      "_model_module": "@jupyter-widgets/controls",
      "_model_module_version": "1.5.0",
      "_model_name": "ProgressStyleModel",
      "_view_count": null,
      "_view_module": "@jupyter-widgets/base",
      "_view_module_version": "1.2.0",
      "_view_name": "StyleView",
      "bar_color": null,
      "description_width": ""
     }
    },
    "87976eccffb54c3eb89e66abe7082794": {
     "model_module": "@jupyter-widgets/base",
     "model_name": "LayoutModel",
     "model_module_version": "1.2.0",
     "state": {
      "_model_module": "@jupyter-widgets/base",
      "_model_module_version": "1.2.0",
      "_model_name": "LayoutModel",
      "_view_count": null,
      "_view_module": "@jupyter-widgets/base",
      "_view_module_version": "1.2.0",
      "_view_name": "LayoutView",
      "align_content": null,
      "align_items": null,
      "align_self": null,
      "border": null,
      "bottom": null,
      "display": null,
      "flex": null,
      "flex_flow": null,
      "grid_area": null,
      "grid_auto_columns": null,
      "grid_auto_flow": null,
      "grid_auto_rows": null,
      "grid_column": null,
      "grid_gap": null,
      "grid_row": null,
      "grid_template_areas": null,
      "grid_template_columns": null,
      "grid_template_rows": null,
      "height": null,
      "justify_content": null,
      "justify_items": null,
      "left": null,
      "margin": null,
      "max_height": null,
      "max_width": null,
      "min_height": null,
      "min_width": null,
      "object_fit": null,
      "object_position": null,
      "order": null,
      "overflow": null,
      "overflow_x": null,
      "overflow_y": null,
      "padding": null,
      "right": null,
      "top": null,
      "visibility": null,
      "width": null
     }
    },
    "4674039e91224a9db5c03f2346eccd51": {
     "model_module": "@jupyter-widgets/controls",
     "model_name": "DescriptionStyleModel",
     "model_module_version": "1.5.0",
     "state": {
      "_model_module": "@jupyter-widgets/controls",
      "_model_module_version": "1.5.0",
      "_model_name": "DescriptionStyleModel",
      "_view_count": null,
      "_view_module": "@jupyter-widgets/base",
      "_view_module_version": "1.2.0",
      "_view_name": "StyleView",
      "description_width": ""
     }
    },
    "0433448c8ef74704805b1af6178e3fcc": {
     "model_module": "@jupyter-widgets/controls",
     "model_name": "HBoxModel",
     "model_module_version": "1.5.0",
     "state": {
      "_dom_classes": [],
      "_model_module": "@jupyter-widgets/controls",
      "_model_module_version": "1.5.0",
      "_model_name": "HBoxModel",
      "_view_count": null,
      "_view_module": "@jupyter-widgets/controls",
      "_view_module_version": "1.5.0",
      "_view_name": "HBoxView",
      "box_style": "",
      "children": [
       "IPY_MODEL_107683fb028543fc92fe4cd3b2203944",
       "IPY_MODEL_a27ea4e7ad504f608fad842a005f6c4e",
       "IPY_MODEL_f6d4138bcbc2463eb928eb8ccc063279"
      ],
      "layout": "IPY_MODEL_1dc107a3a985438b8d97fac0580b357d"
     }
    },
    "107683fb028543fc92fe4cd3b2203944": {
     "model_module": "@jupyter-widgets/controls",
     "model_name": "HTMLModel",
     "model_module_version": "1.5.0",
     "state": {
      "_dom_classes": [],
      "_model_module": "@jupyter-widgets/controls",
      "_model_module_version": "1.5.0",
      "_model_name": "HTMLModel",
      "_view_count": null,
      "_view_module": "@jupyter-widgets/controls",
      "_view_module_version": "1.5.0",
      "_view_name": "HTMLView",
      "description": "",
      "description_tooltip": null,
      "layout": "IPY_MODEL_e6fd6f031dbb4e7a8c61aa3bd54baaf6",
      "placeholder": "​",
      "style": "IPY_MODEL_9b597496387c46e9a37bb1ba631623df",
      "value": "Batch size 64, requires_grad True: 100%"
     }
    },
    "a27ea4e7ad504f608fad842a005f6c4e": {
     "model_module": "@jupyter-widgets/controls",
     "model_name": "FloatProgressModel",
     "model_module_version": "1.5.0",
     "state": {
      "_dom_classes": [],
      "_model_module": "@jupyter-widgets/controls",
      "_model_module_version": "1.5.0",
      "_model_name": "FloatProgressModel",
      "_view_count": null,
      "_view_module": "@jupyter-widgets/controls",
      "_view_module_version": "1.5.0",
      "_view_name": "ProgressView",
      "bar_style": "success",
      "description": "",
      "description_tooltip": null,
      "layout": "IPY_MODEL_7643159067c942cbb46df2e79d96c260",
      "max": 7,
      "min": 0,
      "orientation": "horizontal",
      "style": "IPY_MODEL_f6270eddcf7142308d624bca862fe3f7",
      "value": 7
     }
    },
    "f6d4138bcbc2463eb928eb8ccc063279": {
     "model_module": "@jupyter-widgets/controls",
     "model_name": "HTMLModel",
     "model_module_version": "1.5.0",
     "state": {
      "_dom_classes": [],
      "_model_module": "@jupyter-widgets/controls",
      "_model_module_version": "1.5.0",
      "_model_name": "HTMLModel",
      "_view_count": null,
      "_view_module": "@jupyter-widgets/controls",
      "_view_module_version": "1.5.0",
      "_view_name": "HTMLView",
      "description": "",
      "description_tooltip": null,
      "layout": "IPY_MODEL_84c009cd44584d319611dee3a79b4174",
      "placeholder": "​",
      "style": "IPY_MODEL_dd97b2baf49042ab8c2cecde0d512853",
      "value": " 7/7 [01:00&lt;00:00,  7.29s/it]"
     }
    },
    "1dc107a3a985438b8d97fac0580b357d": {
     "model_module": "@jupyter-widgets/base",
     "model_name": "LayoutModel",
     "model_module_version": "1.2.0",
     "state": {
      "_model_module": "@jupyter-widgets/base",
      "_model_module_version": "1.2.0",
      "_model_name": "LayoutModel",
      "_view_count": null,
      "_view_module": "@jupyter-widgets/base",
      "_view_module_version": "1.2.0",
      "_view_name": "LayoutView",
      "align_content": null,
      "align_items": null,
      "align_self": null,
      "border": null,
      "bottom": null,
      "display": null,
      "flex": null,
      "flex_flow": null,
      "grid_area": null,
      "grid_auto_columns": null,
      "grid_auto_flow": null,
      "grid_auto_rows": null,
      "grid_column": null,
      "grid_gap": null,
      "grid_row": null,
      "grid_template_areas": null,
      "grid_template_columns": null,
      "grid_template_rows": null,
      "height": null,
      "justify_content": null,
      "justify_items": null,
      "left": null,
      "margin": null,
      "max_height": null,
      "max_width": null,
      "min_height": null,
      "min_width": null,
      "object_fit": null,
      "object_position": null,
      "order": null,
      "overflow": null,
      "overflow_x": null,
      "overflow_y": null,
      "padding": null,
      "right": null,
      "top": null,
      "visibility": null,
      "width": null
     }
    },
    "e6fd6f031dbb4e7a8c61aa3bd54baaf6": {
     "model_module": "@jupyter-widgets/base",
     "model_name": "LayoutModel",
     "model_module_version": "1.2.0",
     "state": {
      "_model_module": "@jupyter-widgets/base",
      "_model_module_version": "1.2.0",
      "_model_name": "LayoutModel",
      "_view_count": null,
      "_view_module": "@jupyter-widgets/base",
      "_view_module_version": "1.2.0",
      "_view_name": "LayoutView",
      "align_content": null,
      "align_items": null,
      "align_self": null,
      "border": null,
      "bottom": null,
      "display": null,
      "flex": null,
      "flex_flow": null,
      "grid_area": null,
      "grid_auto_columns": null,
      "grid_auto_flow": null,
      "grid_auto_rows": null,
      "grid_column": null,
      "grid_gap": null,
      "grid_row": null,
      "grid_template_areas": null,
      "grid_template_columns": null,
      "grid_template_rows": null,
      "height": null,
      "justify_content": null,
      "justify_items": null,
      "left": null,
      "margin": null,
      "max_height": null,
      "max_width": null,
      "min_height": null,
      "min_width": null,
      "object_fit": null,
      "object_position": null,
      "order": null,
      "overflow": null,
      "overflow_x": null,
      "overflow_y": null,
      "padding": null,
      "right": null,
      "top": null,
      "visibility": null,
      "width": null
     }
    },
    "9b597496387c46e9a37bb1ba631623df": {
     "model_module": "@jupyter-widgets/controls",
     "model_name": "DescriptionStyleModel",
     "model_module_version": "1.5.0",
     "state": {
      "_model_module": "@jupyter-widgets/controls",
      "_model_module_version": "1.5.0",
      "_model_name": "DescriptionStyleModel",
      "_view_count": null,
      "_view_module": "@jupyter-widgets/base",
      "_view_module_version": "1.2.0",
      "_view_name": "StyleView",
      "description_width": ""
     }
    },
    "7643159067c942cbb46df2e79d96c260": {
     "model_module": "@jupyter-widgets/base",
     "model_name": "LayoutModel",
     "model_module_version": "1.2.0",
     "state": {
      "_model_module": "@jupyter-widgets/base",
      "_model_module_version": "1.2.0",
      "_model_name": "LayoutModel",
      "_view_count": null,
      "_view_module": "@jupyter-widgets/base",
      "_view_module_version": "1.2.0",
      "_view_name": "LayoutView",
      "align_content": null,
      "align_items": null,
      "align_self": null,
      "border": null,
      "bottom": null,
      "display": null,
      "flex": null,
      "flex_flow": null,
      "grid_area": null,
      "grid_auto_columns": null,
      "grid_auto_flow": null,
      "grid_auto_rows": null,
      "grid_column": null,
      "grid_gap": null,
      "grid_row": null,
      "grid_template_areas": null,
      "grid_template_columns": null,
      "grid_template_rows": null,
      "height": null,
      "justify_content": null,
      "justify_items": null,
      "left": null,
      "margin": null,
      "max_height": null,
      "max_width": null,
      "min_height": null,
      "min_width": null,
      "object_fit": null,
      "object_position": null,
      "order": null,
      "overflow": null,
      "overflow_x": null,
      "overflow_y": null,
      "padding": null,
      "right": null,
      "top": null,
      "visibility": null,
      "width": null
     }
    },
    "f6270eddcf7142308d624bca862fe3f7": {
     "model_module": "@jupyter-widgets/controls",
     "model_name": "ProgressStyleModel",
     "model_module_version": "1.5.0",
     "state": {
      "_model_module": "@jupyter-widgets/controls",
      "_model_module_version": "1.5.0",
      "_model_name": "ProgressStyleModel",
      "_view_count": null,
      "_view_module": "@jupyter-widgets/base",
      "_view_module_version": "1.2.0",
      "_view_name": "StyleView",
      "bar_color": null,
      "description_width": ""
     }
    },
    "84c009cd44584d319611dee3a79b4174": {
     "model_module": "@jupyter-widgets/base",
     "model_name": "LayoutModel",
     "model_module_version": "1.2.0",
     "state": {
      "_model_module": "@jupyter-widgets/base",
      "_model_module_version": "1.2.0",
      "_model_name": "LayoutModel",
      "_view_count": null,
      "_view_module": "@jupyter-widgets/base",
      "_view_module_version": "1.2.0",
      "_view_name": "LayoutView",
      "align_content": null,
      "align_items": null,
      "align_self": null,
      "border": null,
      "bottom": null,
      "display": null,
      "flex": null,
      "flex_flow": null,
      "grid_area": null,
      "grid_auto_columns": null,
      "grid_auto_flow": null,
      "grid_auto_rows": null,
      "grid_column": null,
      "grid_gap": null,
      "grid_row": null,
      "grid_template_areas": null,
      "grid_template_columns": null,
      "grid_template_rows": null,
      "height": null,
      "justify_content": null,
      "justify_items": null,
      "left": null,
      "margin": null,
      "max_height": null,
      "max_width": null,
      "min_height": null,
      "min_width": null,
      "object_fit": null,
      "object_position": null,
      "order": null,
      "overflow": null,
      "overflow_x": null,
      "overflow_y": null,
      "padding": null,
      "right": null,
      "top": null,
      "visibility": null,
      "width": null
     }
    },
    "dd97b2baf49042ab8c2cecde0d512853": {
     "model_module": "@jupyter-widgets/controls",
     "model_name": "DescriptionStyleModel",
     "model_module_version": "1.5.0",
     "state": {
      "_model_module": "@jupyter-widgets/controls",
      "_model_module_version": "1.5.0",
      "_model_name": "DescriptionStyleModel",
      "_view_count": null,
      "_view_module": "@jupyter-widgets/base",
      "_view_module_version": "1.2.0",
      "_view_name": "StyleView",
      "description_width": ""
     }
    }
   }
  }
 },
 "cells": [
  {
   "cell_type": "markdown",
   "source": [
    "# DL1 Assignment2 - Q1.1\n",
    "\n",
    "This is a small help from us to save you some coding. This notebook is **not** graded, you are free to edit it.\n",
    "\n",
    "Further advise:\n",
    "1. Start with File/Save a copy in Drive\n",
    "2. Set GPU usage under Runtime/Change runtime type/Hardware accelerator."
   ],
   "metadata": {
    "id": "Ox90Qf6N1dvr"
   }
  },
  {
   "cell_type": "code",
   "source": [
    "!pip install timm kaleido plotly"
   ],
   "metadata": {
    "colab": {
     "base_uri": "https://localhost:8080/"
    },
    "id": "Qd8iuexbuX1A",
    "outputId": "dc4b9b90-32c7-4216-c44d-c9fce5c61a5c"
   },
   "execution_count": 1,
   "outputs": [
    {
     "output_type": "stream",
     "name": "stdout",
     "text": [
      "Collecting timm\n",
      "  Downloading timm-0.9.12-py3-none-any.whl (2.2 MB)\n",
      "\u001B[2K     \u001B[90m━━━━━━━━━━━━━━━━━━━━━━━━━━━━━━━━━━━━━━━━\u001B[0m \u001B[32m2.2/2.2 MB\u001B[0m \u001B[31m27.0 MB/s\u001B[0m eta \u001B[36m0:00:00\u001B[0m\n",
      "\u001B[?25hCollecting kaleido\n",
      "  Downloading kaleido-0.2.1-py2.py3-none-manylinux1_x86_64.whl (79.9 MB)\n",
      "\u001B[2K     \u001B[90m━━━━━━━━━━━━━━━━━━━━━━━━━━━━━━━━━━━━━━━━\u001B[0m \u001B[32m79.9/79.9 MB\u001B[0m \u001B[31m11.2 MB/s\u001B[0m eta \u001B[36m0:00:00\u001B[0m\n",
      "\u001B[?25hRequirement already satisfied: torch>=1.7 in /usr/local/lib/python3.10/dist-packages (from timm) (2.1.0+cu118)\n",
      "Requirement already satisfied: torchvision in /usr/local/lib/python3.10/dist-packages (from timm) (0.16.0+cu118)\n",
      "Requirement already satisfied: pyyaml in /usr/local/lib/python3.10/dist-packages (from timm) (6.0.1)\n",
      "Requirement already satisfied: huggingface-hub in /usr/local/lib/python3.10/dist-packages (from timm) (0.19.4)\n",
      "Requirement already satisfied: safetensors in /usr/local/lib/python3.10/dist-packages (from timm) (0.4.0)\n",
      "Requirement already satisfied: filelock in /usr/local/lib/python3.10/dist-packages (from torch>=1.7->timm) (3.13.1)\n",
      "Requirement already satisfied: typing-extensions in /usr/local/lib/python3.10/dist-packages (from torch>=1.7->timm) (4.5.0)\n",
      "Requirement already satisfied: sympy in /usr/local/lib/python3.10/dist-packages (from torch>=1.7->timm) (1.12)\n",
      "Requirement already satisfied: networkx in /usr/local/lib/python3.10/dist-packages (from torch>=1.7->timm) (3.2.1)\n",
      "Requirement already satisfied: jinja2 in /usr/local/lib/python3.10/dist-packages (from torch>=1.7->timm) (3.1.2)\n",
      "Requirement already satisfied: fsspec in /usr/local/lib/python3.10/dist-packages (from torch>=1.7->timm) (2023.6.0)\n",
      "Requirement already satisfied: triton==2.1.0 in /usr/local/lib/python3.10/dist-packages (from torch>=1.7->timm) (2.1.0)\n",
      "Requirement already satisfied: requests in /usr/local/lib/python3.10/dist-packages (from huggingface-hub->timm) (2.31.0)\n",
      "Requirement already satisfied: tqdm>=4.42.1 in /usr/local/lib/python3.10/dist-packages (from huggingface-hub->timm) (4.66.1)\n",
      "Requirement already satisfied: packaging>=20.9 in /usr/local/lib/python3.10/dist-packages (from huggingface-hub->timm) (23.2)\n",
      "Requirement already satisfied: numpy in /usr/local/lib/python3.10/dist-packages (from torchvision->timm) (1.23.5)\n",
      "Requirement already satisfied: pillow!=8.3.*,>=5.3.0 in /usr/local/lib/python3.10/dist-packages (from torchvision->timm) (9.4.0)\n",
      "Requirement already satisfied: MarkupSafe>=2.0 in /usr/local/lib/python3.10/dist-packages (from jinja2->torch>=1.7->timm) (2.1.3)\n",
      "Requirement already satisfied: charset-normalizer<4,>=2 in /usr/local/lib/python3.10/dist-packages (from requests->huggingface-hub->timm) (3.3.2)\n",
      "Requirement already satisfied: idna<4,>=2.5 in /usr/local/lib/python3.10/dist-packages (from requests->huggingface-hub->timm) (3.4)\n",
      "Requirement already satisfied: urllib3<3,>=1.21.1 in /usr/local/lib/python3.10/dist-packages (from requests->huggingface-hub->timm) (2.0.7)\n",
      "Requirement already satisfied: certifi>=2017.4.17 in /usr/local/lib/python3.10/dist-packages (from requests->huggingface-hub->timm) (2023.7.22)\n",
      "Requirement already satisfied: mpmath>=0.19 in /usr/local/lib/python3.10/dist-packages (from sympy->torch>=1.7->timm) (1.3.0)\n",
      "Installing collected packages: kaleido, timm\n",
      "\u001B[31mERROR: pip's dependency resolver does not currently take into account all the packages that are installed. This behaviour is the source of the following dependency conflicts.\n",
      "lida 0.0.10 requires fastapi, which is not installed.\n",
      "lida 0.0.10 requires python-multipart, which is not installed.\n",
      "lida 0.0.10 requires uvicorn, which is not installed.\u001B[0m\u001B[31m\n",
      "\u001B[0mSuccessfully installed kaleido-0.2.1 timm-0.9.12\n"
     ]
    }
   ]
  },
  {
   "cell_type": "code",
   "execution_count": 19,
   "metadata": {
    "id": "D1viWETquNc6",
    "ExecuteTime": {
     "end_time": "2023-12-01T13:56:07.805614Z",
     "start_time": "2023-12-01T13:56:07.804112Z"
    }
   },
   "outputs": [],
   "source": [
    "import torch\n",
    "from torch import nn\n",
    "import timm\n",
    "from torchvision import models\n",
    "from matplotlib import pyplot as plt\n",
    "from typing import Callable\n",
    "# from prettytable import PrettyTable\n",
    "import numpy as np\n",
    "import pandas as pd\n",
    "from tqdm import autonotebook as tqdm\n",
    "import time\n",
    "import gc\n",
    "\n",
    "%matplotlib inline"
   ]
  },
  {
   "cell_type": "code",
   "source": [
    "def vit_s_8():\n",
    "    \"\"\"ViT-S/8 is not a default torchvision model, so we provide it by timm\"\"\"\n",
    "    # Accuracy approximation comes from\n",
    "    # https://openreview.net/pdf?id=LtKcMgGOeLt\n",
    "    # and DINO\n",
    "    # https://arxiv.org/abs/2104.14294\n",
    "    return timm.create_model('vit_small_patch8_224')\n",
    "\n",
    "# Model definitions\n",
    "# Optional Q: These are uncalled functions. What do you think would happen\n",
    "# if we called all of them once? Why didn't we do that?\n",
    "model_defs = [\n",
    "    vit_s_8,\n",
    "    models.vit_b_32,\n",
    "    models.vgg11,\n",
    "    models.vgg11_bn,\n",
    "    models.resnet18,\n",
    "    models.densenet121,\n",
    "    models.mobilenet_v3_small,\n",
    "]\n",
    "\n",
    "# Accuracies per model\n",
    "model_accs = {\n",
    "    'vit_s_8': 80., # Approximated\n",
    "    'vit_b_32' : 75.912,\n",
    "    'vgg11' : 69.02,\n",
    "    'vgg11_bn' : 70.37,\n",
    "    'resnet18' : 69.758,\n",
    "    'densenet121' : 74.434,\n",
    "    'mobilenet_v3_small' : 67.668,\n",
    "}\n",
    "\n",
    "\n",
    "def measure_runtime_per_forward(model:nn.Module, requires_grad:bool, batch_size:int=8):\n",
    "    \"\"\"Measures the time for a single pass in milliseconds\"\"\"\n",
    "\n",
    "    # Generate fake RGB input (224x224)\n",
    "    #######################\n",
    "    # PUT YOUR CODE HERE  #\n",
    "    #######################\n",
    "    device = torch.device(\"cuda\" if torch.cuda.is_available() else \"cpu\")\n",
    "    # apparently it's not enough to set requires_grad on the model, one also needs\n",
    "    # to set it on the input\n",
    "    inp = torch.rand(batch_size, 3, 224, 224)\n",
    "    inp = inp.to(device)\n",
    "    #######################\n",
    "    # END OF YOUR CODE    #\n",
    "    #######################\n",
    "\n",
    "    start = torch.cuda.Event(enable_timing=True)\n",
    "    end = torch.cuda.Event(enable_timing=True)\n",
    "    start.record()\n",
    "\n",
    "    # Run the model\n",
    "    #######################\n",
    "    # PUT YOUR CODE HERE  #\n",
    "    #######################\n",
    "\n",
    "    if requires_grad:\n",
    "        model.train() # force training mode\n",
    "        output = model.forward(inp)\n",
    "    else:\n",
    "        model.eval()\n",
    "        output = model.forward(inp)\n",
    "    #######################\n",
    "    # END OF YOUR CODE    #\n",
    "    #######################\n",
    "\n",
    "    end.record()\n",
    "    torch.cuda.synchronize()\n",
    "    return start.elapsed_time(end)\n",
    "\n",
    "\n",
    "def count_model_parameters(model, print_debug=False):\n",
    "    if print_debug:\n",
    "        table = PrettyTable([\"Modules\", \"Parameters\"])\n",
    "    total_params = 0\n",
    "    for name, parameter in model.named_parameters():\n",
    "        if not parameter.requires_grad:\n",
    "            continue\n",
    "        params = parameter.numel()\n",
    "        if print_debug:\n",
    "            table.add_row([name, params])\n",
    "        total_params += params\n",
    "    if print_debug:\n",
    "        print(table)\n",
    "        print(f\"Total Trainable Params: {total_params}\")\n",
    "    return total_params\n",
    "\n",
    "\n",
    "def filter_outliers_iqr(data, iqr_cutoff_multiplier=1.5):\n",
    "    \"\"\" Filter outliers based on the Inter-Quartile range \"\"\"\n",
    "    q25, q75 = np.percentile(data, 25), np.percentile(data, 75)\n",
    "    iqr = q75 - q25\n",
    "    cut_off = iqr * iqr_cutoff_multiplier\n",
    "    lower, upper = q25 - cut_off, q75 + cut_off\n",
    "    #outliers = [x for x in data if x < lower or x > upper]\n",
    "    inlier_mask = (lower <= data) & (data <= upper)\n",
    "    #clean_data = [x for x in data if x >= lower and x <= upper]\n",
    "    clean_data = data[inlier_mask]\n",
    "    return clean_data, inlier_mask\n",
    "\n",
    "def evaluate_model(model_def:Callable, requires_grad:bool, batch_size:int=8, n_test_batches:int=20):\n",
    "\n",
    "    # torch.cuda.reset_peak_memory_stats()\n",
    "    torch.cuda.empty_cache()\n",
    "\n",
    "    # Retreive initial memory allocation\n",
    "    initial_vram = torch.cuda.memory_allocated()\n",
    "\n",
    "    # Define model\n",
    "    model = model_def().cuda().eval()\n",
    "    # Access name as: model.__name__\n",
    "\n",
    "    # Parameters that need to be filled\n",
    "    n_params = None\n",
    "    times, vrams = [], []\n",
    "    mean_time = None\n",
    "    mean_vram = None\n",
    "\n",
    "    #######################\n",
    "    # PUT YOUR CODE HERE  #\n",
    "    #######################\n",
    "\n",
    "    # Step 1: Calculate the number of **trainable** parameters\n",
    "    n_params = count_model_parameters(model)\n",
    "    # Step 2: Warm up with a few passes\n",
    "    # Step 3: Run N forward passes and save the runtime +\n",
    "    #         the vram allocated by the model\n",
    "    for i in range(n_test_batches):\n",
    "        runtime = measure_runtime_per_forward(model, requires_grad, batch_size)\n",
    "        vram = torch.cuda.memory_allocated()\n",
    "        times.append(runtime)\n",
    "        vrams.append(vram)\n",
    "    # Step 4: Take the mean, preferably with dropping possible outliers\n",
    "    times = np.array(times)\n",
    "    inlier_times, inlier_mask = filter_outliers_iqr(times, iqr_cutoff_multiplier=1.5)\n",
    "    # print(f\"{len(inlier_times)} times kept, {len(outlier_times)} removed. {inlier_times}, {outlier_times}\")\n",
    "    times = pd.DataFrame({\"time\": times, \"inlier\": inlier_mask})\n",
    "    mean_time = np.mean(inlier_times)\n",
    "    vrams = np.array(vrams) - initial_vram\n",
    "    mean_vram = vrams.mean()\n",
    "    mean_vram /= (1024 ** 2) # convert to mb\n",
    "\n",
    "\n",
    "    #######################\n",
    "    # END OF YOUR CODE    #\n",
    "    #######################\n",
    "\n",
    "    # Clean up space for the model\n",
    "    del model\n",
    "    gc.collect()\n",
    "    time.sleep(2)\n",
    "    torch.cuda.empty_cache()\n",
    "    time.sleep(2)\n",
    "\n",
    "    return mean_time, mean_vram, n_params, times\n"
   ],
   "metadata": {
    "id": "5wwMtxyDumgb"
   },
   "execution_count": 3,
   "outputs": []
  },
  {
   "cell_type": "code",
   "source": [
    "#######################\n",
    "# PUT YOUR CODE HERE  #\n",
    "#######################\n",
    "\n",
    "\n",
    "def evaluate_models(batch_size:int=8, n_test_batches:int=20):\n",
    "    results = []\n",
    "    results_per_run = []\n",
    "    print(f\"Evaluating models with batch size {batch_size} and number of test batches {n_test_batches}\")\n",
    "    for requires_grad in tqdm.tqdm([False, True], desc=f\"With and without gradients\"):\n",
    "        for model_def in tqdm.tqdm(model_defs, desc=f\"Batch size {batch_size}, requires_grad {requires_grad}\"):\n",
    "            name = model_def.__name__\n",
    "            if requires_grad:\n",
    "                mean_time, mean_vram, n_params, all_times = evaluate_model(model_def, requires_grad=requires_grad, batch_size=batch_size, n_test_batches=n_test_batches)\n",
    "            else:\n",
    "                with torch.no_grad():\n",
    "                    mean_time, mean_vram, n_params, all_times = evaluate_model(model_def, requires_grad=requires_grad, batch_size=batch_size, n_test_batches=n_test_batches)\n",
    "            results.append({\n",
    "                \"name\": name,\n",
    "                \"top1_acc\": model_accs[name],\n",
    "                \"batch_size\": batch_size,\n",
    "                \"requires_grad\": requires_grad,\n",
    "                \"mean_time\": mean_time,\n",
    "                \"mean_vram\": mean_vram,\n",
    "                \"n_params\": n_params\n",
    "            })\n",
    "\n",
    "            for idx, time_df in all_times.iterrows():\n",
    "                results_per_run.append({\n",
    "                    \"name\": name,\n",
    "                    \"time\": time_df[\"time\"],\n",
    "                    \"inlier\": time_df[\"inlier\"],\n",
    "                    \"requires_grad\": requires_grad,\n",
    "                })\n",
    "    results_df = pd.DataFrame(results)\n",
    "    results_per_run_df = pd.DataFrame(results_per_run)\n",
    "    return results_df, results_per_run_df\n",
    "\n",
    "results_df_batch8, results_per_run_df_batch8 = evaluate_models(batch_size=8, n_test_batches=100)\n",
    "results_df_batch64, _ = evaluate_models(batch_size=64, n_test_batches=10) # only need vram usage for this, not runtime, and that doesn't really change with many executions\n",
    "#######################\n",
    "# END OF YOUR CODE    #\n",
    "#######################"
   ],
   "metadata": {
    "id": "7iUTuJH7uQqs",
    "colab": {
     "base_uri": "https://localhost:8080/",
     "height": 245,
     "referenced_widgets": [
      "69f7c37976f5418b8d3925a32a7ad7a0",
      "d9a0a67451744d148aad8eac25a6a554",
      "a8e435b86eed45ab963746c370b61816",
      "98eaf0a12a4640f895ae1b135c9421ce",
      "9c39e6989df24bd3a2841887dc6f6a9e",
      "392483eaadfa475dbf5690691e0dfa77",
      "2aeb15c184594ed99bfc4171bc9bb5a1",
      "05fc33ec9db2484d8aa52572bfa97258",
      "7363e1de40ef4b7a988d5dced15f2582",
      "a7e220b2d1574964a744d6b65b6cdc51",
      "b4dd522b5bbf499b9e9127ef98cc566f",
      "483677a05d5b457c9f2846a246054931",
      "90700a6e0d0c4a5b8d6c3755a60bc529",
      "ec88cc2efb5544f2a6ce21bd179d8161",
      "ea285b1645cb4c0bb4c9bb8de9049f27",
      "189be7c0024a498ab0bcb1e98f8fdf8d",
      "1ecc3df107ff457594cf9aaab641e99e",
      "e78bf4d6359348fda1aa4377a8d318f8",
      "7c0194082b8246ceb171916cc47b0b0c",
      "543b37e8e47f4cafa9a59cd518555d75",
      "90389810d0264c2d84ecbf93927eb65f",
      "036c3a214eda407a9e0c7b6d61da1341",
      "1bd72518b9fa44f3a8fef961053777a9",
      "a4a400c633314423a888178a147ab07b",
      "3d69ad2edeb94013a8bc70f5371cba90",
      "11dd807e5238437ebedfd41b78a72d71",
      "f70864633bd946ca9671e3ef1ee3d2ee",
      "cc3ad505158b479a9563b4115c593c13",
      "b0501b00d8514c2ab9b0b2360252bf2e",
      "1049d07605ef475c983ac3ffa6c177e0",
      "b0dd73949b54472d9fe531244053a0de",
      "efe52a9cd05b4ff181b83037e6f530bd",
      "644e89d59ea24cbc8a1067e038218d64",
      "1f82739d85a2406c88f37eff2d1a7015",
      "a2c6b58547c44de2a11e2e2bd59d4632",
      "b14767ab369d476198a16ef1ec265377",
      "d45eb338cca44e6e9a432a110f57dcb3",
      "eb848f868ee8448683f76d7a29df49be",
      "2448ee91b5124baa81fe5ecb43b61b09",
      "8134d63f6fa2468ebaf9771026b8c21c",
      "27400370ac53444f84483da95450f30b",
      "45a2f03bd1cc45188cfb407e0e254a53",
      "a6e12eae2e7c4edab8b60685c9e4d9f2",
      "44a60a42fa76496ba4b2db97e997a642",
      "32118ac8e9e341a78589b4032a1b1a43",
      "7c426fc2f0f946d69efc3c7b98d609e9",
      "9feb45b16dfc421cbb64576b9cc0a476",
      "cefd864fa73f4965bb0b2b66920d5f7a",
      "ab890f933f2a48f399fd0c9b1179076e",
      "9d9e0d07a0604cf38ef63e4ed2007ca9",
      "c69e90c84a724889950890117bfc69a4",
      "5c4232189b9f4742a775513f2f91cdf0",
      "b59ffcb6a88449c1a509c3cc88eab1c6",
      "87976eccffb54c3eb89e66abe7082794",
      "4674039e91224a9db5c03f2346eccd51",
      "0433448c8ef74704805b1af6178e3fcc",
      "107683fb028543fc92fe4cd3b2203944",
      "a27ea4e7ad504f608fad842a005f6c4e",
      "f6d4138bcbc2463eb928eb8ccc063279",
      "1dc107a3a985438b8d97fac0580b357d",
      "e6fd6f031dbb4e7a8c61aa3bd54baaf6",
      "9b597496387c46e9a37bb1ba631623df",
      "7643159067c942cbb46df2e79d96c260",
      "f6270eddcf7142308d624bca862fe3f7",
      "84c009cd44584d319611dee3a79b4174",
      "dd97b2baf49042ab8c2cecde0d512853"
     ]
    },
    "outputId": "f89caf82-0500-4501-e6c0-4c97e68cebbe"
   },
   "execution_count": 4,
   "outputs": [
    {
     "output_type": "stream",
     "name": "stdout",
     "text": [
      "Evaluating models with batch size 8 and number of test batches 100\n"
     ]
    },
    {
     "output_type": "display_data",
     "data": {
      "text/plain": [
       "With and without gradients:   0%|          | 0/2 [00:00<?, ?it/s]"
      ],
      "application/vnd.jupyter.widget-view+json": {
       "version_major": 2,
       "version_minor": 0,
       "model_id": "69f7c37976f5418b8d3925a32a7ad7a0"
      }
     },
     "metadata": {}
    },
    {
     "output_type": "display_data",
     "data": {
      "text/plain": [
       "Batch size 8, requires_grad False:   0%|          | 0/7 [00:00<?, ?it/s]"
      ],
      "application/vnd.jupyter.widget-view+json": {
       "version_major": 2,
       "version_minor": 0,
       "model_id": "483677a05d5b457c9f2846a246054931"
      }
     },
     "metadata": {}
    },
    {
     "output_type": "display_data",
     "data": {
      "text/plain": [
       "Batch size 8, requires_grad True:   0%|          | 0/7 [00:00<?, ?it/s]"
      ],
      "application/vnd.jupyter.widget-view+json": {
       "version_major": 2,
       "version_minor": 0,
       "model_id": "1bd72518b9fa44f3a8fef961053777a9"
      }
     },
     "metadata": {}
    },
    {
     "output_type": "stream",
     "name": "stdout",
     "text": [
      "Evaluating models with batch size 64 and number of test batches 10\n"
     ]
    },
    {
     "output_type": "display_data",
     "data": {
      "text/plain": [
       "With and without gradients:   0%|          | 0/2 [00:00<?, ?it/s]"
      ],
      "application/vnd.jupyter.widget-view+json": {
       "version_major": 2,
       "version_minor": 0,
       "model_id": "1f82739d85a2406c88f37eff2d1a7015"
      }
     },
     "metadata": {}
    },
    {
     "output_type": "display_data",
     "data": {
      "text/plain": [
       "Batch size 64, requires_grad False:   0%|          | 0/7 [00:00<?, ?it/s]"
      ],
      "application/vnd.jupyter.widget-view+json": {
       "version_major": 2,
       "version_minor": 0,
       "model_id": "32118ac8e9e341a78589b4032a1b1a43"
      }
     },
     "metadata": {}
    },
    {
     "output_type": "display_data",
     "data": {
      "text/plain": [
       "Batch size 64, requires_grad True:   0%|          | 0/7 [00:00<?, ?it/s]"
      ],
      "application/vnd.jupyter.widget-view+json": {
       "version_major": 2,
       "version_minor": 0,
       "model_id": "0433448c8ef74704805b1af6178e3fcc"
      }
     },
     "metadata": {}
    }
   ]
  },
  {
   "cell_type": "code",
   "execution_count": 5,
   "outputs": [],
   "source": [
    "# Save results before plotting, to at least have the numbers even if the plotly package is missing\n",
    "results_df_batch8.to_csv(\"results_df_batch8.csv\")\n",
    "results_per_run_df_batch8.to_csv(\"results_per_run_df_batch8.csv\")\n",
    "results_df_batch64.to_csv(\"results_df_batch64.csv\")"
   ],
   "metadata": {
    "id": "Th6otMYbAHc4"
   }
  },
  {
   "cell_type": "code",
   "source": [
    "\n",
    "results_df_batch8 = pd.read_csv(\"results_profiling/results_df_batch8.csv\")\n",
    "results_per_run_df_batch8 = pd.read_csv(\"results_profiling/results_per_run_df_batch8.csv\")\n",
    "results_df_batch64 = pd.read_csv(\"results_profiling/results_df_batch64.csv\")"
   ],
   "metadata": {
    "id": "Au4vImQsjyld",
    "ExecuteTime": {
     "end_time": "2023-12-01T13:56:15.495697Z",
     "start_time": "2023-12-01T13:56:15.485746Z"
    }
   },
   "execution_count": 20,
   "outputs": []
  },
  {
   "cell_type": "code",
   "source": [
    "import plotly.express as px\n",
    "import plotly.io as pio\n",
    "pio.templates.default = \"plotly\"\n",
    "\n",
    "# labels for all plots\n",
    "labels={\n",
    "        \"time\": \"Elapsed time per sample (ms)\",\n",
    "        \"mean_time\": \"Elapsed time per sample (ms)\",\n",
    "        \"n_params\": \"Number of model parameters\",\n",
    "        \"top1_acc\": \"Top1 accuracy of model on ImageNet (%)\",\n",
    "        \"name\": \"Model name\",\n",
    "        \"mean_vram\": \"Amount of VRAM used during forward pass (MB)\",\n",
    "        \"requires_grad\": \"Require gradients\"\n",
    "    }\n",
    "\n",
    "import os\n",
    "os.makedirs(\"../plots\", exist_ok=True)"
   ],
   "metadata": {
    "id": "VpIrV9DJR-_z",
    "ExecuteTime": {
     "end_time": "2023-12-01T14:04:05.671508Z",
     "start_time": "2023-12-01T14:04:05.654731Z"
    }
   },
   "execution_count": 24,
   "outputs": []
  },
  {
   "cell_type": "code",
   "source": [
    "\n",
    "fig = px.box(\n",
    "    results_per_run_df_batch8.sort_values(\"name\").query(\"inlier == True\"),\n",
    "    x=\"name\",\n",
    "    y=\"time\",\n",
    "    # color=\"inlier\",\n",
    "    color=\"requires_grad\",\n",
    "    #facet_row=\"inlier\",\n",
    "    labels=labels,\n",
    "    title=\"Runtimes per model\",\n",
    "    width=1400,\n",
    "    height=500\n",
    ")\n",
    "\n",
    "fig.show()\n",
    "fig.write_image('../plots/q11_runtime_per_model_per_run.png')"
   ],
   "metadata": {
    "colab": {
     "base_uri": "https://localhost:8080/",
     "height": 537
    },
    "id": "KoXuhGvqxflj",
    "outputId": "7dac1b9b-2935-4dd5-dcd4-83e883f6e3b9",
    "ExecuteTime": {
     "end_time": "2023-12-01T14:04:06.998526Z",
     "start_time": "2023-12-01T14:04:06.797319Z"
    }
   },
   "execution_count": 25,
   "outputs": [
    {
     "data": {
      "application/vnd.plotly.v1+json": {
       "data": [
        {
         "alignmentgroup": "True",
         "hovertemplate": "Require gradients=True<br>Model name=%{x}<br>Elapsed time per sample (ms)=%{y}<extra></extra>",
         "legendgroup": "True",
         "marker": {
          "color": "#636efa"
         },
         "name": "True",
         "notched": false,
         "offsetgroup": "True",
         "orientation": "v",
         "showlegend": true,
         "x": [
          "densenet121",
          "densenet121",
          "densenet121",
          "densenet121",
          "densenet121",
          "densenet121",
          "densenet121",
          "densenet121",
          "densenet121",
          "densenet121",
          "densenet121",
          "densenet121",
          "densenet121",
          "densenet121",
          "densenet121",
          "densenet121",
          "densenet121",
          "densenet121",
          "densenet121",
          "densenet121",
          "densenet121",
          "densenet121",
          "densenet121",
          "densenet121",
          "densenet121",
          "densenet121",
          "densenet121",
          "densenet121",
          "densenet121",
          "densenet121",
          "densenet121",
          "densenet121",
          "densenet121",
          "densenet121",
          "densenet121",
          "densenet121",
          "densenet121",
          "densenet121",
          "densenet121",
          "densenet121",
          "densenet121",
          "densenet121",
          "densenet121",
          "densenet121",
          "densenet121",
          "densenet121",
          "densenet121",
          "densenet121",
          "densenet121",
          "densenet121",
          "densenet121",
          "densenet121",
          "densenet121",
          "densenet121",
          "densenet121",
          "densenet121",
          "densenet121",
          "densenet121",
          "densenet121",
          "densenet121",
          "densenet121",
          "densenet121",
          "densenet121",
          "densenet121",
          "densenet121",
          "densenet121",
          "densenet121",
          "densenet121",
          "densenet121",
          "densenet121",
          "densenet121",
          "densenet121",
          "densenet121",
          "densenet121",
          "densenet121",
          "densenet121",
          "densenet121",
          "densenet121",
          "densenet121",
          "densenet121",
          "densenet121",
          "densenet121",
          "densenet121",
          "densenet121",
          "densenet121",
          "densenet121",
          "densenet121",
          "densenet121",
          "densenet121",
          "densenet121",
          "densenet121",
          "densenet121",
          "densenet121",
          "densenet121",
          "densenet121",
          "densenet121",
          "densenet121",
          "densenet121",
          "densenet121",
          "densenet121",
          "mobilenet_v3_small",
          "mobilenet_v3_small",
          "mobilenet_v3_small",
          "mobilenet_v3_small",
          "mobilenet_v3_small",
          "mobilenet_v3_small",
          "mobilenet_v3_small",
          "mobilenet_v3_small",
          "mobilenet_v3_small",
          "mobilenet_v3_small",
          "mobilenet_v3_small",
          "mobilenet_v3_small",
          "mobilenet_v3_small",
          "mobilenet_v3_small",
          "mobilenet_v3_small",
          "mobilenet_v3_small",
          "mobilenet_v3_small",
          "mobilenet_v3_small",
          "mobilenet_v3_small",
          "mobilenet_v3_small",
          "mobilenet_v3_small",
          "mobilenet_v3_small",
          "mobilenet_v3_small",
          "mobilenet_v3_small",
          "mobilenet_v3_small",
          "mobilenet_v3_small",
          "mobilenet_v3_small",
          "mobilenet_v3_small",
          "mobilenet_v3_small",
          "mobilenet_v3_small",
          "mobilenet_v3_small",
          "mobilenet_v3_small",
          "mobilenet_v3_small",
          "mobilenet_v3_small",
          "mobilenet_v3_small",
          "mobilenet_v3_small",
          "mobilenet_v3_small",
          "mobilenet_v3_small",
          "mobilenet_v3_small",
          "mobilenet_v3_small",
          "mobilenet_v3_small",
          "mobilenet_v3_small",
          "mobilenet_v3_small",
          "mobilenet_v3_small",
          "mobilenet_v3_small",
          "mobilenet_v3_small",
          "mobilenet_v3_small",
          "mobilenet_v3_small",
          "mobilenet_v3_small",
          "mobilenet_v3_small",
          "mobilenet_v3_small",
          "mobilenet_v3_small",
          "mobilenet_v3_small",
          "mobilenet_v3_small",
          "mobilenet_v3_small",
          "mobilenet_v3_small",
          "mobilenet_v3_small",
          "mobilenet_v3_small",
          "mobilenet_v3_small",
          "mobilenet_v3_small",
          "mobilenet_v3_small",
          "mobilenet_v3_small",
          "mobilenet_v3_small",
          "mobilenet_v3_small",
          "mobilenet_v3_small",
          "mobilenet_v3_small",
          "mobilenet_v3_small",
          "mobilenet_v3_small",
          "mobilenet_v3_small",
          "mobilenet_v3_small",
          "mobilenet_v3_small",
          "mobilenet_v3_small",
          "mobilenet_v3_small",
          "mobilenet_v3_small",
          "mobilenet_v3_small",
          "mobilenet_v3_small",
          "mobilenet_v3_small",
          "mobilenet_v3_small",
          "mobilenet_v3_small",
          "mobilenet_v3_small",
          "mobilenet_v3_small",
          "mobilenet_v3_small",
          "mobilenet_v3_small",
          "mobilenet_v3_small",
          "mobilenet_v3_small",
          "mobilenet_v3_small",
          "mobilenet_v3_small",
          "mobilenet_v3_small",
          "mobilenet_v3_small",
          "mobilenet_v3_small",
          "mobilenet_v3_small",
          "mobilenet_v3_small",
          "mobilenet_v3_small",
          "resnet18",
          "resnet18",
          "resnet18",
          "resnet18",
          "resnet18",
          "resnet18",
          "resnet18",
          "resnet18",
          "resnet18",
          "resnet18",
          "resnet18",
          "resnet18",
          "resnet18",
          "resnet18",
          "resnet18",
          "resnet18",
          "resnet18",
          "resnet18",
          "resnet18",
          "resnet18",
          "resnet18",
          "resnet18",
          "resnet18",
          "resnet18",
          "resnet18",
          "resnet18",
          "resnet18",
          "resnet18",
          "resnet18",
          "resnet18",
          "resnet18",
          "resnet18",
          "resnet18",
          "resnet18",
          "resnet18",
          "resnet18",
          "resnet18",
          "resnet18",
          "resnet18",
          "resnet18",
          "resnet18",
          "resnet18",
          "resnet18",
          "resnet18",
          "resnet18",
          "resnet18",
          "resnet18",
          "resnet18",
          "resnet18",
          "resnet18",
          "resnet18",
          "resnet18",
          "resnet18",
          "resnet18",
          "resnet18",
          "resnet18",
          "resnet18",
          "resnet18",
          "resnet18",
          "resnet18",
          "resnet18",
          "resnet18",
          "resnet18",
          "resnet18",
          "resnet18",
          "resnet18",
          "resnet18",
          "resnet18",
          "resnet18",
          "resnet18",
          "resnet18",
          "resnet18",
          "resnet18",
          "resnet18",
          "resnet18",
          "resnet18",
          "resnet18",
          "resnet18",
          "resnet18",
          "resnet18",
          "resnet18",
          "vgg11",
          "vgg11",
          "vgg11",
          "vgg11",
          "vgg11",
          "vgg11",
          "vgg11",
          "vgg11",
          "vgg11",
          "vgg11",
          "vgg11",
          "vgg11",
          "vgg11",
          "vgg11",
          "vgg11",
          "vgg11",
          "vgg11",
          "vgg11",
          "vgg11",
          "vgg11",
          "vgg11",
          "vgg11",
          "vgg11",
          "vgg11",
          "vgg11",
          "vgg11",
          "vgg11",
          "vgg11",
          "vgg11",
          "vgg11",
          "vgg11",
          "vgg11",
          "vgg11",
          "vgg11",
          "vgg11",
          "vgg11",
          "vgg11",
          "vgg11",
          "vgg11",
          "vgg11",
          "vgg11",
          "vgg11",
          "vgg11",
          "vgg11",
          "vgg11",
          "vgg11",
          "vgg11",
          "vgg11",
          "vgg11",
          "vgg11",
          "vgg11",
          "vgg11",
          "vgg11",
          "vgg11",
          "vgg11",
          "vgg11",
          "vgg11",
          "vgg11",
          "vgg11",
          "vgg11",
          "vgg11",
          "vgg11",
          "vgg11",
          "vgg11",
          "vgg11",
          "vgg11",
          "vgg11",
          "vgg11",
          "vgg11",
          "vgg11",
          "vgg11",
          "vgg11",
          "vgg11",
          "vgg11",
          "vgg11",
          "vgg11",
          "vgg11",
          "vgg11",
          "vgg11",
          "vgg11",
          "vgg11",
          "vgg11",
          "vgg11",
          "vgg11",
          "vgg11",
          "vgg11",
          "vgg11",
          "vgg11",
          "vgg11",
          "vgg11",
          "vgg11",
          "vgg11",
          "vgg11",
          "vgg11_bn",
          "vgg11_bn",
          "vgg11_bn",
          "vgg11_bn",
          "vgg11_bn",
          "vgg11_bn",
          "vgg11_bn",
          "vgg11_bn",
          "vgg11_bn",
          "vgg11_bn",
          "vgg11_bn",
          "vgg11_bn",
          "vgg11_bn",
          "vgg11_bn",
          "vgg11_bn",
          "vgg11_bn",
          "vgg11_bn",
          "vgg11_bn",
          "vgg11_bn",
          "vgg11_bn",
          "vgg11_bn",
          "vgg11_bn",
          "vgg11_bn",
          "vgg11_bn",
          "vgg11_bn",
          "vgg11_bn",
          "vgg11_bn",
          "vgg11_bn",
          "vgg11_bn",
          "vgg11_bn",
          "vgg11_bn",
          "vgg11_bn",
          "vgg11_bn",
          "vgg11_bn",
          "vgg11_bn",
          "vgg11_bn",
          "vgg11_bn",
          "vgg11_bn",
          "vgg11_bn",
          "vgg11_bn",
          "vgg11_bn",
          "vgg11_bn",
          "vgg11_bn",
          "vgg11_bn",
          "vgg11_bn",
          "vgg11_bn",
          "vgg11_bn",
          "vgg11_bn",
          "vgg11_bn",
          "vgg11_bn",
          "vgg11_bn",
          "vgg11_bn",
          "vgg11_bn",
          "vgg11_bn",
          "vgg11_bn",
          "vgg11_bn",
          "vgg11_bn",
          "vgg11_bn",
          "vgg11_bn",
          "vgg11_bn",
          "vgg11_bn",
          "vgg11_bn",
          "vgg11_bn",
          "vgg11_bn",
          "vgg11_bn",
          "vgg11_bn",
          "vgg11_bn",
          "vgg11_bn",
          "vgg11_bn",
          "vgg11_bn",
          "vgg11_bn",
          "vgg11_bn",
          "vgg11_bn",
          "vgg11_bn",
          "vgg11_bn",
          "vgg11_bn",
          "vgg11_bn",
          "vgg11_bn",
          "vgg11_bn",
          "vgg11_bn",
          "vgg11_bn",
          "vgg11_bn",
          "vgg11_bn",
          "vgg11_bn",
          "vgg11_bn",
          "vgg11_bn",
          "vgg11_bn",
          "vgg11_bn",
          "vgg11_bn",
          "vit_b_32",
          "vit_b_32",
          "vit_b_32",
          "vit_b_32",
          "vit_b_32",
          "vit_b_32",
          "vit_b_32",
          "vit_b_32",
          "vit_b_32",
          "vit_b_32",
          "vit_b_32",
          "vit_b_32",
          "vit_b_32",
          "vit_b_32",
          "vit_b_32",
          "vit_b_32",
          "vit_b_32",
          "vit_b_32",
          "vit_b_32",
          "vit_b_32",
          "vit_b_32",
          "vit_b_32",
          "vit_b_32",
          "vit_b_32",
          "vit_b_32",
          "vit_b_32",
          "vit_b_32",
          "vit_b_32",
          "vit_b_32",
          "vit_b_32",
          "vit_b_32",
          "vit_b_32",
          "vit_b_32",
          "vit_b_32",
          "vit_b_32",
          "vit_b_32",
          "vit_b_32",
          "vit_b_32",
          "vit_b_32",
          "vit_b_32",
          "vit_b_32",
          "vit_b_32",
          "vit_b_32",
          "vit_b_32",
          "vit_b_32",
          "vit_b_32",
          "vit_b_32",
          "vit_b_32",
          "vit_b_32",
          "vit_b_32",
          "vit_b_32",
          "vit_b_32",
          "vit_b_32",
          "vit_b_32",
          "vit_b_32",
          "vit_b_32",
          "vit_b_32",
          "vit_b_32",
          "vit_b_32",
          "vit_b_32",
          "vit_b_32",
          "vit_b_32",
          "vit_b_32",
          "vit_b_32",
          "vit_b_32",
          "vit_b_32",
          "vit_b_32",
          "vit_b_32",
          "vit_b_32",
          "vit_b_32",
          "vit_b_32",
          "vit_b_32",
          "vit_b_32",
          "vit_b_32",
          "vit_b_32",
          "vit_b_32",
          "vit_b_32",
          "vit_b_32",
          "vit_b_32",
          "vit_b_32",
          "vit_b_32",
          "vit_b_32",
          "vit_b_32",
          "vit_b_32",
          "vit_b_32",
          "vit_b_32",
          "vit_b_32",
          "vit_b_32",
          "vit_b_32",
          "vit_b_32",
          "vit_b_32",
          "vit_b_32",
          "vit_b_32",
          "vit_b_32",
          "vit_b_32",
          "vit_s_8",
          "vit_s_8",
          "vit_s_8",
          "vit_s_8",
          "vit_s_8",
          "vit_s_8",
          "vit_s_8",
          "vit_s_8",
          "vit_s_8",
          "vit_s_8",
          "vit_s_8",
          "vit_s_8",
          "vit_s_8",
          "vit_s_8",
          "vit_s_8",
          "vit_s_8",
          "vit_s_8",
          "vit_s_8",
          "vit_s_8",
          "vit_s_8",
          "vit_s_8",
          "vit_s_8",
          "vit_s_8",
          "vit_s_8",
          "vit_s_8",
          "vit_s_8",
          "vit_s_8",
          "vit_s_8",
          "vit_s_8",
          "vit_s_8",
          "vit_s_8",
          "vit_s_8",
          "vit_s_8",
          "vit_s_8",
          "vit_s_8",
          "vit_s_8",
          "vit_s_8",
          "vit_s_8",
          "vit_s_8",
          "vit_s_8",
          "vit_s_8",
          "vit_s_8",
          "vit_s_8",
          "vit_s_8",
          "vit_s_8",
          "vit_s_8",
          "vit_s_8",
          "vit_s_8",
          "vit_s_8",
          "vit_s_8",
          "vit_s_8",
          "vit_s_8",
          "vit_s_8",
          "vit_s_8",
          "vit_s_8",
          "vit_s_8",
          "vit_s_8",
          "vit_s_8",
          "vit_s_8",
          "vit_s_8",
          "vit_s_8",
          "vit_s_8",
          "vit_s_8",
          "vit_s_8",
          "vit_s_8",
          "vit_s_8",
          "vit_s_8",
          "vit_s_8",
          "vit_s_8",
          "vit_s_8",
          "vit_s_8",
          "vit_s_8",
          "vit_s_8",
          "vit_s_8",
          "vit_s_8",
          "vit_s_8",
          "vit_s_8",
          "vit_s_8",
          "vit_s_8",
          "vit_s_8",
          "vit_s_8",
          "vit_s_8",
          "vit_s_8",
          "vit_s_8",
          "vit_s_8",
          "vit_s_8",
          "vit_s_8",
          "vit_s_8",
          "vit_s_8",
          "vit_s_8",
          "vit_s_8",
          "vit_s_8",
          "vit_s_8",
          "vit_s_8",
          "vit_s_8",
          "vit_s_8",
          "vit_s_8",
          "vit_s_8",
          "vit_s_8"
         ],
         "x0": " ",
         "xaxis": "x",
         "y": [
          39.06639862060547,
          36.42854309082031,
          39.22380828857422,
          39.9815673828125,
          38.65974426269531,
          40.05680084228516,
          34.89936065673828,
          36.88105773925781,
          33.47315216064453,
          37.32550430297852,
          34.271297454833984,
          39.86739349365234,
          37.442848205566406,
          40.981632232666016,
          39.47865676879883,
          39.1761589050293,
          36.381343841552734,
          41.46847915649414,
          48.87139129638672,
          40.29718399047852,
          41.222686767578125,
          43.65289688110352,
          37.24367904663086,
          45.625823974609375,
          44.516414642333984,
          25.9003849029541,
          34.99305725097656,
          28.528255462646484,
          27.694175720214844,
          25.90153694152832,
          26.995359420776367,
          27.89187240600586,
          28.61507225036621,
          27.80931282043457,
          27.923999786376957,
          28.0380802154541,
          27.870399475097656,
          26.319360733032227,
          26.191743850708008,
          26.447519302368164,
          26.148191452026367,
          28.577856063842773,
          25.52403259277344,
          27.620288848876957,
          31.49123191833496,
          37.45318222045898,
          38.34329605102539,
          39.747745513916016,
          35.82505416870117,
          39.84195327758789,
          40.22431945800781,
          36.94831848144531,
          38.32355117797852,
          33.73356628417969,
          36.05670547485352,
          43.56675338745117,
          43.556095123291016,
          44.82998275756836,
          27.6682243347168,
          27.001855850219727,
          27.67862319946289,
          27.37718391418457,
          27.699487686157227,
          28.03900718688965,
          27.874624252319336,
          42.60979080200195,
          42.70937728881836,
          42.789249420166016,
          42.66960144042969,
          42.62988662719727,
          36.13497543334961,
          36.52191925048828,
          41.29049682617188,
          37.87052917480469,
          35.92262268066406,
          39.44047927856445,
          37.65817642211914,
          46.742977142333984,
          37.46124649047852,
          34.66307067871094,
          37.588287353515625,
          32.640350341796875,
          38.40412902832031,
          32.40969467163086,
          28.845823287963867,
          37.00931167602539,
          43.70483016967773,
          36.76758575439453,
          39.21795272827149,
          35.189056396484375,
          38.60073471069336,
          33.916831970214844,
          36.039039611816406,
          38.0997428894043,
          33.56143951416016,
          38.99750518798828,
          32.77033615112305,
          27.684064865112305,
          41.36150360107422,
          27.99407958984375,
          8.778079986572266,
          8.51734447479248,
          8.642560005187988,
          9.724127769470217,
          9.402751922607422,
          9.178336143493652,
          8.586175918579102,
          9.06704044342041,
          9.071871757507324,
          9.44662380218506,
          9.051775932312012,
          9.33199977874756,
          9.587295532226562,
          9.294015884399414,
          9.047103881835938,
          9.145888328552246,
          8.757280349731445,
          9.193344116210938,
          9.89523220062256,
          10.265600204467772,
          10.744288444519045,
          9.5481595993042,
          9.430815696716309,
          9.760128021240234,
          9.127552032470703,
          9.32630443572998,
          8.65004825592041,
          8.751551628112793,
          9.227295875549316,
          8.672479629516602,
          8.585536003112793,
          9.171168327331545,
          9.374719619750977,
          9.330816268920898,
          9.42470359802246,
          10.28105640411377,
          10.68553638458252,
          9.802016258239746,
          9.762880325317385,
          9.628064155578612,
          10.23737621307373,
          10.012672424316406,
          9.17859172821045,
          9.186880111694336,
          9.145919799804688,
          9.84659194946289,
          10.821439743041992,
          8.538944244384766,
          10.04742431640625,
          9.369600296020508,
          9.119711875915527,
          9.192704200744627,
          9.260064125061035,
          8.798591613769531,
          8.541184425354004,
          8.687616348266602,
          9.368672370910645,
          9.016063690185549,
          8.647520065307617,
          9.01859188079834,
          8.80303955078125,
          8.842975616455078,
          8.860320091247559,
          9.00774383544922,
          9.82639980316162,
          8.895071983337402,
          9.239583969116213,
          9.72380828857422,
          9.576416015625,
          8.550496101379395,
          8.63696002960205,
          8.625439643859863,
          8.452832221984863,
          8.485055923461914,
          8.615903854370117,
          8.528608322143555,
          8.7293119430542,
          8.66211223602295,
          10.11577606201172,
          10.534111976623535,
          9.09228801727295,
          9.490943908691406,
          9.245216369628906,
          8.740832328796387,
          9.50483226776123,
          8.433856010437012,
          9.023455619812012,
          9.512191772460938,
          9.212736129760742,
          9.171456336975098,
          8.672160148620605,
          9.252384185791016,
          8.784159660339355,
          8.58176040649414,
          8.568127632141113,
          8.396320343017578,
          8.431903839111328,
          8.370944023132324,
          8.382528305053711,
          8.389856338500977,
          8.441408157348633,
          8.48739242553711,
          8.931360244750977,
          8.313216209411621,
          8.317055702209473,
          8.378144264221191,
          8.46076774597168,
          8.559871673583984,
          8.453472137451172,
          8.655936241149902,
          8.283807754516602,
          8.356063842773438,
          8.34496021270752,
          8.442367553710938,
          8.346272468566895,
          8.532256126403809,
          8.363231658935547,
          8.30515193939209,
          8.702752113342285,
          8.426336288452148,
          8.292608261108398,
          8.346207618713379,
          8.371552467346191,
          8.478048324584961,
          8.520447731018066,
          8.363072395324707,
          8.377504348754883,
          8.421343803405762,
          8.485440254211426,
          8.595423698425293,
          9.085503578186035,
          8.435551643371582,
          8.359583854675293,
          8.364128112792969,
          8.44752025604248,
          8.522272109985352,
          8.738719940185547,
          8.512351989746094,
          8.375007629394531,
          8.492735862731934,
          8.401151657104492,
          8.330880165100098,
          8.370495796203613,
          9.214048385620115,
          9.224831581115724,
          9.250240325927734,
          10.070048332214355,
          9.245280265808104,
          9.208895683288574,
          9.117471694946287,
          9.09609603881836,
          8.350591659545898,
          8.495072364807129,
          8.624480247497559,
          8.629119873046875,
          8.45638370513916,
          8.529472351074219,
          8.304479598999023,
          8.367487907409668,
          8.635040283203125,
          8.327424049377441,
          8.518624305725098,
          8.3571195602417,
          8.41215991973877,
          8.538080215454102,
          8.466848373413086,
          8.320992469787598,
          8.315296173095703,
          8.377280235290527,
          9.118656158447266,
          9.122912406921388,
          9.13856029510498,
          9.113823890686035,
          8.470879554748535,
          24.752063751220703,
          25.12553596496582,
          25.24287986755371,
          24.906784057617188,
          25.13267135620117,
          24.808576583862305,
          24.91164779663086,
          24.922527313232425,
          25.34841537475586,
          26.15862464904785,
          25.51296043395996,
          26.52630424499512,
          26.077472686767575,
          25.31839942932129,
          25.84012794494629,
          25.668607711791992,
          25.416704177856445,
          25.44147109985352,
          25.873632431030277,
          25.4466552734375,
          25.455135345458984,
          25.25859260559082,
          26.282304763793945,
          25.173376083374023,
          27.02556800842285,
          25.50563240051269,
          25.02137565612793,
          25.51193618774414,
          26.463712692260746,
          26.453887939453125,
          25.541919708251957,
          25.466880798339844,
          26.34499168395996,
          26.328832626342773,
          25.703968048095703,
          25.84720039367676,
          25.383935928344727,
          25.67859268188477,
          25.862688064575195,
          27.079647064208984,
          26.184160232543945,
          25.249408721923828,
          25.997312545776367,
          25.44550323486328,
          25.52390480041504,
          25.09523200988769,
          26.551359176635746,
          25.85273551940918,
          25.69808006286621,
          24.890047073364254,
          24.85113525390625,
          24.72380828857422,
          24.530912399291992,
          24.67587280273437,
          24.74022483825684,
          24.67737579345703,
          24.774112701416016,
          24.800512313842773,
          24.90307235717773,
          24.641151428222656,
          24.59926414489746,
          26.092287063598636,
          25.83718490600586,
          25.41407966613769,
          25.312000274658203,
          25.5993595123291,
          25.79462432861328,
          25.53395271301269,
          24.97113609313965,
          24.843551635742188,
          24.84592056274414,
          24.83247947692871,
          24.742752075195312,
          24.667648315429688,
          24.857120513916016,
          24.922016143798828,
          25.0710391998291,
          25.34060859680176,
          25.560800552368164,
          25.21417617797852,
          25.351776123046875,
          25.355712890625,
          25.34934425354004,
          25.23744010925293,
          25.117088317871094,
          25.389087677001957,
          25.630847930908203,
          25.51260757446289,
          25.630464553833008,
          25.36505508422852,
          25.4902400970459,
          25.884639739990234,
          26.627840042114254,
          28.87068748474121,
          28.62384033203125,
          28.24592018127441,
          29.360095977783203,
          28.43155288696289,
          28.72060775756836,
          28.7872314453125,
          28.626527786254883,
          28.45321655273437,
          28.36627197265625,
          29.28518486022949,
          28.28169631958008,
          28.32332801818848,
          28.756895065307617,
          29.4172477722168,
          30.25267219543457,
          30.407968521118164,
          29.65686416625977,
          29.41865539550781,
          28.485151290893555,
          28.89571189880371,
          28.304128646850582,
          28.5199031829834,
          28.42921638488769,
          29.213184356689453,
          28.852832794189453,
          28.56681632995605,
          29.020160675048828,
          28.986143112182617,
          28.42470359802246,
          28.46252822875977,
          28.338239669799805,
          28.42233657836914,
          28.807615280151367,
          28.45171165466309,
          28.290048599243164,
          28.42470359802246,
          28.79692840576172,
          28.46294403076172,
          28.53036880493164,
          28.454591751098636,
          28.60518455505371,
          28.28156852722168,
          28.42048072814941,
          28.321727752685547,
          29.36041641235352,
          28.58902359008789,
          29.1312313079834,
          28.47721672058105,
          28.21376037597656,
          27.76838493347168,
          27.452096939086918,
          27.47952079772949,
          27.58118438720703,
          29.76176071166992,
          28.991743087768555,
          28.663679122924805,
          28.51737594604492,
          29.044607162475582,
          29.127424240112305,
          29.195392608642575,
          29.51440048217773,
          30.231103897094727,
          27.453311920166016,
          28.993728637695312,
          27.31222343444824,
          28.527263641357425,
          27.908960342407227,
          27.45199966430664,
          28.24470329284668,
          27.884767532348636,
          28.37126350402832,
          28.406879425048828,
          28.76134490966797,
          29.23395156860352,
          29.673311233520508,
          30.3703670501709,
          29.75187110900879,
          29.570528030395508,
          29.57481575012207,
          28.99456024169922,
          28.197120666503903,
          27.77827262878418,
          28.382272720336918,
          27.93692779541016,
          28.288000106811523,
          28.13113594055176,
          28.900127410888672,
          28.177152633666992,
          21.62908744812012,
          21.15510368347168,
          22.99043273925781,
          21.084096908569336,
          23.22732734680176,
          21.07254409790039,
          22.456640243530277,
          20.92518424987793,
          22.057151794433597,
          21.030784606933597,
          21.603296279907227,
          20.951583862304688,
          20.690656661987305,
          23.221088409423828,
          21.24595260620117,
          21.61798477172852,
          22.9866886138916,
          20.902816772460938,
          22.922143936157227,
          20.967775344848636,
          22.341087341308597,
          21.66281509399414,
          21.45657539367676,
          20.5067195892334,
          22.4105281829834,
          21.33344078063965,
          21.44739151000977,
          21.01561546325684,
          22.36505508422852,
          22.44899177551269,
          22.371103286743164,
          22.12377548217773,
          21.932863235473636,
          22.05561637878418,
          20.604671478271484,
          23.268320083618164,
          21.17436790466309,
          23.19366455078125,
          21.32134437561035,
          22.84726333618164,
          21.01372718811035,
          22.30463981628418,
          21.490175247192383,
          20.985727310180664,
          22.868576049804688,
          21.055871963500977,
          20.76140785217285,
          22.33679962158203,
          21.072799682617188,
          21.955007553100582,
          21.56608009338379,
          21.85187149047852,
          22.56489562988281,
          20.87958335876465,
          23.0784969329834,
          22.353984832763672,
          22.981184005737305,
          21.077856063842773,
          21.63580894470215,
          21.0416316986084,
          21.61846351623535,
          22.23379135131836,
          20.59174346923828,
          22.407615661621094,
          20.51171112060547,
          23.17100715637207,
          21.15657615661621,
          22.786176681518555,
          21.14614486694336,
          23.183744430541992,
          21.22876739501953,
          22.088224411010746,
          22.705856323242188,
          21.669919967651367,
          20.882015228271484,
          22.76905632019043,
          21.1812801361084,
          22.96188735961914,
          20.955711364746094,
          21.092607498168945,
          21.5947208404541,
          21.693023681640625,
          20.63235282897949,
          22.223487854003903,
          20.852991104125977,
          21.98502349853516,
          21.27964782714844,
          22.048799514770508,
          20.9583683013916,
          22.95008087158203,
          21.56908798217773,
          23.373855590820312,
          20.964319229125977,
          22.737567901611328,
          21.20800018310547,
          105.98729705810548,
          109.0964126586914,
          110.1740493774414,
          110.13683319091795,
          110.03977966308594,
          108.18460845947266,
          106.94662475585938,
          107.02870178222656,
          106.62723541259766,
          108.46665954589844,
          107.93440246582033,
          106.49791717529295,
          109.13849639892578,
          109.5274887084961,
          112.28047943115234,
          105.68029022216795,
          109.13337707519533,
          109.10572814941406,
          108.5250244140625,
          106.7640609741211,
          109.16639709472656,
          109.10809326171876,
          110.73257446289062,
          109.77558135986328,
          107.35833740234376,
          109.61222076416016,
          109.01187133789062,
          108.2698211669922,
          106.74166107177734,
          108.37014770507812,
          108.834716796875,
          107.8457260131836,
          108.63072204589844,
          110.28358459472656,
          111.04450988769533,
          109.2867202758789,
          108.57081604003906,
          108.46460723876952,
          110.053955078125,
          108.61382293701172,
          107.95760345458984,
          109.7543716430664,
          111.17900848388672,
          110.35247802734376,
          109.17715454101562,
          107.6798095703125,
          108.76576232910156,
          108.18502044677734,
          106.47039794921876,
          107.35081481933594,
          108.98371124267578,
          108.07673645019533,
          104.28316497802734,
          105.24614715576172,
          104.21234893798828,
          105.43500518798828,
          104.2968978881836,
          104.82300567626952,
          104.8835220336914,
          105.43917083740234,
          103.86892700195312,
          104.09699249267578,
          104.90771484375,
          104.67542266845705,
          105.43801879882812,
          105.91462707519533,
          106.08576202392578,
          105.95648193359376,
          105.5863037109375,
          104.65225219726562,
          106.5169906616211,
          108.38841247558594,
          108.71984100341795,
          105.04969787597656,
          105.2676773071289,
          104.62866973876952,
          104.41712188720705,
          107.51103973388672,
          106.74172973632812,
          113.56822204589844,
          109.27513885498048,
          108.56329345703124,
          107.42729949951172,
          106.57839965820312,
          109.80390167236328,
          106.5648956298828,
          108.88566589355467,
          108.71292877197266,
          107.20166778564452,
          105.74944305419922,
          104.29011535644533,
          105.34684753417967,
          105.8703384399414,
          104.82345581054688,
          105.03510284423828,
          105.75308990478516,
          105.31590270996094,
          106.26306915283205,
          106.58726501464844
         ],
         "y0": " ",
         "yaxis": "y",
         "type": "box"
        },
        {
         "alignmentgroup": "True",
         "hovertemplate": "Require gradients=False<br>Model name=%{x}<br>Elapsed time per sample (ms)=%{y}<extra></extra>",
         "legendgroup": "False",
         "marker": {
          "color": "#EF553B"
         },
         "name": "False",
         "notched": false,
         "offsetgroup": "False",
         "orientation": "v",
         "showlegend": true,
         "x": [
          "densenet121",
          "densenet121",
          "densenet121",
          "densenet121",
          "densenet121",
          "densenet121",
          "densenet121",
          "densenet121",
          "densenet121",
          "densenet121",
          "densenet121",
          "densenet121",
          "densenet121",
          "densenet121",
          "densenet121",
          "densenet121",
          "densenet121",
          "densenet121",
          "densenet121",
          "densenet121",
          "densenet121",
          "densenet121",
          "densenet121",
          "densenet121",
          "densenet121",
          "densenet121",
          "densenet121",
          "densenet121",
          "densenet121",
          "densenet121",
          "densenet121",
          "densenet121",
          "densenet121",
          "densenet121",
          "densenet121",
          "densenet121",
          "densenet121",
          "densenet121",
          "densenet121",
          "densenet121",
          "densenet121",
          "densenet121",
          "densenet121",
          "densenet121",
          "densenet121",
          "densenet121",
          "densenet121",
          "densenet121",
          "densenet121",
          "densenet121",
          "densenet121",
          "densenet121",
          "densenet121",
          "densenet121",
          "densenet121",
          "densenet121",
          "densenet121",
          "densenet121",
          "densenet121",
          "densenet121",
          "densenet121",
          "densenet121",
          "densenet121",
          "densenet121",
          "densenet121",
          "densenet121",
          "densenet121",
          "densenet121",
          "densenet121",
          "densenet121",
          "densenet121",
          "densenet121",
          "densenet121",
          "densenet121",
          "densenet121",
          "densenet121",
          "densenet121",
          "densenet121",
          "densenet121",
          "densenet121",
          "densenet121",
          "densenet121",
          "densenet121",
          "densenet121",
          "densenet121",
          "densenet121",
          "densenet121",
          "densenet121",
          "densenet121",
          "densenet121",
          "densenet121",
          "densenet121",
          "densenet121",
          "densenet121",
          "mobilenet_v3_small",
          "mobilenet_v3_small",
          "mobilenet_v3_small",
          "mobilenet_v3_small",
          "mobilenet_v3_small",
          "mobilenet_v3_small",
          "mobilenet_v3_small",
          "mobilenet_v3_small",
          "mobilenet_v3_small",
          "mobilenet_v3_small",
          "mobilenet_v3_small",
          "mobilenet_v3_small",
          "mobilenet_v3_small",
          "mobilenet_v3_small",
          "mobilenet_v3_small",
          "mobilenet_v3_small",
          "mobilenet_v3_small",
          "mobilenet_v3_small",
          "mobilenet_v3_small",
          "mobilenet_v3_small",
          "mobilenet_v3_small",
          "mobilenet_v3_small",
          "mobilenet_v3_small",
          "mobilenet_v3_small",
          "mobilenet_v3_small",
          "mobilenet_v3_small",
          "mobilenet_v3_small",
          "mobilenet_v3_small",
          "mobilenet_v3_small",
          "mobilenet_v3_small",
          "mobilenet_v3_small",
          "mobilenet_v3_small",
          "mobilenet_v3_small",
          "mobilenet_v3_small",
          "mobilenet_v3_small",
          "mobilenet_v3_small",
          "mobilenet_v3_small",
          "mobilenet_v3_small",
          "mobilenet_v3_small",
          "mobilenet_v3_small",
          "mobilenet_v3_small",
          "mobilenet_v3_small",
          "mobilenet_v3_small",
          "mobilenet_v3_small",
          "mobilenet_v3_small",
          "mobilenet_v3_small",
          "mobilenet_v3_small",
          "mobilenet_v3_small",
          "mobilenet_v3_small",
          "mobilenet_v3_small",
          "mobilenet_v3_small",
          "mobilenet_v3_small",
          "mobilenet_v3_small",
          "mobilenet_v3_small",
          "mobilenet_v3_small",
          "mobilenet_v3_small",
          "mobilenet_v3_small",
          "mobilenet_v3_small",
          "mobilenet_v3_small",
          "mobilenet_v3_small",
          "mobilenet_v3_small",
          "mobilenet_v3_small",
          "mobilenet_v3_small",
          "mobilenet_v3_small",
          "mobilenet_v3_small",
          "mobilenet_v3_small",
          "mobilenet_v3_small",
          "mobilenet_v3_small",
          "mobilenet_v3_small",
          "mobilenet_v3_small",
          "mobilenet_v3_small",
          "mobilenet_v3_small",
          "mobilenet_v3_small",
          "mobilenet_v3_small",
          "mobilenet_v3_small",
          "mobilenet_v3_small",
          "mobilenet_v3_small",
          "mobilenet_v3_small",
          "mobilenet_v3_small",
          "mobilenet_v3_small",
          "mobilenet_v3_small",
          "mobilenet_v3_small",
          "mobilenet_v3_small",
          "mobilenet_v3_small",
          "mobilenet_v3_small",
          "mobilenet_v3_small",
          "mobilenet_v3_small",
          "mobilenet_v3_small",
          "mobilenet_v3_small",
          "mobilenet_v3_small",
          "mobilenet_v3_small",
          "mobilenet_v3_small",
          "mobilenet_v3_small",
          "resnet18",
          "resnet18",
          "resnet18",
          "resnet18",
          "resnet18",
          "resnet18",
          "resnet18",
          "resnet18",
          "resnet18",
          "resnet18",
          "resnet18",
          "resnet18",
          "resnet18",
          "resnet18",
          "resnet18",
          "resnet18",
          "resnet18",
          "resnet18",
          "resnet18",
          "resnet18",
          "resnet18",
          "resnet18",
          "resnet18",
          "resnet18",
          "resnet18",
          "resnet18",
          "resnet18",
          "resnet18",
          "resnet18",
          "resnet18",
          "resnet18",
          "resnet18",
          "resnet18",
          "resnet18",
          "resnet18",
          "resnet18",
          "resnet18",
          "resnet18",
          "resnet18",
          "resnet18",
          "resnet18",
          "resnet18",
          "resnet18",
          "resnet18",
          "resnet18",
          "resnet18",
          "resnet18",
          "resnet18",
          "resnet18",
          "resnet18",
          "resnet18",
          "resnet18",
          "resnet18",
          "resnet18",
          "resnet18",
          "resnet18",
          "resnet18",
          "resnet18",
          "resnet18",
          "resnet18",
          "resnet18",
          "resnet18",
          "resnet18",
          "resnet18",
          "resnet18",
          "resnet18",
          "resnet18",
          "resnet18",
          "resnet18",
          "resnet18",
          "resnet18",
          "resnet18",
          "resnet18",
          "resnet18",
          "resnet18",
          "resnet18",
          "resnet18",
          "resnet18",
          "resnet18",
          "resnet18",
          "resnet18",
          "resnet18",
          "resnet18",
          "resnet18",
          "resnet18",
          "vgg11",
          "vgg11",
          "vgg11",
          "vgg11",
          "vgg11",
          "vgg11",
          "vgg11",
          "vgg11",
          "vgg11",
          "vgg11",
          "vgg11",
          "vgg11",
          "vgg11",
          "vgg11",
          "vgg11",
          "vgg11",
          "vgg11",
          "vgg11",
          "vgg11",
          "vgg11",
          "vgg11",
          "vgg11",
          "vgg11",
          "vgg11",
          "vgg11",
          "vgg11",
          "vgg11",
          "vgg11",
          "vgg11",
          "vgg11",
          "vgg11",
          "vgg11",
          "vgg11",
          "vgg11",
          "vgg11",
          "vgg11",
          "vgg11",
          "vgg11",
          "vgg11",
          "vgg11",
          "vgg11",
          "vgg11",
          "vgg11",
          "vgg11",
          "vgg11",
          "vgg11",
          "vgg11",
          "vgg11",
          "vgg11",
          "vgg11",
          "vgg11",
          "vgg11",
          "vgg11",
          "vgg11",
          "vgg11",
          "vgg11",
          "vgg11",
          "vgg11",
          "vgg11",
          "vgg11",
          "vgg11",
          "vgg11",
          "vgg11",
          "vgg11",
          "vgg11",
          "vgg11",
          "vgg11",
          "vgg11",
          "vgg11",
          "vgg11",
          "vgg11",
          "vgg11",
          "vgg11",
          "vgg11",
          "vgg11",
          "vgg11",
          "vgg11",
          "vgg11",
          "vgg11",
          "vgg11",
          "vgg11",
          "vgg11",
          "vgg11",
          "vgg11",
          "vgg11",
          "vgg11",
          "vgg11",
          "vgg11",
          "vgg11",
          "vgg11",
          "vgg11",
          "vgg11_bn",
          "vgg11_bn",
          "vgg11_bn",
          "vgg11_bn",
          "vgg11_bn",
          "vgg11_bn",
          "vgg11_bn",
          "vgg11_bn",
          "vgg11_bn",
          "vgg11_bn",
          "vgg11_bn",
          "vgg11_bn",
          "vgg11_bn",
          "vgg11_bn",
          "vgg11_bn",
          "vgg11_bn",
          "vgg11_bn",
          "vgg11_bn",
          "vgg11_bn",
          "vgg11_bn",
          "vgg11_bn",
          "vgg11_bn",
          "vgg11_bn",
          "vgg11_bn",
          "vgg11_bn",
          "vgg11_bn",
          "vgg11_bn",
          "vgg11_bn",
          "vgg11_bn",
          "vgg11_bn",
          "vgg11_bn",
          "vgg11_bn",
          "vgg11_bn",
          "vgg11_bn",
          "vgg11_bn",
          "vgg11_bn",
          "vgg11_bn",
          "vgg11_bn",
          "vgg11_bn",
          "vgg11_bn",
          "vgg11_bn",
          "vgg11_bn",
          "vgg11_bn",
          "vgg11_bn",
          "vgg11_bn",
          "vgg11_bn",
          "vgg11_bn",
          "vgg11_bn",
          "vgg11_bn",
          "vgg11_bn",
          "vgg11_bn",
          "vgg11_bn",
          "vgg11_bn",
          "vgg11_bn",
          "vgg11_bn",
          "vgg11_bn",
          "vgg11_bn",
          "vgg11_bn",
          "vgg11_bn",
          "vgg11_bn",
          "vgg11_bn",
          "vgg11_bn",
          "vgg11_bn",
          "vgg11_bn",
          "vgg11_bn",
          "vgg11_bn",
          "vgg11_bn",
          "vgg11_bn",
          "vgg11_bn",
          "vgg11_bn",
          "vgg11_bn",
          "vgg11_bn",
          "vgg11_bn",
          "vgg11_bn",
          "vgg11_bn",
          "vgg11_bn",
          "vgg11_bn",
          "vgg11_bn",
          "vgg11_bn",
          "vgg11_bn",
          "vgg11_bn",
          "vgg11_bn",
          "vgg11_bn",
          "vgg11_bn",
          "vgg11_bn",
          "vgg11_bn",
          "vgg11_bn",
          "vgg11_bn",
          "vgg11_bn",
          "vgg11_bn",
          "vgg11_bn",
          "vgg11_bn",
          "vit_b_32",
          "vit_b_32",
          "vit_b_32",
          "vit_b_32",
          "vit_b_32",
          "vit_b_32",
          "vit_b_32",
          "vit_b_32",
          "vit_b_32",
          "vit_b_32",
          "vit_b_32",
          "vit_b_32",
          "vit_b_32",
          "vit_b_32",
          "vit_b_32",
          "vit_b_32",
          "vit_b_32",
          "vit_b_32",
          "vit_b_32",
          "vit_b_32",
          "vit_b_32",
          "vit_b_32",
          "vit_b_32",
          "vit_b_32",
          "vit_b_32",
          "vit_b_32",
          "vit_b_32",
          "vit_b_32",
          "vit_b_32",
          "vit_b_32",
          "vit_b_32",
          "vit_b_32",
          "vit_b_32",
          "vit_b_32",
          "vit_b_32",
          "vit_b_32",
          "vit_b_32",
          "vit_b_32",
          "vit_b_32",
          "vit_b_32",
          "vit_b_32",
          "vit_b_32",
          "vit_b_32",
          "vit_b_32",
          "vit_b_32",
          "vit_b_32",
          "vit_b_32",
          "vit_b_32",
          "vit_b_32",
          "vit_b_32",
          "vit_b_32",
          "vit_b_32",
          "vit_b_32",
          "vit_b_32",
          "vit_b_32",
          "vit_b_32",
          "vit_b_32",
          "vit_b_32",
          "vit_b_32",
          "vit_b_32",
          "vit_b_32",
          "vit_b_32",
          "vit_b_32",
          "vit_b_32",
          "vit_b_32",
          "vit_b_32",
          "vit_b_32",
          "vit_b_32",
          "vit_b_32",
          "vit_b_32",
          "vit_b_32",
          "vit_b_32",
          "vit_b_32",
          "vit_b_32",
          "vit_b_32",
          "vit_b_32",
          "vit_b_32",
          "vit_b_32",
          "vit_b_32",
          "vit_b_32",
          "vit_b_32",
          "vit_b_32",
          "vit_b_32",
          "vit_b_32",
          "vit_b_32",
          "vit_b_32",
          "vit_b_32",
          "vit_b_32",
          "vit_b_32",
          "vit_b_32",
          "vit_b_32",
          "vit_b_32",
          "vit_b_32",
          "vit_b_32",
          "vit_s_8",
          "vit_s_8",
          "vit_s_8",
          "vit_s_8",
          "vit_s_8",
          "vit_s_8",
          "vit_s_8",
          "vit_s_8",
          "vit_s_8",
          "vit_s_8",
          "vit_s_8",
          "vit_s_8",
          "vit_s_8",
          "vit_s_8",
          "vit_s_8",
          "vit_s_8",
          "vit_s_8",
          "vit_s_8",
          "vit_s_8",
          "vit_s_8",
          "vit_s_8",
          "vit_s_8",
          "vit_s_8",
          "vit_s_8",
          "vit_s_8",
          "vit_s_8",
          "vit_s_8",
          "vit_s_8",
          "vit_s_8",
          "vit_s_8",
          "vit_s_8",
          "vit_s_8",
          "vit_s_8",
          "vit_s_8",
          "vit_s_8",
          "vit_s_8",
          "vit_s_8",
          "vit_s_8",
          "vit_s_8",
          "vit_s_8",
          "vit_s_8",
          "vit_s_8",
          "vit_s_8",
          "vit_s_8",
          "vit_s_8",
          "vit_s_8",
          "vit_s_8",
          "vit_s_8",
          "vit_s_8",
          "vit_s_8",
          "vit_s_8",
          "vit_s_8",
          "vit_s_8",
          "vit_s_8",
          "vit_s_8",
          "vit_s_8",
          "vit_s_8",
          "vit_s_8",
          "vit_s_8",
          "vit_s_8",
          "vit_s_8",
          "vit_s_8",
          "vit_s_8",
          "vit_s_8",
          "vit_s_8",
          "vit_s_8",
          "vit_s_8",
          "vit_s_8",
          "vit_s_8",
          "vit_s_8",
          "vit_s_8",
          "vit_s_8",
          "vit_s_8",
          "vit_s_8",
          "vit_s_8",
          "vit_s_8",
          "vit_s_8",
          "vit_s_8",
          "vit_s_8",
          "vit_s_8",
          "vit_s_8",
          "vit_s_8",
          "vit_s_8",
          "vit_s_8",
          "vit_s_8",
          "vit_s_8",
          "vit_s_8"
         ],
         "x0": " ",
         "xaxis": "x",
         "y": [
          26.731264114379883,
          23.566015243530277,
          23.594751358032227,
          23.29007911682129,
          23.63974380493164,
          23.204063415527344,
          23.48681640625,
          23.152223587036133,
          23.450048446655277,
          23.442432403564453,
          23.584640502929688,
          23.963775634765625,
          23.55001640319824,
          24.264095306396484,
          23.64780807495117,
          23.92166328430176,
          23.54956817626953,
          23.43939208984375,
          23.463520050048828,
          27.24176025390625,
          23.43603134155273,
          23.27071952819824,
          23.839744567871094,
          23.662687301635746,
          23.55299186706543,
          27.92806434631348,
          26.825056076049805,
          26.69868850708008,
          26.440128326416016,
          26.43155288696289,
          26.3427848815918,
          23.78704071044922,
          24.21504020690918,
          23.35369682312012,
          24.239072799682617,
          23.63945579528809,
          23.09363174438477,
          23.74435234069824,
          23.56559944152832,
          23.21683120727539,
          23.763391494750977,
          23.607295989990234,
          23.95795249938965,
          23.51923179626465,
          23.286304473876957,
          23.52435111999512,
          23.713247299194336,
          28.720928192138672,
          26.156639099121094,
          27.91247940063477,
          25.33878326416016,
          27.21968078613281,
          24.768224716186523,
          30.784832000732425,
          24.26896095275879,
          32.897953033447266,
          25.156768798828125,
          27.131776809692383,
          24.600032806396484,
          26.438304901123047,
          24.616287231445312,
          24.708959579467773,
          25.51865577697754,
          24.461503982543945,
          26.8939208984375,
          27.531679153442383,
          24.53366470336914,
          24.042015075683597,
          26.786624908447266,
          28.212608337402344,
          30.8559684753418,
          23.90588760375977,
          23.551328659057617,
          24.105119705200195,
          23.481151580810547,
          23.68262481689453,
          23.783008575439453,
          23.29360008239746,
          23.76527976989746,
          30.691904067993164,
          25.236127853393555,
          29.49648094177246,
          24.40547180175781,
          29.83350372314453,
          27.435935974121094,
          30.72854423522949,
          31.82310485839844,
          29.16383934020996,
          29.96713638305664,
          26.387487411499023,
          28.915552139282227,
          32.41507339477539,
          27.90851211547852,
          31.0503044128418,
          6.794015884399414,
          6.565599918365479,
          6.45468807220459,
          6.613152027130127,
          6.835072040557861,
          7.235904216766357,
          6.714687824249268,
          6.928031921386719,
          6.610432147979736,
          7.016448020935059,
          6.238207817077637,
          6.977312088012695,
          7.19865608215332,
          7.21830415725708,
          7.128608226776123,
          7.232895851135254,
          7.33292818069458,
          6.988063812255859,
          7.772128105163574,
          6.163072109222412,
          6.887423992156982,
          6.991968154907227,
          7.077568054199219,
          6.988927841186523,
          6.710400104522705,
          7.167840003967285,
          6.4390082359313965,
          6.131392002105713,
          6.576767921447754,
          6.164031982421875,
          6.4934401512146,
          6.354976177215576,
          6.333727836608887,
          6.451615810394287,
          6.176095962524414,
          6.35206413269043,
          6.538080215454102,
          7.322720050811768,
          6.384672164916992,
          6.582623958587647,
          6.940864086151123,
          6.672095775604248,
          6.430528163909912,
          6.926688194274902,
          6.78656005859375,
          7.053919792175293,
          7.209856033325195,
          6.67955207824707,
          6.64083194732666,
          6.886144161224365,
          6.851935863494873,
          6.908895969390869,
          6.615583896636963,
          7.145023822784424,
          6.792704105377197,
          6.799615859985352,
          7.35203218460083,
          7.620736122131348,
          8.097536087036133,
          6.984864234924316,
          7.037087917327881,
          6.658112049102783,
          6.895967960357666,
          6.8924479484558105,
          7.688576221466064,
          7.197120189666748,
          7.28604793548584,
          7.201056003570557,
          7.353856086730957,
          7.477183818817139,
          7.228096008300781,
          7.199168205261231,
          7.761472225189209,
          7.235551834106445,
          7.177760124206543,
          6.723840236663818,
          6.622015953063965,
          7.695487976074219,
          6.765791893005371,
          6.654143810272217,
          6.986368179321289,
          6.86297607421875,
          7.422751903533935,
          7.709695816040039,
          7.581696033477783,
          7.602367877960205,
          6.567296028137207,
          6.5839362144470215,
          7.141215801239014,
          6.64793586730957,
          6.332159996032715,
          6.856383800506592,
          7.2570881843566895,
          8.192992210388184,
          7.968512058258057,
          7.979072093963623,
          8.040703773498535,
          8.083935737609863,
          8.124671936035156,
          7.933599948883057,
          7.991936206817627,
          7.996543884277344,
          7.977952003479004,
          8.067487716674805,
          8.247808456420898,
          8.142175674438477,
          7.996223926544189,
          8.0982084274292,
          7.984288215637207,
          7.998591899871826,
          8.213791847229004,
          8.107647895812988,
          7.974656105041504,
          7.972479820251465,
          8.05907154083252,
          8.046815872192383,
          8.00489616394043,
          8.025440216064453,
          7.941664218902588,
          7.949503898620605,
          7.944896221160889,
          7.958176136016846,
          8.034496307373047,
          8.092927932739258,
          7.946976184844971,
          8.044575691223145,
          8.149503707885742,
          7.985087871551514,
          8.030943870544434,
          8.004799842834473,
          8.0164155960083,
          8.003647804260254,
          8.042304039001465,
          8.133055686950684,
          8.114944458007812,
          8.096960067749023,
          8.186495780944824,
          7.990079879760742,
          7.914112091064453,
          8.013855934143066,
          7.963071823120117,
          7.956319808959961,
          8.032511711120605,
          8.006688117980957,
          10.3821439743042,
          10.417183876037598,
          10.452287673950195,
          10.364959716796877,
          10.453408241271973,
          10.304351806640623,
          10.334464073181152,
          8.052543640136719,
          10.420191764831545,
          10.541407585144045,
          8.85308837890625,
          10.352031707763672,
          7.98140811920166,
          8.008000373840332,
          8.02841567993164,
          8.014431953430176,
          8.071136474609375,
          7.969471931457519,
          8.01632022857666,
          8.05891227722168,
          8.203424453735352,
          8.013376235961914,
          7.8937602043151855,
          8.644576072692871,
          8.454943656921387,
          8.801183700561523,
          8.785599708557129,
          8.927264213562012,
          8.828736305236816,
          8.737119674682617,
          8.695072174072266,
          8.697376251220703,
          8.648351669311523,
          8.798015594482422,
          25.00649642944336,
          24.930463790893555,
          25.376192092895508,
          25.267072677612305,
          25.922048568725582,
          25.82908821105957,
          25.655296325683597,
          25.483871459960938,
          25.177215576171875,
          25.24300765991211,
          25.14886474609375,
          25.300256729125977,
          24.98918342590332,
          25.134336471557617,
          24.97327995300293,
          24.947519302368164,
          24.917984008789062,
          25.09190368652344,
          25.165184020996094,
          25.15385627746582,
          24.926048278808597,
          24.92380714416504,
          24.74095916748047,
          25.856416702270508,
          25.9116153717041,
          25.358720779418945,
          25.54508781433105,
          24.55193519592285,
          24.50111961364746,
          24.68332862854004,
          24.688383102416992,
          24.730592727661133,
          24.77516746520996,
          25.010656356811523,
          24.666719436645508,
          26.517728805541992,
          24.736928939819336,
          24.72889518737793,
          24.979551315307617,
          24.83945655822754,
          24.797536849975582,
          24.66304016113281,
          24.77235221862793,
          25.653919219970703,
          25.77779197692871,
          26.01315116882324,
          24.941280364990234,
          24.489599227905277,
          25.624351501464844,
          25.079456329345703,
          26.088672637939453,
          25.08697509765625,
          25.543231964111328,
          25.928512573242188,
          24.925567626953125,
          25.38640022277832,
          26.5565128326416,
          25.477951049804688,
          24.94095993041992,
          25.81862449645996,
          26.143199920654297,
          26.193504333496094,
          25.417503356933597,
          26.479135513305664,
          24.72652816772461,
          25.04735946655273,
          25.169023513793945,
          26.686399459838867,
          25.58451271057129,
          24.709983825683597,
          24.877216339111328,
          24.94924736022949,
          24.817407608032227,
          24.77424049377441,
          24.742816925048828,
          24.904544830322266,
          24.724000930786133,
          24.721599578857425,
          24.86444854736328,
          24.893280029296875,
          25.4323844909668,
          25.15632057189941,
          25.409215927124023,
          26.630815505981445,
          25.524288177490234,
          25.178720474243164,
          26.320640563964844,
          25.630943298339844,
          24.85443115234375,
          25.940128326416016,
          25.29587173461914,
          27.31648063659668,
          27.59440040588379,
          27.92825508117676,
          28.490528106689453,
          27.910720825195312,
          27.114879608154297,
          27.36911964416504,
          27.825664520263672,
          28.31465530395508,
          28.40127944946289,
          27.69375991821289,
          27.074655532836918,
          27.540864944458008,
          28.1596794128418,
          28.97212791442871,
          28.23580741882324,
          27.346399307250977,
          27.49113655090332,
          28.137279510498047,
          28.93475151062012,
          28.077152252197266,
          27.17750358581543,
          27.51903915405273,
          27.02092742919922,
          27.60051155090332,
          28.466976165771484,
          27.732479095458984,
          27.24847984313965,
          28.14998435974121,
          28.880128860473636,
          27.439647674560547,
          28.014080047607425,
          27.01100730895996,
          27.913856506347656,
          28.719520568847656,
          28.15737533569336,
          27.514080047607425,
          27.138399124145508,
          27.299903869628903,
          28.248031616210938,
          28.91312026977539,
          28.30441665649414,
          27.12246322631836,
          27.85887908935547,
          27.39638328552246,
          27.82054328918457,
          28.74700736999512,
          28.12150382995605,
          27.399232864379883,
          27.33817672729492,
          28.201696395874023,
          28.799264907836918,
          28.05120086669922,
          27.38217544555664,
          27.01923179626465,
          27.565887451171875,
          28.337984085083008,
          28.641056060791016,
          28.02992057800293,
          27.36534309387207,
          27.1430721282959,
          28.03734397888184,
          29.129568099975582,
          28.323680877685547,
          27.57868766784668,
          27.57811164855957,
          27.4050235748291,
          27.72300720214844,
          28.272768020629883,
          28.38636779785156,
          27.71548843383789,
          27.06547164916992,
          27.498687744140625,
          28.15414428710937,
          28.548736572265625,
          27.626144409179688,
          26.968320846557617,
          27.530176162719727,
          27.950464248657227,
          28.1484489440918,
          28.514528274536133,
          27.848255157470703,
          26.97603225708008,
          27.264095306396484,
          28.18278312683105,
          28.57571220397949,
          27.509504318237305,
          26.706655502319336,
          27.16057586669922,
          28.194175720214844,
          28.877439498901367,
          28.60281562805176,
          20.95052719116211,
          18.928096771240234,
          21.314847946166992,
          19.08316802978516,
          20.313312530517575,
          20.648191452026367,
          19.704256057739254,
          21.48038482666016,
          20.31760025024414,
          21.203487396240234,
          20.812255859375,
          18.988000869750977,
          20.071168899536133,
          19.689247131347656,
          20.90265655517578,
          19.647968292236328,
          21.47657585144043,
          19.151456832885746,
          20.52188873291016,
          20.19590377807617,
          19.70787239074707,
          20.56249618530273,
          19.070144653320312,
          21.195743560791016,
          19.575424194335938,
          19.19443130493164,
          19.830368041992188,
          21.199583053588867,
          19.381248474121094,
          21.393856048583984,
          19.77660751342773,
          21.79542350769043,
          19.0262393951416,
          20.7710075378418,
          19.503904342651367,
          20.23951911926269,
          20.76755142211914,
          20.26576042175293,
          21.858400344848636,
          19.18707275390625,
          21.208511352539062,
          19.26777648925781,
          20.66815948486328,
          19.29680061340332,
          19.800031661987305,
          20.82304000854492,
          21.79199981689453,
          19.19411277770996,
          18.8842887878418,
          19.766176223754883,
          19.4553279876709,
          17.612415313720703,
          19.4607048034668,
          19.12009620666504,
          19.76668739318848,
          17.814624786376953,
          19.085664749145508,
          19.990976333618164,
          18.269216537475582,
          18.69891166687012,
          18.08937644958496,
          17.837663650512695,
          21.76236724853516,
          21.53699111938477,
          22.275487899780277,
          22.040672302246094,
          22.267168045043945,
          19.420799255371094,
          18.248096466064453,
          18.82195281982422,
          20.991872787475582,
          19.567615509033203,
          21.892831802368164,
          19.22713661193848,
          20.89801597595215,
          19.01798439025879,
          19.58780860900879,
          21.143552780151367,
          20.380992889404297,
          21.775903701782227,
          19.25641632080078,
          21.318431854248047,
          19.17027282714844,
          20.306495666503903,
          20.67024040222168,
          19.332672119140625,
          21.38912010192871,
          20.15340805053711,
          21.744672775268555,
          19.151264190673828,
          20.924991607666016,
          19.23116874694824,
          21.293088912963867,
          19.743423461914062,
          102.9164810180664,
          101.05913543701172,
          103.0455322265625,
          100.96697235107422,
          103.74317169189452,
          103.3311996459961,
          101.22434997558594,
          102.6081314086914,
          101.66770935058594,
          105.25033569335938,
          102.16928100585938,
          100.58879852294922,
          102.53475189208984,
          105.27302551269533,
          106.59766387939452,
          105.0379867553711,
          106.70745849609376,
          102.60447692871094,
          103.95030212402344,
          99.91645050048828,
          104.6024932861328,
          104.54271697998048,
          103.95216369628906,
          102.80140686035156,
          102.81209564208984,
          103.9483871459961,
          103.0723876953125,
          104.21485137939452,
          103.39794921875,
          99.90518188476562,
          104.1470718383789,
          103.55430603027344,
          103.39379119873048,
          102.51993560791016,
          102.62854766845705,
          103.27648162841795,
          103.57123565673828,
          104.23209381103516,
          104.3272933959961,
          103.23190307617188,
          103.44579315185548,
          103.07218933105467,
          103.61138916015624,
          104.15936279296876,
          106.32157135009766,
          102.68473815917967,
          104.46771240234376,
          106.2298583984375,
          102.6937255859375,
          105.8589096069336,
          105.7506866455078,
          105.64710235595705,
          105.29849243164062,
          104.0769271850586,
          101.6509780883789,
          105.36185455322266,
          103.8387222290039,
          102.23577880859376,
          104.61840057373048,
          105.72166442871094,
          105.0580825805664,
          103.90204620361328,
          104.9339828491211,
          102.29519653320312,
          103.2701416015625,
          103.19859313964844,
          102.92095947265624,
          103.52022552490234,
          103.55443572998048,
          104.3285140991211,
          103.57154846191406,
          103.86361694335938,
          102.20537567138672,
          103.63961791992188,
          104.01209259033205,
          103.19625854492188,
          102.88674926757812,
          103.01859283447266,
          103.97007751464844,
          102.44032287597656,
          101.8297882080078,
          103.74944305419922,
          102.77362823486328,
          104.73939514160156,
          103.50211334228516,
          102.83055877685548,
          104.04988861083984
         ],
         "y0": " ",
         "yaxis": "y",
         "type": "box"
        }
       ],
       "layout": {
        "template": {
         "data": {
          "histogram2dcontour": [
           {
            "type": "histogram2dcontour",
            "colorbar": {
             "outlinewidth": 0,
             "ticks": ""
            },
            "colorscale": [
             [
              0.0,
              "#0d0887"
             ],
             [
              0.1111111111111111,
              "#46039f"
             ],
             [
              0.2222222222222222,
              "#7201a8"
             ],
             [
              0.3333333333333333,
              "#9c179e"
             ],
             [
              0.4444444444444444,
              "#bd3786"
             ],
             [
              0.5555555555555556,
              "#d8576b"
             ],
             [
              0.6666666666666666,
              "#ed7953"
             ],
             [
              0.7777777777777778,
              "#fb9f3a"
             ],
             [
              0.8888888888888888,
              "#fdca26"
             ],
             [
              1.0,
              "#f0f921"
             ]
            ]
           }
          ],
          "choropleth": [
           {
            "type": "choropleth",
            "colorbar": {
             "outlinewidth": 0,
             "ticks": ""
            }
           }
          ],
          "histogram2d": [
           {
            "type": "histogram2d",
            "colorbar": {
             "outlinewidth": 0,
             "ticks": ""
            },
            "colorscale": [
             [
              0.0,
              "#0d0887"
             ],
             [
              0.1111111111111111,
              "#46039f"
             ],
             [
              0.2222222222222222,
              "#7201a8"
             ],
             [
              0.3333333333333333,
              "#9c179e"
             ],
             [
              0.4444444444444444,
              "#bd3786"
             ],
             [
              0.5555555555555556,
              "#d8576b"
             ],
             [
              0.6666666666666666,
              "#ed7953"
             ],
             [
              0.7777777777777778,
              "#fb9f3a"
             ],
             [
              0.8888888888888888,
              "#fdca26"
             ],
             [
              1.0,
              "#f0f921"
             ]
            ]
           }
          ],
          "heatmap": [
           {
            "type": "heatmap",
            "colorbar": {
             "outlinewidth": 0,
             "ticks": ""
            },
            "colorscale": [
             [
              0.0,
              "#0d0887"
             ],
             [
              0.1111111111111111,
              "#46039f"
             ],
             [
              0.2222222222222222,
              "#7201a8"
             ],
             [
              0.3333333333333333,
              "#9c179e"
             ],
             [
              0.4444444444444444,
              "#bd3786"
             ],
             [
              0.5555555555555556,
              "#d8576b"
             ],
             [
              0.6666666666666666,
              "#ed7953"
             ],
             [
              0.7777777777777778,
              "#fb9f3a"
             ],
             [
              0.8888888888888888,
              "#fdca26"
             ],
             [
              1.0,
              "#f0f921"
             ]
            ]
           }
          ],
          "heatmapgl": [
           {
            "type": "heatmapgl",
            "colorbar": {
             "outlinewidth": 0,
             "ticks": ""
            },
            "colorscale": [
             [
              0.0,
              "#0d0887"
             ],
             [
              0.1111111111111111,
              "#46039f"
             ],
             [
              0.2222222222222222,
              "#7201a8"
             ],
             [
              0.3333333333333333,
              "#9c179e"
             ],
             [
              0.4444444444444444,
              "#bd3786"
             ],
             [
              0.5555555555555556,
              "#d8576b"
             ],
             [
              0.6666666666666666,
              "#ed7953"
             ],
             [
              0.7777777777777778,
              "#fb9f3a"
             ],
             [
              0.8888888888888888,
              "#fdca26"
             ],
             [
              1.0,
              "#f0f921"
             ]
            ]
           }
          ],
          "contourcarpet": [
           {
            "type": "contourcarpet",
            "colorbar": {
             "outlinewidth": 0,
             "ticks": ""
            }
           }
          ],
          "contour": [
           {
            "type": "contour",
            "colorbar": {
             "outlinewidth": 0,
             "ticks": ""
            },
            "colorscale": [
             [
              0.0,
              "#0d0887"
             ],
             [
              0.1111111111111111,
              "#46039f"
             ],
             [
              0.2222222222222222,
              "#7201a8"
             ],
             [
              0.3333333333333333,
              "#9c179e"
             ],
             [
              0.4444444444444444,
              "#bd3786"
             ],
             [
              0.5555555555555556,
              "#d8576b"
             ],
             [
              0.6666666666666666,
              "#ed7953"
             ],
             [
              0.7777777777777778,
              "#fb9f3a"
             ],
             [
              0.8888888888888888,
              "#fdca26"
             ],
             [
              1.0,
              "#f0f921"
             ]
            ]
           }
          ],
          "surface": [
           {
            "type": "surface",
            "colorbar": {
             "outlinewidth": 0,
             "ticks": ""
            },
            "colorscale": [
             [
              0.0,
              "#0d0887"
             ],
             [
              0.1111111111111111,
              "#46039f"
             ],
             [
              0.2222222222222222,
              "#7201a8"
             ],
             [
              0.3333333333333333,
              "#9c179e"
             ],
             [
              0.4444444444444444,
              "#bd3786"
             ],
             [
              0.5555555555555556,
              "#d8576b"
             ],
             [
              0.6666666666666666,
              "#ed7953"
             ],
             [
              0.7777777777777778,
              "#fb9f3a"
             ],
             [
              0.8888888888888888,
              "#fdca26"
             ],
             [
              1.0,
              "#f0f921"
             ]
            ]
           }
          ],
          "mesh3d": [
           {
            "type": "mesh3d",
            "colorbar": {
             "outlinewidth": 0,
             "ticks": ""
            }
           }
          ],
          "scatter": [
           {
            "fillpattern": {
             "fillmode": "overlay",
             "size": 10,
             "solidity": 0.2
            },
            "type": "scatter"
           }
          ],
          "parcoords": [
           {
            "type": "parcoords",
            "line": {
             "colorbar": {
              "outlinewidth": 0,
              "ticks": ""
             }
            }
           }
          ],
          "scatterpolargl": [
           {
            "type": "scatterpolargl",
            "marker": {
             "colorbar": {
              "outlinewidth": 0,
              "ticks": ""
             }
            }
           }
          ],
          "bar": [
           {
            "error_x": {
             "color": "#2a3f5f"
            },
            "error_y": {
             "color": "#2a3f5f"
            },
            "marker": {
             "line": {
              "color": "#E5ECF6",
              "width": 0.5
             },
             "pattern": {
              "fillmode": "overlay",
              "size": 10,
              "solidity": 0.2
             }
            },
            "type": "bar"
           }
          ],
          "scattergeo": [
           {
            "type": "scattergeo",
            "marker": {
             "colorbar": {
              "outlinewidth": 0,
              "ticks": ""
             }
            }
           }
          ],
          "scatterpolar": [
           {
            "type": "scatterpolar",
            "marker": {
             "colorbar": {
              "outlinewidth": 0,
              "ticks": ""
             }
            }
           }
          ],
          "histogram": [
           {
            "marker": {
             "pattern": {
              "fillmode": "overlay",
              "size": 10,
              "solidity": 0.2
             }
            },
            "type": "histogram"
           }
          ],
          "scattergl": [
           {
            "type": "scattergl",
            "marker": {
             "colorbar": {
              "outlinewidth": 0,
              "ticks": ""
             }
            }
           }
          ],
          "scatter3d": [
           {
            "type": "scatter3d",
            "line": {
             "colorbar": {
              "outlinewidth": 0,
              "ticks": ""
             }
            },
            "marker": {
             "colorbar": {
              "outlinewidth": 0,
              "ticks": ""
             }
            }
           }
          ],
          "scattermapbox": [
           {
            "type": "scattermapbox",
            "marker": {
             "colorbar": {
              "outlinewidth": 0,
              "ticks": ""
             }
            }
           }
          ],
          "scatterternary": [
           {
            "type": "scatterternary",
            "marker": {
             "colorbar": {
              "outlinewidth": 0,
              "ticks": ""
             }
            }
           }
          ],
          "scattercarpet": [
           {
            "type": "scattercarpet",
            "marker": {
             "colorbar": {
              "outlinewidth": 0,
              "ticks": ""
             }
            }
           }
          ],
          "carpet": [
           {
            "aaxis": {
             "endlinecolor": "#2a3f5f",
             "gridcolor": "white",
             "linecolor": "white",
             "minorgridcolor": "white",
             "startlinecolor": "#2a3f5f"
            },
            "baxis": {
             "endlinecolor": "#2a3f5f",
             "gridcolor": "white",
             "linecolor": "white",
             "minorgridcolor": "white",
             "startlinecolor": "#2a3f5f"
            },
            "type": "carpet"
           }
          ],
          "table": [
           {
            "cells": {
             "fill": {
              "color": "#EBF0F8"
             },
             "line": {
              "color": "white"
             }
            },
            "header": {
             "fill": {
              "color": "#C8D4E3"
             },
             "line": {
              "color": "white"
             }
            },
            "type": "table"
           }
          ],
          "barpolar": [
           {
            "marker": {
             "line": {
              "color": "#E5ECF6",
              "width": 0.5
             },
             "pattern": {
              "fillmode": "overlay",
              "size": 10,
              "solidity": 0.2
             }
            },
            "type": "barpolar"
           }
          ],
          "pie": [
           {
            "automargin": true,
            "type": "pie"
           }
          ]
         },
         "layout": {
          "autotypenumbers": "strict",
          "colorway": [
           "#636efa",
           "#EF553B",
           "#00cc96",
           "#ab63fa",
           "#FFA15A",
           "#19d3f3",
           "#FF6692",
           "#B6E880",
           "#FF97FF",
           "#FECB52"
          ],
          "font": {
           "color": "#2a3f5f"
          },
          "hovermode": "closest",
          "hoverlabel": {
           "align": "left"
          },
          "paper_bgcolor": "white",
          "plot_bgcolor": "#E5ECF6",
          "polar": {
           "bgcolor": "#E5ECF6",
           "angularaxis": {
            "gridcolor": "white",
            "linecolor": "white",
            "ticks": ""
           },
           "radialaxis": {
            "gridcolor": "white",
            "linecolor": "white",
            "ticks": ""
           }
          },
          "ternary": {
           "bgcolor": "#E5ECF6",
           "aaxis": {
            "gridcolor": "white",
            "linecolor": "white",
            "ticks": ""
           },
           "baxis": {
            "gridcolor": "white",
            "linecolor": "white",
            "ticks": ""
           },
           "caxis": {
            "gridcolor": "white",
            "linecolor": "white",
            "ticks": ""
           }
          },
          "coloraxis": {
           "colorbar": {
            "outlinewidth": 0,
            "ticks": ""
           }
          },
          "colorscale": {
           "sequential": [
            [
             0.0,
             "#0d0887"
            ],
            [
             0.1111111111111111,
             "#46039f"
            ],
            [
             0.2222222222222222,
             "#7201a8"
            ],
            [
             0.3333333333333333,
             "#9c179e"
            ],
            [
             0.4444444444444444,
             "#bd3786"
            ],
            [
             0.5555555555555556,
             "#d8576b"
            ],
            [
             0.6666666666666666,
             "#ed7953"
            ],
            [
             0.7777777777777778,
             "#fb9f3a"
            ],
            [
             0.8888888888888888,
             "#fdca26"
            ],
            [
             1.0,
             "#f0f921"
            ]
           ],
           "sequentialminus": [
            [
             0.0,
             "#0d0887"
            ],
            [
             0.1111111111111111,
             "#46039f"
            ],
            [
             0.2222222222222222,
             "#7201a8"
            ],
            [
             0.3333333333333333,
             "#9c179e"
            ],
            [
             0.4444444444444444,
             "#bd3786"
            ],
            [
             0.5555555555555556,
             "#d8576b"
            ],
            [
             0.6666666666666666,
             "#ed7953"
            ],
            [
             0.7777777777777778,
             "#fb9f3a"
            ],
            [
             0.8888888888888888,
             "#fdca26"
            ],
            [
             1.0,
             "#f0f921"
            ]
           ],
           "diverging": [
            [
             0,
             "#8e0152"
            ],
            [
             0.1,
             "#c51b7d"
            ],
            [
             0.2,
             "#de77ae"
            ],
            [
             0.3,
             "#f1b6da"
            ],
            [
             0.4,
             "#fde0ef"
            ],
            [
             0.5,
             "#f7f7f7"
            ],
            [
             0.6,
             "#e6f5d0"
            ],
            [
             0.7,
             "#b8e186"
            ],
            [
             0.8,
             "#7fbc41"
            ],
            [
             0.9,
             "#4d9221"
            ],
            [
             1,
             "#276419"
            ]
           ]
          },
          "xaxis": {
           "gridcolor": "white",
           "linecolor": "white",
           "ticks": "",
           "title": {
            "standoff": 15
           },
           "zerolinecolor": "white",
           "automargin": true,
           "zerolinewidth": 2
          },
          "yaxis": {
           "gridcolor": "white",
           "linecolor": "white",
           "ticks": "",
           "title": {
            "standoff": 15
           },
           "zerolinecolor": "white",
           "automargin": true,
           "zerolinewidth": 2
          },
          "scene": {
           "xaxis": {
            "backgroundcolor": "#E5ECF6",
            "gridcolor": "white",
            "linecolor": "white",
            "showbackground": true,
            "ticks": "",
            "zerolinecolor": "white",
            "gridwidth": 2
           },
           "yaxis": {
            "backgroundcolor": "#E5ECF6",
            "gridcolor": "white",
            "linecolor": "white",
            "showbackground": true,
            "ticks": "",
            "zerolinecolor": "white",
            "gridwidth": 2
           },
           "zaxis": {
            "backgroundcolor": "#E5ECF6",
            "gridcolor": "white",
            "linecolor": "white",
            "showbackground": true,
            "ticks": "",
            "zerolinecolor": "white",
            "gridwidth": 2
           }
          },
          "shapedefaults": {
           "line": {
            "color": "#2a3f5f"
           }
          },
          "annotationdefaults": {
           "arrowcolor": "#2a3f5f",
           "arrowhead": 0,
           "arrowwidth": 1
          },
          "geo": {
           "bgcolor": "white",
           "landcolor": "#E5ECF6",
           "subunitcolor": "white",
           "showland": true,
           "showlakes": true,
           "lakecolor": "white"
          },
          "title": {
           "x": 0.05
          },
          "mapbox": {
           "style": "light"
          }
         }
        },
        "xaxis": {
         "anchor": "y",
         "domain": [
          0.0,
          1.0
         ],
         "title": {
          "text": "Model name"
         }
        },
        "yaxis": {
         "anchor": "x",
         "domain": [
          0.0,
          1.0
         ],
         "title": {
          "text": "Elapsed time per sample (ms)"
         }
        },
        "legend": {
         "title": {
          "text": "Require gradients"
         },
         "tracegroupgap": 0
        },
        "title": {
         "text": "Runtimes per model"
        },
        "boxmode": "group",
        "height": 500,
        "width": 1400
       },
       "config": {
        "plotlyServerURL": "https://plot.ly"
       }
      },
      "text/html": "<div>                            <div id=\"44923861-5e7e-4605-a2f5-4b273272d838\" class=\"plotly-graph-div\" style=\"height:500px; width:1400px;\"></div>            <script type=\"text/javascript\">                require([\"plotly\"], function(Plotly) {                    window.PLOTLYENV=window.PLOTLYENV || {};                                    if (document.getElementById(\"44923861-5e7e-4605-a2f5-4b273272d838\")) {                    Plotly.newPlot(                        \"44923861-5e7e-4605-a2f5-4b273272d838\",                        [{\"alignmentgroup\":\"True\",\"hovertemplate\":\"Require gradients=True<br>Model name=%{x}<br>Elapsed time per sample (ms)=%{y}<extra></extra>\",\"legendgroup\":\"True\",\"marker\":{\"color\":\"#636efa\"},\"name\":\"True\",\"notched\":false,\"offsetgroup\":\"True\",\"orientation\":\"v\",\"showlegend\":true,\"x\":[\"densenet121\",\"densenet121\",\"densenet121\",\"densenet121\",\"densenet121\",\"densenet121\",\"densenet121\",\"densenet121\",\"densenet121\",\"densenet121\",\"densenet121\",\"densenet121\",\"densenet121\",\"densenet121\",\"densenet121\",\"densenet121\",\"densenet121\",\"densenet121\",\"densenet121\",\"densenet121\",\"densenet121\",\"densenet121\",\"densenet121\",\"densenet121\",\"densenet121\",\"densenet121\",\"densenet121\",\"densenet121\",\"densenet121\",\"densenet121\",\"densenet121\",\"densenet121\",\"densenet121\",\"densenet121\",\"densenet121\",\"densenet121\",\"densenet121\",\"densenet121\",\"densenet121\",\"densenet121\",\"densenet121\",\"densenet121\",\"densenet121\",\"densenet121\",\"densenet121\",\"densenet121\",\"densenet121\",\"densenet121\",\"densenet121\",\"densenet121\",\"densenet121\",\"densenet121\",\"densenet121\",\"densenet121\",\"densenet121\",\"densenet121\",\"densenet121\",\"densenet121\",\"densenet121\",\"densenet121\",\"densenet121\",\"densenet121\",\"densenet121\",\"densenet121\",\"densenet121\",\"densenet121\",\"densenet121\",\"densenet121\",\"densenet121\",\"densenet121\",\"densenet121\",\"densenet121\",\"densenet121\",\"densenet121\",\"densenet121\",\"densenet121\",\"densenet121\",\"densenet121\",\"densenet121\",\"densenet121\",\"densenet121\",\"densenet121\",\"densenet121\",\"densenet121\",\"densenet121\",\"densenet121\",\"densenet121\",\"densenet121\",\"densenet121\",\"densenet121\",\"densenet121\",\"densenet121\",\"densenet121\",\"densenet121\",\"densenet121\",\"densenet121\",\"densenet121\",\"densenet121\",\"densenet121\",\"densenet121\",\"mobilenet_v3_small\",\"mobilenet_v3_small\",\"mobilenet_v3_small\",\"mobilenet_v3_small\",\"mobilenet_v3_small\",\"mobilenet_v3_small\",\"mobilenet_v3_small\",\"mobilenet_v3_small\",\"mobilenet_v3_small\",\"mobilenet_v3_small\",\"mobilenet_v3_small\",\"mobilenet_v3_small\",\"mobilenet_v3_small\",\"mobilenet_v3_small\",\"mobilenet_v3_small\",\"mobilenet_v3_small\",\"mobilenet_v3_small\",\"mobilenet_v3_small\",\"mobilenet_v3_small\",\"mobilenet_v3_small\",\"mobilenet_v3_small\",\"mobilenet_v3_small\",\"mobilenet_v3_small\",\"mobilenet_v3_small\",\"mobilenet_v3_small\",\"mobilenet_v3_small\",\"mobilenet_v3_small\",\"mobilenet_v3_small\",\"mobilenet_v3_small\",\"mobilenet_v3_small\",\"mobilenet_v3_small\",\"mobilenet_v3_small\",\"mobilenet_v3_small\",\"mobilenet_v3_small\",\"mobilenet_v3_small\",\"mobilenet_v3_small\",\"mobilenet_v3_small\",\"mobilenet_v3_small\",\"mobilenet_v3_small\",\"mobilenet_v3_small\",\"mobilenet_v3_small\",\"mobilenet_v3_small\",\"mobilenet_v3_small\",\"mobilenet_v3_small\",\"mobilenet_v3_small\",\"mobilenet_v3_small\",\"mobilenet_v3_small\",\"mobilenet_v3_small\",\"mobilenet_v3_small\",\"mobilenet_v3_small\",\"mobilenet_v3_small\",\"mobilenet_v3_small\",\"mobilenet_v3_small\",\"mobilenet_v3_small\",\"mobilenet_v3_small\",\"mobilenet_v3_small\",\"mobilenet_v3_small\",\"mobilenet_v3_small\",\"mobilenet_v3_small\",\"mobilenet_v3_small\",\"mobilenet_v3_small\",\"mobilenet_v3_small\",\"mobilenet_v3_small\",\"mobilenet_v3_small\",\"mobilenet_v3_small\",\"mobilenet_v3_small\",\"mobilenet_v3_small\",\"mobilenet_v3_small\",\"mobilenet_v3_small\",\"mobilenet_v3_small\",\"mobilenet_v3_small\",\"mobilenet_v3_small\",\"mobilenet_v3_small\",\"mobilenet_v3_small\",\"mobilenet_v3_small\",\"mobilenet_v3_small\",\"mobilenet_v3_small\",\"mobilenet_v3_small\",\"mobilenet_v3_small\",\"mobilenet_v3_small\",\"mobilenet_v3_small\",\"mobilenet_v3_small\",\"mobilenet_v3_small\",\"mobilenet_v3_small\",\"mobilenet_v3_small\",\"mobilenet_v3_small\",\"mobilenet_v3_small\",\"mobilenet_v3_small\",\"mobilenet_v3_small\",\"mobilenet_v3_small\",\"mobilenet_v3_small\",\"mobilenet_v3_small\",\"mobilenet_v3_small\",\"resnet18\",\"resnet18\",\"resnet18\",\"resnet18\",\"resnet18\",\"resnet18\",\"resnet18\",\"resnet18\",\"resnet18\",\"resnet18\",\"resnet18\",\"resnet18\",\"resnet18\",\"resnet18\",\"resnet18\",\"resnet18\",\"resnet18\",\"resnet18\",\"resnet18\",\"resnet18\",\"resnet18\",\"resnet18\",\"resnet18\",\"resnet18\",\"resnet18\",\"resnet18\",\"resnet18\",\"resnet18\",\"resnet18\",\"resnet18\",\"resnet18\",\"resnet18\",\"resnet18\",\"resnet18\",\"resnet18\",\"resnet18\",\"resnet18\",\"resnet18\",\"resnet18\",\"resnet18\",\"resnet18\",\"resnet18\",\"resnet18\",\"resnet18\",\"resnet18\",\"resnet18\",\"resnet18\",\"resnet18\",\"resnet18\",\"resnet18\",\"resnet18\",\"resnet18\",\"resnet18\",\"resnet18\",\"resnet18\",\"resnet18\",\"resnet18\",\"resnet18\",\"resnet18\",\"resnet18\",\"resnet18\",\"resnet18\",\"resnet18\",\"resnet18\",\"resnet18\",\"resnet18\",\"resnet18\",\"resnet18\",\"resnet18\",\"resnet18\",\"resnet18\",\"resnet18\",\"resnet18\",\"resnet18\",\"resnet18\",\"resnet18\",\"resnet18\",\"resnet18\",\"resnet18\",\"resnet18\",\"resnet18\",\"vgg11\",\"vgg11\",\"vgg11\",\"vgg11\",\"vgg11\",\"vgg11\",\"vgg11\",\"vgg11\",\"vgg11\",\"vgg11\",\"vgg11\",\"vgg11\",\"vgg11\",\"vgg11\",\"vgg11\",\"vgg11\",\"vgg11\",\"vgg11\",\"vgg11\",\"vgg11\",\"vgg11\",\"vgg11\",\"vgg11\",\"vgg11\",\"vgg11\",\"vgg11\",\"vgg11\",\"vgg11\",\"vgg11\",\"vgg11\",\"vgg11\",\"vgg11\",\"vgg11\",\"vgg11\",\"vgg11\",\"vgg11\",\"vgg11\",\"vgg11\",\"vgg11\",\"vgg11\",\"vgg11\",\"vgg11\",\"vgg11\",\"vgg11\",\"vgg11\",\"vgg11\",\"vgg11\",\"vgg11\",\"vgg11\",\"vgg11\",\"vgg11\",\"vgg11\",\"vgg11\",\"vgg11\",\"vgg11\",\"vgg11\",\"vgg11\",\"vgg11\",\"vgg11\",\"vgg11\",\"vgg11\",\"vgg11\",\"vgg11\",\"vgg11\",\"vgg11\",\"vgg11\",\"vgg11\",\"vgg11\",\"vgg11\",\"vgg11\",\"vgg11\",\"vgg11\",\"vgg11\",\"vgg11\",\"vgg11\",\"vgg11\",\"vgg11\",\"vgg11\",\"vgg11\",\"vgg11\",\"vgg11\",\"vgg11\",\"vgg11\",\"vgg11\",\"vgg11\",\"vgg11\",\"vgg11\",\"vgg11\",\"vgg11\",\"vgg11\",\"vgg11\",\"vgg11\",\"vgg11\",\"vgg11_bn\",\"vgg11_bn\",\"vgg11_bn\",\"vgg11_bn\",\"vgg11_bn\",\"vgg11_bn\",\"vgg11_bn\",\"vgg11_bn\",\"vgg11_bn\",\"vgg11_bn\",\"vgg11_bn\",\"vgg11_bn\",\"vgg11_bn\",\"vgg11_bn\",\"vgg11_bn\",\"vgg11_bn\",\"vgg11_bn\",\"vgg11_bn\",\"vgg11_bn\",\"vgg11_bn\",\"vgg11_bn\",\"vgg11_bn\",\"vgg11_bn\",\"vgg11_bn\",\"vgg11_bn\",\"vgg11_bn\",\"vgg11_bn\",\"vgg11_bn\",\"vgg11_bn\",\"vgg11_bn\",\"vgg11_bn\",\"vgg11_bn\",\"vgg11_bn\",\"vgg11_bn\",\"vgg11_bn\",\"vgg11_bn\",\"vgg11_bn\",\"vgg11_bn\",\"vgg11_bn\",\"vgg11_bn\",\"vgg11_bn\",\"vgg11_bn\",\"vgg11_bn\",\"vgg11_bn\",\"vgg11_bn\",\"vgg11_bn\",\"vgg11_bn\",\"vgg11_bn\",\"vgg11_bn\",\"vgg11_bn\",\"vgg11_bn\",\"vgg11_bn\",\"vgg11_bn\",\"vgg11_bn\",\"vgg11_bn\",\"vgg11_bn\",\"vgg11_bn\",\"vgg11_bn\",\"vgg11_bn\",\"vgg11_bn\",\"vgg11_bn\",\"vgg11_bn\",\"vgg11_bn\",\"vgg11_bn\",\"vgg11_bn\",\"vgg11_bn\",\"vgg11_bn\",\"vgg11_bn\",\"vgg11_bn\",\"vgg11_bn\",\"vgg11_bn\",\"vgg11_bn\",\"vgg11_bn\",\"vgg11_bn\",\"vgg11_bn\",\"vgg11_bn\",\"vgg11_bn\",\"vgg11_bn\",\"vgg11_bn\",\"vgg11_bn\",\"vgg11_bn\",\"vgg11_bn\",\"vgg11_bn\",\"vgg11_bn\",\"vgg11_bn\",\"vgg11_bn\",\"vgg11_bn\",\"vgg11_bn\",\"vgg11_bn\",\"vit_b_32\",\"vit_b_32\",\"vit_b_32\",\"vit_b_32\",\"vit_b_32\",\"vit_b_32\",\"vit_b_32\",\"vit_b_32\",\"vit_b_32\",\"vit_b_32\",\"vit_b_32\",\"vit_b_32\",\"vit_b_32\",\"vit_b_32\",\"vit_b_32\",\"vit_b_32\",\"vit_b_32\",\"vit_b_32\",\"vit_b_32\",\"vit_b_32\",\"vit_b_32\",\"vit_b_32\",\"vit_b_32\",\"vit_b_32\",\"vit_b_32\",\"vit_b_32\",\"vit_b_32\",\"vit_b_32\",\"vit_b_32\",\"vit_b_32\",\"vit_b_32\",\"vit_b_32\",\"vit_b_32\",\"vit_b_32\",\"vit_b_32\",\"vit_b_32\",\"vit_b_32\",\"vit_b_32\",\"vit_b_32\",\"vit_b_32\",\"vit_b_32\",\"vit_b_32\",\"vit_b_32\",\"vit_b_32\",\"vit_b_32\",\"vit_b_32\",\"vit_b_32\",\"vit_b_32\",\"vit_b_32\",\"vit_b_32\",\"vit_b_32\",\"vit_b_32\",\"vit_b_32\",\"vit_b_32\",\"vit_b_32\",\"vit_b_32\",\"vit_b_32\",\"vit_b_32\",\"vit_b_32\",\"vit_b_32\",\"vit_b_32\",\"vit_b_32\",\"vit_b_32\",\"vit_b_32\",\"vit_b_32\",\"vit_b_32\",\"vit_b_32\",\"vit_b_32\",\"vit_b_32\",\"vit_b_32\",\"vit_b_32\",\"vit_b_32\",\"vit_b_32\",\"vit_b_32\",\"vit_b_32\",\"vit_b_32\",\"vit_b_32\",\"vit_b_32\",\"vit_b_32\",\"vit_b_32\",\"vit_b_32\",\"vit_b_32\",\"vit_b_32\",\"vit_b_32\",\"vit_b_32\",\"vit_b_32\",\"vit_b_32\",\"vit_b_32\",\"vit_b_32\",\"vit_b_32\",\"vit_b_32\",\"vit_b_32\",\"vit_b_32\",\"vit_b_32\",\"vit_b_32\",\"vit_s_8\",\"vit_s_8\",\"vit_s_8\",\"vit_s_8\",\"vit_s_8\",\"vit_s_8\",\"vit_s_8\",\"vit_s_8\",\"vit_s_8\",\"vit_s_8\",\"vit_s_8\",\"vit_s_8\",\"vit_s_8\",\"vit_s_8\",\"vit_s_8\",\"vit_s_8\",\"vit_s_8\",\"vit_s_8\",\"vit_s_8\",\"vit_s_8\",\"vit_s_8\",\"vit_s_8\",\"vit_s_8\",\"vit_s_8\",\"vit_s_8\",\"vit_s_8\",\"vit_s_8\",\"vit_s_8\",\"vit_s_8\",\"vit_s_8\",\"vit_s_8\",\"vit_s_8\",\"vit_s_8\",\"vit_s_8\",\"vit_s_8\",\"vit_s_8\",\"vit_s_8\",\"vit_s_8\",\"vit_s_8\",\"vit_s_8\",\"vit_s_8\",\"vit_s_8\",\"vit_s_8\",\"vit_s_8\",\"vit_s_8\",\"vit_s_8\",\"vit_s_8\",\"vit_s_8\",\"vit_s_8\",\"vit_s_8\",\"vit_s_8\",\"vit_s_8\",\"vit_s_8\",\"vit_s_8\",\"vit_s_8\",\"vit_s_8\",\"vit_s_8\",\"vit_s_8\",\"vit_s_8\",\"vit_s_8\",\"vit_s_8\",\"vit_s_8\",\"vit_s_8\",\"vit_s_8\",\"vit_s_8\",\"vit_s_8\",\"vit_s_8\",\"vit_s_8\",\"vit_s_8\",\"vit_s_8\",\"vit_s_8\",\"vit_s_8\",\"vit_s_8\",\"vit_s_8\",\"vit_s_8\",\"vit_s_8\",\"vit_s_8\",\"vit_s_8\",\"vit_s_8\",\"vit_s_8\",\"vit_s_8\",\"vit_s_8\",\"vit_s_8\",\"vit_s_8\",\"vit_s_8\",\"vit_s_8\",\"vit_s_8\",\"vit_s_8\",\"vit_s_8\",\"vit_s_8\",\"vit_s_8\",\"vit_s_8\",\"vit_s_8\",\"vit_s_8\",\"vit_s_8\",\"vit_s_8\",\"vit_s_8\",\"vit_s_8\",\"vit_s_8\"],\"x0\":\" \",\"xaxis\":\"x\",\"y\":[39.06639862060547,36.42854309082031,39.22380828857422,39.9815673828125,38.65974426269531,40.05680084228516,34.89936065673828,36.88105773925781,33.47315216064453,37.32550430297852,34.271297454833984,39.86739349365234,37.442848205566406,40.981632232666016,39.47865676879883,39.1761589050293,36.381343841552734,41.46847915649414,48.87139129638672,40.29718399047852,41.222686767578125,43.65289688110352,37.24367904663086,45.625823974609375,44.516414642333984,25.9003849029541,34.99305725097656,28.528255462646484,27.694175720214844,25.90153694152832,26.995359420776367,27.89187240600586,28.61507225036621,27.80931282043457,27.923999786376957,28.0380802154541,27.870399475097656,26.319360733032227,26.191743850708008,26.447519302368164,26.148191452026367,28.577856063842773,25.52403259277344,27.620288848876957,31.49123191833496,37.45318222045898,38.34329605102539,39.747745513916016,35.82505416870117,39.84195327758789,40.22431945800781,36.94831848144531,38.32355117797852,33.73356628417969,36.05670547485352,43.56675338745117,43.556095123291016,44.82998275756836,27.6682243347168,27.001855850219727,27.67862319946289,27.37718391418457,27.699487686157227,28.03900718688965,27.874624252319336,42.60979080200195,42.70937728881836,42.789249420166016,42.66960144042969,42.62988662719727,36.13497543334961,36.52191925048828,41.29049682617188,37.87052917480469,35.92262268066406,39.44047927856445,37.65817642211914,46.742977142333984,37.46124649047852,34.66307067871094,37.588287353515625,32.640350341796875,38.40412902832031,32.40969467163086,28.845823287963867,37.00931167602539,43.70483016967773,36.76758575439453,39.21795272827149,35.189056396484375,38.60073471069336,33.916831970214844,36.039039611816406,38.0997428894043,33.56143951416016,38.99750518798828,32.77033615112305,27.684064865112305,41.36150360107422,27.99407958984375,8.778079986572266,8.51734447479248,8.642560005187988,9.724127769470217,9.402751922607422,9.178336143493652,8.586175918579102,9.06704044342041,9.071871757507324,9.44662380218506,9.051775932312012,9.33199977874756,9.587295532226562,9.294015884399414,9.047103881835938,9.145888328552246,8.757280349731445,9.193344116210938,9.89523220062256,10.265600204467772,10.744288444519045,9.5481595993042,9.430815696716309,9.760128021240234,9.127552032470703,9.32630443572998,8.65004825592041,8.751551628112793,9.227295875549316,8.672479629516602,8.585536003112793,9.171168327331545,9.374719619750977,9.330816268920898,9.42470359802246,10.28105640411377,10.68553638458252,9.802016258239746,9.762880325317385,9.628064155578612,10.23737621307373,10.012672424316406,9.17859172821045,9.186880111694336,9.145919799804688,9.84659194946289,10.821439743041992,8.538944244384766,10.04742431640625,9.369600296020508,9.119711875915527,9.192704200744627,9.260064125061035,8.798591613769531,8.541184425354004,8.687616348266602,9.368672370910645,9.016063690185549,8.647520065307617,9.01859188079834,8.80303955078125,8.842975616455078,8.860320091247559,9.00774383544922,9.82639980316162,8.895071983337402,9.239583969116213,9.72380828857422,9.576416015625,8.550496101379395,8.63696002960205,8.625439643859863,8.452832221984863,8.485055923461914,8.615903854370117,8.528608322143555,8.7293119430542,8.66211223602295,10.11577606201172,10.534111976623535,9.09228801727295,9.490943908691406,9.245216369628906,8.740832328796387,9.50483226776123,8.433856010437012,9.023455619812012,9.512191772460938,9.212736129760742,9.171456336975098,8.672160148620605,9.252384185791016,8.784159660339355,8.58176040649414,8.568127632141113,8.396320343017578,8.431903839111328,8.370944023132324,8.382528305053711,8.389856338500977,8.441408157348633,8.48739242553711,8.931360244750977,8.313216209411621,8.317055702209473,8.378144264221191,8.46076774597168,8.559871673583984,8.453472137451172,8.655936241149902,8.283807754516602,8.356063842773438,8.34496021270752,8.442367553710938,8.346272468566895,8.532256126403809,8.363231658935547,8.30515193939209,8.702752113342285,8.426336288452148,8.292608261108398,8.346207618713379,8.371552467346191,8.478048324584961,8.520447731018066,8.363072395324707,8.377504348754883,8.421343803405762,8.485440254211426,8.595423698425293,9.085503578186035,8.435551643371582,8.359583854675293,8.364128112792969,8.44752025604248,8.522272109985352,8.738719940185547,8.512351989746094,8.375007629394531,8.492735862731934,8.401151657104492,8.330880165100098,8.370495796203613,9.214048385620115,9.224831581115724,9.250240325927734,10.070048332214355,9.245280265808104,9.208895683288574,9.117471694946287,9.09609603881836,8.350591659545898,8.495072364807129,8.624480247497559,8.629119873046875,8.45638370513916,8.529472351074219,8.304479598999023,8.367487907409668,8.635040283203125,8.327424049377441,8.518624305725098,8.3571195602417,8.41215991973877,8.538080215454102,8.466848373413086,8.320992469787598,8.315296173095703,8.377280235290527,9.118656158447266,9.122912406921388,9.13856029510498,9.113823890686035,8.470879554748535,24.752063751220703,25.12553596496582,25.24287986755371,24.906784057617188,25.13267135620117,24.808576583862305,24.91164779663086,24.922527313232425,25.34841537475586,26.15862464904785,25.51296043395996,26.52630424499512,26.077472686767575,25.31839942932129,25.84012794494629,25.668607711791992,25.416704177856445,25.44147109985352,25.873632431030277,25.4466552734375,25.455135345458984,25.25859260559082,26.282304763793945,25.173376083374023,27.02556800842285,25.50563240051269,25.02137565612793,25.51193618774414,26.463712692260746,26.453887939453125,25.541919708251957,25.466880798339844,26.34499168395996,26.328832626342773,25.703968048095703,25.84720039367676,25.383935928344727,25.67859268188477,25.862688064575195,27.079647064208984,26.184160232543945,25.249408721923828,25.997312545776367,25.44550323486328,25.52390480041504,25.09523200988769,26.551359176635746,25.85273551940918,25.69808006286621,24.890047073364254,24.85113525390625,24.72380828857422,24.530912399291992,24.67587280273437,24.74022483825684,24.67737579345703,24.774112701416016,24.800512313842773,24.90307235717773,24.641151428222656,24.59926414489746,26.092287063598636,25.83718490600586,25.41407966613769,25.312000274658203,25.5993595123291,25.79462432861328,25.53395271301269,24.97113609313965,24.843551635742188,24.84592056274414,24.83247947692871,24.742752075195312,24.667648315429688,24.857120513916016,24.922016143798828,25.0710391998291,25.34060859680176,25.560800552368164,25.21417617797852,25.351776123046875,25.355712890625,25.34934425354004,25.23744010925293,25.117088317871094,25.389087677001957,25.630847930908203,25.51260757446289,25.630464553833008,25.36505508422852,25.4902400970459,25.884639739990234,26.627840042114254,28.87068748474121,28.62384033203125,28.24592018127441,29.360095977783203,28.43155288696289,28.72060775756836,28.7872314453125,28.626527786254883,28.45321655273437,28.36627197265625,29.28518486022949,28.28169631958008,28.32332801818848,28.756895065307617,29.4172477722168,30.25267219543457,30.407968521118164,29.65686416625977,29.41865539550781,28.485151290893555,28.89571189880371,28.304128646850582,28.5199031829834,28.42921638488769,29.213184356689453,28.852832794189453,28.56681632995605,29.020160675048828,28.986143112182617,28.42470359802246,28.46252822875977,28.338239669799805,28.42233657836914,28.807615280151367,28.45171165466309,28.290048599243164,28.42470359802246,28.79692840576172,28.46294403076172,28.53036880493164,28.454591751098636,28.60518455505371,28.28156852722168,28.42048072814941,28.321727752685547,29.36041641235352,28.58902359008789,29.1312313079834,28.47721672058105,28.21376037597656,27.76838493347168,27.452096939086918,27.47952079772949,27.58118438720703,29.76176071166992,28.991743087768555,28.663679122924805,28.51737594604492,29.044607162475582,29.127424240112305,29.195392608642575,29.51440048217773,30.231103897094727,27.453311920166016,28.993728637695312,27.31222343444824,28.527263641357425,27.908960342407227,27.45199966430664,28.24470329284668,27.884767532348636,28.37126350402832,28.406879425048828,28.76134490966797,29.23395156860352,29.673311233520508,30.3703670501709,29.75187110900879,29.570528030395508,29.57481575012207,28.99456024169922,28.197120666503903,27.77827262878418,28.382272720336918,27.93692779541016,28.288000106811523,28.13113594055176,28.900127410888672,28.177152633666992,21.62908744812012,21.15510368347168,22.99043273925781,21.084096908569336,23.22732734680176,21.07254409790039,22.456640243530277,20.92518424987793,22.057151794433597,21.030784606933597,21.603296279907227,20.951583862304688,20.690656661987305,23.221088409423828,21.24595260620117,21.61798477172852,22.9866886138916,20.902816772460938,22.922143936157227,20.967775344848636,22.341087341308597,21.66281509399414,21.45657539367676,20.5067195892334,22.4105281829834,21.33344078063965,21.44739151000977,21.01561546325684,22.36505508422852,22.44899177551269,22.371103286743164,22.12377548217773,21.932863235473636,22.05561637878418,20.604671478271484,23.268320083618164,21.17436790466309,23.19366455078125,21.32134437561035,22.84726333618164,21.01372718811035,22.30463981628418,21.490175247192383,20.985727310180664,22.868576049804688,21.055871963500977,20.76140785217285,22.33679962158203,21.072799682617188,21.955007553100582,21.56608009338379,21.85187149047852,22.56489562988281,20.87958335876465,23.0784969329834,22.353984832763672,22.981184005737305,21.077856063842773,21.63580894470215,21.0416316986084,21.61846351623535,22.23379135131836,20.59174346923828,22.407615661621094,20.51171112060547,23.17100715637207,21.15657615661621,22.786176681518555,21.14614486694336,23.183744430541992,21.22876739501953,22.088224411010746,22.705856323242188,21.669919967651367,20.882015228271484,22.76905632019043,21.1812801361084,22.96188735961914,20.955711364746094,21.092607498168945,21.5947208404541,21.693023681640625,20.63235282897949,22.223487854003903,20.852991104125977,21.98502349853516,21.27964782714844,22.048799514770508,20.9583683013916,22.95008087158203,21.56908798217773,23.373855590820312,20.964319229125977,22.737567901611328,21.20800018310547,105.98729705810548,109.0964126586914,110.1740493774414,110.13683319091795,110.03977966308594,108.18460845947266,106.94662475585938,107.02870178222656,106.62723541259766,108.46665954589844,107.93440246582033,106.49791717529295,109.13849639892578,109.5274887084961,112.28047943115234,105.68029022216795,109.13337707519533,109.10572814941406,108.5250244140625,106.7640609741211,109.16639709472656,109.10809326171876,110.73257446289062,109.77558135986328,107.35833740234376,109.61222076416016,109.01187133789062,108.2698211669922,106.74166107177734,108.37014770507812,108.834716796875,107.8457260131836,108.63072204589844,110.28358459472656,111.04450988769533,109.2867202758789,108.57081604003906,108.46460723876952,110.053955078125,108.61382293701172,107.95760345458984,109.7543716430664,111.17900848388672,110.35247802734376,109.17715454101562,107.6798095703125,108.76576232910156,108.18502044677734,106.47039794921876,107.35081481933594,108.98371124267578,108.07673645019533,104.28316497802734,105.24614715576172,104.21234893798828,105.43500518798828,104.2968978881836,104.82300567626952,104.8835220336914,105.43917083740234,103.86892700195312,104.09699249267578,104.90771484375,104.67542266845705,105.43801879882812,105.91462707519533,106.08576202392578,105.95648193359376,105.5863037109375,104.65225219726562,106.5169906616211,108.38841247558594,108.71984100341795,105.04969787597656,105.2676773071289,104.62866973876952,104.41712188720705,107.51103973388672,106.74172973632812,113.56822204589844,109.27513885498048,108.56329345703124,107.42729949951172,106.57839965820312,109.80390167236328,106.5648956298828,108.88566589355467,108.71292877197266,107.20166778564452,105.74944305419922,104.29011535644533,105.34684753417967,105.8703384399414,104.82345581054688,105.03510284423828,105.75308990478516,105.31590270996094,106.26306915283205,106.58726501464844],\"y0\":\" \",\"yaxis\":\"y\",\"type\":\"box\"},{\"alignmentgroup\":\"True\",\"hovertemplate\":\"Require gradients=False<br>Model name=%{x}<br>Elapsed time per sample (ms)=%{y}<extra></extra>\",\"legendgroup\":\"False\",\"marker\":{\"color\":\"#EF553B\"},\"name\":\"False\",\"notched\":false,\"offsetgroup\":\"False\",\"orientation\":\"v\",\"showlegend\":true,\"x\":[\"densenet121\",\"densenet121\",\"densenet121\",\"densenet121\",\"densenet121\",\"densenet121\",\"densenet121\",\"densenet121\",\"densenet121\",\"densenet121\",\"densenet121\",\"densenet121\",\"densenet121\",\"densenet121\",\"densenet121\",\"densenet121\",\"densenet121\",\"densenet121\",\"densenet121\",\"densenet121\",\"densenet121\",\"densenet121\",\"densenet121\",\"densenet121\",\"densenet121\",\"densenet121\",\"densenet121\",\"densenet121\",\"densenet121\",\"densenet121\",\"densenet121\",\"densenet121\",\"densenet121\",\"densenet121\",\"densenet121\",\"densenet121\",\"densenet121\",\"densenet121\",\"densenet121\",\"densenet121\",\"densenet121\",\"densenet121\",\"densenet121\",\"densenet121\",\"densenet121\",\"densenet121\",\"densenet121\",\"densenet121\",\"densenet121\",\"densenet121\",\"densenet121\",\"densenet121\",\"densenet121\",\"densenet121\",\"densenet121\",\"densenet121\",\"densenet121\",\"densenet121\",\"densenet121\",\"densenet121\",\"densenet121\",\"densenet121\",\"densenet121\",\"densenet121\",\"densenet121\",\"densenet121\",\"densenet121\",\"densenet121\",\"densenet121\",\"densenet121\",\"densenet121\",\"densenet121\",\"densenet121\",\"densenet121\",\"densenet121\",\"densenet121\",\"densenet121\",\"densenet121\",\"densenet121\",\"densenet121\",\"densenet121\",\"densenet121\",\"densenet121\",\"densenet121\",\"densenet121\",\"densenet121\",\"densenet121\",\"densenet121\",\"densenet121\",\"densenet121\",\"densenet121\",\"densenet121\",\"densenet121\",\"densenet121\",\"mobilenet_v3_small\",\"mobilenet_v3_small\",\"mobilenet_v3_small\",\"mobilenet_v3_small\",\"mobilenet_v3_small\",\"mobilenet_v3_small\",\"mobilenet_v3_small\",\"mobilenet_v3_small\",\"mobilenet_v3_small\",\"mobilenet_v3_small\",\"mobilenet_v3_small\",\"mobilenet_v3_small\",\"mobilenet_v3_small\",\"mobilenet_v3_small\",\"mobilenet_v3_small\",\"mobilenet_v3_small\",\"mobilenet_v3_small\",\"mobilenet_v3_small\",\"mobilenet_v3_small\",\"mobilenet_v3_small\",\"mobilenet_v3_small\",\"mobilenet_v3_small\",\"mobilenet_v3_small\",\"mobilenet_v3_small\",\"mobilenet_v3_small\",\"mobilenet_v3_small\",\"mobilenet_v3_small\",\"mobilenet_v3_small\",\"mobilenet_v3_small\",\"mobilenet_v3_small\",\"mobilenet_v3_small\",\"mobilenet_v3_small\",\"mobilenet_v3_small\",\"mobilenet_v3_small\",\"mobilenet_v3_small\",\"mobilenet_v3_small\",\"mobilenet_v3_small\",\"mobilenet_v3_small\",\"mobilenet_v3_small\",\"mobilenet_v3_small\",\"mobilenet_v3_small\",\"mobilenet_v3_small\",\"mobilenet_v3_small\",\"mobilenet_v3_small\",\"mobilenet_v3_small\",\"mobilenet_v3_small\",\"mobilenet_v3_small\",\"mobilenet_v3_small\",\"mobilenet_v3_small\",\"mobilenet_v3_small\",\"mobilenet_v3_small\",\"mobilenet_v3_small\",\"mobilenet_v3_small\",\"mobilenet_v3_small\",\"mobilenet_v3_small\",\"mobilenet_v3_small\",\"mobilenet_v3_small\",\"mobilenet_v3_small\",\"mobilenet_v3_small\",\"mobilenet_v3_small\",\"mobilenet_v3_small\",\"mobilenet_v3_small\",\"mobilenet_v3_small\",\"mobilenet_v3_small\",\"mobilenet_v3_small\",\"mobilenet_v3_small\",\"mobilenet_v3_small\",\"mobilenet_v3_small\",\"mobilenet_v3_small\",\"mobilenet_v3_small\",\"mobilenet_v3_small\",\"mobilenet_v3_small\",\"mobilenet_v3_small\",\"mobilenet_v3_small\",\"mobilenet_v3_small\",\"mobilenet_v3_small\",\"mobilenet_v3_small\",\"mobilenet_v3_small\",\"mobilenet_v3_small\",\"mobilenet_v3_small\",\"mobilenet_v3_small\",\"mobilenet_v3_small\",\"mobilenet_v3_small\",\"mobilenet_v3_small\",\"mobilenet_v3_small\",\"mobilenet_v3_small\",\"mobilenet_v3_small\",\"mobilenet_v3_small\",\"mobilenet_v3_small\",\"mobilenet_v3_small\",\"mobilenet_v3_small\",\"mobilenet_v3_small\",\"mobilenet_v3_small\",\"resnet18\",\"resnet18\",\"resnet18\",\"resnet18\",\"resnet18\",\"resnet18\",\"resnet18\",\"resnet18\",\"resnet18\",\"resnet18\",\"resnet18\",\"resnet18\",\"resnet18\",\"resnet18\",\"resnet18\",\"resnet18\",\"resnet18\",\"resnet18\",\"resnet18\",\"resnet18\",\"resnet18\",\"resnet18\",\"resnet18\",\"resnet18\",\"resnet18\",\"resnet18\",\"resnet18\",\"resnet18\",\"resnet18\",\"resnet18\",\"resnet18\",\"resnet18\",\"resnet18\",\"resnet18\",\"resnet18\",\"resnet18\",\"resnet18\",\"resnet18\",\"resnet18\",\"resnet18\",\"resnet18\",\"resnet18\",\"resnet18\",\"resnet18\",\"resnet18\",\"resnet18\",\"resnet18\",\"resnet18\",\"resnet18\",\"resnet18\",\"resnet18\",\"resnet18\",\"resnet18\",\"resnet18\",\"resnet18\",\"resnet18\",\"resnet18\",\"resnet18\",\"resnet18\",\"resnet18\",\"resnet18\",\"resnet18\",\"resnet18\",\"resnet18\",\"resnet18\",\"resnet18\",\"resnet18\",\"resnet18\",\"resnet18\",\"resnet18\",\"resnet18\",\"resnet18\",\"resnet18\",\"resnet18\",\"resnet18\",\"resnet18\",\"resnet18\",\"resnet18\",\"resnet18\",\"resnet18\",\"resnet18\",\"resnet18\",\"resnet18\",\"resnet18\",\"resnet18\",\"vgg11\",\"vgg11\",\"vgg11\",\"vgg11\",\"vgg11\",\"vgg11\",\"vgg11\",\"vgg11\",\"vgg11\",\"vgg11\",\"vgg11\",\"vgg11\",\"vgg11\",\"vgg11\",\"vgg11\",\"vgg11\",\"vgg11\",\"vgg11\",\"vgg11\",\"vgg11\",\"vgg11\",\"vgg11\",\"vgg11\",\"vgg11\",\"vgg11\",\"vgg11\",\"vgg11\",\"vgg11\",\"vgg11\",\"vgg11\",\"vgg11\",\"vgg11\",\"vgg11\",\"vgg11\",\"vgg11\",\"vgg11\",\"vgg11\",\"vgg11\",\"vgg11\",\"vgg11\",\"vgg11\",\"vgg11\",\"vgg11\",\"vgg11\",\"vgg11\",\"vgg11\",\"vgg11\",\"vgg11\",\"vgg11\",\"vgg11\",\"vgg11\",\"vgg11\",\"vgg11\",\"vgg11\",\"vgg11\",\"vgg11\",\"vgg11\",\"vgg11\",\"vgg11\",\"vgg11\",\"vgg11\",\"vgg11\",\"vgg11\",\"vgg11\",\"vgg11\",\"vgg11\",\"vgg11\",\"vgg11\",\"vgg11\",\"vgg11\",\"vgg11\",\"vgg11\",\"vgg11\",\"vgg11\",\"vgg11\",\"vgg11\",\"vgg11\",\"vgg11\",\"vgg11\",\"vgg11\",\"vgg11\",\"vgg11\",\"vgg11\",\"vgg11\",\"vgg11\",\"vgg11\",\"vgg11\",\"vgg11\",\"vgg11\",\"vgg11\",\"vgg11\",\"vgg11_bn\",\"vgg11_bn\",\"vgg11_bn\",\"vgg11_bn\",\"vgg11_bn\",\"vgg11_bn\",\"vgg11_bn\",\"vgg11_bn\",\"vgg11_bn\",\"vgg11_bn\",\"vgg11_bn\",\"vgg11_bn\",\"vgg11_bn\",\"vgg11_bn\",\"vgg11_bn\",\"vgg11_bn\",\"vgg11_bn\",\"vgg11_bn\",\"vgg11_bn\",\"vgg11_bn\",\"vgg11_bn\",\"vgg11_bn\",\"vgg11_bn\",\"vgg11_bn\",\"vgg11_bn\",\"vgg11_bn\",\"vgg11_bn\",\"vgg11_bn\",\"vgg11_bn\",\"vgg11_bn\",\"vgg11_bn\",\"vgg11_bn\",\"vgg11_bn\",\"vgg11_bn\",\"vgg11_bn\",\"vgg11_bn\",\"vgg11_bn\",\"vgg11_bn\",\"vgg11_bn\",\"vgg11_bn\",\"vgg11_bn\",\"vgg11_bn\",\"vgg11_bn\",\"vgg11_bn\",\"vgg11_bn\",\"vgg11_bn\",\"vgg11_bn\",\"vgg11_bn\",\"vgg11_bn\",\"vgg11_bn\",\"vgg11_bn\",\"vgg11_bn\",\"vgg11_bn\",\"vgg11_bn\",\"vgg11_bn\",\"vgg11_bn\",\"vgg11_bn\",\"vgg11_bn\",\"vgg11_bn\",\"vgg11_bn\",\"vgg11_bn\",\"vgg11_bn\",\"vgg11_bn\",\"vgg11_bn\",\"vgg11_bn\",\"vgg11_bn\",\"vgg11_bn\",\"vgg11_bn\",\"vgg11_bn\",\"vgg11_bn\",\"vgg11_bn\",\"vgg11_bn\",\"vgg11_bn\",\"vgg11_bn\",\"vgg11_bn\",\"vgg11_bn\",\"vgg11_bn\",\"vgg11_bn\",\"vgg11_bn\",\"vgg11_bn\",\"vgg11_bn\",\"vgg11_bn\",\"vgg11_bn\",\"vgg11_bn\",\"vgg11_bn\",\"vgg11_bn\",\"vgg11_bn\",\"vgg11_bn\",\"vgg11_bn\",\"vgg11_bn\",\"vgg11_bn\",\"vgg11_bn\",\"vit_b_32\",\"vit_b_32\",\"vit_b_32\",\"vit_b_32\",\"vit_b_32\",\"vit_b_32\",\"vit_b_32\",\"vit_b_32\",\"vit_b_32\",\"vit_b_32\",\"vit_b_32\",\"vit_b_32\",\"vit_b_32\",\"vit_b_32\",\"vit_b_32\",\"vit_b_32\",\"vit_b_32\",\"vit_b_32\",\"vit_b_32\",\"vit_b_32\",\"vit_b_32\",\"vit_b_32\",\"vit_b_32\",\"vit_b_32\",\"vit_b_32\",\"vit_b_32\",\"vit_b_32\",\"vit_b_32\",\"vit_b_32\",\"vit_b_32\",\"vit_b_32\",\"vit_b_32\",\"vit_b_32\",\"vit_b_32\",\"vit_b_32\",\"vit_b_32\",\"vit_b_32\",\"vit_b_32\",\"vit_b_32\",\"vit_b_32\",\"vit_b_32\",\"vit_b_32\",\"vit_b_32\",\"vit_b_32\",\"vit_b_32\",\"vit_b_32\",\"vit_b_32\",\"vit_b_32\",\"vit_b_32\",\"vit_b_32\",\"vit_b_32\",\"vit_b_32\",\"vit_b_32\",\"vit_b_32\",\"vit_b_32\",\"vit_b_32\",\"vit_b_32\",\"vit_b_32\",\"vit_b_32\",\"vit_b_32\",\"vit_b_32\",\"vit_b_32\",\"vit_b_32\",\"vit_b_32\",\"vit_b_32\",\"vit_b_32\",\"vit_b_32\",\"vit_b_32\",\"vit_b_32\",\"vit_b_32\",\"vit_b_32\",\"vit_b_32\",\"vit_b_32\",\"vit_b_32\",\"vit_b_32\",\"vit_b_32\",\"vit_b_32\",\"vit_b_32\",\"vit_b_32\",\"vit_b_32\",\"vit_b_32\",\"vit_b_32\",\"vit_b_32\",\"vit_b_32\",\"vit_b_32\",\"vit_b_32\",\"vit_b_32\",\"vit_b_32\",\"vit_b_32\",\"vit_b_32\",\"vit_b_32\",\"vit_b_32\",\"vit_b_32\",\"vit_b_32\",\"vit_s_8\",\"vit_s_8\",\"vit_s_8\",\"vit_s_8\",\"vit_s_8\",\"vit_s_8\",\"vit_s_8\",\"vit_s_8\",\"vit_s_8\",\"vit_s_8\",\"vit_s_8\",\"vit_s_8\",\"vit_s_8\",\"vit_s_8\",\"vit_s_8\",\"vit_s_8\",\"vit_s_8\",\"vit_s_8\",\"vit_s_8\",\"vit_s_8\",\"vit_s_8\",\"vit_s_8\",\"vit_s_8\",\"vit_s_8\",\"vit_s_8\",\"vit_s_8\",\"vit_s_8\",\"vit_s_8\",\"vit_s_8\",\"vit_s_8\",\"vit_s_8\",\"vit_s_8\",\"vit_s_8\",\"vit_s_8\",\"vit_s_8\",\"vit_s_8\",\"vit_s_8\",\"vit_s_8\",\"vit_s_8\",\"vit_s_8\",\"vit_s_8\",\"vit_s_8\",\"vit_s_8\",\"vit_s_8\",\"vit_s_8\",\"vit_s_8\",\"vit_s_8\",\"vit_s_8\",\"vit_s_8\",\"vit_s_8\",\"vit_s_8\",\"vit_s_8\",\"vit_s_8\",\"vit_s_8\",\"vit_s_8\",\"vit_s_8\",\"vit_s_8\",\"vit_s_8\",\"vit_s_8\",\"vit_s_8\",\"vit_s_8\",\"vit_s_8\",\"vit_s_8\",\"vit_s_8\",\"vit_s_8\",\"vit_s_8\",\"vit_s_8\",\"vit_s_8\",\"vit_s_8\",\"vit_s_8\",\"vit_s_8\",\"vit_s_8\",\"vit_s_8\",\"vit_s_8\",\"vit_s_8\",\"vit_s_8\",\"vit_s_8\",\"vit_s_8\",\"vit_s_8\",\"vit_s_8\",\"vit_s_8\",\"vit_s_8\",\"vit_s_8\",\"vit_s_8\",\"vit_s_8\",\"vit_s_8\",\"vit_s_8\"],\"x0\":\" \",\"xaxis\":\"x\",\"y\":[26.731264114379883,23.566015243530277,23.594751358032227,23.29007911682129,23.63974380493164,23.204063415527344,23.48681640625,23.152223587036133,23.450048446655277,23.442432403564453,23.584640502929688,23.963775634765625,23.55001640319824,24.264095306396484,23.64780807495117,23.92166328430176,23.54956817626953,23.43939208984375,23.463520050048828,27.24176025390625,23.43603134155273,23.27071952819824,23.839744567871094,23.662687301635746,23.55299186706543,27.92806434631348,26.825056076049805,26.69868850708008,26.440128326416016,26.43155288696289,26.3427848815918,23.78704071044922,24.21504020690918,23.35369682312012,24.239072799682617,23.63945579528809,23.09363174438477,23.74435234069824,23.56559944152832,23.21683120727539,23.763391494750977,23.607295989990234,23.95795249938965,23.51923179626465,23.286304473876957,23.52435111999512,23.713247299194336,28.720928192138672,26.156639099121094,27.91247940063477,25.33878326416016,27.21968078613281,24.768224716186523,30.784832000732425,24.26896095275879,32.897953033447266,25.156768798828125,27.131776809692383,24.600032806396484,26.438304901123047,24.616287231445312,24.708959579467773,25.51865577697754,24.461503982543945,26.8939208984375,27.531679153442383,24.53366470336914,24.042015075683597,26.786624908447266,28.212608337402344,30.8559684753418,23.90588760375977,23.551328659057617,24.105119705200195,23.481151580810547,23.68262481689453,23.783008575439453,23.29360008239746,23.76527976989746,30.691904067993164,25.236127853393555,29.49648094177246,24.40547180175781,29.83350372314453,27.435935974121094,30.72854423522949,31.82310485839844,29.16383934020996,29.96713638305664,26.387487411499023,28.915552139282227,32.41507339477539,27.90851211547852,31.0503044128418,6.794015884399414,6.565599918365479,6.45468807220459,6.613152027130127,6.835072040557861,7.235904216766357,6.714687824249268,6.928031921386719,6.610432147979736,7.016448020935059,6.238207817077637,6.977312088012695,7.19865608215332,7.21830415725708,7.128608226776123,7.232895851135254,7.33292818069458,6.988063812255859,7.772128105163574,6.163072109222412,6.887423992156982,6.991968154907227,7.077568054199219,6.988927841186523,6.710400104522705,7.167840003967285,6.4390082359313965,6.131392002105713,6.576767921447754,6.164031982421875,6.4934401512146,6.354976177215576,6.333727836608887,6.451615810394287,6.176095962524414,6.35206413269043,6.538080215454102,7.322720050811768,6.384672164916992,6.582623958587647,6.940864086151123,6.672095775604248,6.430528163909912,6.926688194274902,6.78656005859375,7.053919792175293,7.209856033325195,6.67955207824707,6.64083194732666,6.886144161224365,6.851935863494873,6.908895969390869,6.615583896636963,7.145023822784424,6.792704105377197,6.799615859985352,7.35203218460083,7.620736122131348,8.097536087036133,6.984864234924316,7.037087917327881,6.658112049102783,6.895967960357666,6.8924479484558105,7.688576221466064,7.197120189666748,7.28604793548584,7.201056003570557,7.353856086730957,7.477183818817139,7.228096008300781,7.199168205261231,7.761472225189209,7.235551834106445,7.177760124206543,6.723840236663818,6.622015953063965,7.695487976074219,6.765791893005371,6.654143810272217,6.986368179321289,6.86297607421875,7.422751903533935,7.709695816040039,7.581696033477783,7.602367877960205,6.567296028137207,6.5839362144470215,7.141215801239014,6.64793586730957,6.332159996032715,6.856383800506592,7.2570881843566895,8.192992210388184,7.968512058258057,7.979072093963623,8.040703773498535,8.083935737609863,8.124671936035156,7.933599948883057,7.991936206817627,7.996543884277344,7.977952003479004,8.067487716674805,8.247808456420898,8.142175674438477,7.996223926544189,8.0982084274292,7.984288215637207,7.998591899871826,8.213791847229004,8.107647895812988,7.974656105041504,7.972479820251465,8.05907154083252,8.046815872192383,8.00489616394043,8.025440216064453,7.941664218902588,7.949503898620605,7.944896221160889,7.958176136016846,8.034496307373047,8.092927932739258,7.946976184844971,8.044575691223145,8.149503707885742,7.985087871551514,8.030943870544434,8.004799842834473,8.0164155960083,8.003647804260254,8.042304039001465,8.133055686950684,8.114944458007812,8.096960067749023,8.186495780944824,7.990079879760742,7.914112091064453,8.013855934143066,7.963071823120117,7.956319808959961,8.032511711120605,8.006688117980957,10.3821439743042,10.417183876037598,10.452287673950195,10.364959716796877,10.453408241271973,10.304351806640623,10.334464073181152,8.052543640136719,10.420191764831545,10.541407585144045,8.85308837890625,10.352031707763672,7.98140811920166,8.008000373840332,8.02841567993164,8.014431953430176,8.071136474609375,7.969471931457519,8.01632022857666,8.05891227722168,8.203424453735352,8.013376235961914,7.8937602043151855,8.644576072692871,8.454943656921387,8.801183700561523,8.785599708557129,8.927264213562012,8.828736305236816,8.737119674682617,8.695072174072266,8.697376251220703,8.648351669311523,8.798015594482422,25.00649642944336,24.930463790893555,25.376192092895508,25.267072677612305,25.922048568725582,25.82908821105957,25.655296325683597,25.483871459960938,25.177215576171875,25.24300765991211,25.14886474609375,25.300256729125977,24.98918342590332,25.134336471557617,24.97327995300293,24.947519302368164,24.917984008789062,25.09190368652344,25.165184020996094,25.15385627746582,24.926048278808597,24.92380714416504,24.74095916748047,25.856416702270508,25.9116153717041,25.358720779418945,25.54508781433105,24.55193519592285,24.50111961364746,24.68332862854004,24.688383102416992,24.730592727661133,24.77516746520996,25.010656356811523,24.666719436645508,26.517728805541992,24.736928939819336,24.72889518737793,24.979551315307617,24.83945655822754,24.797536849975582,24.66304016113281,24.77235221862793,25.653919219970703,25.77779197692871,26.01315116882324,24.941280364990234,24.489599227905277,25.624351501464844,25.079456329345703,26.088672637939453,25.08697509765625,25.543231964111328,25.928512573242188,24.925567626953125,25.38640022277832,26.5565128326416,25.477951049804688,24.94095993041992,25.81862449645996,26.143199920654297,26.193504333496094,25.417503356933597,26.479135513305664,24.72652816772461,25.04735946655273,25.169023513793945,26.686399459838867,25.58451271057129,24.709983825683597,24.877216339111328,24.94924736022949,24.817407608032227,24.77424049377441,24.742816925048828,24.904544830322266,24.724000930786133,24.721599578857425,24.86444854736328,24.893280029296875,25.4323844909668,25.15632057189941,25.409215927124023,26.630815505981445,25.524288177490234,25.178720474243164,26.320640563964844,25.630943298339844,24.85443115234375,25.940128326416016,25.29587173461914,27.31648063659668,27.59440040588379,27.92825508117676,28.490528106689453,27.910720825195312,27.114879608154297,27.36911964416504,27.825664520263672,28.31465530395508,28.40127944946289,27.69375991821289,27.074655532836918,27.540864944458008,28.1596794128418,28.97212791442871,28.23580741882324,27.346399307250977,27.49113655090332,28.137279510498047,28.93475151062012,28.077152252197266,27.17750358581543,27.51903915405273,27.02092742919922,27.60051155090332,28.466976165771484,27.732479095458984,27.24847984313965,28.14998435974121,28.880128860473636,27.439647674560547,28.014080047607425,27.01100730895996,27.913856506347656,28.719520568847656,28.15737533569336,27.514080047607425,27.138399124145508,27.299903869628903,28.248031616210938,28.91312026977539,28.30441665649414,27.12246322631836,27.85887908935547,27.39638328552246,27.82054328918457,28.74700736999512,28.12150382995605,27.399232864379883,27.33817672729492,28.201696395874023,28.799264907836918,28.05120086669922,27.38217544555664,27.01923179626465,27.565887451171875,28.337984085083008,28.641056060791016,28.02992057800293,27.36534309387207,27.1430721282959,28.03734397888184,29.129568099975582,28.323680877685547,27.57868766784668,27.57811164855957,27.4050235748291,27.72300720214844,28.272768020629883,28.38636779785156,27.71548843383789,27.06547164916992,27.498687744140625,28.15414428710937,28.548736572265625,27.626144409179688,26.968320846557617,27.530176162719727,27.950464248657227,28.1484489440918,28.514528274536133,27.848255157470703,26.97603225708008,27.264095306396484,28.18278312683105,28.57571220397949,27.509504318237305,26.706655502319336,27.16057586669922,28.194175720214844,28.877439498901367,28.60281562805176,20.95052719116211,18.928096771240234,21.314847946166992,19.08316802978516,20.313312530517575,20.648191452026367,19.704256057739254,21.48038482666016,20.31760025024414,21.203487396240234,20.812255859375,18.988000869750977,20.071168899536133,19.689247131347656,20.90265655517578,19.647968292236328,21.47657585144043,19.151456832885746,20.52188873291016,20.19590377807617,19.70787239074707,20.56249618530273,19.070144653320312,21.195743560791016,19.575424194335938,19.19443130493164,19.830368041992188,21.199583053588867,19.381248474121094,21.393856048583984,19.77660751342773,21.79542350769043,19.0262393951416,20.7710075378418,19.503904342651367,20.23951911926269,20.76755142211914,20.26576042175293,21.858400344848636,19.18707275390625,21.208511352539062,19.26777648925781,20.66815948486328,19.29680061340332,19.800031661987305,20.82304000854492,21.79199981689453,19.19411277770996,18.8842887878418,19.766176223754883,19.4553279876709,17.612415313720703,19.4607048034668,19.12009620666504,19.76668739318848,17.814624786376953,19.085664749145508,19.990976333618164,18.269216537475582,18.69891166687012,18.08937644958496,17.837663650512695,21.76236724853516,21.53699111938477,22.275487899780277,22.040672302246094,22.267168045043945,19.420799255371094,18.248096466064453,18.82195281982422,20.991872787475582,19.567615509033203,21.892831802368164,19.22713661193848,20.89801597595215,19.01798439025879,19.58780860900879,21.143552780151367,20.380992889404297,21.775903701782227,19.25641632080078,21.318431854248047,19.17027282714844,20.306495666503903,20.67024040222168,19.332672119140625,21.38912010192871,20.15340805053711,21.744672775268555,19.151264190673828,20.924991607666016,19.23116874694824,21.293088912963867,19.743423461914062,102.9164810180664,101.05913543701172,103.0455322265625,100.96697235107422,103.74317169189452,103.3311996459961,101.22434997558594,102.6081314086914,101.66770935058594,105.25033569335938,102.16928100585938,100.58879852294922,102.53475189208984,105.27302551269533,106.59766387939452,105.0379867553711,106.70745849609376,102.60447692871094,103.95030212402344,99.91645050048828,104.6024932861328,104.54271697998048,103.95216369628906,102.80140686035156,102.81209564208984,103.9483871459961,103.0723876953125,104.21485137939452,103.39794921875,99.90518188476562,104.1470718383789,103.55430603027344,103.39379119873048,102.51993560791016,102.62854766845705,103.27648162841795,103.57123565673828,104.23209381103516,104.3272933959961,103.23190307617188,103.44579315185548,103.07218933105467,103.61138916015624,104.15936279296876,106.32157135009766,102.68473815917967,104.46771240234376,106.2298583984375,102.6937255859375,105.8589096069336,105.7506866455078,105.64710235595705,105.29849243164062,104.0769271850586,101.6509780883789,105.36185455322266,103.8387222290039,102.23577880859376,104.61840057373048,105.72166442871094,105.0580825805664,103.90204620361328,104.9339828491211,102.29519653320312,103.2701416015625,103.19859313964844,102.92095947265624,103.52022552490234,103.55443572998048,104.3285140991211,103.57154846191406,103.86361694335938,102.20537567138672,103.63961791992188,104.01209259033205,103.19625854492188,102.88674926757812,103.01859283447266,103.97007751464844,102.44032287597656,101.8297882080078,103.74944305419922,102.77362823486328,104.73939514160156,103.50211334228516,102.83055877685548,104.04988861083984],\"y0\":\" \",\"yaxis\":\"y\",\"type\":\"box\"}],                        {\"template\":{\"data\":{\"histogram2dcontour\":[{\"type\":\"histogram2dcontour\",\"colorbar\":{\"outlinewidth\":0,\"ticks\":\"\"},\"colorscale\":[[0.0,\"#0d0887\"],[0.1111111111111111,\"#46039f\"],[0.2222222222222222,\"#7201a8\"],[0.3333333333333333,\"#9c179e\"],[0.4444444444444444,\"#bd3786\"],[0.5555555555555556,\"#d8576b\"],[0.6666666666666666,\"#ed7953\"],[0.7777777777777778,\"#fb9f3a\"],[0.8888888888888888,\"#fdca26\"],[1.0,\"#f0f921\"]]}],\"choropleth\":[{\"type\":\"choropleth\",\"colorbar\":{\"outlinewidth\":0,\"ticks\":\"\"}}],\"histogram2d\":[{\"type\":\"histogram2d\",\"colorbar\":{\"outlinewidth\":0,\"ticks\":\"\"},\"colorscale\":[[0.0,\"#0d0887\"],[0.1111111111111111,\"#46039f\"],[0.2222222222222222,\"#7201a8\"],[0.3333333333333333,\"#9c179e\"],[0.4444444444444444,\"#bd3786\"],[0.5555555555555556,\"#d8576b\"],[0.6666666666666666,\"#ed7953\"],[0.7777777777777778,\"#fb9f3a\"],[0.8888888888888888,\"#fdca26\"],[1.0,\"#f0f921\"]]}],\"heatmap\":[{\"type\":\"heatmap\",\"colorbar\":{\"outlinewidth\":0,\"ticks\":\"\"},\"colorscale\":[[0.0,\"#0d0887\"],[0.1111111111111111,\"#46039f\"],[0.2222222222222222,\"#7201a8\"],[0.3333333333333333,\"#9c179e\"],[0.4444444444444444,\"#bd3786\"],[0.5555555555555556,\"#d8576b\"],[0.6666666666666666,\"#ed7953\"],[0.7777777777777778,\"#fb9f3a\"],[0.8888888888888888,\"#fdca26\"],[1.0,\"#f0f921\"]]}],\"heatmapgl\":[{\"type\":\"heatmapgl\",\"colorbar\":{\"outlinewidth\":0,\"ticks\":\"\"},\"colorscale\":[[0.0,\"#0d0887\"],[0.1111111111111111,\"#46039f\"],[0.2222222222222222,\"#7201a8\"],[0.3333333333333333,\"#9c179e\"],[0.4444444444444444,\"#bd3786\"],[0.5555555555555556,\"#d8576b\"],[0.6666666666666666,\"#ed7953\"],[0.7777777777777778,\"#fb9f3a\"],[0.8888888888888888,\"#fdca26\"],[1.0,\"#f0f921\"]]}],\"contourcarpet\":[{\"type\":\"contourcarpet\",\"colorbar\":{\"outlinewidth\":0,\"ticks\":\"\"}}],\"contour\":[{\"type\":\"contour\",\"colorbar\":{\"outlinewidth\":0,\"ticks\":\"\"},\"colorscale\":[[0.0,\"#0d0887\"],[0.1111111111111111,\"#46039f\"],[0.2222222222222222,\"#7201a8\"],[0.3333333333333333,\"#9c179e\"],[0.4444444444444444,\"#bd3786\"],[0.5555555555555556,\"#d8576b\"],[0.6666666666666666,\"#ed7953\"],[0.7777777777777778,\"#fb9f3a\"],[0.8888888888888888,\"#fdca26\"],[1.0,\"#f0f921\"]]}],\"surface\":[{\"type\":\"surface\",\"colorbar\":{\"outlinewidth\":0,\"ticks\":\"\"},\"colorscale\":[[0.0,\"#0d0887\"],[0.1111111111111111,\"#46039f\"],[0.2222222222222222,\"#7201a8\"],[0.3333333333333333,\"#9c179e\"],[0.4444444444444444,\"#bd3786\"],[0.5555555555555556,\"#d8576b\"],[0.6666666666666666,\"#ed7953\"],[0.7777777777777778,\"#fb9f3a\"],[0.8888888888888888,\"#fdca26\"],[1.0,\"#f0f921\"]]}],\"mesh3d\":[{\"type\":\"mesh3d\",\"colorbar\":{\"outlinewidth\":0,\"ticks\":\"\"}}],\"scatter\":[{\"fillpattern\":{\"fillmode\":\"overlay\",\"size\":10,\"solidity\":0.2},\"type\":\"scatter\"}],\"parcoords\":[{\"type\":\"parcoords\",\"line\":{\"colorbar\":{\"outlinewidth\":0,\"ticks\":\"\"}}}],\"scatterpolargl\":[{\"type\":\"scatterpolargl\",\"marker\":{\"colorbar\":{\"outlinewidth\":0,\"ticks\":\"\"}}}],\"bar\":[{\"error_x\":{\"color\":\"#2a3f5f\"},\"error_y\":{\"color\":\"#2a3f5f\"},\"marker\":{\"line\":{\"color\":\"#E5ECF6\",\"width\":0.5},\"pattern\":{\"fillmode\":\"overlay\",\"size\":10,\"solidity\":0.2}},\"type\":\"bar\"}],\"scattergeo\":[{\"type\":\"scattergeo\",\"marker\":{\"colorbar\":{\"outlinewidth\":0,\"ticks\":\"\"}}}],\"scatterpolar\":[{\"type\":\"scatterpolar\",\"marker\":{\"colorbar\":{\"outlinewidth\":0,\"ticks\":\"\"}}}],\"histogram\":[{\"marker\":{\"pattern\":{\"fillmode\":\"overlay\",\"size\":10,\"solidity\":0.2}},\"type\":\"histogram\"}],\"scattergl\":[{\"type\":\"scattergl\",\"marker\":{\"colorbar\":{\"outlinewidth\":0,\"ticks\":\"\"}}}],\"scatter3d\":[{\"type\":\"scatter3d\",\"line\":{\"colorbar\":{\"outlinewidth\":0,\"ticks\":\"\"}},\"marker\":{\"colorbar\":{\"outlinewidth\":0,\"ticks\":\"\"}}}],\"scattermapbox\":[{\"type\":\"scattermapbox\",\"marker\":{\"colorbar\":{\"outlinewidth\":0,\"ticks\":\"\"}}}],\"scatterternary\":[{\"type\":\"scatterternary\",\"marker\":{\"colorbar\":{\"outlinewidth\":0,\"ticks\":\"\"}}}],\"scattercarpet\":[{\"type\":\"scattercarpet\",\"marker\":{\"colorbar\":{\"outlinewidth\":0,\"ticks\":\"\"}}}],\"carpet\":[{\"aaxis\":{\"endlinecolor\":\"#2a3f5f\",\"gridcolor\":\"white\",\"linecolor\":\"white\",\"minorgridcolor\":\"white\",\"startlinecolor\":\"#2a3f5f\"},\"baxis\":{\"endlinecolor\":\"#2a3f5f\",\"gridcolor\":\"white\",\"linecolor\":\"white\",\"minorgridcolor\":\"white\",\"startlinecolor\":\"#2a3f5f\"},\"type\":\"carpet\"}],\"table\":[{\"cells\":{\"fill\":{\"color\":\"#EBF0F8\"},\"line\":{\"color\":\"white\"}},\"header\":{\"fill\":{\"color\":\"#C8D4E3\"},\"line\":{\"color\":\"white\"}},\"type\":\"table\"}],\"barpolar\":[{\"marker\":{\"line\":{\"color\":\"#E5ECF6\",\"width\":0.5},\"pattern\":{\"fillmode\":\"overlay\",\"size\":10,\"solidity\":0.2}},\"type\":\"barpolar\"}],\"pie\":[{\"automargin\":true,\"type\":\"pie\"}]},\"layout\":{\"autotypenumbers\":\"strict\",\"colorway\":[\"#636efa\",\"#EF553B\",\"#00cc96\",\"#ab63fa\",\"#FFA15A\",\"#19d3f3\",\"#FF6692\",\"#B6E880\",\"#FF97FF\",\"#FECB52\"],\"font\":{\"color\":\"#2a3f5f\"},\"hovermode\":\"closest\",\"hoverlabel\":{\"align\":\"left\"},\"paper_bgcolor\":\"white\",\"plot_bgcolor\":\"#E5ECF6\",\"polar\":{\"bgcolor\":\"#E5ECF6\",\"angularaxis\":{\"gridcolor\":\"white\",\"linecolor\":\"white\",\"ticks\":\"\"},\"radialaxis\":{\"gridcolor\":\"white\",\"linecolor\":\"white\",\"ticks\":\"\"}},\"ternary\":{\"bgcolor\":\"#E5ECF6\",\"aaxis\":{\"gridcolor\":\"white\",\"linecolor\":\"white\",\"ticks\":\"\"},\"baxis\":{\"gridcolor\":\"white\",\"linecolor\":\"white\",\"ticks\":\"\"},\"caxis\":{\"gridcolor\":\"white\",\"linecolor\":\"white\",\"ticks\":\"\"}},\"coloraxis\":{\"colorbar\":{\"outlinewidth\":0,\"ticks\":\"\"}},\"colorscale\":{\"sequential\":[[0.0,\"#0d0887\"],[0.1111111111111111,\"#46039f\"],[0.2222222222222222,\"#7201a8\"],[0.3333333333333333,\"#9c179e\"],[0.4444444444444444,\"#bd3786\"],[0.5555555555555556,\"#d8576b\"],[0.6666666666666666,\"#ed7953\"],[0.7777777777777778,\"#fb9f3a\"],[0.8888888888888888,\"#fdca26\"],[1.0,\"#f0f921\"]],\"sequentialminus\":[[0.0,\"#0d0887\"],[0.1111111111111111,\"#46039f\"],[0.2222222222222222,\"#7201a8\"],[0.3333333333333333,\"#9c179e\"],[0.4444444444444444,\"#bd3786\"],[0.5555555555555556,\"#d8576b\"],[0.6666666666666666,\"#ed7953\"],[0.7777777777777778,\"#fb9f3a\"],[0.8888888888888888,\"#fdca26\"],[1.0,\"#f0f921\"]],\"diverging\":[[0,\"#8e0152\"],[0.1,\"#c51b7d\"],[0.2,\"#de77ae\"],[0.3,\"#f1b6da\"],[0.4,\"#fde0ef\"],[0.5,\"#f7f7f7\"],[0.6,\"#e6f5d0\"],[0.7,\"#b8e186\"],[0.8,\"#7fbc41\"],[0.9,\"#4d9221\"],[1,\"#276419\"]]},\"xaxis\":{\"gridcolor\":\"white\",\"linecolor\":\"white\",\"ticks\":\"\",\"title\":{\"standoff\":15},\"zerolinecolor\":\"white\",\"automargin\":true,\"zerolinewidth\":2},\"yaxis\":{\"gridcolor\":\"white\",\"linecolor\":\"white\",\"ticks\":\"\",\"title\":{\"standoff\":15},\"zerolinecolor\":\"white\",\"automargin\":true,\"zerolinewidth\":2},\"scene\":{\"xaxis\":{\"backgroundcolor\":\"#E5ECF6\",\"gridcolor\":\"white\",\"linecolor\":\"white\",\"showbackground\":true,\"ticks\":\"\",\"zerolinecolor\":\"white\",\"gridwidth\":2},\"yaxis\":{\"backgroundcolor\":\"#E5ECF6\",\"gridcolor\":\"white\",\"linecolor\":\"white\",\"showbackground\":true,\"ticks\":\"\",\"zerolinecolor\":\"white\",\"gridwidth\":2},\"zaxis\":{\"backgroundcolor\":\"#E5ECF6\",\"gridcolor\":\"white\",\"linecolor\":\"white\",\"showbackground\":true,\"ticks\":\"\",\"zerolinecolor\":\"white\",\"gridwidth\":2}},\"shapedefaults\":{\"line\":{\"color\":\"#2a3f5f\"}},\"annotationdefaults\":{\"arrowcolor\":\"#2a3f5f\",\"arrowhead\":0,\"arrowwidth\":1},\"geo\":{\"bgcolor\":\"white\",\"landcolor\":\"#E5ECF6\",\"subunitcolor\":\"white\",\"showland\":true,\"showlakes\":true,\"lakecolor\":\"white\"},\"title\":{\"x\":0.05},\"mapbox\":{\"style\":\"light\"}}},\"xaxis\":{\"anchor\":\"y\",\"domain\":[0.0,1.0],\"title\":{\"text\":\"Model name\"}},\"yaxis\":{\"anchor\":\"x\",\"domain\":[0.0,1.0],\"title\":{\"text\":\"Elapsed time per sample (ms)\"}},\"legend\":{\"title\":{\"text\":\"Require gradients\"},\"tracegroupgap\":0},\"title\":{\"text\":\"Runtimes per model\"},\"boxmode\":\"group\",\"height\":500,\"width\":1400},                        {\"responsive\": true}                    ).then(function(){\n                            \nvar gd = document.getElementById('44923861-5e7e-4605-a2f5-4b273272d838');\nvar x = new MutationObserver(function (mutations, observer) {{\n        var display = window.getComputedStyle(gd).display;\n        if (!display || display === 'none') {{\n            console.log([gd, 'removed!']);\n            Plotly.purge(gd);\n            observer.disconnect();\n        }}\n}});\n\n// Listen for the removal of the full notebook cells\nvar notebookContainer = gd.closest('#notebook-container');\nif (notebookContainer) {{\n    x.observe(notebookContainer, {childList: true});\n}}\n\n// Listen for the clearing of the current output cell\nvar outputEl = gd.closest('.output');\nif (outputEl) {{\n    x.observe(outputEl, {childList: true});\n}}\n\n                        })                };                });            </script>        </div>"
     },
     "metadata": {},
     "output_type": "display_data"
    }
   ]
  },
  {
   "cell_type": "code",
   "source": [
    "fig = px.scatter(\n",
    "    results_df_batch8.query(\"requires_grad == False\").sort_values(\"top1_acc\"),\n",
    "    x=\"top1_acc\",\n",
    "    y=\"mean_time\",\n",
    "    text=\"name\",\n",
    "    # trendline=\"ols\",\n",
    "    labels=labels,\n",
    "    title=\"Top1 accuracy of model on ImageNet vs inference speed\",\n",
    "    width=800,\n",
    "    height=500\n",
    ")\n",
    "\n",
    "def improve_text_position(x):\n",
    "    \"\"\" it is more efficient if the x values are sorted \"\"\"\n",
    "    # fix indentation\n",
    "    positions = ['top right', 'bottom right', 'bottom left', 'top left']\n",
    "    return [positions[i % len(positions)] for i in range(len(x))]\n",
    "\n",
    "fig.update_traces(textposition=improve_text_position(results_df_batch8['n_params']))\n",
    "fig.show()\n",
    "fig.write_image('../plots/q11_top1_per_runtime.png')"
   ],
   "metadata": {
    "colab": {
     "base_uri": "https://localhost:8080/",
     "height": 517
    },
    "id": "86EtJUsDm3qa",
    "outputId": "d38d0e75-da11-4c3a-d847-70425e409cd1",
    "ExecuteTime": {
     "end_time": "2023-12-01T14:04:13.266625Z",
     "start_time": "2023-12-01T14:04:13.167564Z"
    }
   },
   "execution_count": 26,
   "outputs": [
    {
     "data": {
      "application/vnd.plotly.v1+json": {
       "data": [
        {
         "hovertemplate": "Top1 accuracy of model on ImageNet (%)=%{x}<br>Elapsed time per sample (ms)=%{y}<br>Model name=%{text}<extra></extra>",
         "legendgroup": "",
         "marker": {
          "color": "#636efa",
          "symbol": "circle"
         },
         "mode": "markers+text",
         "name": "",
         "orientation": "v",
         "showlegend": false,
         "text": [
          "mobilenet_v3_small",
          "vgg11",
          "resnet18",
          "vgg11_bn",
          "densenet121",
          "vit_b_32",
          "vit_s_8"
         ],
         "x": [
          67.668,
          69.02,
          69.758,
          70.37,
          74.434,
          75.912,
          80.0
         ],
         "xaxis": "x",
         "y": [
          6.923034170622467,
          25.261009237268468,
          8.411629149493049,
          27.856448961340863,
          25.525775057204225,
          20.107969466676103,
          103.5555472538389
         ],
         "yaxis": "y",
         "type": "scatter",
         "textposition": [
          "top right",
          "bottom right",
          "bottom left",
          "top left",
          "top right",
          "bottom right",
          "bottom left",
          "top left",
          "top right",
          "bottom right",
          "bottom left",
          "top left",
          "top right",
          "bottom right"
         ]
        }
       ],
       "layout": {
        "template": {
         "data": {
          "histogram2dcontour": [
           {
            "type": "histogram2dcontour",
            "colorbar": {
             "outlinewidth": 0,
             "ticks": ""
            },
            "colorscale": [
             [
              0.0,
              "#0d0887"
             ],
             [
              0.1111111111111111,
              "#46039f"
             ],
             [
              0.2222222222222222,
              "#7201a8"
             ],
             [
              0.3333333333333333,
              "#9c179e"
             ],
             [
              0.4444444444444444,
              "#bd3786"
             ],
             [
              0.5555555555555556,
              "#d8576b"
             ],
             [
              0.6666666666666666,
              "#ed7953"
             ],
             [
              0.7777777777777778,
              "#fb9f3a"
             ],
             [
              0.8888888888888888,
              "#fdca26"
             ],
             [
              1.0,
              "#f0f921"
             ]
            ]
           }
          ],
          "choropleth": [
           {
            "type": "choropleth",
            "colorbar": {
             "outlinewidth": 0,
             "ticks": ""
            }
           }
          ],
          "histogram2d": [
           {
            "type": "histogram2d",
            "colorbar": {
             "outlinewidth": 0,
             "ticks": ""
            },
            "colorscale": [
             [
              0.0,
              "#0d0887"
             ],
             [
              0.1111111111111111,
              "#46039f"
             ],
             [
              0.2222222222222222,
              "#7201a8"
             ],
             [
              0.3333333333333333,
              "#9c179e"
             ],
             [
              0.4444444444444444,
              "#bd3786"
             ],
             [
              0.5555555555555556,
              "#d8576b"
             ],
             [
              0.6666666666666666,
              "#ed7953"
             ],
             [
              0.7777777777777778,
              "#fb9f3a"
             ],
             [
              0.8888888888888888,
              "#fdca26"
             ],
             [
              1.0,
              "#f0f921"
             ]
            ]
           }
          ],
          "heatmap": [
           {
            "type": "heatmap",
            "colorbar": {
             "outlinewidth": 0,
             "ticks": ""
            },
            "colorscale": [
             [
              0.0,
              "#0d0887"
             ],
             [
              0.1111111111111111,
              "#46039f"
             ],
             [
              0.2222222222222222,
              "#7201a8"
             ],
             [
              0.3333333333333333,
              "#9c179e"
             ],
             [
              0.4444444444444444,
              "#bd3786"
             ],
             [
              0.5555555555555556,
              "#d8576b"
             ],
             [
              0.6666666666666666,
              "#ed7953"
             ],
             [
              0.7777777777777778,
              "#fb9f3a"
             ],
             [
              0.8888888888888888,
              "#fdca26"
             ],
             [
              1.0,
              "#f0f921"
             ]
            ]
           }
          ],
          "heatmapgl": [
           {
            "type": "heatmapgl",
            "colorbar": {
             "outlinewidth": 0,
             "ticks": ""
            },
            "colorscale": [
             [
              0.0,
              "#0d0887"
             ],
             [
              0.1111111111111111,
              "#46039f"
             ],
             [
              0.2222222222222222,
              "#7201a8"
             ],
             [
              0.3333333333333333,
              "#9c179e"
             ],
             [
              0.4444444444444444,
              "#bd3786"
             ],
             [
              0.5555555555555556,
              "#d8576b"
             ],
             [
              0.6666666666666666,
              "#ed7953"
             ],
             [
              0.7777777777777778,
              "#fb9f3a"
             ],
             [
              0.8888888888888888,
              "#fdca26"
             ],
             [
              1.0,
              "#f0f921"
             ]
            ]
           }
          ],
          "contourcarpet": [
           {
            "type": "contourcarpet",
            "colorbar": {
             "outlinewidth": 0,
             "ticks": ""
            }
           }
          ],
          "contour": [
           {
            "type": "contour",
            "colorbar": {
             "outlinewidth": 0,
             "ticks": ""
            },
            "colorscale": [
             [
              0.0,
              "#0d0887"
             ],
             [
              0.1111111111111111,
              "#46039f"
             ],
             [
              0.2222222222222222,
              "#7201a8"
             ],
             [
              0.3333333333333333,
              "#9c179e"
             ],
             [
              0.4444444444444444,
              "#bd3786"
             ],
             [
              0.5555555555555556,
              "#d8576b"
             ],
             [
              0.6666666666666666,
              "#ed7953"
             ],
             [
              0.7777777777777778,
              "#fb9f3a"
             ],
             [
              0.8888888888888888,
              "#fdca26"
             ],
             [
              1.0,
              "#f0f921"
             ]
            ]
           }
          ],
          "surface": [
           {
            "type": "surface",
            "colorbar": {
             "outlinewidth": 0,
             "ticks": ""
            },
            "colorscale": [
             [
              0.0,
              "#0d0887"
             ],
             [
              0.1111111111111111,
              "#46039f"
             ],
             [
              0.2222222222222222,
              "#7201a8"
             ],
             [
              0.3333333333333333,
              "#9c179e"
             ],
             [
              0.4444444444444444,
              "#bd3786"
             ],
             [
              0.5555555555555556,
              "#d8576b"
             ],
             [
              0.6666666666666666,
              "#ed7953"
             ],
             [
              0.7777777777777778,
              "#fb9f3a"
             ],
             [
              0.8888888888888888,
              "#fdca26"
             ],
             [
              1.0,
              "#f0f921"
             ]
            ]
           }
          ],
          "mesh3d": [
           {
            "type": "mesh3d",
            "colorbar": {
             "outlinewidth": 0,
             "ticks": ""
            }
           }
          ],
          "scatter": [
           {
            "fillpattern": {
             "fillmode": "overlay",
             "size": 10,
             "solidity": 0.2
            },
            "type": "scatter"
           }
          ],
          "parcoords": [
           {
            "type": "parcoords",
            "line": {
             "colorbar": {
              "outlinewidth": 0,
              "ticks": ""
             }
            }
           }
          ],
          "scatterpolargl": [
           {
            "type": "scatterpolargl",
            "marker": {
             "colorbar": {
              "outlinewidth": 0,
              "ticks": ""
             }
            }
           }
          ],
          "bar": [
           {
            "error_x": {
             "color": "#2a3f5f"
            },
            "error_y": {
             "color": "#2a3f5f"
            },
            "marker": {
             "line": {
              "color": "#E5ECF6",
              "width": 0.5
             },
             "pattern": {
              "fillmode": "overlay",
              "size": 10,
              "solidity": 0.2
             }
            },
            "type": "bar"
           }
          ],
          "scattergeo": [
           {
            "type": "scattergeo",
            "marker": {
             "colorbar": {
              "outlinewidth": 0,
              "ticks": ""
             }
            }
           }
          ],
          "scatterpolar": [
           {
            "type": "scatterpolar",
            "marker": {
             "colorbar": {
              "outlinewidth": 0,
              "ticks": ""
             }
            }
           }
          ],
          "histogram": [
           {
            "marker": {
             "pattern": {
              "fillmode": "overlay",
              "size": 10,
              "solidity": 0.2
             }
            },
            "type": "histogram"
           }
          ],
          "scattergl": [
           {
            "type": "scattergl",
            "marker": {
             "colorbar": {
              "outlinewidth": 0,
              "ticks": ""
             }
            }
           }
          ],
          "scatter3d": [
           {
            "type": "scatter3d",
            "line": {
             "colorbar": {
              "outlinewidth": 0,
              "ticks": ""
             }
            },
            "marker": {
             "colorbar": {
              "outlinewidth": 0,
              "ticks": ""
             }
            }
           }
          ],
          "scattermapbox": [
           {
            "type": "scattermapbox",
            "marker": {
             "colorbar": {
              "outlinewidth": 0,
              "ticks": ""
             }
            }
           }
          ],
          "scatterternary": [
           {
            "type": "scatterternary",
            "marker": {
             "colorbar": {
              "outlinewidth": 0,
              "ticks": ""
             }
            }
           }
          ],
          "scattercarpet": [
           {
            "type": "scattercarpet",
            "marker": {
             "colorbar": {
              "outlinewidth": 0,
              "ticks": ""
             }
            }
           }
          ],
          "carpet": [
           {
            "aaxis": {
             "endlinecolor": "#2a3f5f",
             "gridcolor": "white",
             "linecolor": "white",
             "minorgridcolor": "white",
             "startlinecolor": "#2a3f5f"
            },
            "baxis": {
             "endlinecolor": "#2a3f5f",
             "gridcolor": "white",
             "linecolor": "white",
             "minorgridcolor": "white",
             "startlinecolor": "#2a3f5f"
            },
            "type": "carpet"
           }
          ],
          "table": [
           {
            "cells": {
             "fill": {
              "color": "#EBF0F8"
             },
             "line": {
              "color": "white"
             }
            },
            "header": {
             "fill": {
              "color": "#C8D4E3"
             },
             "line": {
              "color": "white"
             }
            },
            "type": "table"
           }
          ],
          "barpolar": [
           {
            "marker": {
             "line": {
              "color": "#E5ECF6",
              "width": 0.5
             },
             "pattern": {
              "fillmode": "overlay",
              "size": 10,
              "solidity": 0.2
             }
            },
            "type": "barpolar"
           }
          ],
          "pie": [
           {
            "automargin": true,
            "type": "pie"
           }
          ]
         },
         "layout": {
          "autotypenumbers": "strict",
          "colorway": [
           "#636efa",
           "#EF553B",
           "#00cc96",
           "#ab63fa",
           "#FFA15A",
           "#19d3f3",
           "#FF6692",
           "#B6E880",
           "#FF97FF",
           "#FECB52"
          ],
          "font": {
           "color": "#2a3f5f"
          },
          "hovermode": "closest",
          "hoverlabel": {
           "align": "left"
          },
          "paper_bgcolor": "white",
          "plot_bgcolor": "#E5ECF6",
          "polar": {
           "bgcolor": "#E5ECF6",
           "angularaxis": {
            "gridcolor": "white",
            "linecolor": "white",
            "ticks": ""
           },
           "radialaxis": {
            "gridcolor": "white",
            "linecolor": "white",
            "ticks": ""
           }
          },
          "ternary": {
           "bgcolor": "#E5ECF6",
           "aaxis": {
            "gridcolor": "white",
            "linecolor": "white",
            "ticks": ""
           },
           "baxis": {
            "gridcolor": "white",
            "linecolor": "white",
            "ticks": ""
           },
           "caxis": {
            "gridcolor": "white",
            "linecolor": "white",
            "ticks": ""
           }
          },
          "coloraxis": {
           "colorbar": {
            "outlinewidth": 0,
            "ticks": ""
           }
          },
          "colorscale": {
           "sequential": [
            [
             0.0,
             "#0d0887"
            ],
            [
             0.1111111111111111,
             "#46039f"
            ],
            [
             0.2222222222222222,
             "#7201a8"
            ],
            [
             0.3333333333333333,
             "#9c179e"
            ],
            [
             0.4444444444444444,
             "#bd3786"
            ],
            [
             0.5555555555555556,
             "#d8576b"
            ],
            [
             0.6666666666666666,
             "#ed7953"
            ],
            [
             0.7777777777777778,
             "#fb9f3a"
            ],
            [
             0.8888888888888888,
             "#fdca26"
            ],
            [
             1.0,
             "#f0f921"
            ]
           ],
           "sequentialminus": [
            [
             0.0,
             "#0d0887"
            ],
            [
             0.1111111111111111,
             "#46039f"
            ],
            [
             0.2222222222222222,
             "#7201a8"
            ],
            [
             0.3333333333333333,
             "#9c179e"
            ],
            [
             0.4444444444444444,
             "#bd3786"
            ],
            [
             0.5555555555555556,
             "#d8576b"
            ],
            [
             0.6666666666666666,
             "#ed7953"
            ],
            [
             0.7777777777777778,
             "#fb9f3a"
            ],
            [
             0.8888888888888888,
             "#fdca26"
            ],
            [
             1.0,
             "#f0f921"
            ]
           ],
           "diverging": [
            [
             0,
             "#8e0152"
            ],
            [
             0.1,
             "#c51b7d"
            ],
            [
             0.2,
             "#de77ae"
            ],
            [
             0.3,
             "#f1b6da"
            ],
            [
             0.4,
             "#fde0ef"
            ],
            [
             0.5,
             "#f7f7f7"
            ],
            [
             0.6,
             "#e6f5d0"
            ],
            [
             0.7,
             "#b8e186"
            ],
            [
             0.8,
             "#7fbc41"
            ],
            [
             0.9,
             "#4d9221"
            ],
            [
             1,
             "#276419"
            ]
           ]
          },
          "xaxis": {
           "gridcolor": "white",
           "linecolor": "white",
           "ticks": "",
           "title": {
            "standoff": 15
           },
           "zerolinecolor": "white",
           "automargin": true,
           "zerolinewidth": 2
          },
          "yaxis": {
           "gridcolor": "white",
           "linecolor": "white",
           "ticks": "",
           "title": {
            "standoff": 15
           },
           "zerolinecolor": "white",
           "automargin": true,
           "zerolinewidth": 2
          },
          "scene": {
           "xaxis": {
            "backgroundcolor": "#E5ECF6",
            "gridcolor": "white",
            "linecolor": "white",
            "showbackground": true,
            "ticks": "",
            "zerolinecolor": "white",
            "gridwidth": 2
           },
           "yaxis": {
            "backgroundcolor": "#E5ECF6",
            "gridcolor": "white",
            "linecolor": "white",
            "showbackground": true,
            "ticks": "",
            "zerolinecolor": "white",
            "gridwidth": 2
           },
           "zaxis": {
            "backgroundcolor": "#E5ECF6",
            "gridcolor": "white",
            "linecolor": "white",
            "showbackground": true,
            "ticks": "",
            "zerolinecolor": "white",
            "gridwidth": 2
           }
          },
          "shapedefaults": {
           "line": {
            "color": "#2a3f5f"
           }
          },
          "annotationdefaults": {
           "arrowcolor": "#2a3f5f",
           "arrowhead": 0,
           "arrowwidth": 1
          },
          "geo": {
           "bgcolor": "white",
           "landcolor": "#E5ECF6",
           "subunitcolor": "white",
           "showland": true,
           "showlakes": true,
           "lakecolor": "white"
          },
          "title": {
           "x": 0.05
          },
          "mapbox": {
           "style": "light"
          }
         }
        },
        "xaxis": {
         "anchor": "y",
         "domain": [
          0.0,
          1.0
         ],
         "title": {
          "text": "Top1 accuracy of model on ImageNet (%)"
         }
        },
        "yaxis": {
         "anchor": "x",
         "domain": [
          0.0,
          1.0
         ],
         "title": {
          "text": "Elapsed time per sample (ms)"
         }
        },
        "legend": {
         "tracegroupgap": 0
        },
        "title": {
         "text": "Top1 accuracy of model on ImageNet vs inference speed"
        },
        "height": 500,
        "width": 800
       },
       "config": {
        "plotlyServerURL": "https://plot.ly"
       }
      },
      "text/html": "<div>                            <div id=\"5da3f9b3-afc9-43db-8a4d-cd870a8c7493\" class=\"plotly-graph-div\" style=\"height:500px; width:800px;\"></div>            <script type=\"text/javascript\">                require([\"plotly\"], function(Plotly) {                    window.PLOTLYENV=window.PLOTLYENV || {};                                    if (document.getElementById(\"5da3f9b3-afc9-43db-8a4d-cd870a8c7493\")) {                    Plotly.newPlot(                        \"5da3f9b3-afc9-43db-8a4d-cd870a8c7493\",                        [{\"hovertemplate\":\"Top1 accuracy of model on ImageNet (%)=%{x}<br>Elapsed time per sample (ms)=%{y}<br>Model name=%{text}<extra></extra>\",\"legendgroup\":\"\",\"marker\":{\"color\":\"#636efa\",\"symbol\":\"circle\"},\"mode\":\"markers+text\",\"name\":\"\",\"orientation\":\"v\",\"showlegend\":false,\"text\":[\"mobilenet_v3_small\",\"vgg11\",\"resnet18\",\"vgg11_bn\",\"densenet121\",\"vit_b_32\",\"vit_s_8\"],\"x\":[67.668,69.02,69.758,70.37,74.434,75.912,80.0],\"xaxis\":\"x\",\"y\":[6.923034170622467,25.261009237268468,8.411629149493049,27.856448961340863,25.525775057204225,20.107969466676103,103.5555472538389],\"yaxis\":\"y\",\"type\":\"scatter\",\"textposition\":[\"top right\",\"bottom right\",\"bottom left\",\"top left\",\"top right\",\"bottom right\",\"bottom left\",\"top left\",\"top right\",\"bottom right\",\"bottom left\",\"top left\",\"top right\",\"bottom right\"]}],                        {\"template\":{\"data\":{\"histogram2dcontour\":[{\"type\":\"histogram2dcontour\",\"colorbar\":{\"outlinewidth\":0,\"ticks\":\"\"},\"colorscale\":[[0.0,\"#0d0887\"],[0.1111111111111111,\"#46039f\"],[0.2222222222222222,\"#7201a8\"],[0.3333333333333333,\"#9c179e\"],[0.4444444444444444,\"#bd3786\"],[0.5555555555555556,\"#d8576b\"],[0.6666666666666666,\"#ed7953\"],[0.7777777777777778,\"#fb9f3a\"],[0.8888888888888888,\"#fdca26\"],[1.0,\"#f0f921\"]]}],\"choropleth\":[{\"type\":\"choropleth\",\"colorbar\":{\"outlinewidth\":0,\"ticks\":\"\"}}],\"histogram2d\":[{\"type\":\"histogram2d\",\"colorbar\":{\"outlinewidth\":0,\"ticks\":\"\"},\"colorscale\":[[0.0,\"#0d0887\"],[0.1111111111111111,\"#46039f\"],[0.2222222222222222,\"#7201a8\"],[0.3333333333333333,\"#9c179e\"],[0.4444444444444444,\"#bd3786\"],[0.5555555555555556,\"#d8576b\"],[0.6666666666666666,\"#ed7953\"],[0.7777777777777778,\"#fb9f3a\"],[0.8888888888888888,\"#fdca26\"],[1.0,\"#f0f921\"]]}],\"heatmap\":[{\"type\":\"heatmap\",\"colorbar\":{\"outlinewidth\":0,\"ticks\":\"\"},\"colorscale\":[[0.0,\"#0d0887\"],[0.1111111111111111,\"#46039f\"],[0.2222222222222222,\"#7201a8\"],[0.3333333333333333,\"#9c179e\"],[0.4444444444444444,\"#bd3786\"],[0.5555555555555556,\"#d8576b\"],[0.6666666666666666,\"#ed7953\"],[0.7777777777777778,\"#fb9f3a\"],[0.8888888888888888,\"#fdca26\"],[1.0,\"#f0f921\"]]}],\"heatmapgl\":[{\"type\":\"heatmapgl\",\"colorbar\":{\"outlinewidth\":0,\"ticks\":\"\"},\"colorscale\":[[0.0,\"#0d0887\"],[0.1111111111111111,\"#46039f\"],[0.2222222222222222,\"#7201a8\"],[0.3333333333333333,\"#9c179e\"],[0.4444444444444444,\"#bd3786\"],[0.5555555555555556,\"#d8576b\"],[0.6666666666666666,\"#ed7953\"],[0.7777777777777778,\"#fb9f3a\"],[0.8888888888888888,\"#fdca26\"],[1.0,\"#f0f921\"]]}],\"contourcarpet\":[{\"type\":\"contourcarpet\",\"colorbar\":{\"outlinewidth\":0,\"ticks\":\"\"}}],\"contour\":[{\"type\":\"contour\",\"colorbar\":{\"outlinewidth\":0,\"ticks\":\"\"},\"colorscale\":[[0.0,\"#0d0887\"],[0.1111111111111111,\"#46039f\"],[0.2222222222222222,\"#7201a8\"],[0.3333333333333333,\"#9c179e\"],[0.4444444444444444,\"#bd3786\"],[0.5555555555555556,\"#d8576b\"],[0.6666666666666666,\"#ed7953\"],[0.7777777777777778,\"#fb9f3a\"],[0.8888888888888888,\"#fdca26\"],[1.0,\"#f0f921\"]]}],\"surface\":[{\"type\":\"surface\",\"colorbar\":{\"outlinewidth\":0,\"ticks\":\"\"},\"colorscale\":[[0.0,\"#0d0887\"],[0.1111111111111111,\"#46039f\"],[0.2222222222222222,\"#7201a8\"],[0.3333333333333333,\"#9c179e\"],[0.4444444444444444,\"#bd3786\"],[0.5555555555555556,\"#d8576b\"],[0.6666666666666666,\"#ed7953\"],[0.7777777777777778,\"#fb9f3a\"],[0.8888888888888888,\"#fdca26\"],[1.0,\"#f0f921\"]]}],\"mesh3d\":[{\"type\":\"mesh3d\",\"colorbar\":{\"outlinewidth\":0,\"ticks\":\"\"}}],\"scatter\":[{\"fillpattern\":{\"fillmode\":\"overlay\",\"size\":10,\"solidity\":0.2},\"type\":\"scatter\"}],\"parcoords\":[{\"type\":\"parcoords\",\"line\":{\"colorbar\":{\"outlinewidth\":0,\"ticks\":\"\"}}}],\"scatterpolargl\":[{\"type\":\"scatterpolargl\",\"marker\":{\"colorbar\":{\"outlinewidth\":0,\"ticks\":\"\"}}}],\"bar\":[{\"error_x\":{\"color\":\"#2a3f5f\"},\"error_y\":{\"color\":\"#2a3f5f\"},\"marker\":{\"line\":{\"color\":\"#E5ECF6\",\"width\":0.5},\"pattern\":{\"fillmode\":\"overlay\",\"size\":10,\"solidity\":0.2}},\"type\":\"bar\"}],\"scattergeo\":[{\"type\":\"scattergeo\",\"marker\":{\"colorbar\":{\"outlinewidth\":0,\"ticks\":\"\"}}}],\"scatterpolar\":[{\"type\":\"scatterpolar\",\"marker\":{\"colorbar\":{\"outlinewidth\":0,\"ticks\":\"\"}}}],\"histogram\":[{\"marker\":{\"pattern\":{\"fillmode\":\"overlay\",\"size\":10,\"solidity\":0.2}},\"type\":\"histogram\"}],\"scattergl\":[{\"type\":\"scattergl\",\"marker\":{\"colorbar\":{\"outlinewidth\":0,\"ticks\":\"\"}}}],\"scatter3d\":[{\"type\":\"scatter3d\",\"line\":{\"colorbar\":{\"outlinewidth\":0,\"ticks\":\"\"}},\"marker\":{\"colorbar\":{\"outlinewidth\":0,\"ticks\":\"\"}}}],\"scattermapbox\":[{\"type\":\"scattermapbox\",\"marker\":{\"colorbar\":{\"outlinewidth\":0,\"ticks\":\"\"}}}],\"scatterternary\":[{\"type\":\"scatterternary\",\"marker\":{\"colorbar\":{\"outlinewidth\":0,\"ticks\":\"\"}}}],\"scattercarpet\":[{\"type\":\"scattercarpet\",\"marker\":{\"colorbar\":{\"outlinewidth\":0,\"ticks\":\"\"}}}],\"carpet\":[{\"aaxis\":{\"endlinecolor\":\"#2a3f5f\",\"gridcolor\":\"white\",\"linecolor\":\"white\",\"minorgridcolor\":\"white\",\"startlinecolor\":\"#2a3f5f\"},\"baxis\":{\"endlinecolor\":\"#2a3f5f\",\"gridcolor\":\"white\",\"linecolor\":\"white\",\"minorgridcolor\":\"white\",\"startlinecolor\":\"#2a3f5f\"},\"type\":\"carpet\"}],\"table\":[{\"cells\":{\"fill\":{\"color\":\"#EBF0F8\"},\"line\":{\"color\":\"white\"}},\"header\":{\"fill\":{\"color\":\"#C8D4E3\"},\"line\":{\"color\":\"white\"}},\"type\":\"table\"}],\"barpolar\":[{\"marker\":{\"line\":{\"color\":\"#E5ECF6\",\"width\":0.5},\"pattern\":{\"fillmode\":\"overlay\",\"size\":10,\"solidity\":0.2}},\"type\":\"barpolar\"}],\"pie\":[{\"automargin\":true,\"type\":\"pie\"}]},\"layout\":{\"autotypenumbers\":\"strict\",\"colorway\":[\"#636efa\",\"#EF553B\",\"#00cc96\",\"#ab63fa\",\"#FFA15A\",\"#19d3f3\",\"#FF6692\",\"#B6E880\",\"#FF97FF\",\"#FECB52\"],\"font\":{\"color\":\"#2a3f5f\"},\"hovermode\":\"closest\",\"hoverlabel\":{\"align\":\"left\"},\"paper_bgcolor\":\"white\",\"plot_bgcolor\":\"#E5ECF6\",\"polar\":{\"bgcolor\":\"#E5ECF6\",\"angularaxis\":{\"gridcolor\":\"white\",\"linecolor\":\"white\",\"ticks\":\"\"},\"radialaxis\":{\"gridcolor\":\"white\",\"linecolor\":\"white\",\"ticks\":\"\"}},\"ternary\":{\"bgcolor\":\"#E5ECF6\",\"aaxis\":{\"gridcolor\":\"white\",\"linecolor\":\"white\",\"ticks\":\"\"},\"baxis\":{\"gridcolor\":\"white\",\"linecolor\":\"white\",\"ticks\":\"\"},\"caxis\":{\"gridcolor\":\"white\",\"linecolor\":\"white\",\"ticks\":\"\"}},\"coloraxis\":{\"colorbar\":{\"outlinewidth\":0,\"ticks\":\"\"}},\"colorscale\":{\"sequential\":[[0.0,\"#0d0887\"],[0.1111111111111111,\"#46039f\"],[0.2222222222222222,\"#7201a8\"],[0.3333333333333333,\"#9c179e\"],[0.4444444444444444,\"#bd3786\"],[0.5555555555555556,\"#d8576b\"],[0.6666666666666666,\"#ed7953\"],[0.7777777777777778,\"#fb9f3a\"],[0.8888888888888888,\"#fdca26\"],[1.0,\"#f0f921\"]],\"sequentialminus\":[[0.0,\"#0d0887\"],[0.1111111111111111,\"#46039f\"],[0.2222222222222222,\"#7201a8\"],[0.3333333333333333,\"#9c179e\"],[0.4444444444444444,\"#bd3786\"],[0.5555555555555556,\"#d8576b\"],[0.6666666666666666,\"#ed7953\"],[0.7777777777777778,\"#fb9f3a\"],[0.8888888888888888,\"#fdca26\"],[1.0,\"#f0f921\"]],\"diverging\":[[0,\"#8e0152\"],[0.1,\"#c51b7d\"],[0.2,\"#de77ae\"],[0.3,\"#f1b6da\"],[0.4,\"#fde0ef\"],[0.5,\"#f7f7f7\"],[0.6,\"#e6f5d0\"],[0.7,\"#b8e186\"],[0.8,\"#7fbc41\"],[0.9,\"#4d9221\"],[1,\"#276419\"]]},\"xaxis\":{\"gridcolor\":\"white\",\"linecolor\":\"white\",\"ticks\":\"\",\"title\":{\"standoff\":15},\"zerolinecolor\":\"white\",\"automargin\":true,\"zerolinewidth\":2},\"yaxis\":{\"gridcolor\":\"white\",\"linecolor\":\"white\",\"ticks\":\"\",\"title\":{\"standoff\":15},\"zerolinecolor\":\"white\",\"automargin\":true,\"zerolinewidth\":2},\"scene\":{\"xaxis\":{\"backgroundcolor\":\"#E5ECF6\",\"gridcolor\":\"white\",\"linecolor\":\"white\",\"showbackground\":true,\"ticks\":\"\",\"zerolinecolor\":\"white\",\"gridwidth\":2},\"yaxis\":{\"backgroundcolor\":\"#E5ECF6\",\"gridcolor\":\"white\",\"linecolor\":\"white\",\"showbackground\":true,\"ticks\":\"\",\"zerolinecolor\":\"white\",\"gridwidth\":2},\"zaxis\":{\"backgroundcolor\":\"#E5ECF6\",\"gridcolor\":\"white\",\"linecolor\":\"white\",\"showbackground\":true,\"ticks\":\"\",\"zerolinecolor\":\"white\",\"gridwidth\":2}},\"shapedefaults\":{\"line\":{\"color\":\"#2a3f5f\"}},\"annotationdefaults\":{\"arrowcolor\":\"#2a3f5f\",\"arrowhead\":0,\"arrowwidth\":1},\"geo\":{\"bgcolor\":\"white\",\"landcolor\":\"#E5ECF6\",\"subunitcolor\":\"white\",\"showland\":true,\"showlakes\":true,\"lakecolor\":\"white\"},\"title\":{\"x\":0.05},\"mapbox\":{\"style\":\"light\"}}},\"xaxis\":{\"anchor\":\"y\",\"domain\":[0.0,1.0],\"title\":{\"text\":\"Top1 accuracy of model on ImageNet (%)\"}},\"yaxis\":{\"anchor\":\"x\",\"domain\":[0.0,1.0],\"title\":{\"text\":\"Elapsed time per sample (ms)\"}},\"legend\":{\"tracegroupgap\":0},\"title\":{\"text\":\"Top1 accuracy of model on ImageNet vs inference speed\"},\"height\":500,\"width\":800},                        {\"responsive\": true}                    ).then(function(){\n                            \nvar gd = document.getElementById('5da3f9b3-afc9-43db-8a4d-cd870a8c7493');\nvar x = new MutationObserver(function (mutations, observer) {{\n        var display = window.getComputedStyle(gd).display;\n        if (!display || display === 'none') {{\n            console.log([gd, 'removed!']);\n            Plotly.purge(gd);\n            observer.disconnect();\n        }}\n}});\n\n// Listen for the removal of the full notebook cells\nvar notebookContainer = gd.closest('#notebook-container');\nif (notebookContainer) {{\n    x.observe(notebookContainer, {childList: true});\n}}\n\n// Listen for the clearing of the current output cell\nvar outputEl = gd.closest('.output');\nif (outputEl) {{\n    x.observe(outputEl, {childList: true});\n}}\n\n                        })                };                });            </script>        </div>"
     },
     "metadata": {},
     "output_type": "display_data"
    }
   ]
  },
  {
   "cell_type": "code",
   "source": [
    "\n",
    "fig = px.scatter(\n",
    "    results_df_batch8.sort_values(\"n_params\"),\n",
    "    x=\"n_params\",\n",
    "    y=\"mean_time\",\n",
    "    text=\"name\",\n",
    "    labels=labels,\n",
    "    title=\"Mean forward pass time per batch as a function of model size, without and with gradient calculation\",\n",
    "    facet_col=\"requires_grad\",\n",
    "    width=1200,\n",
    "    height=500\n",
    ")\n",
    "\n",
    "fig.update_traces(textposition=improve_text_position(results_df_batch8['n_params']))\n",
    "fig.show()\n",
    "fig.write_image('../plots/q11_runtime_per_model_size.png')"
   ],
   "metadata": {
    "colab": {
     "base_uri": "https://localhost:8080/",
     "height": 537
    },
    "id": "_u5-3Jr-gvEz",
    "outputId": "5df69a95-8290-4181-c7b9-746c649c5986",
    "ExecuteTime": {
     "end_time": "2023-12-01T14:04:17.413663Z",
     "start_time": "2023-12-01T14:04:17.302992Z"
    }
   },
   "execution_count": 27,
   "outputs": [
    {
     "data": {
      "application/vnd.plotly.v1+json": {
       "data": [
        {
         "hovertemplate": "Require gradients=False<br>Number of model parameters=%{x}<br>Elapsed time per sample (ms)=%{y}<br>Model name=%{text}<extra></extra>",
         "legendgroup": "",
         "marker": {
          "color": "#636efa",
          "symbol": "circle"
         },
         "mode": "markers+text",
         "name": "",
         "orientation": "v",
         "showlegend": false,
         "text": [
          "mobilenet_v3_small",
          "densenet121",
          "resnet18",
          "vit_s_8",
          "vit_b_32",
          "vgg11",
          "vgg11_bn"
         ],
         "x": [
          2542856,
          7978856,
          11689512,
          21670272,
          88224232,
          132863336,
          132868840
         ],
         "xaxis": "x",
         "y": [
          6.923034170622467,
          25.525775057204225,
          8.411629149493049,
          103.5555472538389,
          20.107969466676103,
          25.261009237268468,
          27.856448961340863
         ],
         "yaxis": "y",
         "type": "scatter",
         "textposition": [
          "top right",
          "bottom right",
          "bottom left",
          "top left",
          "top right",
          "bottom right",
          "bottom left",
          "top left",
          "top right",
          "bottom right",
          "bottom left",
          "top left",
          "top right",
          "bottom right"
         ]
        },
        {
         "hovertemplate": "Require gradients=True<br>Number of model parameters=%{x}<br>Elapsed time per sample (ms)=%{y}<br>Model name=%{text}<extra></extra>",
         "legendgroup": "",
         "marker": {
          "color": "#636efa",
          "symbol": "circle"
         },
         "mode": "markers+text",
         "name": "",
         "orientation": "v",
         "showlegend": false,
         "text": [
          "mobilenet_v3_small",
          "densenet121",
          "resnet18",
          "vit_s_8",
          "vit_b_32",
          "vgg11",
          "vgg11_bn"
         ],
         "x": [
          2542856,
          7978856,
          11689512,
          21670272,
          88224232,
          132863336,
          132868840
         ],
         "xaxis": "x2",
         "y": [
          9.22746463488507,
          35.526817836761474,
          8.571956975960438,
          107.47114354913884,
          21.788518985949064,
          25.436799018613755,
          28.6790177420284
         ],
         "yaxis": "y2",
         "type": "scatter",
         "textposition": [
          "top right",
          "bottom right",
          "bottom left",
          "top left",
          "top right",
          "bottom right",
          "bottom left",
          "top left",
          "top right",
          "bottom right",
          "bottom left",
          "top left",
          "top right",
          "bottom right"
         ]
        }
       ],
       "layout": {
        "template": {
         "data": {
          "histogram2dcontour": [
           {
            "type": "histogram2dcontour",
            "colorbar": {
             "outlinewidth": 0,
             "ticks": ""
            },
            "colorscale": [
             [
              0.0,
              "#0d0887"
             ],
             [
              0.1111111111111111,
              "#46039f"
             ],
             [
              0.2222222222222222,
              "#7201a8"
             ],
             [
              0.3333333333333333,
              "#9c179e"
             ],
             [
              0.4444444444444444,
              "#bd3786"
             ],
             [
              0.5555555555555556,
              "#d8576b"
             ],
             [
              0.6666666666666666,
              "#ed7953"
             ],
             [
              0.7777777777777778,
              "#fb9f3a"
             ],
             [
              0.8888888888888888,
              "#fdca26"
             ],
             [
              1.0,
              "#f0f921"
             ]
            ]
           }
          ],
          "choropleth": [
           {
            "type": "choropleth",
            "colorbar": {
             "outlinewidth": 0,
             "ticks": ""
            }
           }
          ],
          "histogram2d": [
           {
            "type": "histogram2d",
            "colorbar": {
             "outlinewidth": 0,
             "ticks": ""
            },
            "colorscale": [
             [
              0.0,
              "#0d0887"
             ],
             [
              0.1111111111111111,
              "#46039f"
             ],
             [
              0.2222222222222222,
              "#7201a8"
             ],
             [
              0.3333333333333333,
              "#9c179e"
             ],
             [
              0.4444444444444444,
              "#bd3786"
             ],
             [
              0.5555555555555556,
              "#d8576b"
             ],
             [
              0.6666666666666666,
              "#ed7953"
             ],
             [
              0.7777777777777778,
              "#fb9f3a"
             ],
             [
              0.8888888888888888,
              "#fdca26"
             ],
             [
              1.0,
              "#f0f921"
             ]
            ]
           }
          ],
          "heatmap": [
           {
            "type": "heatmap",
            "colorbar": {
             "outlinewidth": 0,
             "ticks": ""
            },
            "colorscale": [
             [
              0.0,
              "#0d0887"
             ],
             [
              0.1111111111111111,
              "#46039f"
             ],
             [
              0.2222222222222222,
              "#7201a8"
             ],
             [
              0.3333333333333333,
              "#9c179e"
             ],
             [
              0.4444444444444444,
              "#bd3786"
             ],
             [
              0.5555555555555556,
              "#d8576b"
             ],
             [
              0.6666666666666666,
              "#ed7953"
             ],
             [
              0.7777777777777778,
              "#fb9f3a"
             ],
             [
              0.8888888888888888,
              "#fdca26"
             ],
             [
              1.0,
              "#f0f921"
             ]
            ]
           }
          ],
          "heatmapgl": [
           {
            "type": "heatmapgl",
            "colorbar": {
             "outlinewidth": 0,
             "ticks": ""
            },
            "colorscale": [
             [
              0.0,
              "#0d0887"
             ],
             [
              0.1111111111111111,
              "#46039f"
             ],
             [
              0.2222222222222222,
              "#7201a8"
             ],
             [
              0.3333333333333333,
              "#9c179e"
             ],
             [
              0.4444444444444444,
              "#bd3786"
             ],
             [
              0.5555555555555556,
              "#d8576b"
             ],
             [
              0.6666666666666666,
              "#ed7953"
             ],
             [
              0.7777777777777778,
              "#fb9f3a"
             ],
             [
              0.8888888888888888,
              "#fdca26"
             ],
             [
              1.0,
              "#f0f921"
             ]
            ]
           }
          ],
          "contourcarpet": [
           {
            "type": "contourcarpet",
            "colorbar": {
             "outlinewidth": 0,
             "ticks": ""
            }
           }
          ],
          "contour": [
           {
            "type": "contour",
            "colorbar": {
             "outlinewidth": 0,
             "ticks": ""
            },
            "colorscale": [
             [
              0.0,
              "#0d0887"
             ],
             [
              0.1111111111111111,
              "#46039f"
             ],
             [
              0.2222222222222222,
              "#7201a8"
             ],
             [
              0.3333333333333333,
              "#9c179e"
             ],
             [
              0.4444444444444444,
              "#bd3786"
             ],
             [
              0.5555555555555556,
              "#d8576b"
             ],
             [
              0.6666666666666666,
              "#ed7953"
             ],
             [
              0.7777777777777778,
              "#fb9f3a"
             ],
             [
              0.8888888888888888,
              "#fdca26"
             ],
             [
              1.0,
              "#f0f921"
             ]
            ]
           }
          ],
          "surface": [
           {
            "type": "surface",
            "colorbar": {
             "outlinewidth": 0,
             "ticks": ""
            },
            "colorscale": [
             [
              0.0,
              "#0d0887"
             ],
             [
              0.1111111111111111,
              "#46039f"
             ],
             [
              0.2222222222222222,
              "#7201a8"
             ],
             [
              0.3333333333333333,
              "#9c179e"
             ],
             [
              0.4444444444444444,
              "#bd3786"
             ],
             [
              0.5555555555555556,
              "#d8576b"
             ],
             [
              0.6666666666666666,
              "#ed7953"
             ],
             [
              0.7777777777777778,
              "#fb9f3a"
             ],
             [
              0.8888888888888888,
              "#fdca26"
             ],
             [
              1.0,
              "#f0f921"
             ]
            ]
           }
          ],
          "mesh3d": [
           {
            "type": "mesh3d",
            "colorbar": {
             "outlinewidth": 0,
             "ticks": ""
            }
           }
          ],
          "scatter": [
           {
            "fillpattern": {
             "fillmode": "overlay",
             "size": 10,
             "solidity": 0.2
            },
            "type": "scatter"
           }
          ],
          "parcoords": [
           {
            "type": "parcoords",
            "line": {
             "colorbar": {
              "outlinewidth": 0,
              "ticks": ""
             }
            }
           }
          ],
          "scatterpolargl": [
           {
            "type": "scatterpolargl",
            "marker": {
             "colorbar": {
              "outlinewidth": 0,
              "ticks": ""
             }
            }
           }
          ],
          "bar": [
           {
            "error_x": {
             "color": "#2a3f5f"
            },
            "error_y": {
             "color": "#2a3f5f"
            },
            "marker": {
             "line": {
              "color": "#E5ECF6",
              "width": 0.5
             },
             "pattern": {
              "fillmode": "overlay",
              "size": 10,
              "solidity": 0.2
             }
            },
            "type": "bar"
           }
          ],
          "scattergeo": [
           {
            "type": "scattergeo",
            "marker": {
             "colorbar": {
              "outlinewidth": 0,
              "ticks": ""
             }
            }
           }
          ],
          "scatterpolar": [
           {
            "type": "scatterpolar",
            "marker": {
             "colorbar": {
              "outlinewidth": 0,
              "ticks": ""
             }
            }
           }
          ],
          "histogram": [
           {
            "marker": {
             "pattern": {
              "fillmode": "overlay",
              "size": 10,
              "solidity": 0.2
             }
            },
            "type": "histogram"
           }
          ],
          "scattergl": [
           {
            "type": "scattergl",
            "marker": {
             "colorbar": {
              "outlinewidth": 0,
              "ticks": ""
             }
            }
           }
          ],
          "scatter3d": [
           {
            "type": "scatter3d",
            "line": {
             "colorbar": {
              "outlinewidth": 0,
              "ticks": ""
             }
            },
            "marker": {
             "colorbar": {
              "outlinewidth": 0,
              "ticks": ""
             }
            }
           }
          ],
          "scattermapbox": [
           {
            "type": "scattermapbox",
            "marker": {
             "colorbar": {
              "outlinewidth": 0,
              "ticks": ""
             }
            }
           }
          ],
          "scatterternary": [
           {
            "type": "scatterternary",
            "marker": {
             "colorbar": {
              "outlinewidth": 0,
              "ticks": ""
             }
            }
           }
          ],
          "scattercarpet": [
           {
            "type": "scattercarpet",
            "marker": {
             "colorbar": {
              "outlinewidth": 0,
              "ticks": ""
             }
            }
           }
          ],
          "carpet": [
           {
            "aaxis": {
             "endlinecolor": "#2a3f5f",
             "gridcolor": "white",
             "linecolor": "white",
             "minorgridcolor": "white",
             "startlinecolor": "#2a3f5f"
            },
            "baxis": {
             "endlinecolor": "#2a3f5f",
             "gridcolor": "white",
             "linecolor": "white",
             "minorgridcolor": "white",
             "startlinecolor": "#2a3f5f"
            },
            "type": "carpet"
           }
          ],
          "table": [
           {
            "cells": {
             "fill": {
              "color": "#EBF0F8"
             },
             "line": {
              "color": "white"
             }
            },
            "header": {
             "fill": {
              "color": "#C8D4E3"
             },
             "line": {
              "color": "white"
             }
            },
            "type": "table"
           }
          ],
          "barpolar": [
           {
            "marker": {
             "line": {
              "color": "#E5ECF6",
              "width": 0.5
             },
             "pattern": {
              "fillmode": "overlay",
              "size": 10,
              "solidity": 0.2
             }
            },
            "type": "barpolar"
           }
          ],
          "pie": [
           {
            "automargin": true,
            "type": "pie"
           }
          ]
         },
         "layout": {
          "autotypenumbers": "strict",
          "colorway": [
           "#636efa",
           "#EF553B",
           "#00cc96",
           "#ab63fa",
           "#FFA15A",
           "#19d3f3",
           "#FF6692",
           "#B6E880",
           "#FF97FF",
           "#FECB52"
          ],
          "font": {
           "color": "#2a3f5f"
          },
          "hovermode": "closest",
          "hoverlabel": {
           "align": "left"
          },
          "paper_bgcolor": "white",
          "plot_bgcolor": "#E5ECF6",
          "polar": {
           "bgcolor": "#E5ECF6",
           "angularaxis": {
            "gridcolor": "white",
            "linecolor": "white",
            "ticks": ""
           },
           "radialaxis": {
            "gridcolor": "white",
            "linecolor": "white",
            "ticks": ""
           }
          },
          "ternary": {
           "bgcolor": "#E5ECF6",
           "aaxis": {
            "gridcolor": "white",
            "linecolor": "white",
            "ticks": ""
           },
           "baxis": {
            "gridcolor": "white",
            "linecolor": "white",
            "ticks": ""
           },
           "caxis": {
            "gridcolor": "white",
            "linecolor": "white",
            "ticks": ""
           }
          },
          "coloraxis": {
           "colorbar": {
            "outlinewidth": 0,
            "ticks": ""
           }
          },
          "colorscale": {
           "sequential": [
            [
             0.0,
             "#0d0887"
            ],
            [
             0.1111111111111111,
             "#46039f"
            ],
            [
             0.2222222222222222,
             "#7201a8"
            ],
            [
             0.3333333333333333,
             "#9c179e"
            ],
            [
             0.4444444444444444,
             "#bd3786"
            ],
            [
             0.5555555555555556,
             "#d8576b"
            ],
            [
             0.6666666666666666,
             "#ed7953"
            ],
            [
             0.7777777777777778,
             "#fb9f3a"
            ],
            [
             0.8888888888888888,
             "#fdca26"
            ],
            [
             1.0,
             "#f0f921"
            ]
           ],
           "sequentialminus": [
            [
             0.0,
             "#0d0887"
            ],
            [
             0.1111111111111111,
             "#46039f"
            ],
            [
             0.2222222222222222,
             "#7201a8"
            ],
            [
             0.3333333333333333,
             "#9c179e"
            ],
            [
             0.4444444444444444,
             "#bd3786"
            ],
            [
             0.5555555555555556,
             "#d8576b"
            ],
            [
             0.6666666666666666,
             "#ed7953"
            ],
            [
             0.7777777777777778,
             "#fb9f3a"
            ],
            [
             0.8888888888888888,
             "#fdca26"
            ],
            [
             1.0,
             "#f0f921"
            ]
           ],
           "diverging": [
            [
             0,
             "#8e0152"
            ],
            [
             0.1,
             "#c51b7d"
            ],
            [
             0.2,
             "#de77ae"
            ],
            [
             0.3,
             "#f1b6da"
            ],
            [
             0.4,
             "#fde0ef"
            ],
            [
             0.5,
             "#f7f7f7"
            ],
            [
             0.6,
             "#e6f5d0"
            ],
            [
             0.7,
             "#b8e186"
            ],
            [
             0.8,
             "#7fbc41"
            ],
            [
             0.9,
             "#4d9221"
            ],
            [
             1,
             "#276419"
            ]
           ]
          },
          "xaxis": {
           "gridcolor": "white",
           "linecolor": "white",
           "ticks": "",
           "title": {
            "standoff": 15
           },
           "zerolinecolor": "white",
           "automargin": true,
           "zerolinewidth": 2
          },
          "yaxis": {
           "gridcolor": "white",
           "linecolor": "white",
           "ticks": "",
           "title": {
            "standoff": 15
           },
           "zerolinecolor": "white",
           "automargin": true,
           "zerolinewidth": 2
          },
          "scene": {
           "xaxis": {
            "backgroundcolor": "#E5ECF6",
            "gridcolor": "white",
            "linecolor": "white",
            "showbackground": true,
            "ticks": "",
            "zerolinecolor": "white",
            "gridwidth": 2
           },
           "yaxis": {
            "backgroundcolor": "#E5ECF6",
            "gridcolor": "white",
            "linecolor": "white",
            "showbackground": true,
            "ticks": "",
            "zerolinecolor": "white",
            "gridwidth": 2
           },
           "zaxis": {
            "backgroundcolor": "#E5ECF6",
            "gridcolor": "white",
            "linecolor": "white",
            "showbackground": true,
            "ticks": "",
            "zerolinecolor": "white",
            "gridwidth": 2
           }
          },
          "shapedefaults": {
           "line": {
            "color": "#2a3f5f"
           }
          },
          "annotationdefaults": {
           "arrowcolor": "#2a3f5f",
           "arrowhead": 0,
           "arrowwidth": 1
          },
          "geo": {
           "bgcolor": "white",
           "landcolor": "#E5ECF6",
           "subunitcolor": "white",
           "showland": true,
           "showlakes": true,
           "lakecolor": "white"
          },
          "title": {
           "x": 0.05
          },
          "mapbox": {
           "style": "light"
          }
         }
        },
        "xaxis": {
         "anchor": "y",
         "domain": [
          0.0,
          0.49
         ],
         "title": {
          "text": "Number of model parameters"
         }
        },
        "yaxis": {
         "anchor": "x",
         "domain": [
          0.0,
          1.0
         ],
         "title": {
          "text": "Elapsed time per sample (ms)"
         }
        },
        "xaxis2": {
         "anchor": "y2",
         "domain": [
          0.51,
          1.0
         ],
         "matches": "x",
         "title": {
          "text": "Number of model parameters"
         }
        },
        "yaxis2": {
         "anchor": "x2",
         "domain": [
          0.0,
          1.0
         ],
         "matches": "y",
         "showticklabels": false
        },
        "annotations": [
         {
          "font": {},
          "showarrow": false,
          "text": "Require gradients=False",
          "x": 0.245,
          "xanchor": "center",
          "xref": "paper",
          "y": 1.0,
          "yanchor": "bottom",
          "yref": "paper"
         },
         {
          "font": {},
          "showarrow": false,
          "text": "Require gradients=True",
          "x": 0.755,
          "xanchor": "center",
          "xref": "paper",
          "y": 1.0,
          "yanchor": "bottom",
          "yref": "paper"
         }
        ],
        "legend": {
         "tracegroupgap": 0
        },
        "title": {
         "text": "Mean forward pass time per batch as a function of model size, without and with gradient calculation"
        },
        "height": 500,
        "width": 1200
       },
       "config": {
        "plotlyServerURL": "https://plot.ly"
       }
      },
      "text/html": "<div>                            <div id=\"3674de5e-ba37-46fd-9e26-0e2617882a1d\" class=\"plotly-graph-div\" style=\"height:500px; width:1200px;\"></div>            <script type=\"text/javascript\">                require([\"plotly\"], function(Plotly) {                    window.PLOTLYENV=window.PLOTLYENV || {};                                    if (document.getElementById(\"3674de5e-ba37-46fd-9e26-0e2617882a1d\")) {                    Plotly.newPlot(                        \"3674de5e-ba37-46fd-9e26-0e2617882a1d\",                        [{\"hovertemplate\":\"Require gradients=False<br>Number of model parameters=%{x}<br>Elapsed time per sample (ms)=%{y}<br>Model name=%{text}<extra></extra>\",\"legendgroup\":\"\",\"marker\":{\"color\":\"#636efa\",\"symbol\":\"circle\"},\"mode\":\"markers+text\",\"name\":\"\",\"orientation\":\"v\",\"showlegend\":false,\"text\":[\"mobilenet_v3_small\",\"densenet121\",\"resnet18\",\"vit_s_8\",\"vit_b_32\",\"vgg11\",\"vgg11_bn\"],\"x\":[2542856,7978856,11689512,21670272,88224232,132863336,132868840],\"xaxis\":\"x\",\"y\":[6.923034170622467,25.525775057204225,8.411629149493049,103.5555472538389,20.107969466676103,25.261009237268468,27.856448961340863],\"yaxis\":\"y\",\"type\":\"scatter\",\"textposition\":[\"top right\",\"bottom right\",\"bottom left\",\"top left\",\"top right\",\"bottom right\",\"bottom left\",\"top left\",\"top right\",\"bottom right\",\"bottom left\",\"top left\",\"top right\",\"bottom right\"]},{\"hovertemplate\":\"Require gradients=True<br>Number of model parameters=%{x}<br>Elapsed time per sample (ms)=%{y}<br>Model name=%{text}<extra></extra>\",\"legendgroup\":\"\",\"marker\":{\"color\":\"#636efa\",\"symbol\":\"circle\"},\"mode\":\"markers+text\",\"name\":\"\",\"orientation\":\"v\",\"showlegend\":false,\"text\":[\"mobilenet_v3_small\",\"densenet121\",\"resnet18\",\"vit_s_8\",\"vit_b_32\",\"vgg11\",\"vgg11_bn\"],\"x\":[2542856,7978856,11689512,21670272,88224232,132863336,132868840],\"xaxis\":\"x2\",\"y\":[9.22746463488507,35.526817836761474,8.571956975960438,107.47114354913884,21.788518985949064,25.436799018613755,28.6790177420284],\"yaxis\":\"y2\",\"type\":\"scatter\",\"textposition\":[\"top right\",\"bottom right\",\"bottom left\",\"top left\",\"top right\",\"bottom right\",\"bottom left\",\"top left\",\"top right\",\"bottom right\",\"bottom left\",\"top left\",\"top right\",\"bottom right\"]}],                        {\"template\":{\"data\":{\"histogram2dcontour\":[{\"type\":\"histogram2dcontour\",\"colorbar\":{\"outlinewidth\":0,\"ticks\":\"\"},\"colorscale\":[[0.0,\"#0d0887\"],[0.1111111111111111,\"#46039f\"],[0.2222222222222222,\"#7201a8\"],[0.3333333333333333,\"#9c179e\"],[0.4444444444444444,\"#bd3786\"],[0.5555555555555556,\"#d8576b\"],[0.6666666666666666,\"#ed7953\"],[0.7777777777777778,\"#fb9f3a\"],[0.8888888888888888,\"#fdca26\"],[1.0,\"#f0f921\"]]}],\"choropleth\":[{\"type\":\"choropleth\",\"colorbar\":{\"outlinewidth\":0,\"ticks\":\"\"}}],\"histogram2d\":[{\"type\":\"histogram2d\",\"colorbar\":{\"outlinewidth\":0,\"ticks\":\"\"},\"colorscale\":[[0.0,\"#0d0887\"],[0.1111111111111111,\"#46039f\"],[0.2222222222222222,\"#7201a8\"],[0.3333333333333333,\"#9c179e\"],[0.4444444444444444,\"#bd3786\"],[0.5555555555555556,\"#d8576b\"],[0.6666666666666666,\"#ed7953\"],[0.7777777777777778,\"#fb9f3a\"],[0.8888888888888888,\"#fdca26\"],[1.0,\"#f0f921\"]]}],\"heatmap\":[{\"type\":\"heatmap\",\"colorbar\":{\"outlinewidth\":0,\"ticks\":\"\"},\"colorscale\":[[0.0,\"#0d0887\"],[0.1111111111111111,\"#46039f\"],[0.2222222222222222,\"#7201a8\"],[0.3333333333333333,\"#9c179e\"],[0.4444444444444444,\"#bd3786\"],[0.5555555555555556,\"#d8576b\"],[0.6666666666666666,\"#ed7953\"],[0.7777777777777778,\"#fb9f3a\"],[0.8888888888888888,\"#fdca26\"],[1.0,\"#f0f921\"]]}],\"heatmapgl\":[{\"type\":\"heatmapgl\",\"colorbar\":{\"outlinewidth\":0,\"ticks\":\"\"},\"colorscale\":[[0.0,\"#0d0887\"],[0.1111111111111111,\"#46039f\"],[0.2222222222222222,\"#7201a8\"],[0.3333333333333333,\"#9c179e\"],[0.4444444444444444,\"#bd3786\"],[0.5555555555555556,\"#d8576b\"],[0.6666666666666666,\"#ed7953\"],[0.7777777777777778,\"#fb9f3a\"],[0.8888888888888888,\"#fdca26\"],[1.0,\"#f0f921\"]]}],\"contourcarpet\":[{\"type\":\"contourcarpet\",\"colorbar\":{\"outlinewidth\":0,\"ticks\":\"\"}}],\"contour\":[{\"type\":\"contour\",\"colorbar\":{\"outlinewidth\":0,\"ticks\":\"\"},\"colorscale\":[[0.0,\"#0d0887\"],[0.1111111111111111,\"#46039f\"],[0.2222222222222222,\"#7201a8\"],[0.3333333333333333,\"#9c179e\"],[0.4444444444444444,\"#bd3786\"],[0.5555555555555556,\"#d8576b\"],[0.6666666666666666,\"#ed7953\"],[0.7777777777777778,\"#fb9f3a\"],[0.8888888888888888,\"#fdca26\"],[1.0,\"#f0f921\"]]}],\"surface\":[{\"type\":\"surface\",\"colorbar\":{\"outlinewidth\":0,\"ticks\":\"\"},\"colorscale\":[[0.0,\"#0d0887\"],[0.1111111111111111,\"#46039f\"],[0.2222222222222222,\"#7201a8\"],[0.3333333333333333,\"#9c179e\"],[0.4444444444444444,\"#bd3786\"],[0.5555555555555556,\"#d8576b\"],[0.6666666666666666,\"#ed7953\"],[0.7777777777777778,\"#fb9f3a\"],[0.8888888888888888,\"#fdca26\"],[1.0,\"#f0f921\"]]}],\"mesh3d\":[{\"type\":\"mesh3d\",\"colorbar\":{\"outlinewidth\":0,\"ticks\":\"\"}}],\"scatter\":[{\"fillpattern\":{\"fillmode\":\"overlay\",\"size\":10,\"solidity\":0.2},\"type\":\"scatter\"}],\"parcoords\":[{\"type\":\"parcoords\",\"line\":{\"colorbar\":{\"outlinewidth\":0,\"ticks\":\"\"}}}],\"scatterpolargl\":[{\"type\":\"scatterpolargl\",\"marker\":{\"colorbar\":{\"outlinewidth\":0,\"ticks\":\"\"}}}],\"bar\":[{\"error_x\":{\"color\":\"#2a3f5f\"},\"error_y\":{\"color\":\"#2a3f5f\"},\"marker\":{\"line\":{\"color\":\"#E5ECF6\",\"width\":0.5},\"pattern\":{\"fillmode\":\"overlay\",\"size\":10,\"solidity\":0.2}},\"type\":\"bar\"}],\"scattergeo\":[{\"type\":\"scattergeo\",\"marker\":{\"colorbar\":{\"outlinewidth\":0,\"ticks\":\"\"}}}],\"scatterpolar\":[{\"type\":\"scatterpolar\",\"marker\":{\"colorbar\":{\"outlinewidth\":0,\"ticks\":\"\"}}}],\"histogram\":[{\"marker\":{\"pattern\":{\"fillmode\":\"overlay\",\"size\":10,\"solidity\":0.2}},\"type\":\"histogram\"}],\"scattergl\":[{\"type\":\"scattergl\",\"marker\":{\"colorbar\":{\"outlinewidth\":0,\"ticks\":\"\"}}}],\"scatter3d\":[{\"type\":\"scatter3d\",\"line\":{\"colorbar\":{\"outlinewidth\":0,\"ticks\":\"\"}},\"marker\":{\"colorbar\":{\"outlinewidth\":0,\"ticks\":\"\"}}}],\"scattermapbox\":[{\"type\":\"scattermapbox\",\"marker\":{\"colorbar\":{\"outlinewidth\":0,\"ticks\":\"\"}}}],\"scatterternary\":[{\"type\":\"scatterternary\",\"marker\":{\"colorbar\":{\"outlinewidth\":0,\"ticks\":\"\"}}}],\"scattercarpet\":[{\"type\":\"scattercarpet\",\"marker\":{\"colorbar\":{\"outlinewidth\":0,\"ticks\":\"\"}}}],\"carpet\":[{\"aaxis\":{\"endlinecolor\":\"#2a3f5f\",\"gridcolor\":\"white\",\"linecolor\":\"white\",\"minorgridcolor\":\"white\",\"startlinecolor\":\"#2a3f5f\"},\"baxis\":{\"endlinecolor\":\"#2a3f5f\",\"gridcolor\":\"white\",\"linecolor\":\"white\",\"minorgridcolor\":\"white\",\"startlinecolor\":\"#2a3f5f\"},\"type\":\"carpet\"}],\"table\":[{\"cells\":{\"fill\":{\"color\":\"#EBF0F8\"},\"line\":{\"color\":\"white\"}},\"header\":{\"fill\":{\"color\":\"#C8D4E3\"},\"line\":{\"color\":\"white\"}},\"type\":\"table\"}],\"barpolar\":[{\"marker\":{\"line\":{\"color\":\"#E5ECF6\",\"width\":0.5},\"pattern\":{\"fillmode\":\"overlay\",\"size\":10,\"solidity\":0.2}},\"type\":\"barpolar\"}],\"pie\":[{\"automargin\":true,\"type\":\"pie\"}]},\"layout\":{\"autotypenumbers\":\"strict\",\"colorway\":[\"#636efa\",\"#EF553B\",\"#00cc96\",\"#ab63fa\",\"#FFA15A\",\"#19d3f3\",\"#FF6692\",\"#B6E880\",\"#FF97FF\",\"#FECB52\"],\"font\":{\"color\":\"#2a3f5f\"},\"hovermode\":\"closest\",\"hoverlabel\":{\"align\":\"left\"},\"paper_bgcolor\":\"white\",\"plot_bgcolor\":\"#E5ECF6\",\"polar\":{\"bgcolor\":\"#E5ECF6\",\"angularaxis\":{\"gridcolor\":\"white\",\"linecolor\":\"white\",\"ticks\":\"\"},\"radialaxis\":{\"gridcolor\":\"white\",\"linecolor\":\"white\",\"ticks\":\"\"}},\"ternary\":{\"bgcolor\":\"#E5ECF6\",\"aaxis\":{\"gridcolor\":\"white\",\"linecolor\":\"white\",\"ticks\":\"\"},\"baxis\":{\"gridcolor\":\"white\",\"linecolor\":\"white\",\"ticks\":\"\"},\"caxis\":{\"gridcolor\":\"white\",\"linecolor\":\"white\",\"ticks\":\"\"}},\"coloraxis\":{\"colorbar\":{\"outlinewidth\":0,\"ticks\":\"\"}},\"colorscale\":{\"sequential\":[[0.0,\"#0d0887\"],[0.1111111111111111,\"#46039f\"],[0.2222222222222222,\"#7201a8\"],[0.3333333333333333,\"#9c179e\"],[0.4444444444444444,\"#bd3786\"],[0.5555555555555556,\"#d8576b\"],[0.6666666666666666,\"#ed7953\"],[0.7777777777777778,\"#fb9f3a\"],[0.8888888888888888,\"#fdca26\"],[1.0,\"#f0f921\"]],\"sequentialminus\":[[0.0,\"#0d0887\"],[0.1111111111111111,\"#46039f\"],[0.2222222222222222,\"#7201a8\"],[0.3333333333333333,\"#9c179e\"],[0.4444444444444444,\"#bd3786\"],[0.5555555555555556,\"#d8576b\"],[0.6666666666666666,\"#ed7953\"],[0.7777777777777778,\"#fb9f3a\"],[0.8888888888888888,\"#fdca26\"],[1.0,\"#f0f921\"]],\"diverging\":[[0,\"#8e0152\"],[0.1,\"#c51b7d\"],[0.2,\"#de77ae\"],[0.3,\"#f1b6da\"],[0.4,\"#fde0ef\"],[0.5,\"#f7f7f7\"],[0.6,\"#e6f5d0\"],[0.7,\"#b8e186\"],[0.8,\"#7fbc41\"],[0.9,\"#4d9221\"],[1,\"#276419\"]]},\"xaxis\":{\"gridcolor\":\"white\",\"linecolor\":\"white\",\"ticks\":\"\",\"title\":{\"standoff\":15},\"zerolinecolor\":\"white\",\"automargin\":true,\"zerolinewidth\":2},\"yaxis\":{\"gridcolor\":\"white\",\"linecolor\":\"white\",\"ticks\":\"\",\"title\":{\"standoff\":15},\"zerolinecolor\":\"white\",\"automargin\":true,\"zerolinewidth\":2},\"scene\":{\"xaxis\":{\"backgroundcolor\":\"#E5ECF6\",\"gridcolor\":\"white\",\"linecolor\":\"white\",\"showbackground\":true,\"ticks\":\"\",\"zerolinecolor\":\"white\",\"gridwidth\":2},\"yaxis\":{\"backgroundcolor\":\"#E5ECF6\",\"gridcolor\":\"white\",\"linecolor\":\"white\",\"showbackground\":true,\"ticks\":\"\",\"zerolinecolor\":\"white\",\"gridwidth\":2},\"zaxis\":{\"backgroundcolor\":\"#E5ECF6\",\"gridcolor\":\"white\",\"linecolor\":\"white\",\"showbackground\":true,\"ticks\":\"\",\"zerolinecolor\":\"white\",\"gridwidth\":2}},\"shapedefaults\":{\"line\":{\"color\":\"#2a3f5f\"}},\"annotationdefaults\":{\"arrowcolor\":\"#2a3f5f\",\"arrowhead\":0,\"arrowwidth\":1},\"geo\":{\"bgcolor\":\"white\",\"landcolor\":\"#E5ECF6\",\"subunitcolor\":\"white\",\"showland\":true,\"showlakes\":true,\"lakecolor\":\"white\"},\"title\":{\"x\":0.05},\"mapbox\":{\"style\":\"light\"}}},\"xaxis\":{\"anchor\":\"y\",\"domain\":[0.0,0.49],\"title\":{\"text\":\"Number of model parameters\"}},\"yaxis\":{\"anchor\":\"x\",\"domain\":[0.0,1.0],\"title\":{\"text\":\"Elapsed time per sample (ms)\"}},\"xaxis2\":{\"anchor\":\"y2\",\"domain\":[0.51,1.0],\"matches\":\"x\",\"title\":{\"text\":\"Number of model parameters\"}},\"yaxis2\":{\"anchor\":\"x2\",\"domain\":[0.0,1.0],\"matches\":\"y\",\"showticklabels\":false},\"annotations\":[{\"font\":{},\"showarrow\":false,\"text\":\"Require gradients=False\",\"x\":0.245,\"xanchor\":\"center\",\"xref\":\"paper\",\"y\":1.0,\"yanchor\":\"bottom\",\"yref\":\"paper\"},{\"font\":{},\"showarrow\":false,\"text\":\"Require gradients=True\",\"x\":0.755,\"xanchor\":\"center\",\"xref\":\"paper\",\"y\":1.0,\"yanchor\":\"bottom\",\"yref\":\"paper\"}],\"legend\":{\"tracegroupgap\":0},\"title\":{\"text\":\"Mean forward pass time per batch as a function of model size, without and with gradient calculation\"},\"height\":500,\"width\":1200},                        {\"responsive\": true}                    ).then(function(){\n                            \nvar gd = document.getElementById('3674de5e-ba37-46fd-9e26-0e2617882a1d');\nvar x = new MutationObserver(function (mutations, observer) {{\n        var display = window.getComputedStyle(gd).display;\n        if (!display || display === 'none') {{\n            console.log([gd, 'removed!']);\n            Plotly.purge(gd);\n            observer.disconnect();\n        }}\n}});\n\n// Listen for the removal of the full notebook cells\nvar notebookContainer = gd.closest('#notebook-container');\nif (notebookContainer) {{\n    x.observe(notebookContainer, {childList: true});\n}}\n\n// Listen for the clearing of the current output cell\nvar outputEl = gd.closest('.output');\nif (outputEl) {{\n    x.observe(outputEl, {childList: true});\n}}\n\n                        })                };                });            </script>        </div>"
     },
     "metadata": {},
     "output_type": "display_data"
    }
   ]
  },
  {
   "cell_type": "code",
   "source": [
    "fig = px.bar(\n",
    "    results_df_batch64,\n",
    "    x=\"name\",\n",
    "    y=\"mean_vram\",\n",
    "    color=\"requires_grad\",\n",
    "    barmode=\"group\",\n",
    "    labels=labels,\n",
    "    title=\"VRAM usage during forward pass per model, without and with gradient calculation\",\n",
    "    width=800,\n",
    "    height=500\n",
    ")\n",
    "\n",
    "fig.show()\n",
    "fig.write_image('../plots/q11_vram_per_model_size.png')"
   ],
   "metadata": {
    "colab": {
     "base_uri": "https://localhost:8080/",
     "height": 517
    },
    "id": "btfZ2pRGbZav",
    "outputId": "10463ac4-9beb-4b86-f2ae-a47b5af9d7fa",
    "ExecuteTime": {
     "end_time": "2023-12-01T14:04:20.351135Z",
     "start_time": "2023-12-01T14:04:20.235778Z"
    }
   },
   "execution_count": 28,
   "outputs": [
    {
     "data": {
      "application/vnd.plotly.v1+json": {
       "data": [
        {
         "alignmentgroup": "True",
         "hovertemplate": "Require gradients=False<br>Model name=%{x}<br>Amount of VRAM used during forward pass (MB)=%{y}<extra></extra>",
         "legendgroup": "False",
         "marker": {
          "color": "#636efa",
          "pattern": {
           "shape": ""
          }
         },
         "name": "False",
         "offsetgroup": "False",
         "orientation": "v",
         "showlegend": true,
         "textposition": "auto",
         "x": [
          "vit_s_8",
          "vit_b_32",
          "vgg11",
          "vgg11_bn",
          "resnet18",
          "densenet121",
          "mobilenet_v3_small"
         ],
         "xaxis": "x",
         "y": [
          183.284375,
          340.8732421875,
          507.208984375,
          510.9552734375,
          48.38984375,
          38.25771484375,
          9.80517578125
         ],
         "yaxis": "y",
         "type": "bar"
        },
        {
         "alignmentgroup": "True",
         "hovertemplate": "Require gradients=True<br>Model name=%{x}<br>Amount of VRAM used during forward pass (MB)=%{y}<extra></extra>",
         "legendgroup": "True",
         "marker": {
          "color": "#EF553B",
          "pattern": {
           "shape": ""
          }
         },
         "name": "True",
         "offsetgroup": "True",
         "orientation": "v",
         "showlegend": true,
         "textposition": "auto",
         "x": [
          "vit_s_8",
          "vit_b_32",
          "vgg11",
          "vgg11_bn",
          "resnet18",
          "densenet121",
          "mobilenet_v3_small"
         ],
         "xaxis": "x",
         "y": [
          8701.6162109375,
          535.48427734375,
          805.3583984375,
          1466.158984375,
          44.6904296875,
          30.85888671875,
          9.80517578125
         ],
         "yaxis": "y",
         "type": "bar"
        }
       ],
       "layout": {
        "template": {
         "data": {
          "histogram2dcontour": [
           {
            "type": "histogram2dcontour",
            "colorbar": {
             "outlinewidth": 0,
             "ticks": ""
            },
            "colorscale": [
             [
              0.0,
              "#0d0887"
             ],
             [
              0.1111111111111111,
              "#46039f"
             ],
             [
              0.2222222222222222,
              "#7201a8"
             ],
             [
              0.3333333333333333,
              "#9c179e"
             ],
             [
              0.4444444444444444,
              "#bd3786"
             ],
             [
              0.5555555555555556,
              "#d8576b"
             ],
             [
              0.6666666666666666,
              "#ed7953"
             ],
             [
              0.7777777777777778,
              "#fb9f3a"
             ],
             [
              0.8888888888888888,
              "#fdca26"
             ],
             [
              1.0,
              "#f0f921"
             ]
            ]
           }
          ],
          "choropleth": [
           {
            "type": "choropleth",
            "colorbar": {
             "outlinewidth": 0,
             "ticks": ""
            }
           }
          ],
          "histogram2d": [
           {
            "type": "histogram2d",
            "colorbar": {
             "outlinewidth": 0,
             "ticks": ""
            },
            "colorscale": [
             [
              0.0,
              "#0d0887"
             ],
             [
              0.1111111111111111,
              "#46039f"
             ],
             [
              0.2222222222222222,
              "#7201a8"
             ],
             [
              0.3333333333333333,
              "#9c179e"
             ],
             [
              0.4444444444444444,
              "#bd3786"
             ],
             [
              0.5555555555555556,
              "#d8576b"
             ],
             [
              0.6666666666666666,
              "#ed7953"
             ],
             [
              0.7777777777777778,
              "#fb9f3a"
             ],
             [
              0.8888888888888888,
              "#fdca26"
             ],
             [
              1.0,
              "#f0f921"
             ]
            ]
           }
          ],
          "heatmap": [
           {
            "type": "heatmap",
            "colorbar": {
             "outlinewidth": 0,
             "ticks": ""
            },
            "colorscale": [
             [
              0.0,
              "#0d0887"
             ],
             [
              0.1111111111111111,
              "#46039f"
             ],
             [
              0.2222222222222222,
              "#7201a8"
             ],
             [
              0.3333333333333333,
              "#9c179e"
             ],
             [
              0.4444444444444444,
              "#bd3786"
             ],
             [
              0.5555555555555556,
              "#d8576b"
             ],
             [
              0.6666666666666666,
              "#ed7953"
             ],
             [
              0.7777777777777778,
              "#fb9f3a"
             ],
             [
              0.8888888888888888,
              "#fdca26"
             ],
             [
              1.0,
              "#f0f921"
             ]
            ]
           }
          ],
          "heatmapgl": [
           {
            "type": "heatmapgl",
            "colorbar": {
             "outlinewidth": 0,
             "ticks": ""
            },
            "colorscale": [
             [
              0.0,
              "#0d0887"
             ],
             [
              0.1111111111111111,
              "#46039f"
             ],
             [
              0.2222222222222222,
              "#7201a8"
             ],
             [
              0.3333333333333333,
              "#9c179e"
             ],
             [
              0.4444444444444444,
              "#bd3786"
             ],
             [
              0.5555555555555556,
              "#d8576b"
             ],
             [
              0.6666666666666666,
              "#ed7953"
             ],
             [
              0.7777777777777778,
              "#fb9f3a"
             ],
             [
              0.8888888888888888,
              "#fdca26"
             ],
             [
              1.0,
              "#f0f921"
             ]
            ]
           }
          ],
          "contourcarpet": [
           {
            "type": "contourcarpet",
            "colorbar": {
             "outlinewidth": 0,
             "ticks": ""
            }
           }
          ],
          "contour": [
           {
            "type": "contour",
            "colorbar": {
             "outlinewidth": 0,
             "ticks": ""
            },
            "colorscale": [
             [
              0.0,
              "#0d0887"
             ],
             [
              0.1111111111111111,
              "#46039f"
             ],
             [
              0.2222222222222222,
              "#7201a8"
             ],
             [
              0.3333333333333333,
              "#9c179e"
             ],
             [
              0.4444444444444444,
              "#bd3786"
             ],
             [
              0.5555555555555556,
              "#d8576b"
             ],
             [
              0.6666666666666666,
              "#ed7953"
             ],
             [
              0.7777777777777778,
              "#fb9f3a"
             ],
             [
              0.8888888888888888,
              "#fdca26"
             ],
             [
              1.0,
              "#f0f921"
             ]
            ]
           }
          ],
          "surface": [
           {
            "type": "surface",
            "colorbar": {
             "outlinewidth": 0,
             "ticks": ""
            },
            "colorscale": [
             [
              0.0,
              "#0d0887"
             ],
             [
              0.1111111111111111,
              "#46039f"
             ],
             [
              0.2222222222222222,
              "#7201a8"
             ],
             [
              0.3333333333333333,
              "#9c179e"
             ],
             [
              0.4444444444444444,
              "#bd3786"
             ],
             [
              0.5555555555555556,
              "#d8576b"
             ],
             [
              0.6666666666666666,
              "#ed7953"
             ],
             [
              0.7777777777777778,
              "#fb9f3a"
             ],
             [
              0.8888888888888888,
              "#fdca26"
             ],
             [
              1.0,
              "#f0f921"
             ]
            ]
           }
          ],
          "mesh3d": [
           {
            "type": "mesh3d",
            "colorbar": {
             "outlinewidth": 0,
             "ticks": ""
            }
           }
          ],
          "scatter": [
           {
            "fillpattern": {
             "fillmode": "overlay",
             "size": 10,
             "solidity": 0.2
            },
            "type": "scatter"
           }
          ],
          "parcoords": [
           {
            "type": "parcoords",
            "line": {
             "colorbar": {
              "outlinewidth": 0,
              "ticks": ""
             }
            }
           }
          ],
          "scatterpolargl": [
           {
            "type": "scatterpolargl",
            "marker": {
             "colorbar": {
              "outlinewidth": 0,
              "ticks": ""
             }
            }
           }
          ],
          "bar": [
           {
            "error_x": {
             "color": "#2a3f5f"
            },
            "error_y": {
             "color": "#2a3f5f"
            },
            "marker": {
             "line": {
              "color": "#E5ECF6",
              "width": 0.5
             },
             "pattern": {
              "fillmode": "overlay",
              "size": 10,
              "solidity": 0.2
             }
            },
            "type": "bar"
           }
          ],
          "scattergeo": [
           {
            "type": "scattergeo",
            "marker": {
             "colorbar": {
              "outlinewidth": 0,
              "ticks": ""
             }
            }
           }
          ],
          "scatterpolar": [
           {
            "type": "scatterpolar",
            "marker": {
             "colorbar": {
              "outlinewidth": 0,
              "ticks": ""
             }
            }
           }
          ],
          "histogram": [
           {
            "marker": {
             "pattern": {
              "fillmode": "overlay",
              "size": 10,
              "solidity": 0.2
             }
            },
            "type": "histogram"
           }
          ],
          "scattergl": [
           {
            "type": "scattergl",
            "marker": {
             "colorbar": {
              "outlinewidth": 0,
              "ticks": ""
             }
            }
           }
          ],
          "scatter3d": [
           {
            "type": "scatter3d",
            "line": {
             "colorbar": {
              "outlinewidth": 0,
              "ticks": ""
             }
            },
            "marker": {
             "colorbar": {
              "outlinewidth": 0,
              "ticks": ""
             }
            }
           }
          ],
          "scattermapbox": [
           {
            "type": "scattermapbox",
            "marker": {
             "colorbar": {
              "outlinewidth": 0,
              "ticks": ""
             }
            }
           }
          ],
          "scatterternary": [
           {
            "type": "scatterternary",
            "marker": {
             "colorbar": {
              "outlinewidth": 0,
              "ticks": ""
             }
            }
           }
          ],
          "scattercarpet": [
           {
            "type": "scattercarpet",
            "marker": {
             "colorbar": {
              "outlinewidth": 0,
              "ticks": ""
             }
            }
           }
          ],
          "carpet": [
           {
            "aaxis": {
             "endlinecolor": "#2a3f5f",
             "gridcolor": "white",
             "linecolor": "white",
             "minorgridcolor": "white",
             "startlinecolor": "#2a3f5f"
            },
            "baxis": {
             "endlinecolor": "#2a3f5f",
             "gridcolor": "white",
             "linecolor": "white",
             "minorgridcolor": "white",
             "startlinecolor": "#2a3f5f"
            },
            "type": "carpet"
           }
          ],
          "table": [
           {
            "cells": {
             "fill": {
              "color": "#EBF0F8"
             },
             "line": {
              "color": "white"
             }
            },
            "header": {
             "fill": {
              "color": "#C8D4E3"
             },
             "line": {
              "color": "white"
             }
            },
            "type": "table"
           }
          ],
          "barpolar": [
           {
            "marker": {
             "line": {
              "color": "#E5ECF6",
              "width": 0.5
             },
             "pattern": {
              "fillmode": "overlay",
              "size": 10,
              "solidity": 0.2
             }
            },
            "type": "barpolar"
           }
          ],
          "pie": [
           {
            "automargin": true,
            "type": "pie"
           }
          ]
         },
         "layout": {
          "autotypenumbers": "strict",
          "colorway": [
           "#636efa",
           "#EF553B",
           "#00cc96",
           "#ab63fa",
           "#FFA15A",
           "#19d3f3",
           "#FF6692",
           "#B6E880",
           "#FF97FF",
           "#FECB52"
          ],
          "font": {
           "color": "#2a3f5f"
          },
          "hovermode": "closest",
          "hoverlabel": {
           "align": "left"
          },
          "paper_bgcolor": "white",
          "plot_bgcolor": "#E5ECF6",
          "polar": {
           "bgcolor": "#E5ECF6",
           "angularaxis": {
            "gridcolor": "white",
            "linecolor": "white",
            "ticks": ""
           },
           "radialaxis": {
            "gridcolor": "white",
            "linecolor": "white",
            "ticks": ""
           }
          },
          "ternary": {
           "bgcolor": "#E5ECF6",
           "aaxis": {
            "gridcolor": "white",
            "linecolor": "white",
            "ticks": ""
           },
           "baxis": {
            "gridcolor": "white",
            "linecolor": "white",
            "ticks": ""
           },
           "caxis": {
            "gridcolor": "white",
            "linecolor": "white",
            "ticks": ""
           }
          },
          "coloraxis": {
           "colorbar": {
            "outlinewidth": 0,
            "ticks": ""
           }
          },
          "colorscale": {
           "sequential": [
            [
             0.0,
             "#0d0887"
            ],
            [
             0.1111111111111111,
             "#46039f"
            ],
            [
             0.2222222222222222,
             "#7201a8"
            ],
            [
             0.3333333333333333,
             "#9c179e"
            ],
            [
             0.4444444444444444,
             "#bd3786"
            ],
            [
             0.5555555555555556,
             "#d8576b"
            ],
            [
             0.6666666666666666,
             "#ed7953"
            ],
            [
             0.7777777777777778,
             "#fb9f3a"
            ],
            [
             0.8888888888888888,
             "#fdca26"
            ],
            [
             1.0,
             "#f0f921"
            ]
           ],
           "sequentialminus": [
            [
             0.0,
             "#0d0887"
            ],
            [
             0.1111111111111111,
             "#46039f"
            ],
            [
             0.2222222222222222,
             "#7201a8"
            ],
            [
             0.3333333333333333,
             "#9c179e"
            ],
            [
             0.4444444444444444,
             "#bd3786"
            ],
            [
             0.5555555555555556,
             "#d8576b"
            ],
            [
             0.6666666666666666,
             "#ed7953"
            ],
            [
             0.7777777777777778,
             "#fb9f3a"
            ],
            [
             0.8888888888888888,
             "#fdca26"
            ],
            [
             1.0,
             "#f0f921"
            ]
           ],
           "diverging": [
            [
             0,
             "#8e0152"
            ],
            [
             0.1,
             "#c51b7d"
            ],
            [
             0.2,
             "#de77ae"
            ],
            [
             0.3,
             "#f1b6da"
            ],
            [
             0.4,
             "#fde0ef"
            ],
            [
             0.5,
             "#f7f7f7"
            ],
            [
             0.6,
             "#e6f5d0"
            ],
            [
             0.7,
             "#b8e186"
            ],
            [
             0.8,
             "#7fbc41"
            ],
            [
             0.9,
             "#4d9221"
            ],
            [
             1,
             "#276419"
            ]
           ]
          },
          "xaxis": {
           "gridcolor": "white",
           "linecolor": "white",
           "ticks": "",
           "title": {
            "standoff": 15
           },
           "zerolinecolor": "white",
           "automargin": true,
           "zerolinewidth": 2
          },
          "yaxis": {
           "gridcolor": "white",
           "linecolor": "white",
           "ticks": "",
           "title": {
            "standoff": 15
           },
           "zerolinecolor": "white",
           "automargin": true,
           "zerolinewidth": 2
          },
          "scene": {
           "xaxis": {
            "backgroundcolor": "#E5ECF6",
            "gridcolor": "white",
            "linecolor": "white",
            "showbackground": true,
            "ticks": "",
            "zerolinecolor": "white",
            "gridwidth": 2
           },
           "yaxis": {
            "backgroundcolor": "#E5ECF6",
            "gridcolor": "white",
            "linecolor": "white",
            "showbackground": true,
            "ticks": "",
            "zerolinecolor": "white",
            "gridwidth": 2
           },
           "zaxis": {
            "backgroundcolor": "#E5ECF6",
            "gridcolor": "white",
            "linecolor": "white",
            "showbackground": true,
            "ticks": "",
            "zerolinecolor": "white",
            "gridwidth": 2
           }
          },
          "shapedefaults": {
           "line": {
            "color": "#2a3f5f"
           }
          },
          "annotationdefaults": {
           "arrowcolor": "#2a3f5f",
           "arrowhead": 0,
           "arrowwidth": 1
          },
          "geo": {
           "bgcolor": "white",
           "landcolor": "#E5ECF6",
           "subunitcolor": "white",
           "showland": true,
           "showlakes": true,
           "lakecolor": "white"
          },
          "title": {
           "x": 0.05
          },
          "mapbox": {
           "style": "light"
          }
         }
        },
        "xaxis": {
         "anchor": "y",
         "domain": [
          0.0,
          1.0
         ],
         "title": {
          "text": "Model name"
         }
        },
        "yaxis": {
         "anchor": "x",
         "domain": [
          0.0,
          1.0
         ],
         "title": {
          "text": "Amount of VRAM used during forward pass (MB)"
         }
        },
        "legend": {
         "title": {
          "text": "Require gradients"
         },
         "tracegroupgap": 0
        },
        "title": {
         "text": "VRAM usage during forward pass per model, without and with gradient calculation"
        },
        "barmode": "group",
        "height": 500,
        "width": 800
       },
       "config": {
        "plotlyServerURL": "https://plot.ly"
       }
      },
      "text/html": "<div>                            <div id=\"cf997468-2a73-4138-b82f-2dab2eedbe65\" class=\"plotly-graph-div\" style=\"height:500px; width:800px;\"></div>            <script type=\"text/javascript\">                require([\"plotly\"], function(Plotly) {                    window.PLOTLYENV=window.PLOTLYENV || {};                                    if (document.getElementById(\"cf997468-2a73-4138-b82f-2dab2eedbe65\")) {                    Plotly.newPlot(                        \"cf997468-2a73-4138-b82f-2dab2eedbe65\",                        [{\"alignmentgroup\":\"True\",\"hovertemplate\":\"Require gradients=False<br>Model name=%{x}<br>Amount of VRAM used during forward pass (MB)=%{y}<extra></extra>\",\"legendgroup\":\"False\",\"marker\":{\"color\":\"#636efa\",\"pattern\":{\"shape\":\"\"}},\"name\":\"False\",\"offsetgroup\":\"False\",\"orientation\":\"v\",\"showlegend\":true,\"textposition\":\"auto\",\"x\":[\"vit_s_8\",\"vit_b_32\",\"vgg11\",\"vgg11_bn\",\"resnet18\",\"densenet121\",\"mobilenet_v3_small\"],\"xaxis\":\"x\",\"y\":[183.284375,340.8732421875,507.208984375,510.9552734375,48.38984375,38.25771484375,9.80517578125],\"yaxis\":\"y\",\"type\":\"bar\"},{\"alignmentgroup\":\"True\",\"hovertemplate\":\"Require gradients=True<br>Model name=%{x}<br>Amount of VRAM used during forward pass (MB)=%{y}<extra></extra>\",\"legendgroup\":\"True\",\"marker\":{\"color\":\"#EF553B\",\"pattern\":{\"shape\":\"\"}},\"name\":\"True\",\"offsetgroup\":\"True\",\"orientation\":\"v\",\"showlegend\":true,\"textposition\":\"auto\",\"x\":[\"vit_s_8\",\"vit_b_32\",\"vgg11\",\"vgg11_bn\",\"resnet18\",\"densenet121\",\"mobilenet_v3_small\"],\"xaxis\":\"x\",\"y\":[8701.6162109375,535.48427734375,805.3583984375,1466.158984375,44.6904296875,30.85888671875,9.80517578125],\"yaxis\":\"y\",\"type\":\"bar\"}],                        {\"template\":{\"data\":{\"histogram2dcontour\":[{\"type\":\"histogram2dcontour\",\"colorbar\":{\"outlinewidth\":0,\"ticks\":\"\"},\"colorscale\":[[0.0,\"#0d0887\"],[0.1111111111111111,\"#46039f\"],[0.2222222222222222,\"#7201a8\"],[0.3333333333333333,\"#9c179e\"],[0.4444444444444444,\"#bd3786\"],[0.5555555555555556,\"#d8576b\"],[0.6666666666666666,\"#ed7953\"],[0.7777777777777778,\"#fb9f3a\"],[0.8888888888888888,\"#fdca26\"],[1.0,\"#f0f921\"]]}],\"choropleth\":[{\"type\":\"choropleth\",\"colorbar\":{\"outlinewidth\":0,\"ticks\":\"\"}}],\"histogram2d\":[{\"type\":\"histogram2d\",\"colorbar\":{\"outlinewidth\":0,\"ticks\":\"\"},\"colorscale\":[[0.0,\"#0d0887\"],[0.1111111111111111,\"#46039f\"],[0.2222222222222222,\"#7201a8\"],[0.3333333333333333,\"#9c179e\"],[0.4444444444444444,\"#bd3786\"],[0.5555555555555556,\"#d8576b\"],[0.6666666666666666,\"#ed7953\"],[0.7777777777777778,\"#fb9f3a\"],[0.8888888888888888,\"#fdca26\"],[1.0,\"#f0f921\"]]}],\"heatmap\":[{\"type\":\"heatmap\",\"colorbar\":{\"outlinewidth\":0,\"ticks\":\"\"},\"colorscale\":[[0.0,\"#0d0887\"],[0.1111111111111111,\"#46039f\"],[0.2222222222222222,\"#7201a8\"],[0.3333333333333333,\"#9c179e\"],[0.4444444444444444,\"#bd3786\"],[0.5555555555555556,\"#d8576b\"],[0.6666666666666666,\"#ed7953\"],[0.7777777777777778,\"#fb9f3a\"],[0.8888888888888888,\"#fdca26\"],[1.0,\"#f0f921\"]]}],\"heatmapgl\":[{\"type\":\"heatmapgl\",\"colorbar\":{\"outlinewidth\":0,\"ticks\":\"\"},\"colorscale\":[[0.0,\"#0d0887\"],[0.1111111111111111,\"#46039f\"],[0.2222222222222222,\"#7201a8\"],[0.3333333333333333,\"#9c179e\"],[0.4444444444444444,\"#bd3786\"],[0.5555555555555556,\"#d8576b\"],[0.6666666666666666,\"#ed7953\"],[0.7777777777777778,\"#fb9f3a\"],[0.8888888888888888,\"#fdca26\"],[1.0,\"#f0f921\"]]}],\"contourcarpet\":[{\"type\":\"contourcarpet\",\"colorbar\":{\"outlinewidth\":0,\"ticks\":\"\"}}],\"contour\":[{\"type\":\"contour\",\"colorbar\":{\"outlinewidth\":0,\"ticks\":\"\"},\"colorscale\":[[0.0,\"#0d0887\"],[0.1111111111111111,\"#46039f\"],[0.2222222222222222,\"#7201a8\"],[0.3333333333333333,\"#9c179e\"],[0.4444444444444444,\"#bd3786\"],[0.5555555555555556,\"#d8576b\"],[0.6666666666666666,\"#ed7953\"],[0.7777777777777778,\"#fb9f3a\"],[0.8888888888888888,\"#fdca26\"],[1.0,\"#f0f921\"]]}],\"surface\":[{\"type\":\"surface\",\"colorbar\":{\"outlinewidth\":0,\"ticks\":\"\"},\"colorscale\":[[0.0,\"#0d0887\"],[0.1111111111111111,\"#46039f\"],[0.2222222222222222,\"#7201a8\"],[0.3333333333333333,\"#9c179e\"],[0.4444444444444444,\"#bd3786\"],[0.5555555555555556,\"#d8576b\"],[0.6666666666666666,\"#ed7953\"],[0.7777777777777778,\"#fb9f3a\"],[0.8888888888888888,\"#fdca26\"],[1.0,\"#f0f921\"]]}],\"mesh3d\":[{\"type\":\"mesh3d\",\"colorbar\":{\"outlinewidth\":0,\"ticks\":\"\"}}],\"scatter\":[{\"fillpattern\":{\"fillmode\":\"overlay\",\"size\":10,\"solidity\":0.2},\"type\":\"scatter\"}],\"parcoords\":[{\"type\":\"parcoords\",\"line\":{\"colorbar\":{\"outlinewidth\":0,\"ticks\":\"\"}}}],\"scatterpolargl\":[{\"type\":\"scatterpolargl\",\"marker\":{\"colorbar\":{\"outlinewidth\":0,\"ticks\":\"\"}}}],\"bar\":[{\"error_x\":{\"color\":\"#2a3f5f\"},\"error_y\":{\"color\":\"#2a3f5f\"},\"marker\":{\"line\":{\"color\":\"#E5ECF6\",\"width\":0.5},\"pattern\":{\"fillmode\":\"overlay\",\"size\":10,\"solidity\":0.2}},\"type\":\"bar\"}],\"scattergeo\":[{\"type\":\"scattergeo\",\"marker\":{\"colorbar\":{\"outlinewidth\":0,\"ticks\":\"\"}}}],\"scatterpolar\":[{\"type\":\"scatterpolar\",\"marker\":{\"colorbar\":{\"outlinewidth\":0,\"ticks\":\"\"}}}],\"histogram\":[{\"marker\":{\"pattern\":{\"fillmode\":\"overlay\",\"size\":10,\"solidity\":0.2}},\"type\":\"histogram\"}],\"scattergl\":[{\"type\":\"scattergl\",\"marker\":{\"colorbar\":{\"outlinewidth\":0,\"ticks\":\"\"}}}],\"scatter3d\":[{\"type\":\"scatter3d\",\"line\":{\"colorbar\":{\"outlinewidth\":0,\"ticks\":\"\"}},\"marker\":{\"colorbar\":{\"outlinewidth\":0,\"ticks\":\"\"}}}],\"scattermapbox\":[{\"type\":\"scattermapbox\",\"marker\":{\"colorbar\":{\"outlinewidth\":0,\"ticks\":\"\"}}}],\"scatterternary\":[{\"type\":\"scatterternary\",\"marker\":{\"colorbar\":{\"outlinewidth\":0,\"ticks\":\"\"}}}],\"scattercarpet\":[{\"type\":\"scattercarpet\",\"marker\":{\"colorbar\":{\"outlinewidth\":0,\"ticks\":\"\"}}}],\"carpet\":[{\"aaxis\":{\"endlinecolor\":\"#2a3f5f\",\"gridcolor\":\"white\",\"linecolor\":\"white\",\"minorgridcolor\":\"white\",\"startlinecolor\":\"#2a3f5f\"},\"baxis\":{\"endlinecolor\":\"#2a3f5f\",\"gridcolor\":\"white\",\"linecolor\":\"white\",\"minorgridcolor\":\"white\",\"startlinecolor\":\"#2a3f5f\"},\"type\":\"carpet\"}],\"table\":[{\"cells\":{\"fill\":{\"color\":\"#EBF0F8\"},\"line\":{\"color\":\"white\"}},\"header\":{\"fill\":{\"color\":\"#C8D4E3\"},\"line\":{\"color\":\"white\"}},\"type\":\"table\"}],\"barpolar\":[{\"marker\":{\"line\":{\"color\":\"#E5ECF6\",\"width\":0.5},\"pattern\":{\"fillmode\":\"overlay\",\"size\":10,\"solidity\":0.2}},\"type\":\"barpolar\"}],\"pie\":[{\"automargin\":true,\"type\":\"pie\"}]},\"layout\":{\"autotypenumbers\":\"strict\",\"colorway\":[\"#636efa\",\"#EF553B\",\"#00cc96\",\"#ab63fa\",\"#FFA15A\",\"#19d3f3\",\"#FF6692\",\"#B6E880\",\"#FF97FF\",\"#FECB52\"],\"font\":{\"color\":\"#2a3f5f\"},\"hovermode\":\"closest\",\"hoverlabel\":{\"align\":\"left\"},\"paper_bgcolor\":\"white\",\"plot_bgcolor\":\"#E5ECF6\",\"polar\":{\"bgcolor\":\"#E5ECF6\",\"angularaxis\":{\"gridcolor\":\"white\",\"linecolor\":\"white\",\"ticks\":\"\"},\"radialaxis\":{\"gridcolor\":\"white\",\"linecolor\":\"white\",\"ticks\":\"\"}},\"ternary\":{\"bgcolor\":\"#E5ECF6\",\"aaxis\":{\"gridcolor\":\"white\",\"linecolor\":\"white\",\"ticks\":\"\"},\"baxis\":{\"gridcolor\":\"white\",\"linecolor\":\"white\",\"ticks\":\"\"},\"caxis\":{\"gridcolor\":\"white\",\"linecolor\":\"white\",\"ticks\":\"\"}},\"coloraxis\":{\"colorbar\":{\"outlinewidth\":0,\"ticks\":\"\"}},\"colorscale\":{\"sequential\":[[0.0,\"#0d0887\"],[0.1111111111111111,\"#46039f\"],[0.2222222222222222,\"#7201a8\"],[0.3333333333333333,\"#9c179e\"],[0.4444444444444444,\"#bd3786\"],[0.5555555555555556,\"#d8576b\"],[0.6666666666666666,\"#ed7953\"],[0.7777777777777778,\"#fb9f3a\"],[0.8888888888888888,\"#fdca26\"],[1.0,\"#f0f921\"]],\"sequentialminus\":[[0.0,\"#0d0887\"],[0.1111111111111111,\"#46039f\"],[0.2222222222222222,\"#7201a8\"],[0.3333333333333333,\"#9c179e\"],[0.4444444444444444,\"#bd3786\"],[0.5555555555555556,\"#d8576b\"],[0.6666666666666666,\"#ed7953\"],[0.7777777777777778,\"#fb9f3a\"],[0.8888888888888888,\"#fdca26\"],[1.0,\"#f0f921\"]],\"diverging\":[[0,\"#8e0152\"],[0.1,\"#c51b7d\"],[0.2,\"#de77ae\"],[0.3,\"#f1b6da\"],[0.4,\"#fde0ef\"],[0.5,\"#f7f7f7\"],[0.6,\"#e6f5d0\"],[0.7,\"#b8e186\"],[0.8,\"#7fbc41\"],[0.9,\"#4d9221\"],[1,\"#276419\"]]},\"xaxis\":{\"gridcolor\":\"white\",\"linecolor\":\"white\",\"ticks\":\"\",\"title\":{\"standoff\":15},\"zerolinecolor\":\"white\",\"automargin\":true,\"zerolinewidth\":2},\"yaxis\":{\"gridcolor\":\"white\",\"linecolor\":\"white\",\"ticks\":\"\",\"title\":{\"standoff\":15},\"zerolinecolor\":\"white\",\"automargin\":true,\"zerolinewidth\":2},\"scene\":{\"xaxis\":{\"backgroundcolor\":\"#E5ECF6\",\"gridcolor\":\"white\",\"linecolor\":\"white\",\"showbackground\":true,\"ticks\":\"\",\"zerolinecolor\":\"white\",\"gridwidth\":2},\"yaxis\":{\"backgroundcolor\":\"#E5ECF6\",\"gridcolor\":\"white\",\"linecolor\":\"white\",\"showbackground\":true,\"ticks\":\"\",\"zerolinecolor\":\"white\",\"gridwidth\":2},\"zaxis\":{\"backgroundcolor\":\"#E5ECF6\",\"gridcolor\":\"white\",\"linecolor\":\"white\",\"showbackground\":true,\"ticks\":\"\",\"zerolinecolor\":\"white\",\"gridwidth\":2}},\"shapedefaults\":{\"line\":{\"color\":\"#2a3f5f\"}},\"annotationdefaults\":{\"arrowcolor\":\"#2a3f5f\",\"arrowhead\":0,\"arrowwidth\":1},\"geo\":{\"bgcolor\":\"white\",\"landcolor\":\"#E5ECF6\",\"subunitcolor\":\"white\",\"showland\":true,\"showlakes\":true,\"lakecolor\":\"white\"},\"title\":{\"x\":0.05},\"mapbox\":{\"style\":\"light\"}}},\"xaxis\":{\"anchor\":\"y\",\"domain\":[0.0,1.0],\"title\":{\"text\":\"Model name\"}},\"yaxis\":{\"anchor\":\"x\",\"domain\":[0.0,1.0],\"title\":{\"text\":\"Amount of VRAM used during forward pass (MB)\"}},\"legend\":{\"title\":{\"text\":\"Require gradients\"},\"tracegroupgap\":0},\"title\":{\"text\":\"VRAM usage during forward pass per model, without and with gradient calculation\"},\"barmode\":\"group\",\"height\":500,\"width\":800},                        {\"responsive\": true}                    ).then(function(){\n                            \nvar gd = document.getElementById('cf997468-2a73-4138-b82f-2dab2eedbe65');\nvar x = new MutationObserver(function (mutations, observer) {{\n        var display = window.getComputedStyle(gd).display;\n        if (!display || display === 'none') {{\n            console.log([gd, 'removed!']);\n            Plotly.purge(gd);\n            observer.disconnect();\n        }}\n}});\n\n// Listen for the removal of the full notebook cells\nvar notebookContainer = gd.closest('#notebook-container');\nif (notebookContainer) {{\n    x.observe(notebookContainer, {childList: true});\n}}\n\n// Listen for the clearing of the current output cell\nvar outputEl = gd.closest('.output');\nif (outputEl) {{\n    x.observe(outputEl, {childList: true});\n}}\n\n                        })                };                });            </script>        </div>"
     },
     "metadata": {},
     "output_type": "display_data"
    }
   ]
  },
  {
   "cell_type": "code",
   "source": [],
   "metadata": {
    "id": "fPsH-nF9Yxg7"
   },
   "execution_count": null,
   "outputs": []
  }
 ]
}
