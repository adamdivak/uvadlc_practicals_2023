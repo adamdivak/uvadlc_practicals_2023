{
  "nbformat": 4,
  "nbformat_minor": 0,
  "metadata": {
    "colab": {
      "provenance": [],
      "gpuType": "T4"
    },
    "kernelspec": {
      "name": "python3",
      "display_name": "Python 3"
    },
    "language_info": {
      "name": "python"
    },
    "accelerator": "GPU"
  },
  "cells": [
    {
      "cell_type": "markdown",
      "source": [
        "# DL1 Assignment2 - Q1.1 draft code\n",
        "\n",
        "This is a small help from us to save you some coding. This notebook is **not** graded, you are free to edit it.\n",
        "\n",
        "Further advise:\n",
        "1. Start with File/Save a copy in Drive\n",
        "2. Set GPU usage under Runtime/Change runtime type/Hardware accelerator."
      ],
      "metadata": {
        "id": "Ox90Qf6N1dvr"
      }
    },
    {
      "cell_type": "code",
      "source": [
        "!pip install timm"
      ],
      "metadata": {
        "colab": {
          "base_uri": "https://localhost:8080/"
        },
        "id": "Qd8iuexbuX1A",
        "outputId": "44a3dedd-328a-4238-f36f-c7b70ce293b9"
      },
      "execution_count": null,
      "outputs": [
        {
          "output_type": "stream",
          "name": "stdout",
          "text": [
            "Requirement already satisfied: timm in /usr/local/lib/python3.10/dist-packages (0.9.10)\n",
            "Requirement already satisfied: torch>=1.7 in /usr/local/lib/python3.10/dist-packages (from timm) (2.1.0+cu118)\n",
            "Requirement already satisfied: torchvision in /usr/local/lib/python3.10/dist-packages (from timm) (0.16.0+cu118)\n",
            "Requirement already satisfied: pyyaml in /usr/local/lib/python3.10/dist-packages (from timm) (6.0.1)\n",
            "Requirement already satisfied: huggingface-hub in /usr/local/lib/python3.10/dist-packages (from timm) (0.19.2)\n",
            "Requirement already satisfied: safetensors in /usr/local/lib/python3.10/dist-packages (from timm) (0.4.0)\n",
            "Requirement already satisfied: filelock in /usr/local/lib/python3.10/dist-packages (from torch>=1.7->timm) (3.13.1)\n",
            "Requirement already satisfied: typing-extensions in /usr/local/lib/python3.10/dist-packages (from torch>=1.7->timm) (4.5.0)\n",
            "Requirement already satisfied: sympy in /usr/local/lib/python3.10/dist-packages (from torch>=1.7->timm) (1.12)\n",
            "Requirement already satisfied: networkx in /usr/local/lib/python3.10/dist-packages (from torch>=1.7->timm) (3.2.1)\n",
            "Requirement already satisfied: jinja2 in /usr/local/lib/python3.10/dist-packages (from torch>=1.7->timm) (3.1.2)\n",
            "Requirement already satisfied: fsspec in /usr/local/lib/python3.10/dist-packages (from torch>=1.7->timm) (2023.6.0)\n",
            "Requirement already satisfied: triton==2.1.0 in /usr/local/lib/python3.10/dist-packages (from torch>=1.7->timm) (2.1.0)\n",
            "Requirement already satisfied: requests in /usr/local/lib/python3.10/dist-packages (from huggingface-hub->timm) (2.31.0)\n",
            "Requirement already satisfied: tqdm>=4.42.1 in /usr/local/lib/python3.10/dist-packages (from huggingface-hub->timm) (4.66.1)\n",
            "Requirement already satisfied: packaging>=20.9 in /usr/local/lib/python3.10/dist-packages (from huggingface-hub->timm) (23.2)\n",
            "Requirement already satisfied: numpy in /usr/local/lib/python3.10/dist-packages (from torchvision->timm) (1.23.5)\n",
            "Requirement already satisfied: pillow!=8.3.*,>=5.3.0 in /usr/local/lib/python3.10/dist-packages (from torchvision->timm) (9.4.0)\n",
            "Requirement already satisfied: MarkupSafe>=2.0 in /usr/local/lib/python3.10/dist-packages (from jinja2->torch>=1.7->timm) (2.1.3)\n",
            "Requirement already satisfied: charset-normalizer<4,>=2 in /usr/local/lib/python3.10/dist-packages (from requests->huggingface-hub->timm) (3.3.2)\n",
            "Requirement already satisfied: idna<4,>=2.5 in /usr/local/lib/python3.10/dist-packages (from requests->huggingface-hub->timm) (3.4)\n",
            "Requirement already satisfied: urllib3<3,>=1.21.1 in /usr/local/lib/python3.10/dist-packages (from requests->huggingface-hub->timm) (2.0.7)\n",
            "Requirement already satisfied: certifi>=2017.4.17 in /usr/local/lib/python3.10/dist-packages (from requests->huggingface-hub->timm) (2023.7.22)\n",
            "Requirement already satisfied: mpmath>=0.19 in /usr/local/lib/python3.10/dist-packages (from sympy->torch>=1.7->timm) (1.3.0)\n"
          ]
        }
      ]
    },
    {
      "cell_type": "code",
      "execution_count": null,
      "metadata": {
        "id": "D1viWETquNc6"
      },
      "outputs": [],
      "source": [
        "import torch\n",
        "from torch import nn\n",
        "import timm\n",
        "from torchvision import models\n",
        "from matplotlib import pyplot as plt\n",
        "from typing import Callable\n",
        "\n",
        "%matplotlib inline"
      ]
    },
    {
      "cell_type": "code",
      "source": [
        "def vit_s_8():\n",
        "    \"\"\"ViT-S/8 is not a default torchvision model, so we provide it by timm\"\"\"\n",
        "    # Accuracy approximation comes from\n",
        "    # https://openreview.net/pdf?id=LtKcMgGOeLt\n",
        "    # and DINO\n",
        "    # https://arxiv.org/abs/2104.14294\n",
        "    return timm.create_model('vit_small_patch8_224')\n",
        "\n",
        "# Model definitions\n",
        "# Optional Q: These are uncalled functions. What do you think would happen\n",
        "# if we called all of them once? Why didn't we do that?\n",
        "model_defs = [\n",
        "    vit_s_8,\n",
        "    models.vit_b_32,\n",
        "    models.vgg11,\n",
        "    models.vgg11_bn,\n",
        "    models.resnet18,\n",
        "    models.densenet121,\n",
        "    models.mobilenet_v3_small,\n",
        "]\n",
        "\n",
        "# Accuracies per model\n",
        "model_accs = {\n",
        "    'vit_s_8': 80., # Approximated\n",
        "    'vit_b_32' : 75.912,\n",
        "    'vgg11' : 69.02,\n",
        "    'vgg11_bn' : 70.37,\n",
        "    'resnet18' : 69.758,\n",
        "    'densenet121' : 74.434,\n",
        "    'mobilenet_v3_small' : 67.668,\n",
        "}\n",
        "\n",
        "\n",
        "def measure_runtime_per_forward(model:nn.Module, no_grad:bool, batch_size:int=8):\n",
        "    \"\"\"Measures the time for a single pass in milliseconds\"\"\"\n",
        "\n",
        "    # Generate fake RGB input (224x224)\n",
        "    #######################\n",
        "    # PUT YOUR CODE HERE  #\n",
        "    #######################\n",
        "    inp = None\n",
        "    #######################\n",
        "    # END OF YOUR CODE    #\n",
        "    #######################\n",
        "\n",
        "    start = torch.cuda.Event(enable_timing=True)\n",
        "    end = torch.cuda.Event(enable_timing=True)\n",
        "    start.record()\n",
        "\n",
        "    # Run the model\n",
        "    #######################\n",
        "    # PUT YOUR CODE HERE  #\n",
        "    #######################\n",
        "\n",
        "    #######################\n",
        "    # END OF YOUR CODE    #\n",
        "    #######################\n",
        "\n",
        "    end.record()\n",
        "    torch.cuda.synchronize()\n",
        "    return start.elapsed_time(end)\n",
        "\n",
        "\n",
        "def evaluate_model(model_def:Callable, no_grad:bool, batch_size:int=8):\n",
        "\n",
        "    # Retreive initial memory allocation\n",
        "    initial_vram = torch.cuda.memory_allocated()\n",
        "\n",
        "    # Define model\n",
        "    model = model_def().cuda().eval()\n",
        "    # Access name as: model.__name__\n",
        "\n",
        "    # Parameters that need to be filled\n",
        "    n_params = None\n",
        "    times, vrams = [], []\n",
        "    mean_time = None\n",
        "    mean_vram = None\n",
        "\n",
        "    #######################\n",
        "    # PUT YOUR CODE HERE  #\n",
        "    #######################\n",
        "\n",
        "    # Step 1: Calculate the number of **trainable** parameters\n",
        "    # Step 2: Warm up with a few passes\n",
        "    # Step 3: Run N forward passes and save the runtime +\n",
        "    #         the vram allocated by the model\n",
        "    # Step 4: Take the mean, preferably with dropping possible outliers\n",
        "\n",
        "    #######################\n",
        "    # END OF YOUR CODE    #\n",
        "    #######################\n",
        "\n",
        "    # Clean up space for the model\n",
        "    del model\n",
        "    torch.cuda.empty_cache()\n",
        "\n",
        "    return mean_time, mean_vram, n_params\n"
      ],
      "metadata": {
        "id": "5wwMtxyDumgb"
      },
      "execution_count": null,
      "outputs": []
    },
    {
      "cell_type": "code",
      "source": [
        "#######################\n",
        "# PUT YOUR CODE HERE  #\n",
        "#######################\n",
        "\n",
        "# Make your plots here with matplotlib\n",
        "#\n",
        "# Example usage of the above functions:\n",
        "# for model_def in model_defs:\n",
        "#     name = model_def.__name__\n",
        "#     time, vram, n_params = evaluate_model(model_def, no_grad=True)\n",
        "#     print(name, time, vram, n_params)\n",
        "\n",
        "#######################\n",
        "# END OF YOUR CODE    #\n",
        "#######################"
      ],
      "metadata": {
        "id": "7iUTuJH7uQqs"
      },
      "execution_count": null,
      "outputs": []
    },
    {
      "cell_type": "code",
      "source": [],
      "metadata": {
        "id": "-Kr15X93urVC"
      },
      "execution_count": null,
      "outputs": []
    }
  ]
}