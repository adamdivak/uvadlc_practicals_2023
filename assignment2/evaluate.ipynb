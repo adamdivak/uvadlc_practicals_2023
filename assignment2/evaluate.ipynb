{
 "cells": [
  {
   "cell_type": "markdown",
   "source": [
    "# Create summary and evaluation of different runs"
   ],
   "metadata": {
    "collapsed": false
   },
   "id": "702852a1c6265f6d"
  },
  {
   "cell_type": "code",
   "execution_count": 103,
   "outputs": [],
   "source": [
    "# !rm -rf snellius_results\n",
    "!rsync -r snellius:~/uvadlc_practicals_2023/assignment2/part1/results_resnet18 snellius_results\n",
    "!rsync -r snellius:~/uvadlc_practicals_2023/assignment2/part2/results_zs snellius_results\n",
    "!rsync -r snellius:~/uvadlc_practicals_2023/assignment2/part2/results_vp snellius_results\n",
    "!rsync -r snellius:~/uvadlc_practicals_2023/assignment2/part2/images snellius_results"
   ],
   "metadata": {
    "collapsed": false,
    "ExecuteTime": {
     "end_time": "2023-11-28T16:54:15.687136Z",
     "start_time": "2023-11-28T16:54:06.752306Z"
    }
   },
   "id": "b120a1032e06e178"
  },
  {
   "cell_type": "code",
   "execution_count": 104,
   "outputs": [],
   "source": [
    "import json\n",
    "from pathlib import Path\n",
    "import pandas as pd"
   ],
   "metadata": {
    "collapsed": false,
    "ExecuteTime": {
     "end_time": "2023-11-28T16:54:15.722670Z",
     "start_time": "2023-11-28T16:54:15.722059Z"
    }
   },
   "id": "f36176281c24e1d"
  },
  {
   "cell_type": "code",
   "execution_count": 105,
   "outputs": [],
   "source": [
    "snellius_results = Path(\"snellius_results\")\n",
    "\n",
    "def load_jsons_to_df(json_dir):\n",
    "    json_data = []\n",
    "    for js_path in json_dir.glob(\"*.json\"):\n",
    "        with open(js_path) as f: \n",
    "            js = json.load(f)\n",
    "            json_data.append(js)\n",
    "    return pd.DataFrame(json_data)\n",
    "\n",
    "resnet_df = load_jsons_to_df(snellius_results / \"results_resnet18\")\n",
    "zs_df = load_jsons_to_df(snellius_results / \"results_zs\")\n",
    "vp_dp_df = load_jsons_to_df(snellius_results / \"results_vp\")"
   ],
   "metadata": {
    "collapsed": false,
    "ExecuteTime": {
     "end_time": "2023-11-28T16:54:15.728406Z",
     "start_time": "2023-11-28T16:54:15.722350Z"
    }
   },
   "id": "f55bbe20ba5a8825"
  },
  {
   "cell_type": "code",
   "execution_count": 106,
   "outputs": [
    {
     "data": {
      "text/plain": "    dataset augmentation_name  test_noise  test_accuracy\n1   cifar10      auto_augment       False         0.7679\n0   cifar10      auto_augment        True         0.5727\n6   cifar10              None       False         0.8070\n3   cifar10              None        True         0.4585\n5  cifar100      auto_augment       False         0.5520\n7  cifar100      auto_augment        True         0.3394\n4  cifar100              None       False         0.5849\n2  cifar100              None        True         0.2554",
      "text/html": "<div>\n<style scoped>\n    .dataframe tbody tr th:only-of-type {\n        vertical-align: middle;\n    }\n\n    .dataframe tbody tr th {\n        vertical-align: top;\n    }\n\n    .dataframe thead th {\n        text-align: right;\n    }\n</style>\n<table border=\"1\" class=\"dataframe\">\n  <thead>\n    <tr style=\"text-align: right;\">\n      <th></th>\n      <th>dataset</th>\n      <th>augmentation_name</th>\n      <th>test_noise</th>\n      <th>test_accuracy</th>\n    </tr>\n  </thead>\n  <tbody>\n    <tr>\n      <th>1</th>\n      <td>cifar10</td>\n      <td>auto_augment</td>\n      <td>False</td>\n      <td>0.7679</td>\n    </tr>\n    <tr>\n      <th>0</th>\n      <td>cifar10</td>\n      <td>auto_augment</td>\n      <td>True</td>\n      <td>0.5727</td>\n    </tr>\n    <tr>\n      <th>6</th>\n      <td>cifar10</td>\n      <td>None</td>\n      <td>False</td>\n      <td>0.8070</td>\n    </tr>\n    <tr>\n      <th>3</th>\n      <td>cifar10</td>\n      <td>None</td>\n      <td>True</td>\n      <td>0.4585</td>\n    </tr>\n    <tr>\n      <th>5</th>\n      <td>cifar100</td>\n      <td>auto_augment</td>\n      <td>False</td>\n      <td>0.5520</td>\n    </tr>\n    <tr>\n      <th>7</th>\n      <td>cifar100</td>\n      <td>auto_augment</td>\n      <td>True</td>\n      <td>0.3394</td>\n    </tr>\n    <tr>\n      <th>4</th>\n      <td>cifar100</td>\n      <td>None</td>\n      <td>False</td>\n      <td>0.5849</td>\n    </tr>\n    <tr>\n      <th>2</th>\n      <td>cifar100</td>\n      <td>None</td>\n      <td>True</td>\n      <td>0.2554</td>\n    </tr>\n  </tbody>\n</table>\n</div>"
     },
     "execution_count": 106,
     "metadata": {},
     "output_type": "execute_result"
    }
   ],
   "source": [
    "resnet_df.sort_values([\"dataset\", \"augmentation_name\", \"test_noise\"])"
   ],
   "metadata": {
    "collapsed": false,
    "ExecuteTime": {
     "end_time": "2023-11-28T16:54:15.741988Z",
     "start_time": "2023-11-28T16:54:15.733199Z"
    }
   },
   "id": "2f9159bf62f765c0"
  },
  {
   "cell_type": "code",
   "execution_count": 107,
   "outputs": [
    {
     "data": {
      "text/plain": "    dataset    set   accuracy\n1   cifar10  train  88.721609\n2   cifar10   test  88.897765\n3  cifar100  train  63.581651\n0  cifar100   test  63.079071",
      "text/html": "<div>\n<style scoped>\n    .dataframe tbody tr th:only-of-type {\n        vertical-align: middle;\n    }\n\n    .dataframe tbody tr th {\n        vertical-align: top;\n    }\n\n    .dataframe thead th {\n        text-align: right;\n    }\n</style>\n<table border=\"1\" class=\"dataframe\">\n  <thead>\n    <tr style=\"text-align: right;\">\n      <th></th>\n      <th>dataset</th>\n      <th>set</th>\n      <th>accuracy</th>\n    </tr>\n  </thead>\n  <tbody>\n    <tr>\n      <th>1</th>\n      <td>cifar10</td>\n      <td>train</td>\n      <td>88.721609</td>\n    </tr>\n    <tr>\n      <th>2</th>\n      <td>cifar10</td>\n      <td>test</td>\n      <td>88.897765</td>\n    </tr>\n    <tr>\n      <th>3</th>\n      <td>cifar100</td>\n      <td>train</td>\n      <td>63.581651</td>\n    </tr>\n    <tr>\n      <th>0</th>\n      <td>cifar100</td>\n      <td>test</td>\n      <td>63.079071</td>\n    </tr>\n  </tbody>\n</table>\n</div>"
     },
     "execution_count": 107,
     "metadata": {},
     "output_type": "execute_result"
    }
   ],
   "source": [
    "zs_df.sort_values([\"dataset\", \"set\"], ascending=[True, False])"
   ],
   "metadata": {
    "collapsed": false,
    "ExecuteTime": {
     "end_time": "2023-11-28T16:54:15.751252Z",
     "start_time": "2023-11-28T16:54:15.742583Z"
    }
   },
   "id": "9246d894ce1322d5"
  },
  {
   "cell_type": "code",
   "execution_count": 108,
   "outputs": [
    {
     "data": {
      "text/plain": "    print_freq  print_tqdm_interval  save_freq  batch_size  num_workers  \\\n0          100                 60.0         50         128           16   \n1          100                 60.0         50         128           16   \n2          100                 60.0         50         128           16   \n3          100                 60.0         50         128           16   \n4          100                 60.0         50         128           16   \n5          100                 60.0         50         128           16   \n6           10                 60.0         50         128           16   \n7          100                 60.0         50         128           16   \n8           10                 60.0         50         128           16   \n9          100                 60.0         50         128           16   \n10         100                 60.0         50         128           16   \n11         100                 60.0         50         128           16   \n12         100                 60.0         50         128           16   \n13         100                 60.0         50         128           16   \n14         100                 60.0         50         128           16   \n15         100                 60.0         50         128           16   \n16         100                 60.0         50         128           16   \n17         100                 60.0         50         128           16   \n18         100                 60.0         50         128           16   \n19         100                 60.0         50         128           16   \n20         100                 60.0         50         128           16   \n21         100                 60.0         50         128           16   \n22         100                 60.0         50         128           16   \n23         100                 60.0         50         128           16   \n24          10                 60.0         50         128           16   \n25         100                 60.0         50         128           16   \n26          10                 60.0         50         128           16   \n27         100                 60.0         50         128           16   \n\n    epochs  max_batches  square_size optim  learning_rate  ...  resume_best  \\\n0       20            0            8   sgd             40  ...        False   \n1       20            0            8   sgd             40  ...         True   \n2       20            0            8   sgd             40  ...        False   \n3       20            0            8   sgd             40  ...         True   \n4       20            0            8   sgd             40  ...         True   \n5       20            0            8   sgd             40  ...        False   \n6       20            0            8   sgd             40  ...        False   \n7       20            0            8   sgd             40  ...         True   \n8       20            0            8   sgd             40  ...         True   \n9       20            0            8   sgd             40  ...        False   \n10      20            0            8   sgd             40  ...         True   \n11      20            0            8   sgd             40  ...         True   \n12      20            0            8   sgd             40  ...         True   \n13      20            0            8   sgd             40  ...        False   \n14      20            0            8   sgd             40  ...        False   \n15      20            0            8   sgd             40  ...        False   \n16      20            0            8   sgd             40  ...        False   \n17      20            0            8   sgd             40  ...         True   \n18      20            0            8   sgd             40  ...        False   \n19      20            0            8   sgd             40  ...        False   \n20      20            0            8   sgd             40  ...         True   \n21      20            0            8   sgd             40  ...         True   \n22      20            0            8   sgd             40  ...         True   \n23      20            0            8   sgd             40  ...        False   \n24      20            0            8   sgd             40  ...        False   \n25      20            0            8   sgd             40  ...        False   \n26      20            0            8   sgd             40  ...         True   \n27      20            0            8   sgd             40  ...         True   \n\n    evaluate   gpu  use_wandb device  \\\n0      False  None      False   cuda   \n1       True  None      False   cuda   \n2      False  None      False   cuda   \n3       True  None      False   cuda   \n4       True  None      False   cuda   \n5      False  None      False   cuda   \n6      False  None      False   cuda   \n7       True  None      False   cuda   \n8       True  None      False   cuda   \n9      False  None      False   cuda   \n10      True  None      False   cuda   \n11      True  None      False   cuda   \n12      True  None      False   cuda   \n13     False  None      False   cuda   \n14     False  None      False   cuda   \n15     False  None      False   cuda   \n16     False  None      False   cuda   \n17      True  None      False   cuda   \n18     False  None      False   cuda   \n19     False  None      False   cuda   \n20      True  None      False   cuda   \n21      True  None      False   cuda   \n22      True  None      False   cuda   \n23     False  None      False   cuda   \n24     False  None      False   cuda   \n25     False  None      False   cuda   \n26      True  None      False   cuda   \n27      True  None      False   cuda   \n\n                                         model_folder start_epoch  \\\n0   ./save/models/deep_prompt_padding_30_7_4_cifar...          20   \n1   ./save/models/visual_prompt_fixed_patch_1_0_4_...          16   \n2   ./save/models/deep_prompt_padding_30_3_4_cifar...           4   \n3   ./save/models/visual_prompt_padding_30_0_4_cif...          20   \n4   ./save/models/visual_prompt_fixed_patch_224_0_...          17   \n5   ./save/models/deep_prompt_padding_30_0_4_cifar...          19   \n6   ./save/models/visual_prompt_padding_1_cifar100...           4   \n7   ./save/models/visual_prompt_fixed_patch_224_0_...          20   \n8   ./save/models/visual_prompt_padding_1_cifar10_...           4   \n9   ./save/models/visual_prompt_padding_30_0_4_cif...          20   \n10  ./save/models/deep_prompt_padding_30_0_4_cifar...          19   \n11  ./save/models/deep_prompt_padding_30_7_4_cifar...          20   \n12  ./save/models/deep_prompt_padding_30_3_4_cifar...           4   \n13  ./save/models/visual_prompt_fixed_patch_224_0_...          17   \n14  ./save/models/deep_prompt_padding_30_7_4_cifar...           5   \n15  ./save/models/visual_prompt_fixed_patch_1_0_4_...          16   \n16  ./save/models/deep_prompt_padding_30_3_4_cifar...           4   \n17  ./save/models/visual_prompt_fixed_patch_1_0_4_...           5   \n18  ./save/models/deep_prompt_padding_30_0_4_cifar...           1   \n19  ./save/models/visual_prompt_padding_30_0_4_cif...           5   \n20  ./save/models/deep_prompt_padding_30_7_4_cifar...           5   \n21  ./save/models/deep_prompt_padding_30_0_4_cifar...           1   \n22  ./save/models/deep_prompt_padding_30_3_4_cifar...           4   \n23  ./save/models/visual_prompt_fixed_patch_1_0_4_...           5   \n24  ./save/models/visual_prompt_padding_1_cifar10_...           4   \n25  ./save/models/visual_prompt_fixed_patch_224_0_...          20   \n26  ./save/models/visual_prompt_padding_1_cifar100...           4   \n27  ./save/models/visual_prompt_padding_30_0_4_cif...           5   \n\n    top1_val_acc  top1_test_acc best_epoch  \n0          92.35          91.90       20.0  \n1            NaN          60.34       16.0  \n2          93.33          92.78        4.0  \n3            NaN          82.08       20.0  \n4            NaN          81.36       17.0  \n5          93.15          92.39       19.0  \n6          67.31          66.99        4.0  \n7            NaN          61.05       20.0  \n8            NaN          87.54        4.0  \n9          87.92          88.10       20.0  \n10           NaN          88.03       19.0  \n11           NaN          88.18       20.0  \n12           NaN          62.02        4.0  \n13         82.49          81.60       17.0  \n14         66.84          66.38        5.0  \n15         65.00          64.28       16.0  \n16         69.38          69.04        4.0  \n17           NaN          87.73        5.0  \n18         68.64          67.89        1.0  \n19         63.88          63.87        5.0  \n20           NaN          60.58        5.0  \n21           NaN          59.30        1.0  \n22           NaN          87.97        4.0  \n23         89.48          89.39        5.0  \n24         90.05          89.89        NaN  \n25         60.93          61.66       20.0  \n26           NaN          60.82        4.0  \n27           NaN          54.27        5.0  \n\n[28 rows x 43 columns]",
      "text/html": "<div>\n<style scoped>\n    .dataframe tbody tr th:only-of-type {\n        vertical-align: middle;\n    }\n\n    .dataframe tbody tr th {\n        vertical-align: top;\n    }\n\n    .dataframe thead th {\n        text-align: right;\n    }\n</style>\n<table border=\"1\" class=\"dataframe\">\n  <thead>\n    <tr style=\"text-align: right;\">\n      <th></th>\n      <th>print_freq</th>\n      <th>print_tqdm_interval</th>\n      <th>save_freq</th>\n      <th>batch_size</th>\n      <th>num_workers</th>\n      <th>epochs</th>\n      <th>max_batches</th>\n      <th>square_size</th>\n      <th>optim</th>\n      <th>learning_rate</th>\n      <th>...</th>\n      <th>resume_best</th>\n      <th>evaluate</th>\n      <th>gpu</th>\n      <th>use_wandb</th>\n      <th>device</th>\n      <th>model_folder</th>\n      <th>start_epoch</th>\n      <th>top1_val_acc</th>\n      <th>top1_test_acc</th>\n      <th>best_epoch</th>\n    </tr>\n  </thead>\n  <tbody>\n    <tr>\n      <th>0</th>\n      <td>100</td>\n      <td>60.0</td>\n      <td>50</td>\n      <td>128</td>\n      <td>16</td>\n      <td>20</td>\n      <td>0</td>\n      <td>8</td>\n      <td>sgd</td>\n      <td>40</td>\n      <td>...</td>\n      <td>False</td>\n      <td>False</td>\n      <td>None</td>\n      <td>False</td>\n      <td>cuda</td>\n      <td>./save/models/deep_prompt_padding_30_7_4_cifar...</td>\n      <td>20</td>\n      <td>92.35</td>\n      <td>91.90</td>\n      <td>20.0</td>\n    </tr>\n    <tr>\n      <th>1</th>\n      <td>100</td>\n      <td>60.0</td>\n      <td>50</td>\n      <td>128</td>\n      <td>16</td>\n      <td>20</td>\n      <td>0</td>\n      <td>8</td>\n      <td>sgd</td>\n      <td>40</td>\n      <td>...</td>\n      <td>True</td>\n      <td>True</td>\n      <td>None</td>\n      <td>False</td>\n      <td>cuda</td>\n      <td>./save/models/visual_prompt_fixed_patch_1_0_4_...</td>\n      <td>16</td>\n      <td>NaN</td>\n      <td>60.34</td>\n      <td>16.0</td>\n    </tr>\n    <tr>\n      <th>2</th>\n      <td>100</td>\n      <td>60.0</td>\n      <td>50</td>\n      <td>128</td>\n      <td>16</td>\n      <td>20</td>\n      <td>0</td>\n      <td>8</td>\n      <td>sgd</td>\n      <td>40</td>\n      <td>...</td>\n      <td>False</td>\n      <td>False</td>\n      <td>None</td>\n      <td>False</td>\n      <td>cuda</td>\n      <td>./save/models/deep_prompt_padding_30_3_4_cifar...</td>\n      <td>4</td>\n      <td>93.33</td>\n      <td>92.78</td>\n      <td>4.0</td>\n    </tr>\n    <tr>\n      <th>3</th>\n      <td>100</td>\n      <td>60.0</td>\n      <td>50</td>\n      <td>128</td>\n      <td>16</td>\n      <td>20</td>\n      <td>0</td>\n      <td>8</td>\n      <td>sgd</td>\n      <td>40</td>\n      <td>...</td>\n      <td>True</td>\n      <td>True</td>\n      <td>None</td>\n      <td>False</td>\n      <td>cuda</td>\n      <td>./save/models/visual_prompt_padding_30_0_4_cif...</td>\n      <td>20</td>\n      <td>NaN</td>\n      <td>82.08</td>\n      <td>20.0</td>\n    </tr>\n    <tr>\n      <th>4</th>\n      <td>100</td>\n      <td>60.0</td>\n      <td>50</td>\n      <td>128</td>\n      <td>16</td>\n      <td>20</td>\n      <td>0</td>\n      <td>8</td>\n      <td>sgd</td>\n      <td>40</td>\n      <td>...</td>\n      <td>True</td>\n      <td>True</td>\n      <td>None</td>\n      <td>False</td>\n      <td>cuda</td>\n      <td>./save/models/visual_prompt_fixed_patch_224_0_...</td>\n      <td>17</td>\n      <td>NaN</td>\n      <td>81.36</td>\n      <td>17.0</td>\n    </tr>\n    <tr>\n      <th>5</th>\n      <td>100</td>\n      <td>60.0</td>\n      <td>50</td>\n      <td>128</td>\n      <td>16</td>\n      <td>20</td>\n      <td>0</td>\n      <td>8</td>\n      <td>sgd</td>\n      <td>40</td>\n      <td>...</td>\n      <td>False</td>\n      <td>False</td>\n      <td>None</td>\n      <td>False</td>\n      <td>cuda</td>\n      <td>./save/models/deep_prompt_padding_30_0_4_cifar...</td>\n      <td>19</td>\n      <td>93.15</td>\n      <td>92.39</td>\n      <td>19.0</td>\n    </tr>\n    <tr>\n      <th>6</th>\n      <td>10</td>\n      <td>60.0</td>\n      <td>50</td>\n      <td>128</td>\n      <td>16</td>\n      <td>20</td>\n      <td>0</td>\n      <td>8</td>\n      <td>sgd</td>\n      <td>40</td>\n      <td>...</td>\n      <td>False</td>\n      <td>False</td>\n      <td>None</td>\n      <td>False</td>\n      <td>cuda</td>\n      <td>./save/models/visual_prompt_padding_1_cifar100...</td>\n      <td>4</td>\n      <td>67.31</td>\n      <td>66.99</td>\n      <td>4.0</td>\n    </tr>\n    <tr>\n      <th>7</th>\n      <td>100</td>\n      <td>60.0</td>\n      <td>50</td>\n      <td>128</td>\n      <td>16</td>\n      <td>20</td>\n      <td>0</td>\n      <td>8</td>\n      <td>sgd</td>\n      <td>40</td>\n      <td>...</td>\n      <td>True</td>\n      <td>True</td>\n      <td>None</td>\n      <td>False</td>\n      <td>cuda</td>\n      <td>./save/models/visual_prompt_fixed_patch_224_0_...</td>\n      <td>20</td>\n      <td>NaN</td>\n      <td>61.05</td>\n      <td>20.0</td>\n    </tr>\n    <tr>\n      <th>8</th>\n      <td>10</td>\n      <td>60.0</td>\n      <td>50</td>\n      <td>128</td>\n      <td>16</td>\n      <td>20</td>\n      <td>0</td>\n      <td>8</td>\n      <td>sgd</td>\n      <td>40</td>\n      <td>...</td>\n      <td>True</td>\n      <td>True</td>\n      <td>None</td>\n      <td>False</td>\n      <td>cuda</td>\n      <td>./save/models/visual_prompt_padding_1_cifar10_...</td>\n      <td>4</td>\n      <td>NaN</td>\n      <td>87.54</td>\n      <td>4.0</td>\n    </tr>\n    <tr>\n      <th>9</th>\n      <td>100</td>\n      <td>60.0</td>\n      <td>50</td>\n      <td>128</td>\n      <td>16</td>\n      <td>20</td>\n      <td>0</td>\n      <td>8</td>\n      <td>sgd</td>\n      <td>40</td>\n      <td>...</td>\n      <td>False</td>\n      <td>False</td>\n      <td>None</td>\n      <td>False</td>\n      <td>cuda</td>\n      <td>./save/models/visual_prompt_padding_30_0_4_cif...</td>\n      <td>20</td>\n      <td>87.92</td>\n      <td>88.10</td>\n      <td>20.0</td>\n    </tr>\n    <tr>\n      <th>10</th>\n      <td>100</td>\n      <td>60.0</td>\n      <td>50</td>\n      <td>128</td>\n      <td>16</td>\n      <td>20</td>\n      <td>0</td>\n      <td>8</td>\n      <td>sgd</td>\n      <td>40</td>\n      <td>...</td>\n      <td>True</td>\n      <td>True</td>\n      <td>None</td>\n      <td>False</td>\n      <td>cuda</td>\n      <td>./save/models/deep_prompt_padding_30_0_4_cifar...</td>\n      <td>19</td>\n      <td>NaN</td>\n      <td>88.03</td>\n      <td>19.0</td>\n    </tr>\n    <tr>\n      <th>11</th>\n      <td>100</td>\n      <td>60.0</td>\n      <td>50</td>\n      <td>128</td>\n      <td>16</td>\n      <td>20</td>\n      <td>0</td>\n      <td>8</td>\n      <td>sgd</td>\n      <td>40</td>\n      <td>...</td>\n      <td>True</td>\n      <td>True</td>\n      <td>None</td>\n      <td>False</td>\n      <td>cuda</td>\n      <td>./save/models/deep_prompt_padding_30_7_4_cifar...</td>\n      <td>20</td>\n      <td>NaN</td>\n      <td>88.18</td>\n      <td>20.0</td>\n    </tr>\n    <tr>\n      <th>12</th>\n      <td>100</td>\n      <td>60.0</td>\n      <td>50</td>\n      <td>128</td>\n      <td>16</td>\n      <td>20</td>\n      <td>0</td>\n      <td>8</td>\n      <td>sgd</td>\n      <td>40</td>\n      <td>...</td>\n      <td>True</td>\n      <td>True</td>\n      <td>None</td>\n      <td>False</td>\n      <td>cuda</td>\n      <td>./save/models/deep_prompt_padding_30_3_4_cifar...</td>\n      <td>4</td>\n      <td>NaN</td>\n      <td>62.02</td>\n      <td>4.0</td>\n    </tr>\n    <tr>\n      <th>13</th>\n      <td>100</td>\n      <td>60.0</td>\n      <td>50</td>\n      <td>128</td>\n      <td>16</td>\n      <td>20</td>\n      <td>0</td>\n      <td>8</td>\n      <td>sgd</td>\n      <td>40</td>\n      <td>...</td>\n      <td>False</td>\n      <td>False</td>\n      <td>None</td>\n      <td>False</td>\n      <td>cuda</td>\n      <td>./save/models/visual_prompt_fixed_patch_224_0_...</td>\n      <td>17</td>\n      <td>82.49</td>\n      <td>81.60</td>\n      <td>17.0</td>\n    </tr>\n    <tr>\n      <th>14</th>\n      <td>100</td>\n      <td>60.0</td>\n      <td>50</td>\n      <td>128</td>\n      <td>16</td>\n      <td>20</td>\n      <td>0</td>\n      <td>8</td>\n      <td>sgd</td>\n      <td>40</td>\n      <td>...</td>\n      <td>False</td>\n      <td>False</td>\n      <td>None</td>\n      <td>False</td>\n      <td>cuda</td>\n      <td>./save/models/deep_prompt_padding_30_7_4_cifar...</td>\n      <td>5</td>\n      <td>66.84</td>\n      <td>66.38</td>\n      <td>5.0</td>\n    </tr>\n    <tr>\n      <th>15</th>\n      <td>100</td>\n      <td>60.0</td>\n      <td>50</td>\n      <td>128</td>\n      <td>16</td>\n      <td>20</td>\n      <td>0</td>\n      <td>8</td>\n      <td>sgd</td>\n      <td>40</td>\n      <td>...</td>\n      <td>False</td>\n      <td>False</td>\n      <td>None</td>\n      <td>False</td>\n      <td>cuda</td>\n      <td>./save/models/visual_prompt_fixed_patch_1_0_4_...</td>\n      <td>16</td>\n      <td>65.00</td>\n      <td>64.28</td>\n      <td>16.0</td>\n    </tr>\n    <tr>\n      <th>16</th>\n      <td>100</td>\n      <td>60.0</td>\n      <td>50</td>\n      <td>128</td>\n      <td>16</td>\n      <td>20</td>\n      <td>0</td>\n      <td>8</td>\n      <td>sgd</td>\n      <td>40</td>\n      <td>...</td>\n      <td>False</td>\n      <td>False</td>\n      <td>None</td>\n      <td>False</td>\n      <td>cuda</td>\n      <td>./save/models/deep_prompt_padding_30_3_4_cifar...</td>\n      <td>4</td>\n      <td>69.38</td>\n      <td>69.04</td>\n      <td>4.0</td>\n    </tr>\n    <tr>\n      <th>17</th>\n      <td>100</td>\n      <td>60.0</td>\n      <td>50</td>\n      <td>128</td>\n      <td>16</td>\n      <td>20</td>\n      <td>0</td>\n      <td>8</td>\n      <td>sgd</td>\n      <td>40</td>\n      <td>...</td>\n      <td>True</td>\n      <td>True</td>\n      <td>None</td>\n      <td>False</td>\n      <td>cuda</td>\n      <td>./save/models/visual_prompt_fixed_patch_1_0_4_...</td>\n      <td>5</td>\n      <td>NaN</td>\n      <td>87.73</td>\n      <td>5.0</td>\n    </tr>\n    <tr>\n      <th>18</th>\n      <td>100</td>\n      <td>60.0</td>\n      <td>50</td>\n      <td>128</td>\n      <td>16</td>\n      <td>20</td>\n      <td>0</td>\n      <td>8</td>\n      <td>sgd</td>\n      <td>40</td>\n      <td>...</td>\n      <td>False</td>\n      <td>False</td>\n      <td>None</td>\n      <td>False</td>\n      <td>cuda</td>\n      <td>./save/models/deep_prompt_padding_30_0_4_cifar...</td>\n      <td>1</td>\n      <td>68.64</td>\n      <td>67.89</td>\n      <td>1.0</td>\n    </tr>\n    <tr>\n      <th>19</th>\n      <td>100</td>\n      <td>60.0</td>\n      <td>50</td>\n      <td>128</td>\n      <td>16</td>\n      <td>20</td>\n      <td>0</td>\n      <td>8</td>\n      <td>sgd</td>\n      <td>40</td>\n      <td>...</td>\n      <td>False</td>\n      <td>False</td>\n      <td>None</td>\n      <td>False</td>\n      <td>cuda</td>\n      <td>./save/models/visual_prompt_padding_30_0_4_cif...</td>\n      <td>5</td>\n      <td>63.88</td>\n      <td>63.87</td>\n      <td>5.0</td>\n    </tr>\n    <tr>\n      <th>20</th>\n      <td>100</td>\n      <td>60.0</td>\n      <td>50</td>\n      <td>128</td>\n      <td>16</td>\n      <td>20</td>\n      <td>0</td>\n      <td>8</td>\n      <td>sgd</td>\n      <td>40</td>\n      <td>...</td>\n      <td>True</td>\n      <td>True</td>\n      <td>None</td>\n      <td>False</td>\n      <td>cuda</td>\n      <td>./save/models/deep_prompt_padding_30_7_4_cifar...</td>\n      <td>5</td>\n      <td>NaN</td>\n      <td>60.58</td>\n      <td>5.0</td>\n    </tr>\n    <tr>\n      <th>21</th>\n      <td>100</td>\n      <td>60.0</td>\n      <td>50</td>\n      <td>128</td>\n      <td>16</td>\n      <td>20</td>\n      <td>0</td>\n      <td>8</td>\n      <td>sgd</td>\n      <td>40</td>\n      <td>...</td>\n      <td>True</td>\n      <td>True</td>\n      <td>None</td>\n      <td>False</td>\n      <td>cuda</td>\n      <td>./save/models/deep_prompt_padding_30_0_4_cifar...</td>\n      <td>1</td>\n      <td>NaN</td>\n      <td>59.30</td>\n      <td>1.0</td>\n    </tr>\n    <tr>\n      <th>22</th>\n      <td>100</td>\n      <td>60.0</td>\n      <td>50</td>\n      <td>128</td>\n      <td>16</td>\n      <td>20</td>\n      <td>0</td>\n      <td>8</td>\n      <td>sgd</td>\n      <td>40</td>\n      <td>...</td>\n      <td>True</td>\n      <td>True</td>\n      <td>None</td>\n      <td>False</td>\n      <td>cuda</td>\n      <td>./save/models/deep_prompt_padding_30_3_4_cifar...</td>\n      <td>4</td>\n      <td>NaN</td>\n      <td>87.97</td>\n      <td>4.0</td>\n    </tr>\n    <tr>\n      <th>23</th>\n      <td>100</td>\n      <td>60.0</td>\n      <td>50</td>\n      <td>128</td>\n      <td>16</td>\n      <td>20</td>\n      <td>0</td>\n      <td>8</td>\n      <td>sgd</td>\n      <td>40</td>\n      <td>...</td>\n      <td>False</td>\n      <td>False</td>\n      <td>None</td>\n      <td>False</td>\n      <td>cuda</td>\n      <td>./save/models/visual_prompt_fixed_patch_1_0_4_...</td>\n      <td>5</td>\n      <td>89.48</td>\n      <td>89.39</td>\n      <td>5.0</td>\n    </tr>\n    <tr>\n      <th>24</th>\n      <td>10</td>\n      <td>60.0</td>\n      <td>50</td>\n      <td>128</td>\n      <td>16</td>\n      <td>20</td>\n      <td>0</td>\n      <td>8</td>\n      <td>sgd</td>\n      <td>40</td>\n      <td>...</td>\n      <td>False</td>\n      <td>False</td>\n      <td>None</td>\n      <td>False</td>\n      <td>cuda</td>\n      <td>./save/models/visual_prompt_padding_1_cifar10_...</td>\n      <td>4</td>\n      <td>90.05</td>\n      <td>89.89</td>\n      <td>NaN</td>\n    </tr>\n    <tr>\n      <th>25</th>\n      <td>100</td>\n      <td>60.0</td>\n      <td>50</td>\n      <td>128</td>\n      <td>16</td>\n      <td>20</td>\n      <td>0</td>\n      <td>8</td>\n      <td>sgd</td>\n      <td>40</td>\n      <td>...</td>\n      <td>False</td>\n      <td>False</td>\n      <td>None</td>\n      <td>False</td>\n      <td>cuda</td>\n      <td>./save/models/visual_prompt_fixed_patch_224_0_...</td>\n      <td>20</td>\n      <td>60.93</td>\n      <td>61.66</td>\n      <td>20.0</td>\n    </tr>\n    <tr>\n      <th>26</th>\n      <td>10</td>\n      <td>60.0</td>\n      <td>50</td>\n      <td>128</td>\n      <td>16</td>\n      <td>20</td>\n      <td>0</td>\n      <td>8</td>\n      <td>sgd</td>\n      <td>40</td>\n      <td>...</td>\n      <td>True</td>\n      <td>True</td>\n      <td>None</td>\n      <td>False</td>\n      <td>cuda</td>\n      <td>./save/models/visual_prompt_padding_1_cifar100...</td>\n      <td>4</td>\n      <td>NaN</td>\n      <td>60.82</td>\n      <td>4.0</td>\n    </tr>\n    <tr>\n      <th>27</th>\n      <td>100</td>\n      <td>60.0</td>\n      <td>50</td>\n      <td>128</td>\n      <td>16</td>\n      <td>20</td>\n      <td>0</td>\n      <td>8</td>\n      <td>sgd</td>\n      <td>40</td>\n      <td>...</td>\n      <td>True</td>\n      <td>True</td>\n      <td>None</td>\n      <td>False</td>\n      <td>cuda</td>\n      <td>./save/models/visual_prompt_padding_30_0_4_cif...</td>\n      <td>5</td>\n      <td>NaN</td>\n      <td>54.27</td>\n      <td>5.0</td>\n    </tr>\n  </tbody>\n</table>\n<p>28 rows × 43 columns</p>\n</div>"
     },
     "execution_count": 108,
     "metadata": {},
     "output_type": "execute_result"
    }
   ],
   "source": [
    "vp_dp_df"
   ],
   "metadata": {
    "collapsed": false,
    "ExecuteTime": {
     "end_time": "2023-11-28T16:54:15.809300Z",
     "start_time": "2023-11-28T16:54:15.761484Z"
    }
   },
   "id": "bb5d366bfa49433d"
  },
  {
   "cell_type": "code",
   "execution_count": 109,
   "outputs": [],
   "source": [
    "vp_cols = [\"dataset\", \"method\", \"prompt_size\", \"test_noise\", \"top1_test_acc\", \"best_epoch\"]\n",
    "dp_cols = [\"dataset\", \"prompt_num\", \"injection_layer\", \"prompt_size\", \"test_noise\", \"top1_test_acc\", \"best_epoch\"]"
   ],
   "metadata": {
    "collapsed": false,
    "ExecuteTime": {
     "end_time": "2023-11-28T16:54:15.809589Z",
     "start_time": "2023-11-28T16:54:15.765727Z"
    }
   },
   "id": "c62de24623ebc153"
  },
  {
   "cell_type": "code",
   "execution_count": 110,
   "outputs": [
    {
     "data": {
      "text/plain": "     dataset       method  prompt_size  test_noise  top1_test_acc  best_epoch\n23   cifar10  fixed_patch            1       False          89.39         5.0\n17   cifar10  fixed_patch            1        True          87.73         5.0\n13   cifar10  fixed_patch          224       False          81.60        17.0\n4    cifar10  fixed_patch          224        True          81.36        17.0\n24   cifar10      padding            1       False          89.89         NaN\n8    cifar10      padding            1        True          87.54         4.0\n9    cifar10      padding           30       False          88.10        20.0\n3    cifar10      padding           30        True          82.08        20.0\n15  cifar100  fixed_patch            1       False          64.28        16.0\n1   cifar100  fixed_patch            1        True          60.34        16.0\n25  cifar100  fixed_patch          224       False          61.66        20.0\n7   cifar100  fixed_patch          224        True          61.05        20.0\n6   cifar100      padding            1       False          66.99         4.0\n26  cifar100      padding            1        True          60.82         4.0\n19  cifar100      padding           30       False          63.87         5.0\n27  cifar100      padding           30        True          54.27         5.0",
      "text/html": "<div>\n<style scoped>\n    .dataframe tbody tr th:only-of-type {\n        vertical-align: middle;\n    }\n\n    .dataframe tbody tr th {\n        vertical-align: top;\n    }\n\n    .dataframe thead th {\n        text-align: right;\n    }\n</style>\n<table border=\"1\" class=\"dataframe\">\n  <thead>\n    <tr style=\"text-align: right;\">\n      <th></th>\n      <th>dataset</th>\n      <th>method</th>\n      <th>prompt_size</th>\n      <th>test_noise</th>\n      <th>top1_test_acc</th>\n      <th>best_epoch</th>\n    </tr>\n  </thead>\n  <tbody>\n    <tr>\n      <th>23</th>\n      <td>cifar10</td>\n      <td>fixed_patch</td>\n      <td>1</td>\n      <td>False</td>\n      <td>89.39</td>\n      <td>5.0</td>\n    </tr>\n    <tr>\n      <th>17</th>\n      <td>cifar10</td>\n      <td>fixed_patch</td>\n      <td>1</td>\n      <td>True</td>\n      <td>87.73</td>\n      <td>5.0</td>\n    </tr>\n    <tr>\n      <th>13</th>\n      <td>cifar10</td>\n      <td>fixed_patch</td>\n      <td>224</td>\n      <td>False</td>\n      <td>81.60</td>\n      <td>17.0</td>\n    </tr>\n    <tr>\n      <th>4</th>\n      <td>cifar10</td>\n      <td>fixed_patch</td>\n      <td>224</td>\n      <td>True</td>\n      <td>81.36</td>\n      <td>17.0</td>\n    </tr>\n    <tr>\n      <th>24</th>\n      <td>cifar10</td>\n      <td>padding</td>\n      <td>1</td>\n      <td>False</td>\n      <td>89.89</td>\n      <td>NaN</td>\n    </tr>\n    <tr>\n      <th>8</th>\n      <td>cifar10</td>\n      <td>padding</td>\n      <td>1</td>\n      <td>True</td>\n      <td>87.54</td>\n      <td>4.0</td>\n    </tr>\n    <tr>\n      <th>9</th>\n      <td>cifar10</td>\n      <td>padding</td>\n      <td>30</td>\n      <td>False</td>\n      <td>88.10</td>\n      <td>20.0</td>\n    </tr>\n    <tr>\n      <th>3</th>\n      <td>cifar10</td>\n      <td>padding</td>\n      <td>30</td>\n      <td>True</td>\n      <td>82.08</td>\n      <td>20.0</td>\n    </tr>\n    <tr>\n      <th>15</th>\n      <td>cifar100</td>\n      <td>fixed_patch</td>\n      <td>1</td>\n      <td>False</td>\n      <td>64.28</td>\n      <td>16.0</td>\n    </tr>\n    <tr>\n      <th>1</th>\n      <td>cifar100</td>\n      <td>fixed_patch</td>\n      <td>1</td>\n      <td>True</td>\n      <td>60.34</td>\n      <td>16.0</td>\n    </tr>\n    <tr>\n      <th>25</th>\n      <td>cifar100</td>\n      <td>fixed_patch</td>\n      <td>224</td>\n      <td>False</td>\n      <td>61.66</td>\n      <td>20.0</td>\n    </tr>\n    <tr>\n      <th>7</th>\n      <td>cifar100</td>\n      <td>fixed_patch</td>\n      <td>224</td>\n      <td>True</td>\n      <td>61.05</td>\n      <td>20.0</td>\n    </tr>\n    <tr>\n      <th>6</th>\n      <td>cifar100</td>\n      <td>padding</td>\n      <td>1</td>\n      <td>False</td>\n      <td>66.99</td>\n      <td>4.0</td>\n    </tr>\n    <tr>\n      <th>26</th>\n      <td>cifar100</td>\n      <td>padding</td>\n      <td>1</td>\n      <td>True</td>\n      <td>60.82</td>\n      <td>4.0</td>\n    </tr>\n    <tr>\n      <th>19</th>\n      <td>cifar100</td>\n      <td>padding</td>\n      <td>30</td>\n      <td>False</td>\n      <td>63.87</td>\n      <td>5.0</td>\n    </tr>\n    <tr>\n      <th>27</th>\n      <td>cifar100</td>\n      <td>padding</td>\n      <td>30</td>\n      <td>True</td>\n      <td>54.27</td>\n      <td>5.0</td>\n    </tr>\n  </tbody>\n</table>\n</div>"
     },
     "execution_count": 110,
     "metadata": {},
     "output_type": "execute_result"
    }
   ],
   "source": [
    "vp_df = vp_dp_df.query(\"prompt_type == 'visual_prompt'\")[vp_cols].sort_values([\"dataset\", \"method\", \"prompt_size\", \"test_noise\"])\n",
    "vp_df"
   ],
   "metadata": {
    "collapsed": false,
    "ExecuteTime": {
     "end_time": "2023-11-28T16:54:15.858642Z",
     "start_time": "2023-11-28T16:54:15.778770Z"
    }
   },
   "id": "8e014781d434a479"
  },
  {
   "cell_type": "code",
   "execution_count": 111,
   "outputs": [
    {
     "data": {
      "text/plain": "     dataset  prompt_num  injection_layer  prompt_size  test_noise  \\\n5    cifar10           4                0           30       False   \n10   cifar10           4                0           30        True   \n2    cifar10           4                3           30       False   \n22   cifar10           4                3           30        True   \n0    cifar10           4                7           30       False   \n11   cifar10           4                7           30        True   \n18  cifar100           4                0           30       False   \n21  cifar100           4                0           30        True   \n16  cifar100           4                3           30       False   \n12  cifar100           4                3           30        True   \n14  cifar100           4                7           30       False   \n20  cifar100           4                7           30        True   \n\n    top1_test_acc  best_epoch  \n5           92.39        19.0  \n10          88.03        19.0  \n2           92.78         4.0  \n22          87.97         4.0  \n0           91.90        20.0  \n11          88.18        20.0  \n18          67.89         1.0  \n21          59.30         1.0  \n16          69.04         4.0  \n12          62.02         4.0  \n14          66.38         5.0  \n20          60.58         5.0  ",
      "text/html": "<div>\n<style scoped>\n    .dataframe tbody tr th:only-of-type {\n        vertical-align: middle;\n    }\n\n    .dataframe tbody tr th {\n        vertical-align: top;\n    }\n\n    .dataframe thead th {\n        text-align: right;\n    }\n</style>\n<table border=\"1\" class=\"dataframe\">\n  <thead>\n    <tr style=\"text-align: right;\">\n      <th></th>\n      <th>dataset</th>\n      <th>prompt_num</th>\n      <th>injection_layer</th>\n      <th>prompt_size</th>\n      <th>test_noise</th>\n      <th>top1_test_acc</th>\n      <th>best_epoch</th>\n    </tr>\n  </thead>\n  <tbody>\n    <tr>\n      <th>5</th>\n      <td>cifar10</td>\n      <td>4</td>\n      <td>0</td>\n      <td>30</td>\n      <td>False</td>\n      <td>92.39</td>\n      <td>19.0</td>\n    </tr>\n    <tr>\n      <th>10</th>\n      <td>cifar10</td>\n      <td>4</td>\n      <td>0</td>\n      <td>30</td>\n      <td>True</td>\n      <td>88.03</td>\n      <td>19.0</td>\n    </tr>\n    <tr>\n      <th>2</th>\n      <td>cifar10</td>\n      <td>4</td>\n      <td>3</td>\n      <td>30</td>\n      <td>False</td>\n      <td>92.78</td>\n      <td>4.0</td>\n    </tr>\n    <tr>\n      <th>22</th>\n      <td>cifar10</td>\n      <td>4</td>\n      <td>3</td>\n      <td>30</td>\n      <td>True</td>\n      <td>87.97</td>\n      <td>4.0</td>\n    </tr>\n    <tr>\n      <th>0</th>\n      <td>cifar10</td>\n      <td>4</td>\n      <td>7</td>\n      <td>30</td>\n      <td>False</td>\n      <td>91.90</td>\n      <td>20.0</td>\n    </tr>\n    <tr>\n      <th>11</th>\n      <td>cifar10</td>\n      <td>4</td>\n      <td>7</td>\n      <td>30</td>\n      <td>True</td>\n      <td>88.18</td>\n      <td>20.0</td>\n    </tr>\n    <tr>\n      <th>18</th>\n      <td>cifar100</td>\n      <td>4</td>\n      <td>0</td>\n      <td>30</td>\n      <td>False</td>\n      <td>67.89</td>\n      <td>1.0</td>\n    </tr>\n    <tr>\n      <th>21</th>\n      <td>cifar100</td>\n      <td>4</td>\n      <td>0</td>\n      <td>30</td>\n      <td>True</td>\n      <td>59.30</td>\n      <td>1.0</td>\n    </tr>\n    <tr>\n      <th>16</th>\n      <td>cifar100</td>\n      <td>4</td>\n      <td>3</td>\n      <td>30</td>\n      <td>False</td>\n      <td>69.04</td>\n      <td>4.0</td>\n    </tr>\n    <tr>\n      <th>12</th>\n      <td>cifar100</td>\n      <td>4</td>\n      <td>3</td>\n      <td>30</td>\n      <td>True</td>\n      <td>62.02</td>\n      <td>4.0</td>\n    </tr>\n    <tr>\n      <th>14</th>\n      <td>cifar100</td>\n      <td>4</td>\n      <td>7</td>\n      <td>30</td>\n      <td>False</td>\n      <td>66.38</td>\n      <td>5.0</td>\n    </tr>\n    <tr>\n      <th>20</th>\n      <td>cifar100</td>\n      <td>4</td>\n      <td>7</td>\n      <td>30</td>\n      <td>True</td>\n      <td>60.58</td>\n      <td>5.0</td>\n    </tr>\n  </tbody>\n</table>\n</div>"
     },
     "execution_count": 111,
     "metadata": {},
     "output_type": "execute_result"
    }
   ],
   "source": [
    "dp_df = vp_dp_df.query(\"prompt_type == 'deep_prompt'\")[dp_cols].sort_values([\"dataset\", \"injection_layer\", \"test_noise\"])\n",
    "dp_df"
   ],
   "metadata": {
    "collapsed": false,
    "ExecuteTime": {
     "end_time": "2023-11-28T16:54:15.859105Z",
     "start_time": "2023-11-28T16:54:15.782611Z"
    }
   },
   "id": "20b995b3ac83420d"
  },
  {
   "cell_type": "code",
   "execution_count": 102,
   "outputs": [],
   "source": [],
   "metadata": {
    "collapsed": false,
    "ExecuteTime": {
     "end_time": "2023-11-28T12:26:21.631081Z",
     "start_time": "2023-11-28T12:26:21.622701Z"
    }
   },
   "id": "394246f5164dce82"
  },
  {
   "cell_type": "code",
   "execution_count": null,
   "outputs": [],
   "source": [],
   "metadata": {
    "collapsed": false
   },
   "id": "d954e2666c6c8876"
  }
 ],
 "metadata": {
  "kernelspec": {
   "display_name": "Python 3",
   "language": "python",
   "name": "python3"
  },
  "language_info": {
   "codemirror_mode": {
    "name": "ipython",
    "version": 2
   },
   "file_extension": ".py",
   "mimetype": "text/x-python",
   "name": "python",
   "nbconvert_exporter": "python",
   "pygments_lexer": "ipython2",
   "version": "2.7.6"
  }
 },
 "nbformat": 4,
 "nbformat_minor": 5
}
