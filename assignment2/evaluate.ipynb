{
 "cells": [
  {
   "cell_type": "markdown",
   "source": [
    "# Create summary and evaluation of different runs"
   ],
   "metadata": {
    "collapsed": false
   },
   "id": "702852a1c6265f6d"
  },
  {
   "cell_type": "code",
   "execution_count": 56,
   "outputs": [],
   "source": [
    "# !rm -rf snellius_results\n",
    "!rsync -r snellius:~/uvadlc_practicals_2023/assignment2/part2/results_zs snellius_results\n",
    "!rsync -r snellius:~/uvadlc_practicals_2023/assignment2/part2/results_vp snellius_results"
   ],
   "metadata": {
    "collapsed": false,
    "ExecuteTime": {
     "end_time": "2023-11-27T13:02:29.711567Z",
     "start_time": "2023-11-27T13:02:25.472548Z"
    }
   },
   "id": "b120a1032e06e178"
  },
  {
   "cell_type": "code",
   "execution_count": 57,
   "outputs": [],
   "source": [
    "import json\n",
    "from pathlib import Path\n",
    "import pandas as pd"
   ],
   "metadata": {
    "collapsed": false,
    "ExecuteTime": {
     "end_time": "2023-11-27T13:02:30.513676Z",
     "start_time": "2023-11-27T13:02:30.509681Z"
    }
   },
   "id": "f36176281c24e1d"
  },
  {
   "cell_type": "code",
   "execution_count": 58,
   "outputs": [],
   "source": [
    "snellius_results = Path(\"snellius_results\")\n",
    "\n",
    "def load_jsons_to_df(json_dir):\n",
    "    json_data = []\n",
    "    for js_path in json_dir.glob(\"*.json\"):\n",
    "        with open(js_path) as f: \n",
    "            js = json.load(f)\n",
    "            json_data.append(js)\n",
    "    return pd.DataFrame(json_data)\n",
    "\n",
    "vp_dp_df = load_jsons_to_df(snellius_results / \"results_vp\")\n",
    "zs_df = load_jsons_to_df(snellius_results / \"results_zs\")"
   ],
   "metadata": {
    "collapsed": false,
    "ExecuteTime": {
     "end_time": "2023-11-27T13:02:30.680016Z",
     "start_time": "2023-11-27T13:02:30.672992Z"
    }
   },
   "id": "f55bbe20ba5a8825"
  },
  {
   "cell_type": "code",
   "execution_count": 59,
   "outputs": [
    {
     "data": {
      "text/plain": "    dataset    set   accuracy\n0  cifar100   test  63.079071\n1   cifar10  train  88.721609\n2   cifar10   test  88.897765\n3  cifar100  train  63.581651",
      "text/html": "<div>\n<style scoped>\n    .dataframe tbody tr th:only-of-type {\n        vertical-align: middle;\n    }\n\n    .dataframe tbody tr th {\n        vertical-align: top;\n    }\n\n    .dataframe thead th {\n        text-align: right;\n    }\n</style>\n<table border=\"1\" class=\"dataframe\">\n  <thead>\n    <tr style=\"text-align: right;\">\n      <th></th>\n      <th>dataset</th>\n      <th>set</th>\n      <th>accuracy</th>\n    </tr>\n  </thead>\n  <tbody>\n    <tr>\n      <th>0</th>\n      <td>cifar100</td>\n      <td>test</td>\n      <td>63.079071</td>\n    </tr>\n    <tr>\n      <th>1</th>\n      <td>cifar10</td>\n      <td>train</td>\n      <td>88.721609</td>\n    </tr>\n    <tr>\n      <th>2</th>\n      <td>cifar10</td>\n      <td>test</td>\n      <td>88.897765</td>\n    </tr>\n    <tr>\n      <th>3</th>\n      <td>cifar100</td>\n      <td>train</td>\n      <td>63.581651</td>\n    </tr>\n  </tbody>\n</table>\n</div>"
     },
     "execution_count": 59,
     "metadata": {},
     "output_type": "execute_result"
    }
   ],
   "source": [
    "zs_df"
   ],
   "metadata": {
    "collapsed": false,
    "ExecuteTime": {
     "end_time": "2023-11-27T13:02:31.103530Z",
     "start_time": "2023-11-27T13:02:31.100396Z"
    }
   },
   "id": "9246d894ce1322d5"
  },
  {
   "cell_type": "code",
   "execution_count": 60,
   "outputs": [
    {
     "data": {
      "text/plain": "    print_freq  print_tqdm_interval  save_freq  batch_size  num_workers  \\\n0           10                 60.0         50         128           16   \n1           10                 60.0         50         128           16   \n2           10                 60.0         50         128           16   \n3           10                 60.0         50         128           16   \n4           10                 60.0         50         128           16   \n5           10                 60.0         50         128           16   \n6           10                 60.0         50         128           16   \n7           10                 60.0         50         128           16   \n8           10                 60.0         50         128           16   \n9           10                 60.0         50         128           16   \n10          10                 60.0         50         128           16   \n11          10                 60.0         50         128           16   \n12          10                 60.0         50         128           16   \n13          10                 60.0         50         128           16   \n14          10                 60.0         50         128           16   \n15          10                 60.0         50         128           16   \n16          10                 60.0         50         128           16   \n17          10                 60.0         50         128           16   \n18          10                 60.0         50         128           16   \n19          10                 60.0         50         128           16   \n\n    epochs  max_batches  square_size optim  learning_rate  ...  resume_best  \\\n0       20            0            8   sgd             40  ...        False   \n1       20            0            8   sgd             40  ...         True   \n2       20            0            8   sgd             40  ...        False   \n3       20            0            8   sgd             40  ...        False   \n4       20            0            8   sgd             40  ...        False   \n5       20            0            8   sgd             40  ...         True   \n6       20            0            8   sgd             40  ...         True   \n7       20            0            8   sgd             40  ...         True   \n8       20            0            8   sgd             40  ...         True   \n9       20            0            8   sgd             40  ...        False   \n10      20            0            8   sgd             40  ...        False   \n11      20            0            8   sgd             40  ...        False   \n12      20            0            8   sgd             40  ...         True   \n13      20            0            8   sgd             40  ...        False   \n14      20            0            8   sgd             40  ...         True   \n15      20            0            8   sgd             40  ...         True   \n16      20            0            8   sgd             40  ...         True   \n17      20            0            8   sgd             40  ...        False   \n18      20            0            8   sgd             40  ...        False   \n19      20            0            8   sgd             40  ...         True   \n\n    evaluate   gpu  use_wandb device  \\\n0      False  None      False   cuda   \n1       True  None      False   cuda   \n2      False  None      False   cuda   \n3      False  None      False   cuda   \n4      False  None      False   cuda   \n5       True  None      False   cuda   \n6       True  None      False   cuda   \n7       True  None      False   cuda   \n8       True  None      False   cuda   \n9      False  None      False   cuda   \n10     False  None      False   cuda   \n11     False  None      False   cuda   \n12      True  None      False   cuda   \n13     False  None      False   cuda   \n14      True  None      False   cuda   \n15      True  None      False   cuda   \n16      True  None      False   cuda   \n17     False  None      False   cuda   \n18     False  None      False   cuda   \n19      True  None      False   cuda   \n\n                                         model_folder start_epoch  \\\n0   ./save/models/deep_prompt_padding_30_cifar10_c...          20   \n1   ./save/models/visual_prompt_fixed_patch_1_cifa...           7   \n2   ./save/models/deep_prompt_padding_30_cifar10_c...          20   \n3   ./save/models/deep_prompt_padding_30_cifar10_c...           1   \n4   ./save/models/visual_prompt_padding_1_cifar100...           4   \n5   ./save/models/visual_prompt_padding_1_cifar10_...           4   \n6   ./save/models/deep_prompt_padding_30_cifar10_c...           1   \n7   ./save/models/deep_prompt_padding_30_cifar10_c...          20   \n8   ./save/models/deep_prompt_padding_30_cifar100_...          20   \n9   ./save/models/deep_prompt_padding_30_cifar100_...          20   \n10  ./save/models/visual_prompt_fixed_patch_1_cifa...           7   \n11  ./save/models/deep_prompt_padding_30_cifar100_...          20   \n12  ./save/models/visual_prompt_fixed_patch_1_cifa...           7   \n13  ./save/models/deep_prompt_padding_30_cifar100_...          20   \n14  ./save/models/deep_prompt_padding_30_cifar100_...          20   \n15  ./save/models/deep_prompt_padding_30_cifar100_...          20   \n16  ./save/models/deep_prompt_padding_30_cifar10_c...          20   \n17  ./save/models/visual_prompt_fixed_patch_1_cifa...           7   \n18  ./save/models/visual_prompt_padding_1_cifar10_...           4   \n19  ./save/models/visual_prompt_padding_1_cifar100...           4   \n\n    top1_val_acc  top1_test_acc best_epoch  \n0          79.98          79.24       20.0  \n1            NaN          60.35        7.0  \n2          53.97          52.73        NaN  \n3          76.75          75.83        NaN  \n4          67.31          66.99        4.0  \n5            NaN          87.54        4.0  \n6            NaN          75.05        NaN  \n7            NaN          75.07       20.0  \n8            NaN          46.10       20.0  \n9          54.83          54.78       20.0  \n10         63.81          64.30        7.0  \n11         53.66          53.59       20.0  \n12           NaN          87.65        NaN  \n13         50.02          49.14       20.0  \n14           NaN          48.63       20.0  \n15           NaN          47.38       20.0  \n16           NaN          49.85       20.0  \n17         88.79          89.25        NaN  \n18         90.05          89.89        NaN  \n19           NaN          60.82        4.0  \n\n[20 rows x 43 columns]",
      "text/html": "<div>\n<style scoped>\n    .dataframe tbody tr th:only-of-type {\n        vertical-align: middle;\n    }\n\n    .dataframe tbody tr th {\n        vertical-align: top;\n    }\n\n    .dataframe thead th {\n        text-align: right;\n    }\n</style>\n<table border=\"1\" class=\"dataframe\">\n  <thead>\n    <tr style=\"text-align: right;\">\n      <th></th>\n      <th>print_freq</th>\n      <th>print_tqdm_interval</th>\n      <th>save_freq</th>\n      <th>batch_size</th>\n      <th>num_workers</th>\n      <th>epochs</th>\n      <th>max_batches</th>\n      <th>square_size</th>\n      <th>optim</th>\n      <th>learning_rate</th>\n      <th>...</th>\n      <th>resume_best</th>\n      <th>evaluate</th>\n      <th>gpu</th>\n      <th>use_wandb</th>\n      <th>device</th>\n      <th>model_folder</th>\n      <th>start_epoch</th>\n      <th>top1_val_acc</th>\n      <th>top1_test_acc</th>\n      <th>best_epoch</th>\n    </tr>\n  </thead>\n  <tbody>\n    <tr>\n      <th>0</th>\n      <td>10</td>\n      <td>60.0</td>\n      <td>50</td>\n      <td>128</td>\n      <td>16</td>\n      <td>20</td>\n      <td>0</td>\n      <td>8</td>\n      <td>sgd</td>\n      <td>40</td>\n      <td>...</td>\n      <td>False</td>\n      <td>False</td>\n      <td>None</td>\n      <td>False</td>\n      <td>cuda</td>\n      <td>./save/models/deep_prompt_padding_30_cifar10_c...</td>\n      <td>20</td>\n      <td>79.98</td>\n      <td>79.24</td>\n      <td>20.0</td>\n    </tr>\n    <tr>\n      <th>1</th>\n      <td>10</td>\n      <td>60.0</td>\n      <td>50</td>\n      <td>128</td>\n      <td>16</td>\n      <td>20</td>\n      <td>0</td>\n      <td>8</td>\n      <td>sgd</td>\n      <td>40</td>\n      <td>...</td>\n      <td>True</td>\n      <td>True</td>\n      <td>None</td>\n      <td>False</td>\n      <td>cuda</td>\n      <td>./save/models/visual_prompt_fixed_patch_1_cifa...</td>\n      <td>7</td>\n      <td>NaN</td>\n      <td>60.35</td>\n      <td>7.0</td>\n    </tr>\n    <tr>\n      <th>2</th>\n      <td>10</td>\n      <td>60.0</td>\n      <td>50</td>\n      <td>128</td>\n      <td>16</td>\n      <td>20</td>\n      <td>0</td>\n      <td>8</td>\n      <td>sgd</td>\n      <td>40</td>\n      <td>...</td>\n      <td>False</td>\n      <td>False</td>\n      <td>None</td>\n      <td>False</td>\n      <td>cuda</td>\n      <td>./save/models/deep_prompt_padding_30_cifar10_c...</td>\n      <td>20</td>\n      <td>53.97</td>\n      <td>52.73</td>\n      <td>NaN</td>\n    </tr>\n    <tr>\n      <th>3</th>\n      <td>10</td>\n      <td>60.0</td>\n      <td>50</td>\n      <td>128</td>\n      <td>16</td>\n      <td>20</td>\n      <td>0</td>\n      <td>8</td>\n      <td>sgd</td>\n      <td>40</td>\n      <td>...</td>\n      <td>False</td>\n      <td>False</td>\n      <td>None</td>\n      <td>False</td>\n      <td>cuda</td>\n      <td>./save/models/deep_prompt_padding_30_cifar10_c...</td>\n      <td>1</td>\n      <td>76.75</td>\n      <td>75.83</td>\n      <td>NaN</td>\n    </tr>\n    <tr>\n      <th>4</th>\n      <td>10</td>\n      <td>60.0</td>\n      <td>50</td>\n      <td>128</td>\n      <td>16</td>\n      <td>20</td>\n      <td>0</td>\n      <td>8</td>\n      <td>sgd</td>\n      <td>40</td>\n      <td>...</td>\n      <td>False</td>\n      <td>False</td>\n      <td>None</td>\n      <td>False</td>\n      <td>cuda</td>\n      <td>./save/models/visual_prompt_padding_1_cifar100...</td>\n      <td>4</td>\n      <td>67.31</td>\n      <td>66.99</td>\n      <td>4.0</td>\n    </tr>\n    <tr>\n      <th>5</th>\n      <td>10</td>\n      <td>60.0</td>\n      <td>50</td>\n      <td>128</td>\n      <td>16</td>\n      <td>20</td>\n      <td>0</td>\n      <td>8</td>\n      <td>sgd</td>\n      <td>40</td>\n      <td>...</td>\n      <td>True</td>\n      <td>True</td>\n      <td>None</td>\n      <td>False</td>\n      <td>cuda</td>\n      <td>./save/models/visual_prompt_padding_1_cifar10_...</td>\n      <td>4</td>\n      <td>NaN</td>\n      <td>87.54</td>\n      <td>4.0</td>\n    </tr>\n    <tr>\n      <th>6</th>\n      <td>10</td>\n      <td>60.0</td>\n      <td>50</td>\n      <td>128</td>\n      <td>16</td>\n      <td>20</td>\n      <td>0</td>\n      <td>8</td>\n      <td>sgd</td>\n      <td>40</td>\n      <td>...</td>\n      <td>True</td>\n      <td>True</td>\n      <td>None</td>\n      <td>False</td>\n      <td>cuda</td>\n      <td>./save/models/deep_prompt_padding_30_cifar10_c...</td>\n      <td>1</td>\n      <td>NaN</td>\n      <td>75.05</td>\n      <td>NaN</td>\n    </tr>\n    <tr>\n      <th>7</th>\n      <td>10</td>\n      <td>60.0</td>\n      <td>50</td>\n      <td>128</td>\n      <td>16</td>\n      <td>20</td>\n      <td>0</td>\n      <td>8</td>\n      <td>sgd</td>\n      <td>40</td>\n      <td>...</td>\n      <td>True</td>\n      <td>True</td>\n      <td>None</td>\n      <td>False</td>\n      <td>cuda</td>\n      <td>./save/models/deep_prompt_padding_30_cifar10_c...</td>\n      <td>20</td>\n      <td>NaN</td>\n      <td>75.07</td>\n      <td>20.0</td>\n    </tr>\n    <tr>\n      <th>8</th>\n      <td>10</td>\n      <td>60.0</td>\n      <td>50</td>\n      <td>128</td>\n      <td>16</td>\n      <td>20</td>\n      <td>0</td>\n      <td>8</td>\n      <td>sgd</td>\n      <td>40</td>\n      <td>...</td>\n      <td>True</td>\n      <td>True</td>\n      <td>None</td>\n      <td>False</td>\n      <td>cuda</td>\n      <td>./save/models/deep_prompt_padding_30_cifar100_...</td>\n      <td>20</td>\n      <td>NaN</td>\n      <td>46.10</td>\n      <td>20.0</td>\n    </tr>\n    <tr>\n      <th>9</th>\n      <td>10</td>\n      <td>60.0</td>\n      <td>50</td>\n      <td>128</td>\n      <td>16</td>\n      <td>20</td>\n      <td>0</td>\n      <td>8</td>\n      <td>sgd</td>\n      <td>40</td>\n      <td>...</td>\n      <td>False</td>\n      <td>False</td>\n      <td>None</td>\n      <td>False</td>\n      <td>cuda</td>\n      <td>./save/models/deep_prompt_padding_30_cifar100_...</td>\n      <td>20</td>\n      <td>54.83</td>\n      <td>54.78</td>\n      <td>20.0</td>\n    </tr>\n    <tr>\n      <th>10</th>\n      <td>10</td>\n      <td>60.0</td>\n      <td>50</td>\n      <td>128</td>\n      <td>16</td>\n      <td>20</td>\n      <td>0</td>\n      <td>8</td>\n      <td>sgd</td>\n      <td>40</td>\n      <td>...</td>\n      <td>False</td>\n      <td>False</td>\n      <td>None</td>\n      <td>False</td>\n      <td>cuda</td>\n      <td>./save/models/visual_prompt_fixed_patch_1_cifa...</td>\n      <td>7</td>\n      <td>63.81</td>\n      <td>64.30</td>\n      <td>7.0</td>\n    </tr>\n    <tr>\n      <th>11</th>\n      <td>10</td>\n      <td>60.0</td>\n      <td>50</td>\n      <td>128</td>\n      <td>16</td>\n      <td>20</td>\n      <td>0</td>\n      <td>8</td>\n      <td>sgd</td>\n      <td>40</td>\n      <td>...</td>\n      <td>False</td>\n      <td>False</td>\n      <td>None</td>\n      <td>False</td>\n      <td>cuda</td>\n      <td>./save/models/deep_prompt_padding_30_cifar100_...</td>\n      <td>20</td>\n      <td>53.66</td>\n      <td>53.59</td>\n      <td>20.0</td>\n    </tr>\n    <tr>\n      <th>12</th>\n      <td>10</td>\n      <td>60.0</td>\n      <td>50</td>\n      <td>128</td>\n      <td>16</td>\n      <td>20</td>\n      <td>0</td>\n      <td>8</td>\n      <td>sgd</td>\n      <td>40</td>\n      <td>...</td>\n      <td>True</td>\n      <td>True</td>\n      <td>None</td>\n      <td>False</td>\n      <td>cuda</td>\n      <td>./save/models/visual_prompt_fixed_patch_1_cifa...</td>\n      <td>7</td>\n      <td>NaN</td>\n      <td>87.65</td>\n      <td>NaN</td>\n    </tr>\n    <tr>\n      <th>13</th>\n      <td>10</td>\n      <td>60.0</td>\n      <td>50</td>\n      <td>128</td>\n      <td>16</td>\n      <td>20</td>\n      <td>0</td>\n      <td>8</td>\n      <td>sgd</td>\n      <td>40</td>\n      <td>...</td>\n      <td>False</td>\n      <td>False</td>\n      <td>None</td>\n      <td>False</td>\n      <td>cuda</td>\n      <td>./save/models/deep_prompt_padding_30_cifar100_...</td>\n      <td>20</td>\n      <td>50.02</td>\n      <td>49.14</td>\n      <td>20.0</td>\n    </tr>\n    <tr>\n      <th>14</th>\n      <td>10</td>\n      <td>60.0</td>\n      <td>50</td>\n      <td>128</td>\n      <td>16</td>\n      <td>20</td>\n      <td>0</td>\n      <td>8</td>\n      <td>sgd</td>\n      <td>40</td>\n      <td>...</td>\n      <td>True</td>\n      <td>True</td>\n      <td>None</td>\n      <td>False</td>\n      <td>cuda</td>\n      <td>./save/models/deep_prompt_padding_30_cifar100_...</td>\n      <td>20</td>\n      <td>NaN</td>\n      <td>48.63</td>\n      <td>20.0</td>\n    </tr>\n    <tr>\n      <th>15</th>\n      <td>10</td>\n      <td>60.0</td>\n      <td>50</td>\n      <td>128</td>\n      <td>16</td>\n      <td>20</td>\n      <td>0</td>\n      <td>8</td>\n      <td>sgd</td>\n      <td>40</td>\n      <td>...</td>\n      <td>True</td>\n      <td>True</td>\n      <td>None</td>\n      <td>False</td>\n      <td>cuda</td>\n      <td>./save/models/deep_prompt_padding_30_cifar100_...</td>\n      <td>20</td>\n      <td>NaN</td>\n      <td>47.38</td>\n      <td>20.0</td>\n    </tr>\n    <tr>\n      <th>16</th>\n      <td>10</td>\n      <td>60.0</td>\n      <td>50</td>\n      <td>128</td>\n      <td>16</td>\n      <td>20</td>\n      <td>0</td>\n      <td>8</td>\n      <td>sgd</td>\n      <td>40</td>\n      <td>...</td>\n      <td>True</td>\n      <td>True</td>\n      <td>None</td>\n      <td>False</td>\n      <td>cuda</td>\n      <td>./save/models/deep_prompt_padding_30_cifar10_c...</td>\n      <td>20</td>\n      <td>NaN</td>\n      <td>49.85</td>\n      <td>20.0</td>\n    </tr>\n    <tr>\n      <th>17</th>\n      <td>10</td>\n      <td>60.0</td>\n      <td>50</td>\n      <td>128</td>\n      <td>16</td>\n      <td>20</td>\n      <td>0</td>\n      <td>8</td>\n      <td>sgd</td>\n      <td>40</td>\n      <td>...</td>\n      <td>False</td>\n      <td>False</td>\n      <td>None</td>\n      <td>False</td>\n      <td>cuda</td>\n      <td>./save/models/visual_prompt_fixed_patch_1_cifa...</td>\n      <td>7</td>\n      <td>88.79</td>\n      <td>89.25</td>\n      <td>NaN</td>\n    </tr>\n    <tr>\n      <th>18</th>\n      <td>10</td>\n      <td>60.0</td>\n      <td>50</td>\n      <td>128</td>\n      <td>16</td>\n      <td>20</td>\n      <td>0</td>\n      <td>8</td>\n      <td>sgd</td>\n      <td>40</td>\n      <td>...</td>\n      <td>False</td>\n      <td>False</td>\n      <td>None</td>\n      <td>False</td>\n      <td>cuda</td>\n      <td>./save/models/visual_prompt_padding_1_cifar10_...</td>\n      <td>4</td>\n      <td>90.05</td>\n      <td>89.89</td>\n      <td>NaN</td>\n    </tr>\n    <tr>\n      <th>19</th>\n      <td>10</td>\n      <td>60.0</td>\n      <td>50</td>\n      <td>128</td>\n      <td>16</td>\n      <td>20</td>\n      <td>0</td>\n      <td>8</td>\n      <td>sgd</td>\n      <td>40</td>\n      <td>...</td>\n      <td>True</td>\n      <td>True</td>\n      <td>None</td>\n      <td>False</td>\n      <td>cuda</td>\n      <td>./save/models/visual_prompt_padding_1_cifar100...</td>\n      <td>4</td>\n      <td>NaN</td>\n      <td>60.82</td>\n      <td>4.0</td>\n    </tr>\n  </tbody>\n</table>\n<p>20 rows × 43 columns</p>\n</div>"
     },
     "execution_count": 60,
     "metadata": {},
     "output_type": "execute_result"
    }
   ],
   "source": [
    "vp_dp_df"
   ],
   "metadata": {
    "collapsed": false,
    "ExecuteTime": {
     "end_time": "2023-11-27T13:02:32.052527Z",
     "start_time": "2023-11-27T13:02:32.044561Z"
    }
   },
   "id": "bb5d366bfa49433d"
  },
  {
   "cell_type": "code",
   "execution_count": 61,
   "outputs": [],
   "source": [
    "vp_cols = [\"dataset\", \"prompt_num\", \"method\", \"prompt_size\", \"test_noise\", \"top1_test_acc\", \"best_epoch\"]\n",
    "dp_cols = [\"dataset\", \"prompt_num\", \"injection_layer\", \"prompt_size\", \"test_noise\", \"top1_test_acc\", \"best_epoch\"]"
   ],
   "metadata": {
    "collapsed": false,
    "ExecuteTime": {
     "end_time": "2023-11-27T13:02:32.788026Z",
     "start_time": "2023-11-27T13:02:32.781372Z"
    }
   },
   "id": "c62de24623ebc153"
  },
  {
   "cell_type": "code",
   "execution_count": 62,
   "outputs": [
    {
     "data": {
      "text/plain": "     dataset  prompt_num       method  prompt_size  test_noise  top1_test_acc  \\\n17   cifar10           4  fixed_patch            1       False          89.25   \n12   cifar10           4  fixed_patch            1        True          87.65   \n18   cifar10           4      padding            1       False          89.89   \n5    cifar10           4      padding            1        True          87.54   \n10  cifar100           4  fixed_patch            1       False          64.30   \n1   cifar100           4  fixed_patch            1        True          60.35   \n4   cifar100           4      padding            1       False          66.99   \n19  cifar100           4      padding            1        True          60.82   \n\n    best_epoch  \n17         NaN  \n12         NaN  \n18         NaN  \n5          4.0  \n10         7.0  \n1          7.0  \n4          4.0  \n19         4.0  ",
      "text/html": "<div>\n<style scoped>\n    .dataframe tbody tr th:only-of-type {\n        vertical-align: middle;\n    }\n\n    .dataframe tbody tr th {\n        vertical-align: top;\n    }\n\n    .dataframe thead th {\n        text-align: right;\n    }\n</style>\n<table border=\"1\" class=\"dataframe\">\n  <thead>\n    <tr style=\"text-align: right;\">\n      <th></th>\n      <th>dataset</th>\n      <th>prompt_num</th>\n      <th>method</th>\n      <th>prompt_size</th>\n      <th>test_noise</th>\n      <th>top1_test_acc</th>\n      <th>best_epoch</th>\n    </tr>\n  </thead>\n  <tbody>\n    <tr>\n      <th>17</th>\n      <td>cifar10</td>\n      <td>4</td>\n      <td>fixed_patch</td>\n      <td>1</td>\n      <td>False</td>\n      <td>89.25</td>\n      <td>NaN</td>\n    </tr>\n    <tr>\n      <th>12</th>\n      <td>cifar10</td>\n      <td>4</td>\n      <td>fixed_patch</td>\n      <td>1</td>\n      <td>True</td>\n      <td>87.65</td>\n      <td>NaN</td>\n    </tr>\n    <tr>\n      <th>18</th>\n      <td>cifar10</td>\n      <td>4</td>\n      <td>padding</td>\n      <td>1</td>\n      <td>False</td>\n      <td>89.89</td>\n      <td>NaN</td>\n    </tr>\n    <tr>\n      <th>5</th>\n      <td>cifar10</td>\n      <td>4</td>\n      <td>padding</td>\n      <td>1</td>\n      <td>True</td>\n      <td>87.54</td>\n      <td>4.0</td>\n    </tr>\n    <tr>\n      <th>10</th>\n      <td>cifar100</td>\n      <td>4</td>\n      <td>fixed_patch</td>\n      <td>1</td>\n      <td>False</td>\n      <td>64.30</td>\n      <td>7.0</td>\n    </tr>\n    <tr>\n      <th>1</th>\n      <td>cifar100</td>\n      <td>4</td>\n      <td>fixed_patch</td>\n      <td>1</td>\n      <td>True</td>\n      <td>60.35</td>\n      <td>7.0</td>\n    </tr>\n    <tr>\n      <th>4</th>\n      <td>cifar100</td>\n      <td>4</td>\n      <td>padding</td>\n      <td>1</td>\n      <td>False</td>\n      <td>66.99</td>\n      <td>4.0</td>\n    </tr>\n    <tr>\n      <th>19</th>\n      <td>cifar100</td>\n      <td>4</td>\n      <td>padding</td>\n      <td>1</td>\n      <td>True</td>\n      <td>60.82</td>\n      <td>4.0</td>\n    </tr>\n  </tbody>\n</table>\n</div>"
     },
     "execution_count": 62,
     "metadata": {},
     "output_type": "execute_result"
    }
   ],
   "source": [
    "vp_df = vp_dp_df.query(\"prompt_type == 'visual_prompt'\")[vp_cols].sort_values([\"dataset\", \"method\", \"test_noise\"])\n",
    "vp_df"
   ],
   "metadata": {
    "collapsed": false,
    "ExecuteTime": {
     "end_time": "2023-11-27T13:02:33.348609Z",
     "start_time": "2023-11-27T13:02:33.344748Z"
    }
   },
   "id": "8e014781d434a479"
  },
  {
   "cell_type": "code",
   "execution_count": 63,
   "outputs": [
    {
     "data": {
      "text/plain": "     dataset  prompt_num  injection_layer  prompt_size  test_noise  \\\n3    cifar10           4                0           30       False   \n6    cifar10           4                0           30        True   \n2    cifar10           4                3           30       False   \n16   cifar10           4                3           30        True   \n0    cifar10           4                7           30       False   \n7    cifar10           4                7           30        True   \n13  cifar100           4                0           30       False   \n15  cifar100           4                0           30        True   \n11  cifar100           4                3           30       False   \n8   cifar100           4                3           30        True   \n9   cifar100           4                7           30       False   \n14  cifar100           4                7           30        True   \n\n    top1_test_acc  best_epoch  \n3           75.83         NaN  \n6           75.05         NaN  \n2           52.73         NaN  \n16          49.85        20.0  \n0           79.24        20.0  \n7           75.07        20.0  \n13          49.14        20.0  \n15          47.38        20.0  \n11          53.59        20.0  \n8           46.10        20.0  \n9           54.78        20.0  \n14          48.63        20.0  ",
      "text/html": "<div>\n<style scoped>\n    .dataframe tbody tr th:only-of-type {\n        vertical-align: middle;\n    }\n\n    .dataframe tbody tr th {\n        vertical-align: top;\n    }\n\n    .dataframe thead th {\n        text-align: right;\n    }\n</style>\n<table border=\"1\" class=\"dataframe\">\n  <thead>\n    <tr style=\"text-align: right;\">\n      <th></th>\n      <th>dataset</th>\n      <th>prompt_num</th>\n      <th>injection_layer</th>\n      <th>prompt_size</th>\n      <th>test_noise</th>\n      <th>top1_test_acc</th>\n      <th>best_epoch</th>\n    </tr>\n  </thead>\n  <tbody>\n    <tr>\n      <th>3</th>\n      <td>cifar10</td>\n      <td>4</td>\n      <td>0</td>\n      <td>30</td>\n      <td>False</td>\n      <td>75.83</td>\n      <td>NaN</td>\n    </tr>\n    <tr>\n      <th>6</th>\n      <td>cifar10</td>\n      <td>4</td>\n      <td>0</td>\n      <td>30</td>\n      <td>True</td>\n      <td>75.05</td>\n      <td>NaN</td>\n    </tr>\n    <tr>\n      <th>2</th>\n      <td>cifar10</td>\n      <td>4</td>\n      <td>3</td>\n      <td>30</td>\n      <td>False</td>\n      <td>52.73</td>\n      <td>NaN</td>\n    </tr>\n    <tr>\n      <th>16</th>\n      <td>cifar10</td>\n      <td>4</td>\n      <td>3</td>\n      <td>30</td>\n      <td>True</td>\n      <td>49.85</td>\n      <td>20.0</td>\n    </tr>\n    <tr>\n      <th>0</th>\n      <td>cifar10</td>\n      <td>4</td>\n      <td>7</td>\n      <td>30</td>\n      <td>False</td>\n      <td>79.24</td>\n      <td>20.0</td>\n    </tr>\n    <tr>\n      <th>7</th>\n      <td>cifar10</td>\n      <td>4</td>\n      <td>7</td>\n      <td>30</td>\n      <td>True</td>\n      <td>75.07</td>\n      <td>20.0</td>\n    </tr>\n    <tr>\n      <th>13</th>\n      <td>cifar100</td>\n      <td>4</td>\n      <td>0</td>\n      <td>30</td>\n      <td>False</td>\n      <td>49.14</td>\n      <td>20.0</td>\n    </tr>\n    <tr>\n      <th>15</th>\n      <td>cifar100</td>\n      <td>4</td>\n      <td>0</td>\n      <td>30</td>\n      <td>True</td>\n      <td>47.38</td>\n      <td>20.0</td>\n    </tr>\n    <tr>\n      <th>11</th>\n      <td>cifar100</td>\n      <td>4</td>\n      <td>3</td>\n      <td>30</td>\n      <td>False</td>\n      <td>53.59</td>\n      <td>20.0</td>\n    </tr>\n    <tr>\n      <th>8</th>\n      <td>cifar100</td>\n      <td>4</td>\n      <td>3</td>\n      <td>30</td>\n      <td>True</td>\n      <td>46.10</td>\n      <td>20.0</td>\n    </tr>\n    <tr>\n      <th>9</th>\n      <td>cifar100</td>\n      <td>4</td>\n      <td>7</td>\n      <td>30</td>\n      <td>False</td>\n      <td>54.78</td>\n      <td>20.0</td>\n    </tr>\n    <tr>\n      <th>14</th>\n      <td>cifar100</td>\n      <td>4</td>\n      <td>7</td>\n      <td>30</td>\n      <td>True</td>\n      <td>48.63</td>\n      <td>20.0</td>\n    </tr>\n  </tbody>\n</table>\n</div>"
     },
     "execution_count": 63,
     "metadata": {},
     "output_type": "execute_result"
    }
   ],
   "source": [
    "dp_df = vp_dp_df.query(\"prompt_type == 'deep_prompt'\")[dp_cols].sort_values([\"dataset\", \"injection_layer\", \"test_noise\"])\n",
    "dp_df"
   ],
   "metadata": {
    "collapsed": false,
    "ExecuteTime": {
     "end_time": "2023-11-27T13:02:34.156312Z",
     "start_time": "2023-11-27T13:02:34.149672Z"
    }
   },
   "id": "20b995b3ac83420d"
  },
  {
   "cell_type": "code",
   "execution_count": null,
   "outputs": [],
   "source": [],
   "metadata": {
    "collapsed": false
   },
   "id": "394246f5164dce82"
  }
 ],
 "metadata": {
  "kernelspec": {
   "display_name": "Python 3",
   "language": "python",
   "name": "python3"
  },
  "language_info": {
   "codemirror_mode": {
    "name": "ipython",
    "version": 2
   },
   "file_extension": ".py",
   "mimetype": "text/x-python",
   "name": "python",
   "nbconvert_exporter": "python",
   "pygments_lexer": "ipython2",
   "version": "2.7.6"
  }
 },
 "nbformat": 4,
 "nbformat_minor": 5
}
